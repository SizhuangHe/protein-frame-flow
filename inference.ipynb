{
 "cells": [
  {
   "cell_type": "code",
   "execution_count": 1,
   "metadata": {},
   "outputs": [
    {
     "name": "stderr",
     "output_type": "stream",
     "text": [
      "/gpfs/gibbs/project/dijk/sh2748/conda_envs/fm/lib/python3.10/site-packages/tqdm/auto.py:21: TqdmWarning: IProgress not found. Please update jupyter and ipywidgets. See https://ipywidgets.readthedocs.io/en/stable/user_install.html\n",
      "  from .autonotebook import tqdm as notebook_tqdm\n"
     ]
    },
    {
     "data": {
      "text/plain": [
       "<torch.autograd.anomaly_mode.set_detect_anomaly at 0x145c9e85acb0>"
      ]
     },
     "execution_count": 1,
     "metadata": {},
     "output_type": "execute_result"
    }
   ],
   "source": [
    "from omegaconf import OmegaConf\n",
    "import os\n",
    "import torch\n",
    "\n",
    "import hydra\n",
    "from omegaconf import DictConfig, OmegaConf\n",
    "from models.together_model import ProteinVAELLMmodel, ProteinVAELLM_FrameDiff_first_model\n",
    "from data import all_atom\n",
    "# Pytorch lightning imports\n",
    "from pytorch_lightning import LightningDataModule, LightningModule, Trainer\n",
    "from pytorch_lightning.loggers.wandb import WandbLogger\n",
    "from pytorch_lightning.trainer import Trainer\n",
    "from pytorch_lightning.callbacks import ModelCheckpoint\n",
    "\n",
    "from data.pdb_dataloader import PdbDataModule\n",
    "from models.flow_module import FlowModule\n",
    "from experiments import utils as eu\n",
    "import openfold.utils.rigid_utils as ru\n",
    "import torch.nn.functional as F\n",
    "cfg = OmegaConf.load(\"configs/base.yaml\")\n",
    "_cfg = cfg\n",
    "_data_cfg = cfg.data\n",
    "_exp_cfg = cfg.experiment\n",
    "_datamodule: LightningDataModule = PdbDataModule(_data_cfg)\n",
    "_datamodule.setup(stage=\"fit\")\n",
    "torch.autograd.set_detect_anomaly(True)"
   ]
  },
  {
   "cell_type": "code",
   "execution_count": 2,
   "metadata": {},
   "outputs": [],
   "source": [
    "import shutil\n",
    "pdb_path = \"/home/sh2748/inference_outputs/baseline/2024-04-30_15-54-45/epoch=11-step=23628/run_2024-05-01_23-06/length_100/sample_0/sample.pdb\"\n",
    "sc_output_dir = os.path.join(\"/home/sh2748/inference_outputs/baseline/2024-04-30_15-54-45/epoch=11-step=23628/run_2024-05-01_23-06/length_100/sample_0\", 'self_consistency')\n",
    "os.makedirs(sc_output_dir, exist_ok=True)\n",
    "        "
   ]
  },
  {
   "cell_type": "code",
   "execution_count": 5,
   "metadata": {},
   "outputs": [
    {
     "data": {
      "text/plain": [
       "('sample.pdb',\n",
       " '/home/sh2748/inference_outputs/baseline/2024-04-30_15-54-45/epoch=11-step=23628/run_2024-05-01_23-06/length_100/sample_0/self_consistency/sample.pdb')"
      ]
     },
     "execution_count": 5,
     "metadata": {},
     "output_type": "execute_result"
    }
   ],
   "source": [
    "os.path.basename(pdb_path), os.path.join(sc_output_dir, os.path.basename(pdb_path))"
   ]
  },
  {
   "cell_type": "code",
   "execution_count": 6,
   "metadata": {},
   "outputs": [
    {
     "data": {
      "text/plain": [
       "'/home/sh2748/inference_outputs/baseline/2024-04-30_15-54-45/epoch=11-step=23628/run_2024-05-01_23-06/length_100/sample_0/self_consistency/sample.pdb'"
      ]
     },
     "execution_count": 6,
     "metadata": {},
     "output_type": "execute_result"
    }
   ],
   "source": [
    "shutil.copy(pdb_path, os.path.join(sc_output_dir, os.path.basename(pdb_path)))        "
   ]
  },
  {
   "cell_type": "code",
   "execution_count": null,
   "metadata": {},
   "outputs": [],
   "source": [
    "_pmpnn_dir = \n",
    "seq_per_sample = \n",
    "gpu_id = \n",
    "\n",
    "def run_self_consistency(\n",
    "        decoy_pdb_dir: str,\n",
    "        reference_pdb_path: str,\n",
    "        motif_mask: Optional[np.ndarray]=None):\n",
    "    \"\"\"Run self-consistency on design proteins against reference protein.\n",
    "        \n",
    "        Args:\n",
    "            decoy_pdb_dir: directory where designed protein files are stored.\n",
    "            reference_pdb_path: path to reference protein file\n",
    "            motif_mask: Optional mask of which residues are the motif.\n",
    "\n",
    "        Returns:\n",
    "            Writes ProteinMPNN outputs to decoy_pdb_dir/seqs\n",
    "            Writes ESMFold outputs to decoy_pdb_dir/esmf\n",
    "            Writes results in decoy_pdb_dir/sc_results.csv\n",
    "    \"\"\"\n",
    "\n",
    "    # Run PorteinMPNN\n",
    "    output_path = os.path.join(decoy_pdb_dir, \"parsed_pdbs.jsonl\")\n",
    "    process = subprocess.Popen([\n",
    "        'python',\n",
    "        f'{_pmpnn_dir}/helper_scripts/parse_multiple_chains.py',\n",
    "        f'--input_path={decoy_pdb_dir}',\n",
    "        f'--output_path={output_path}',\n",
    "    ])\n",
    "    _ = process.wait()\n",
    "    num_tries = 0\n",
    "    ret = -1\n",
    "    pmpnn_args = [\n",
    "        'python',\n",
    "        f'{_pmpnn_dir}/protein_mpnn_run.py',\n",
    "        '--out_folder',\n",
    "        decoy_pdb_dir,\n",
    "        '--jsonl_path',\n",
    "        output_path,\n",
    "        '--num_seq_per_target',\n",
    "        str(seq_per_sample),\n",
    "        '--sampling_temp',\n",
    "        '0.1',\n",
    "        '--seed',\n",
    "        '38',\n",
    "        '--batch_size',\n",
    "        '1',\n",
    "    ]\n",
    "    if gpu_id is not None:\n",
    "        pmpnn_args.append('--device')\n",
    "        pmpnn_args.append(str(gpu_id))\n",
    "    while ret < 0:\n",
    "        try:\n",
    "            process = subprocess.Popen(\n",
    "                pmpnn_args,\n",
    "                stdout=subprocess.DEVNULL,\n",
    "                stderr=subprocess.STDOUT\n",
    "            )\n",
    "            ret = process.wait()\n",
    "        except Exception as e:\n",
    "            num_tries += 1\n",
    "            print(f'Failed ProteinMPNN. Attempt {num_tries}/5')\n",
    "            torch.cuda.empty_cache()\n",
    "            if num_tries > 4:\n",
    "                raise e\n",
    "    mpnn_fasta_path = os.path.join(\n",
    "        decoy_pdb_dir,\n",
    "        'seqs',\n",
    "        os.path.basename(reference_pdb_path).replace('.pdb', '.fa')\n",
    "    )\n",
    "\n",
    "        # Run ESMFold on each ProteinMPNN sequence and calculate metrics.\n",
    "    mpnn_results = {\n",
    "        'tm_score': [],\n",
    "        'sample_path': [],\n",
    "        'header': [],\n",
    "        'sequence': [],\n",
    "        'rmsd': [],\n",
    "    }\n",
    "    if motif_mask is not None:\n",
    "        # Only calculate motif RMSD if mask is specified.\n",
    "        mpnn_results['motif_rmsd'] = []\n",
    "    esmf_dir = os.path.join(decoy_pdb_dir, 'esmf')\n",
    "    os.makedirs(esmf_dir, exist_ok=True)\n",
    "    fasta_seqs = fasta.FastaFile.read(mpnn_fasta_path)\n",
    "    sample_feats = du.parse_pdb_feats('sample', reference_pdb_path)\n",
    "    for i, (header, string) in enumerate(fasta_seqs.items()):\n",
    "\n",
    "        # Run ESMFold\n",
    "        esmf_sample_path = os.path.join(esmf_dir, f'sample_{i}.pdb')\n",
    "        _ = run_folding(string, esmf_sample_path)\n",
    "        esmf_feats = du.parse_pdb_feats('folded_sample', esmf_sample_path)\n",
    "        sample_seq = du.aatype_to_seq(sample_feats['aatype'])\n",
    "\n",
    "        # Calculate scTM of ESMFold outputs with reference protein\n",
    "        _, tm_score = metrics.calc_tm_score(\n",
    "            sample_feats['bb_positions'], esmf_feats['bb_positions'],\n",
    "            sample_seq, sample_seq)\n",
    "        rmsd = metrics.calc_aligned_rmsd(\n",
    "            sample_feats['bb_positions'], esmf_feats['bb_positions'])\n",
    "        if motif_mask is not None:\n",
    "            sample_motif = sample_feats['bb_positions'][motif_mask]\n",
    "            of_motif = esmf_feats['bb_positions'][motif_mask]\n",
    "            motif_rmsd = metrics.calc_aligned_rmsd(\n",
    "                sample_motif, of_motif)\n",
    "            mpnn_results['motif_rmsd'].append(motif_rmsd)\n",
    "        mpnn_results['rmsd'].append(rmsd)\n",
    "        mpnn_results['tm_score'].append(tm_score)\n",
    "        mpnn_results['sample_path'].append(esmf_sample_path)\n",
    "        mpnn_results['header'].append(header)\n",
    "        mpnn_results['sequence'].append(string)\n",
    "\n",
    "        # Save results to CSV\n",
    "    csv_path = os.path.join(decoy_pdb_dir, 'sc_results.csv')\n",
    "    mpnn_results = pd.DataFrame(mpnn_results)\n",
    "    mpnn_results.to_csv(csv_path)\n",
    "\n",
    "\n",
    "def run_folding(self, sequence, save_path):\n",
    "    \"\"\"Run ESMFold on sequence.\"\"\"\n",
    "    with torch.no_grad():\n",
    "        output = self._folding_model.infer_pdb(sequence)\n",
    "    with open(save_path, \"w\") as f:\n",
    "        f.write(output)\n",
    "    return output"
   ]
  }
 ],
 "metadata": {
  "kernelspec": {
   "display_name": "Python 3.10.12 64-bit ('fm')",
   "language": "python",
   "name": "python3"
  },
  "language_info": {
   "codemirror_mode": {
    "name": "ipython",
    "version": 3
   },
   "file_extension": ".py",
   "mimetype": "text/x-python",
   "name": "python",
   "nbconvert_exporter": "python",
   "pygments_lexer": "ipython3",
   "version": "3.10.12"
  },
  "orig_nbformat": 4,
  "vscode": {
   "interpreter": {
    "hash": "a0e2400c1a377b47623d27da16e17b3eddff11c79be96fbe43a1e38910d94694"
   }
  }
 },
 "nbformat": 4,
 "nbformat_minor": 2
}
