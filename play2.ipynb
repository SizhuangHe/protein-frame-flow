{
 "cells": [
  {
   "cell_type": "code",
   "execution_count": 69,
   "metadata": {},
   "outputs": [],
   "source": [
    "from omegaconf import OmegaConf\n",
    "import os\n",
    "import torch\n",
    "\n",
    "import hydra\n",
    "from omegaconf import DictConfig, OmegaConf\n",
    "from models.together_model import ProteinVAELLMmodel\n",
    "from data import all_atom\n",
    "# Pytorch lightning imports\n",
    "from pytorch_lightning import LightningDataModule, LightningModule, Trainer\n",
    "from pytorch_lightning.loggers.wandb import WandbLogger\n",
    "from pytorch_lightning.trainer import Trainer\n",
    "from pytorch_lightning.callbacks import ModelCheckpoint\n",
    "\n",
    "from data.pdb_dataloader import PdbDataModule\n",
    "from models.flow_module import FlowModule\n",
    "from experiments import utils as eu\n",
    "import openfold.utils.rigid_utils as ru\n",
    "import torch.nn.functional as F\n",
    "cfg = OmegaConf.load(\"configs/base.yaml\")\n",
    "_cfg = cfg\n",
    "_data_cfg = cfg.data\n",
    "_exp_cfg = cfg.experiment\n",
    "_datamodule: LightningDataModule = PdbDataModule(_data_cfg)\n",
    "_datamodule.setup(stage=\"fit\")"
   ]
  },
  {
   "cell_type": "markdown",
   "metadata": {},
   "source": [
    "# Set up stuff"
   ]
  },
  {
   "cell_type": "code",
   "execution_count": 70,
   "metadata": {},
   "outputs": [],
   "source": [
    "cfg = OmegaConf.load(\"configs/base.yaml\")\n",
    "_cfg = cfg\n",
    "_data_cfg = cfg.data\n",
    "_exp_cfg = cfg.experiment\n",
    "training_cfg = _exp_cfg.training\n",
    "_datamodule: LightningDataModule = PdbDataModule(_data_cfg)\n",
    "_datamodule.setup(stage=\"fit\")"
   ]
  },
  {
   "cell_type": "code",
   "execution_count": 71,
   "metadata": {},
   "outputs": [
    {
     "name": "stderr",
     "output_type": "stream",
     "text": [
      "/gpfs/gibbs/project/dijk/sh2748/conda_envs/fm/lib/python3.10/site-packages/torch/utils/data/dataloader.py:560: UserWarning: This DataLoader will create 8 worker processes in total. Our suggested max number of worker in current system is 1, which is smaller than what this DataLoader is going to create. Please be aware that excessive worker creation might get DataLoader running slow or even freeze, lower the worker number to avoid potential slowness/freeze if necessary.\n",
      "  warnings.warn(_create_warning_msg(\n"
     ]
    }
   ],
   "source": [
    "train_loader = _datamodule.train_dataloader()"
   ]
  },
  {
   "cell_type": "code",
   "execution_count": 72,
   "metadata": {},
   "outputs": [],
   "source": [
    "from data.my_interpolant import Interpolant \n",
    "interpolant = Interpolant(cfg.interpolant)\n",
    "interpolant.set_device(\"cuda\")"
   ]
  },
  {
   "cell_type": "code",
   "execution_count": 73,
   "metadata": {},
   "outputs": [],
   "source": [
    "# model = ProteinVAELLMmodel(cfg).to(\"cuda\")\n",
    "# model.attach_backward_hooks() # attach backward hooks\n",
    "\n",
    "from models.vaellm_model import VAE_GPT2\n",
    "from transformers import GPT2Model\n",
    "\n",
    "gpt2 = GPT2Model.from_pretrained('gpt2')\n",
    "# gpt2 = GPT2Model(GPT2Config())\n",
    "gpt2.wte=None\n",
    "vaellm_model = VAE_GPT2(base_model=gpt2, emb_dim=768, z_dim=768).to(\"cuda\")"
   ]
  },
  {
   "cell_type": "code",
   "execution_count": 74,
   "metadata": {},
   "outputs": [],
   "source": [
    "optimizer = torch.optim.AdamW(\n",
    "            params=vaellm_model.parameters(),\n",
    "            lr=0.0001)"
   ]
  },
  {
   "cell_type": "markdown",
   "metadata": {},
   "source": [
    "# Helper functions"
   ]
  },
  {
   "cell_type": "code",
   "execution_count": 75,
   "metadata": {},
   "outputs": [],
   "source": [
    "def _get_bb_reps(noisy_batch):\n",
    "    '''\n",
    "        This function prepares the trajectories into representations for the LLM.\n",
    "    '''\n",
    "    # Convert rotmats to quaternions (4D)\n",
    "    quats = ru.rot_to_quat(noisy_batch['rotmats_t'])\n",
    "\n",
    "    # Reduce quaternions to 3D\n",
    "    condition = quats[..., 0] < 0\n",
    "    quats[condition] *= -1\n",
    "    quats = quats[..., 1:] # [B, l, N, 3]\n",
    "        \n",
    "    # Concatenate with translation vectors\n",
    "    concat_quats_trans = torch.cat((quats, noisy_batch['trans_t']), dim=-1) # [B, l, N, 6]\n",
    "\n",
    "    # Concatenate residues to form backbones\n",
    "    backbone = concat_quats_trans.reshape(*concat_quats_trans.shape[:-2], -1) # [B, l, 6N]\n",
    "\n",
    "    return backbone\n",
    "\n",
    "def _recover_rots_trans( z):\n",
    "    '''\n",
    "        This function recovers the rotation matrices and translation vectors from the vector representation.\n",
    "\n",
    "        Parameters\n",
    "        ----------\n",
    "        z:          Tensor, [B, l, max_num_res, 6]\n",
    "\n",
    "        Returns\n",
    "        -------\n",
    "        recovered_rots:\n",
    "            Tensor, [B, l, max_num_res, 3, 3]\n",
    "        recovered_trans:\n",
    "            Tensor, [B, l, max_num_res, 3]\n",
    "    '''\n",
    "    B, l = z.shape[0], z.shape[1]\n",
    "    # print(\"z shape: \", z.shape)\n",
    "    recovered_reduced_quats = z[:, :, :, :3]\n",
    "    recovered_trans = z[:, :, :, 3:]\n",
    "    ones = torch.ones(B, l, z.shape[2], 1).to(recovered_trans.device) # TODO will need to change here\n",
    "    recovered_quats = torch.cat((ones, recovered_reduced_quats), dim=-1)\n",
    "    recovered_quats = F.normalize(recovered_quats, p=2, dim=-1) # normalize (1,x,y,z) as AlphaFold did\n",
    "\n",
    "    recovered_rots = ru.quat_to_rot(recovered_quats)\n",
    "\n",
    "    return recovered_rots, recovered_trans"
   ]
  },
  {
   "cell_type": "markdown",
   "metadata": {},
   "source": [
    "# Train"
   ]
  },
  {
   "cell_type": "code",
   "execution_count": 66,
   "metadata": {},
   "outputs": [
    {
     "name": "stdout",
     "output_type": "stream",
     "text": [
      "tensor([[19, 16, 10, 10,  6,  5,  2, 14,  1, 17,  1, 10, 19, 14,  1,  7,  5,  0,\n",
      "         19,  2, 10,  1,  4,  9, 10, 11,  2, 15,  5, 18, 14, 17, 12, 15, 17, 18,\n",
      "          5,  5,  3, 10,  5, 11,  5, 10,  5, 17, 10, 13, 16, 10,  1, 15, 14,  7,\n",
      "          3, 11,  6, 19, 11, 15, 10, 14,  7,  0,  3, 18, 10,  0, 16,  1, 19, 16,\n",
      "          3, 16,  6, 10,  1, 10,  5, 19,  0,  2, 12, 15,  5,  7,  1, 16, 10, 18,\n",
      "          4, 16,  4, 15,  0,  0, 14,  3, 17,  7,  0, 15,  0,  6, 16, 10, 18, 13,\n",
      "          7, 15,  7, 16,  1, 10, 16, 19, 10],\n",
      "        [12, 11, 18, 19,  3,  7, 13, 19, 19,  0, 19, 14,  0,  3, 11, 11,  3,  0,\n",
      "         18,  1,  6, 12,  0,  0, 11,  0,  0, 14, 10, 13, 11,  6, 13,  7,  0, 10,\n",
      "          1,  9, 19,  6,  4, 17,  0, 15,  3, 19, 14,  3,  7, 11, 19, 16,  3, 13,\n",
      "          1, 12,  0, 19, 11,  0,  6,  6,  2,  6,  6, 19, 19, 13, 15, 17,  9,  6,\n",
      "         18, 14, 15, 11,  6, 19,  1,  3,  0,  0,  2,  5, 11, 12, 12, 15,  3, 14,\n",
      "          1, 12, 11,  6, 13,  7,  6, 15, 12, 14, 13,  3,  7, 11,  1, 12,  9, 18,\n",
      "          7,  7, 13,  6, 15,  9,  9,  3,  6]])\n"
     ]
    }
   ],
   "source": [
    "batch = next(iter(train_loader))\n",
    "print(batch[\"aatype\"])\n",
    "for key, value in batch.items():\n",
    "    batch[key] = value.to(\"cuda\")\n",
    "noisy_batch = interpolant.corrupt_batch(batch)"
   ]
  },
  {
   "cell_type": "code",
   "execution_count": 67,
   "metadata": {},
   "outputs": [],
   "source": [
    "B, l, num_res = noisy_batch['res_mask'].shape\n",
    "loss_mask = noisy_batch['res_mask'].reshape(B*l, num_res)\n",
    "        \n",
    "if training_cfg.min_plddt_mask is not None:\n",
    "    plddt_mask = noisy_batch['res_plddt'] > training_cfg.min_plddt_mask\n",
    "    loss_mask *= plddt_mask\n",
    "        \n",
    "\n",
    "# Ground truth labels\n",
    "gt_trans = noisy_batch['trans_t']\n",
    "gt_rotmats = noisy_batch['rotmats_t'] \n",
    "\n",
    "# Model output predictions.\n",
    "backbone = _get_bb_reps(noisy_batch)\n",
    "llm_out = vaellm_model(backbone)\n",
    "z = llm_out[\"z_sampled\"].reshape(B, l, 128, -1)\n",
    "recovered_rots, recovered_trans = _recover_rots_trans(z) # [B, l, N, 3, 3], [B, l, N, 3]\n",
    "pred_trans = recovered_trans\n",
    "pred_rotmats = recovered_rots\n",
    "        \n",
    "# Shift for CausalLM\n",
    "shifted_pred_trans  = pred_trans[:, :-1, :, :]\n",
    "shifted_pred_rotmats = pred_rotmats[:, :-1, :, :, :]\n",
    "shifted_gt_trans = gt_trans[:, 1:, :, :]\n",
    "shifted_gt_rotmats = gt_rotmats[:, 1:, :, :, :]\n",
    "\n",
    "# Reshape back to [B*(l-1), 128, *]\n",
    "flat_shifted_pred_trans = shifted_pred_trans.reshape(B*(l-1), _data_cfg.dataset.max_num_res, 3)\n",
    "flat_shifted_pred_rotmats = shifted_pred_rotmats.reshape(B*(l-1), _data_cfg.dataset.max_num_res, 3, 3)\n",
    "\n",
    "flat_shifted_gt_trans = shifted_gt_trans.reshape(B*(l-1), _data_cfg.dataset.max_num_res, 3)\n",
    "flat_shifted_gt_rotmats = shifted_gt_rotmats.reshape(B*(l-1), _data_cfg.dataset.max_num_res, 3, 3)\n",
    "\n",
    "# Timestep used for normalization.\n",
    "t = noisy_batch['t'].reshape(B, l, 1)[:, 1:, :].reshape(-1,1) # We throw away the first time points\n",
    "norm_scale = 1 - torch.min(\n",
    "    t[..., None], torch.tensor(training_cfg.t_normalize_clip))\n",
    "        \n",
    "        \n",
    "\n",
    "# Backbone atom loss\n",
    "gt_bb_atoms = all_atom.to_atom37(flat_shifted_gt_trans, flat_shifted_gt_rotmats)[:, :, :3] \n",
    "pred_bb_atoms = all_atom.to_atom37(flat_shifted_pred_trans, flat_shifted_pred_rotmats)[:, :, :3]\n",
    "\n",
    "gt_bb_atoms *= training_cfg.bb_atom_scale / norm_scale[..., None]\n",
    "pred_bb_atoms *= training_cfg.bb_atom_scale / norm_scale[..., None]\n",
    "                \n",
    "        \n",
    "loss_denom = torch.sum(loss_mask, dim=-1, dtype=torch.float).mean() * 3 # Added a mean here, this doesn'y matter since our mask is all 1's\n",
    "bb_atom_loss = torch.sum(\n",
    "    (gt_bb_atoms - pred_bb_atoms) ** 2,\n",
    "    dim=(-1, -2, -3)\n",
    ") / loss_denom\n",
    "\n",
    "# Pairwise distance loss\n",
    "num_batch = gt_bb_atoms.shape[0]\n",
    "gt_flat_atoms = gt_bb_atoms.reshape([num_batch, num_res*3, 3])\n",
    "gt_pair_dists = torch.linalg.norm(\n",
    "    gt_flat_atoms[:, :, None, :] - gt_flat_atoms[:, None, :, :], dim=-1)\n",
    "pred_flat_atoms = pred_bb_atoms.reshape([num_batch, num_res*3, 3])\n",
    "pred_pair_dists = torch.linalg.norm(\n",
    "    pred_flat_atoms[:, :, None, :] - pred_flat_atoms[:, None, :, :], dim=-1)\n",
    "\n",
    "flat_loss_mask = torch.tile(loss_mask[:, :, None], (1, 1, 3))[B:,:,:] # change the shape because we shifted tokens, all entries of loss masks are 1 so don't matter, we throw away B tokens\n",
    "flat_loss_mask = flat_loss_mask.reshape([num_batch, num_res*3])\n",
    "flat_res_mask = torch.tile(loss_mask[:, :, None], (1, 1, 3))[B:,:,:] # change the shape because we shifted tokens, all entries of loss masks are 1 so don't matter\n",
    "flat_res_mask = flat_res_mask.reshape([num_batch, num_res*3])\n",
    "\n",
    "gt_pair_dists = gt_pair_dists * flat_loss_mask[..., None]\n",
    "pred_pair_dists = pred_pair_dists * flat_loss_mask[..., None]\n",
    "pair_dist_mask = flat_loss_mask[..., None] * flat_res_mask[:, None, :]\n",
    "\n",
    "dist_mat_loss = torch.sum(\n",
    "    (gt_pair_dists - pred_pair_dists)**2 * pair_dist_mask,\n",
    "    dim=(1, 2))\n",
    "dist_mat_loss /= (torch.sum(pair_dist_mask, dim=(1, 2)) - num_res)\n",
    "\n",
    "auxiliary_loss = (bb_atom_loss + dist_mat_loss) * (\n",
    "    t[:, 0]> training_cfg.aux_loss_t_pass\n",
    ")\n",
    "auxiliary_loss *= _exp_cfg.training.aux_loss_weight\n",
    "        \n",
    "auxiliary_loss = auxiliary_loss.mean()\n",
    "kl_div = (1 + 2 * llm_out[\"log_sigma\"] - llm_out[\"mu\"].pow(2) - llm_out[\"log_sigma\"].exp().pow(2))[:, :-1, :] # Throw away the last mu and sigma because we're not using it to predict\n",
    "kl_div = - 0.5 * kl_div.sum(dim=-1).mean()\n",
    "mse_loss = F.mse_loss(flat_shifted_pred_trans, flat_shifted_gt_trans) + F.mse_loss(flat_shifted_pred_rotmats, flat_shifted_gt_rotmats)"
   ]
  },
  {
   "cell_type": "code",
   "execution_count": 68,
   "metadata": {},
   "outputs": [
    {
     "name": "stdout",
     "output_type": "stream",
     "text": [
      "tensor(2345.4954, device='cuda:0', grad_fn=<AddBackward0>)\n"
     ]
    }
   ],
   "source": [
    "loss = mse_loss + auxiliary_loss + kl_div\n",
    "print(loss)\n",
    "optimizer.zero_grad()\n",
    "loss.backward()\n",
    "optimizer.step()"
   ]
  },
  {
   "cell_type": "markdown",
   "metadata": {},
   "source": [
    "# Put stuff together"
   ]
  },
  {
   "cell_type": "code",
   "execution_count": 77,
   "metadata": {},
   "outputs": [
    {
     "name": "stderr",
     "output_type": "stream",
     "text": [
      "0it [00:00, ?it/s]/gpfs/gibbs/project/dijk/sh2748/conda_envs/fm/lib/python3.10/site-packages/torch/utils/data/dataloader.py:560: UserWarning: This DataLoader will create 8 worker processes in total. Our suggested max number of worker in current system is 1, which is smaller than what this DataLoader is going to create. Please be aware that excessive worker creation might get DataLoader running slow or even freeze, lower the worker number to avoid potential slowness/freeze if necessary.\n",
      "  warnings.warn(_create_warning_msg(\n",
      "3it [00:02,  1.80it/s]"
     ]
    },
    {
     "name": "stdout",
     "output_type": "stream",
     "text": [
      "tensor(12725998., device='cuda:0', grad_fn=<AddBackward0>)\n",
      "tensor(663018.7500, device='cuda:0', grad_fn=<AddBackward0>)\n",
      "tensor(448949.5000, device='cuda:0', grad_fn=<AddBackward0>)\n",
      "tensor(172587.1250, device='cuda:0', grad_fn=<AddBackward0>)\n"
     ]
    },
    {
     "name": "stderr",
     "output_type": "stream",
     "text": [
      "7it [00:02,  4.88it/s]"
     ]
    },
    {
     "name": "stdout",
     "output_type": "stream",
     "text": [
      "tensor(107329.7109, device='cuda:0', grad_fn=<AddBackward0>)\n",
      "tensor(36836.4727, device='cuda:0', grad_fn=<AddBackward0>)\n",
      "tensor(38472.6172, device='cuda:0', grad_fn=<AddBackward0>)\n"
     ]
    },
    {
     "name": "stderr",
     "output_type": "stream",
     "text": [
      "11it [00:02,  8.24it/s]"
     ]
    },
    {
     "name": "stdout",
     "output_type": "stream",
     "text": [
      "tensor(9278.8115, device='cuda:0', grad_fn=<AddBackward0>)\n",
      "tensor(2683.5820, device='cuda:0', grad_fn=<AddBackward0>)\n",
      "tensor(4500.9355, device='cuda:0', grad_fn=<AddBackward0>)\n",
      "tensor(2463.8850, device='cuda:0', grad_fn=<AddBackward0>)\n"
     ]
    },
    {
     "name": "stderr",
     "output_type": "stream",
     "text": [
      "15it [00:02, 11.42it/s]"
     ]
    },
    {
     "name": "stdout",
     "output_type": "stream",
     "text": [
      "tensor(2241.8235, device='cuda:0', grad_fn=<AddBackward0>)\n",
      "tensor(1237.7528, device='cuda:0', grad_fn=<AddBackward0>)\n",
      "tensor(1994.7754, device='cuda:0', grad_fn=<AddBackward0>)\n",
      "tensor(1344.5172, device='cuda:0', grad_fn=<AddBackward0>)\n"
     ]
    },
    {
     "name": "stderr",
     "output_type": "stream",
     "text": [
      "19it [00:03, 13.62it/s]"
     ]
    },
    {
     "name": "stdout",
     "output_type": "stream",
     "text": [
      "tensor(1508.9187, device='cuda:0', grad_fn=<AddBackward0>)\n",
      "tensor(1366.8046, device='cuda:0', grad_fn=<AddBackward0>)\n",
      "tensor(1454.4447, device='cuda:0', grad_fn=<AddBackward0>)\n",
      "tensor(1087.3409, device='cuda:0', grad_fn=<AddBackward0>)\n"
     ]
    },
    {
     "name": "stderr",
     "output_type": "stream",
     "text": [
      "21it [00:03, 14.38it/s]"
     ]
    },
    {
     "name": "stdout",
     "output_type": "stream",
     "text": [
      "tensor(1258.2622, device='cuda:0', grad_fn=<AddBackward0>)\n",
      "tensor(991.5118, device='cuda:0', grad_fn=<AddBackward0>)\n",
      "tensor(1311.0203, device='cuda:0', grad_fn=<AddBackward0>)\n",
      "tensor(1388.3198, device='cuda:0', grad_fn=<AddBackward0>)\n"
     ]
    },
    {
     "name": "stderr",
     "output_type": "stream",
     "text": [
      "25it [00:03, 14.83it/s]"
     ]
    },
    {
     "name": "stdout",
     "output_type": "stream",
     "text": [
      "tensor(1013.4874, device='cuda:0', grad_fn=<AddBackward0>)\n",
      "tensor(983.9968, device='cuda:0', grad_fn=<AddBackward0>)\n",
      "tensor(937.5017, device='cuda:0', grad_fn=<AddBackward0>)\n"
     ]
    },
    {
     "name": "stderr",
     "output_type": "stream",
     "text": [
      "29it [00:03, 14.44it/s]"
     ]
    },
    {
     "name": "stdout",
     "output_type": "stream",
     "text": [
      "tensor(1500.1741, device='cuda:0', grad_fn=<AddBackward0>)\n",
      "tensor(1093.5797, device='cuda:0', grad_fn=<AddBackward0>)\n",
      "tensor(775.3350, device='cuda:0', grad_fn=<AddBackward0>)\n"
     ]
    },
    {
     "name": "stderr",
     "output_type": "stream",
     "text": [
      "31it [00:03, 13.95it/s]"
     ]
    },
    {
     "name": "stdout",
     "output_type": "stream",
     "text": [
      "tensor(1138.5347, device='cuda:0', grad_fn=<AddBackward0>)\n",
      "tensor(890.8416, device='cuda:0', grad_fn=<AddBackward0>)\n",
      "tensor(824.3768, device='cuda:0', grad_fn=<AddBackward0>)\n",
      "tensor(633.6368, device='cuda:0', grad_fn=<AddBackward0>)\n"
     ]
    },
    {
     "name": "stderr",
     "output_type": "stream",
     "text": [
      "37it [00:04, 15.42it/s]"
     ]
    },
    {
     "name": "stdout",
     "output_type": "stream",
     "text": [
      "tensor(898.7288, device='cuda:0', grad_fn=<AddBackward0>)\n",
      "tensor(722.8251, device='cuda:0', grad_fn=<AddBackward0>)\n",
      "tensor(1585.2460, device='cuda:0', grad_fn=<AddBackward0>)\n",
      "tensor(771.6357, device='cuda:0', grad_fn=<AddBackward0>)\n"
     ]
    },
    {
     "name": "stderr",
     "output_type": "stream",
     "text": [
      "41it [00:04, 15.96it/s]"
     ]
    },
    {
     "name": "stdout",
     "output_type": "stream",
     "text": [
      "tensor(568.6021, device='cuda:0', grad_fn=<AddBackward0>)\n",
      "tensor(1209.9222, device='cuda:0', grad_fn=<AddBackward0>)\n",
      "tensor(532.0660, device='cuda:0', grad_fn=<AddBackward0>)\n",
      "tensor(698.4915, device='cuda:0', grad_fn=<AddBackward0>)\n"
     ]
    },
    {
     "name": "stderr",
     "output_type": "stream",
     "text": [
      "45it [00:04, 16.15it/s]"
     ]
    },
    {
     "name": "stdout",
     "output_type": "stream",
     "text": [
      "tensor(737.4617, device='cuda:0', grad_fn=<AddBackward0>)\n",
      "tensor(781.1945, device='cuda:0', grad_fn=<AddBackward0>)\n",
      "tensor(1135.4214, device='cuda:0', grad_fn=<AddBackward0>)\n",
      "tensor(617.1298, device='cuda:0', grad_fn=<AddBackward0>)\n"
     ]
    },
    {
     "name": "stderr",
     "output_type": "stream",
     "text": [
      "47it [00:04, 16.28it/s]"
     ]
    },
    {
     "name": "stdout",
     "output_type": "stream",
     "text": [
      "tensor(838.1115, device='cuda:0', grad_fn=<AddBackward0>)\n",
      "tensor(1085.5178, device='cuda:0', grad_fn=<AddBackward0>)\n",
      "tensor(1148.3103, device='cuda:0', grad_fn=<AddBackward0>)\n",
      "tensor(583.4368, device='cuda:0', grad_fn=<AddBackward0>)\n"
     ]
    },
    {
     "name": "stderr",
     "output_type": "stream",
     "text": [
      "53it [00:05, 16.27it/s]"
     ]
    },
    {
     "name": "stdout",
     "output_type": "stream",
     "text": [
      "tensor(821.4468, device='cuda:0', grad_fn=<AddBackward0>)\n",
      "tensor(941.3577, device='cuda:0', grad_fn=<AddBackward0>)\n",
      "tensor(1286.2313, device='cuda:0', grad_fn=<AddBackward0>)\n",
      "tensor(536.1500, device='cuda:0', grad_fn=<AddBackward0>)\n"
     ]
    },
    {
     "name": "stderr",
     "output_type": "stream",
     "text": [
      "55it [00:05, 16.32it/s]"
     ]
    },
    {
     "name": "stdout",
     "output_type": "stream",
     "text": [
      "tensor(396.7535, device='cuda:0', grad_fn=<AddBackward0>)\n",
      "tensor(708.7437, device='cuda:0', grad_fn=<AddBackward0>)\n",
      "tensor(829.8359, device='cuda:0', grad_fn=<AddBackward0>)\n",
      "tensor(1330.1514, device='cuda:0', grad_fn=<AddBackward0>)\n"
     ]
    },
    {
     "name": "stderr",
     "output_type": "stream",
     "text": [
      "61it [00:05, 16.41it/s]"
     ]
    },
    {
     "name": "stdout",
     "output_type": "stream",
     "text": [
      "tensor(451.2479, device='cuda:0', grad_fn=<AddBackward0>)\n",
      "tensor(581.9538, device='cuda:0', grad_fn=<AddBackward0>)\n",
      "tensor(595.6720, device='cuda:0', grad_fn=<AddBackward0>)\n",
      "tensor(650.5603, device='cuda:0', grad_fn=<AddBackward0>)\n"
     ]
    },
    {
     "name": "stderr",
     "output_type": "stream",
     "text": [
      "63it [00:05, 16.56it/s]"
     ]
    },
    {
     "name": "stdout",
     "output_type": "stream",
     "text": [
      "tensor(644.3905, device='cuda:0', grad_fn=<AddBackward0>)\n",
      "tensor(368.5689, device='cuda:0', grad_fn=<AddBackward0>)\n",
      "tensor(1029.2891, device='cuda:0', grad_fn=<AddBackward0>)\n",
      "tensor(512.1048, device='cuda:0', grad_fn=<AddBackward0>)\n"
     ]
    },
    {
     "name": "stderr",
     "output_type": "stream",
     "text": [
      "69it [00:06, 16.54it/s]"
     ]
    },
    {
     "name": "stdout",
     "output_type": "stream",
     "text": [
      "tensor(562.0082, device='cuda:0', grad_fn=<AddBackward0>)\n",
      "tensor(576.5507, device='cuda:0', grad_fn=<AddBackward0>)\n",
      "tensor(561.2728, device='cuda:0', grad_fn=<AddBackward0>)\n",
      "tensor(565.9073, device='cuda:0', grad_fn=<AddBackward0>)\n"
     ]
    },
    {
     "name": "stderr",
     "output_type": "stream",
     "text": [
      "71it [00:06, 16.51it/s]"
     ]
    },
    {
     "name": "stdout",
     "output_type": "stream",
     "text": [
      "tensor(799.4813, device='cuda:0', grad_fn=<AddBackward0>)\n",
      "tensor(434.9431, device='cuda:0', grad_fn=<AddBackward0>)\n",
      "tensor(741.0248, device='cuda:0', grad_fn=<AddBackward0>)\n",
      "tensor(534.3210, device='cuda:0', grad_fn=<AddBackward0>)\n"
     ]
    },
    {
     "name": "stderr",
     "output_type": "stream",
     "text": [
      "77it [00:06, 16.61it/s]"
     ]
    },
    {
     "name": "stdout",
     "output_type": "stream",
     "text": [
      "tensor(588.9951, device='cuda:0', grad_fn=<AddBackward0>)\n",
      "tensor(496.7543, device='cuda:0', grad_fn=<AddBackward0>)\n",
      "tensor(475.9931, device='cuda:0', grad_fn=<AddBackward0>)\n",
      "tensor(713.2827, device='cuda:0', grad_fn=<AddBackward0>)\n"
     ]
    },
    {
     "name": "stderr",
     "output_type": "stream",
     "text": [
      "81it [00:06, 16.66it/s]"
     ]
    },
    {
     "name": "stdout",
     "output_type": "stream",
     "text": [
      "tensor(678.9896, device='cuda:0', grad_fn=<AddBackward0>)\n",
      "tensor(622.9747, device='cuda:0', grad_fn=<AddBackward0>)\n",
      "tensor(467.5692, device='cuda:0', grad_fn=<AddBackward0>)\n",
      "tensor(379.6684, device='cuda:0', grad_fn=<AddBackward0>)\n"
     ]
    },
    {
     "name": "stderr",
     "output_type": "stream",
     "text": [
      "83it [00:07, 16.37it/s]"
     ]
    },
    {
     "name": "stdout",
     "output_type": "stream",
     "text": [
      "tensor(600.0927, device='cuda:0', grad_fn=<AddBackward0>)\n",
      "tensor(793.6091, device='cuda:0', grad_fn=<AddBackward0>)\n",
      "tensor(596.3152, device='cuda:0', grad_fn=<AddBackward0>)\n",
      "tensor(501.7522, device='cuda:0', grad_fn=<AddBackward0>)\n"
     ]
    },
    {
     "name": "stderr",
     "output_type": "stream",
     "text": [
      "89it [00:07, 16.43it/s]"
     ]
    },
    {
     "name": "stdout",
     "output_type": "stream",
     "text": [
      "tensor(496.7401, device='cuda:0', grad_fn=<AddBackward0>)\n",
      "tensor(410.7630, device='cuda:0', grad_fn=<AddBackward0>)\n",
      "tensor(465.1268, device='cuda:0', grad_fn=<AddBackward0>)\n",
      "tensor(698.6046, device='cuda:0', grad_fn=<AddBackward0>)\n"
     ]
    },
    {
     "name": "stderr",
     "output_type": "stream",
     "text": [
      "91it [00:07, 16.43it/s]"
     ]
    },
    {
     "name": "stdout",
     "output_type": "stream",
     "text": [
      "tensor(758.7814, device='cuda:0', grad_fn=<AddBackward0>)\n",
      "tensor(526.4325, device='cuda:0', grad_fn=<AddBackward0>)\n",
      "tensor(515.0438, device='cuda:0', grad_fn=<AddBackward0>)\n",
      "tensor(359.9491, device='cuda:0', grad_fn=<AddBackward0>)\n"
     ]
    },
    {
     "name": "stderr",
     "output_type": "stream",
     "text": [
      "95it [00:07, 16.23it/s]"
     ]
    },
    {
     "name": "stdout",
     "output_type": "stream",
     "text": [
      "tensor(403.2622, device='cuda:0', grad_fn=<AddBackward0>)\n",
      "tensor(605.4623, device='cuda:0', grad_fn=<AddBackward0>)\n",
      "tensor(671.4393, device='cuda:0', grad_fn=<AddBackward0>)\n",
      "tensor(479.6054, device='cuda:0', grad_fn=<AddBackward0>)\n"
     ]
    },
    {
     "name": "stderr",
     "output_type": "stream",
     "text": [
      "101it [00:08, 16.29it/s]"
     ]
    },
    {
     "name": "stdout",
     "output_type": "stream",
     "text": [
      "tensor(578.8000, device='cuda:0', grad_fn=<AddBackward0>)\n",
      "tensor(690.3452, device='cuda:0', grad_fn=<AddBackward0>)\n",
      "tensor(412.1790, device='cuda:0', grad_fn=<AddBackward0>)\n",
      "tensor(556.7612, device='cuda:0', grad_fn=<AddBackward0>)\n"
     ]
    },
    {
     "name": "stderr",
     "output_type": "stream",
     "text": [
      "105it [00:08, 16.39it/s]"
     ]
    },
    {
     "name": "stdout",
     "output_type": "stream",
     "text": [
      "tensor(692.0527, device='cuda:0', grad_fn=<AddBackward0>)\n",
      "tensor(564.4469, device='cuda:0', grad_fn=<AddBackward0>)\n",
      "tensor(497.2507, device='cuda:0', grad_fn=<AddBackward0>)\n",
      "tensor(731.6558, device='cuda:0', grad_fn=<AddBackward0>)\n"
     ]
    },
    {
     "name": "stderr",
     "output_type": "stream",
     "text": [
      "109it [00:08, 16.43it/s]"
     ]
    },
    {
     "name": "stdout",
     "output_type": "stream",
     "text": [
      "tensor(569.1573, device='cuda:0', grad_fn=<AddBackward0>)\n",
      "tensor(535.0414, device='cuda:0', grad_fn=<AddBackward0>)\n",
      "tensor(844.8372, device='cuda:0', grad_fn=<AddBackward0>)\n",
      "tensor(502.4649, device='cuda:0', grad_fn=<AddBackward0>)\n"
     ]
    },
    {
     "name": "stderr",
     "output_type": "stream",
     "text": [
      "111it [00:08, 16.37it/s]"
     ]
    },
    {
     "name": "stdout",
     "output_type": "stream",
     "text": [
      "tensor(617.9983, device='cuda:0', grad_fn=<AddBackward0>)\n",
      "tensor(652.5885, device='cuda:0', grad_fn=<AddBackward0>)\n",
      "tensor(607.2926, device='cuda:0', grad_fn=<AddBackward0>)\n",
      "tensor(475.3275, device='cuda:0', grad_fn=<AddBackward0>)\n"
     ]
    },
    {
     "name": "stderr",
     "output_type": "stream",
     "text": [
      "117it [00:09, 16.48it/s]"
     ]
    },
    {
     "name": "stdout",
     "output_type": "stream",
     "text": [
      "tensor(488.4059, device='cuda:0', grad_fn=<AddBackward0>)\n",
      "tensor(361.8189, device='cuda:0', grad_fn=<AddBackward0>)\n",
      "tensor(1704.6399, device='cuda:0', grad_fn=<AddBackward0>)\n",
      "tensor(338.3719, device='cuda:0', grad_fn=<AddBackward0>)\n"
     ]
    },
    {
     "name": "stderr",
     "output_type": "stream",
     "text": [
      "121it [00:09, 16.49it/s]"
     ]
    },
    {
     "name": "stdout",
     "output_type": "stream",
     "text": [
      "tensor(348.5291, device='cuda:0', grad_fn=<AddBackward0>)\n",
      "tensor(502.3513, device='cuda:0', grad_fn=<AddBackward0>)\n",
      "tensor(671.8712, device='cuda:0', grad_fn=<AddBackward0>)\n",
      "tensor(418.5334, device='cuda:0', grad_fn=<AddBackward0>)\n"
     ]
    },
    {
     "name": "stderr",
     "output_type": "stream",
     "text": [
      "123it [00:09, 16.26it/s]"
     ]
    },
    {
     "name": "stdout",
     "output_type": "stream",
     "text": [
      "tensor(570.7261, device='cuda:0', grad_fn=<AddBackward0>)\n",
      "tensor(399.8237, device='cuda:0', grad_fn=<AddBackward0>)\n",
      "tensor(694.1971, device='cuda:0', grad_fn=<AddBackward0>)\n",
      "tensor(822.5764, device='cuda:0', grad_fn=<AddBackward0>)\n"
     ]
    },
    {
     "name": "stderr",
     "output_type": "stream",
     "text": [
      "129it [00:09, 16.56it/s]"
     ]
    },
    {
     "name": "stdout",
     "output_type": "stream",
     "text": [
      "tensor(769.7606, device='cuda:0', grad_fn=<AddBackward0>)\n",
      "tensor(502.5594, device='cuda:0', grad_fn=<AddBackward0>)\n",
      "tensor(547.9589, device='cuda:0', grad_fn=<AddBackward0>)\n",
      "tensor(468.2971, device='cuda:0', grad_fn=<AddBackward0>)\n"
     ]
    },
    {
     "name": "stderr",
     "output_type": "stream",
     "text": [
      "133it [00:10, 16.55it/s]"
     ]
    },
    {
     "name": "stdout",
     "output_type": "stream",
     "text": [
      "tensor(460.7049, device='cuda:0', grad_fn=<AddBackward0>)\n",
      "tensor(625.1683, device='cuda:0', grad_fn=<AddBackward0>)\n",
      "tensor(406.6630, device='cuda:0', grad_fn=<AddBackward0>)\n",
      "tensor(976.4320, device='cuda:0', grad_fn=<AddBackward0>)\n"
     ]
    },
    {
     "name": "stderr",
     "output_type": "stream",
     "text": [
      "137it [00:10, 16.52it/s]"
     ]
    },
    {
     "name": "stdout",
     "output_type": "stream",
     "text": [
      "tensor(394.2737, device='cuda:0', grad_fn=<AddBackward0>)\n",
      "tensor(825.8538, device='cuda:0', grad_fn=<AddBackward0>)\n",
      "tensor(468.4327, device='cuda:0', grad_fn=<AddBackward0>)\n",
      "tensor(644.7738, device='cuda:0', grad_fn=<AddBackward0>)\n"
     ]
    },
    {
     "name": "stderr",
     "output_type": "stream",
     "text": [
      "141it [00:10, 16.38it/s]"
     ]
    },
    {
     "name": "stdout",
     "output_type": "stream",
     "text": [
      "tensor(489.4638, device='cuda:0', grad_fn=<AddBackward0>)\n",
      "tensor(532.4258, device='cuda:0', grad_fn=<AddBackward0>)\n",
      "tensor(436.7930, device='cuda:0', grad_fn=<AddBackward0>)\n",
      "tensor(414.0020, device='cuda:0', grad_fn=<AddBackward0>)\n"
     ]
    },
    {
     "name": "stderr",
     "output_type": "stream",
     "text": [
      "143it [00:10, 16.35it/s]"
     ]
    },
    {
     "name": "stdout",
     "output_type": "stream",
     "text": [
      "tensor(1164.6436, device='cuda:0', grad_fn=<AddBackward0>)\n",
      "tensor(447.1123, device='cuda:0', grad_fn=<AddBackward0>)\n",
      "tensor(383.4317, device='cuda:0', grad_fn=<AddBackward0>)\n",
      "tensor(461.4012, device='cuda:0', grad_fn=<AddBackward0>)\n"
     ]
    },
    {
     "name": "stderr",
     "output_type": "stream",
     "text": [
      "149it [00:11, 16.35it/s]"
     ]
    },
    {
     "name": "stdout",
     "output_type": "stream",
     "text": [
      "tensor(330.2358, device='cuda:0', grad_fn=<AddBackward0>)\n",
      "tensor(547.9116, device='cuda:0', grad_fn=<AddBackward0>)\n",
      "tensor(463.5094, device='cuda:0', grad_fn=<AddBackward0>)\n",
      "tensor(412.3963, device='cuda:0', grad_fn=<AddBackward0>)\n"
     ]
    },
    {
     "name": "stderr",
     "output_type": "stream",
     "text": [
      "151it [00:11, 16.37it/s]"
     ]
    },
    {
     "name": "stdout",
     "output_type": "stream",
     "text": [
      "tensor(425.8504, device='cuda:0', grad_fn=<AddBackward0>)\n",
      "tensor(614.9697, device='cuda:0', grad_fn=<AddBackward0>)\n",
      "tensor(578.2031, device='cuda:0', grad_fn=<AddBackward0>)\n",
      "tensor(557.4867, device='cuda:0', grad_fn=<AddBackward0>)\n"
     ]
    },
    {
     "name": "stderr",
     "output_type": "stream",
     "text": [
      "157it [00:11, 16.47it/s]"
     ]
    },
    {
     "name": "stdout",
     "output_type": "stream",
     "text": [
      "tensor(544.2029, device='cuda:0', grad_fn=<AddBackward0>)\n",
      "tensor(345.5795, device='cuda:0', grad_fn=<AddBackward0>)\n",
      "tensor(385.2267, device='cuda:0', grad_fn=<AddBackward0>)\n",
      "tensor(361.6866, device='cuda:0', grad_fn=<AddBackward0>)\n"
     ]
    },
    {
     "name": "stderr",
     "output_type": "stream",
     "text": [
      "161it [00:11, 16.43it/s]"
     ]
    },
    {
     "name": "stdout",
     "output_type": "stream",
     "text": [
      "tensor(632.0790, device='cuda:0', grad_fn=<AddBackward0>)\n",
      "tensor(358.4339, device='cuda:0', grad_fn=<AddBackward0>)\n",
      "tensor(366.1260, device='cuda:0', grad_fn=<AddBackward0>)\n",
      "tensor(624.3438, device='cuda:0', grad_fn=<AddBackward0>)\n"
     ]
    },
    {
     "name": "stderr",
     "output_type": "stream",
     "text": [
      "165it [00:12, 16.37it/s]"
     ]
    },
    {
     "name": "stdout",
     "output_type": "stream",
     "text": [
      "tensor(940.3256, device='cuda:0', grad_fn=<AddBackward0>)\n",
      "tensor(711.1947, device='cuda:0', grad_fn=<AddBackward0>)\n",
      "tensor(378.2720, device='cuda:0', grad_fn=<AddBackward0>)\n",
      "tensor(400.4141, device='cuda:0', grad_fn=<AddBackward0>)\n"
     ]
    },
    {
     "name": "stderr",
     "output_type": "stream",
     "text": [
      "169it [00:12, 16.73it/s]"
     ]
    },
    {
     "name": "stdout",
     "output_type": "stream",
     "text": [
      "tensor(461.0624, device='cuda:0', grad_fn=<AddBackward0>)\n",
      "tensor(666.9402, device='cuda:0', grad_fn=<AddBackward0>)\n",
      "tensor(465.7438, device='cuda:0', grad_fn=<AddBackward0>)\n",
      "tensor(404.7993, device='cuda:0', grad_fn=<AddBackward0>)\n"
     ]
    },
    {
     "name": "stderr",
     "output_type": "stream",
     "text": [
      "173it [00:12, 16.52it/s]"
     ]
    },
    {
     "name": "stdout",
     "output_type": "stream",
     "text": [
      "tensor(326.1783, device='cuda:0', grad_fn=<AddBackward0>)\n",
      "tensor(461.6167, device='cuda:0', grad_fn=<AddBackward0>)\n",
      "tensor(385.0874, device='cuda:0', grad_fn=<AddBackward0>)\n",
      "tensor(506.8224, device='cuda:0', grad_fn=<AddBackward0>)\n"
     ]
    },
    {
     "name": "stderr",
     "output_type": "stream",
     "text": [
      "177it [00:12, 16.42it/s]"
     ]
    },
    {
     "name": "stdout",
     "output_type": "stream",
     "text": [
      "tensor(397.9116, device='cuda:0', grad_fn=<AddBackward0>)\n",
      "tensor(314.9629, device='cuda:0', grad_fn=<AddBackward0>)\n",
      "tensor(427.1561, device='cuda:0', grad_fn=<AddBackward0>)\n",
      "tensor(750.8382, device='cuda:0', grad_fn=<AddBackward0>)\n"
     ]
    },
    {
     "name": "stderr",
     "output_type": "stream",
     "text": [
      "179it [00:12, 16.22it/s]"
     ]
    },
    {
     "name": "stdout",
     "output_type": "stream",
     "text": [
      "tensor(500.5949, device='cuda:0', grad_fn=<AddBackward0>)\n",
      "tensor(373.8489, device='cuda:0', grad_fn=<AddBackward0>)\n",
      "tensor(416.0542, device='cuda:0', grad_fn=<AddBackward0>)\n",
      "tensor(427.2801, device='cuda:0', grad_fn=<AddBackward0>)\n"
     ]
    },
    {
     "name": "stderr",
     "output_type": "stream",
     "text": [
      "185it [00:13, 16.38it/s]"
     ]
    },
    {
     "name": "stdout",
     "output_type": "stream",
     "text": [
      "tensor(499.4778, device='cuda:0', grad_fn=<AddBackward0>)\n",
      "tensor(477.9842, device='cuda:0', grad_fn=<AddBackward0>)\n",
      "tensor(393.2198, device='cuda:0', grad_fn=<AddBackward0>)\n",
      "tensor(513.0643, device='cuda:0', grad_fn=<AddBackward0>)\n"
     ]
    },
    {
     "name": "stderr",
     "output_type": "stream",
     "text": [
      "189it [00:13, 16.33it/s]"
     ]
    },
    {
     "name": "stdout",
     "output_type": "stream",
     "text": [
      "tensor(453.7675, device='cuda:0', grad_fn=<AddBackward0>)\n",
      "tensor(287.7732, device='cuda:0', grad_fn=<AddBackward0>)\n",
      "tensor(422.5172, device='cuda:0', grad_fn=<AddBackward0>)\n",
      "tensor(351.9888, device='cuda:0', grad_fn=<AddBackward0>)\n"
     ]
    },
    {
     "name": "stderr",
     "output_type": "stream",
     "text": [
      "191it [00:13, 16.28it/s]"
     ]
    },
    {
     "name": "stdout",
     "output_type": "stream",
     "text": [
      "tensor(534.8945, device='cuda:0', grad_fn=<AddBackward0>)\n",
      "tensor(383.0844, device='cuda:0', grad_fn=<AddBackward0>)\n",
      "tensor(337.7873, device='cuda:0', grad_fn=<AddBackward0>)\n",
      "tensor(339.9153, device='cuda:0', grad_fn=<AddBackward0>)\n"
     ]
    },
    {
     "name": "stderr",
     "output_type": "stream",
     "text": [
      "195it [00:13, 16.18it/s]"
     ]
    },
    {
     "name": "stdout",
     "output_type": "stream",
     "text": [
      "tensor(389.3883, device='cuda:0', grad_fn=<AddBackward0>)\n",
      "tensor(603.7036, device='cuda:0', grad_fn=<AddBackward0>)\n",
      "tensor(446.9799, device='cuda:0', grad_fn=<AddBackward0>)\n",
      "tensor(423.4255, device='cuda:0', grad_fn=<AddBackward0>)\n"
     ]
    },
    {
     "name": "stderr",
     "output_type": "stream",
     "text": [
      "201it [00:14, 16.13it/s]"
     ]
    },
    {
     "name": "stdout",
     "output_type": "stream",
     "text": [
      "tensor(544.4366, device='cuda:0', grad_fn=<AddBackward0>)\n",
      "tensor(521.2670, device='cuda:0', grad_fn=<AddBackward0>)\n",
      "tensor(525.6075, device='cuda:0', grad_fn=<AddBackward0>)\n",
      "tensor(403.6910, device='cuda:0', grad_fn=<AddBackward0>)\n"
     ]
    },
    {
     "name": "stderr",
     "output_type": "stream",
     "text": [
      "203it [00:14, 16.12it/s]"
     ]
    },
    {
     "name": "stdout",
     "output_type": "stream",
     "text": [
      "tensor(440.6893, device='cuda:0', grad_fn=<AddBackward0>)\n",
      "tensor(355.9803, device='cuda:0', grad_fn=<AddBackward0>)\n",
      "tensor(349.1924, device='cuda:0', grad_fn=<AddBackward0>)\n",
      "tensor(474.5032, device='cuda:0', grad_fn=<AddBackward0>)\n"
     ]
    },
    {
     "name": "stderr",
     "output_type": "stream",
     "text": [
      "209it [00:14, 16.29it/s]"
     ]
    },
    {
     "name": "stdout",
     "output_type": "stream",
     "text": [
      "tensor(797.4441, device='cuda:0', grad_fn=<AddBackward0>)\n",
      "tensor(596.1999, device='cuda:0', grad_fn=<AddBackward0>)\n",
      "tensor(360.5679, device='cuda:0', grad_fn=<AddBackward0>)\n",
      "tensor(523.5435, device='cuda:0', grad_fn=<AddBackward0>)\n"
     ]
    },
    {
     "name": "stderr",
     "output_type": "stream",
     "text": [
      "213it [00:15, 16.28it/s]"
     ]
    },
    {
     "name": "stdout",
     "output_type": "stream",
     "text": [
      "tensor(296.9315, device='cuda:0', grad_fn=<AddBackward0>)\n",
      "tensor(590.6928, device='cuda:0', grad_fn=<AddBackward0>)\n",
      "tensor(390.1151, device='cuda:0', grad_fn=<AddBackward0>)\n",
      "tensor(371.5830, device='cuda:0', grad_fn=<AddBackward0>)\n"
     ]
    },
    {
     "name": "stderr",
     "output_type": "stream",
     "text": [
      "215it [00:15, 16.33it/s]"
     ]
    },
    {
     "name": "stdout",
     "output_type": "stream",
     "text": [
      "tensor(481.8008, device='cuda:0', grad_fn=<AddBackward0>)\n",
      "tensor(386.2139, device='cuda:0', grad_fn=<AddBackward0>)\n",
      "tensor(825.8634, device='cuda:0', grad_fn=<AddBackward0>)\n",
      "tensor(633.4107, device='cuda:0', grad_fn=<AddBackward0>)\n"
     ]
    },
    {
     "name": "stderr",
     "output_type": "stream",
     "text": [
      "219it [00:15, 16.32it/s]"
     ]
    },
    {
     "name": "stdout",
     "output_type": "stream",
     "text": [
      "tensor(563.1268, device='cuda:0', grad_fn=<AddBackward0>)\n",
      "tensor(627.2524, device='cuda:0', grad_fn=<AddBackward0>)\n",
      "tensor(479.2601, device='cuda:0', grad_fn=<AddBackward0>)\n"
     ]
    },
    {
     "name": "stderr",
     "output_type": "stream",
     "text": [
      "223it [00:15, 13.50it/s]"
     ]
    },
    {
     "name": "stdout",
     "output_type": "stream",
     "text": [
      "tensor(359.0172, device='cuda:0', grad_fn=<AddBackward0>)\n",
      "tensor(491.1870, device='cuda:0', grad_fn=<AddBackward0>)\n",
      "tensor(665.4974, device='cuda:0', grad_fn=<AddBackward0>)\n",
      "tensor(363.4395, device='cuda:0', grad_fn=<AddBackward0>)\n"
     ]
    },
    {
     "name": "stderr",
     "output_type": "stream",
     "text": [
      "227it [00:16, 14.74it/s]"
     ]
    },
    {
     "name": "stdout",
     "output_type": "stream",
     "text": [
      "tensor(385.1260, device='cuda:0', grad_fn=<AddBackward0>)\n",
      "tensor(520.2036, device='cuda:0', grad_fn=<AddBackward0>)\n",
      "tensor(505.0649, device='cuda:0', grad_fn=<AddBackward0>)\n",
      "tensor(470.3318, device='cuda:0', grad_fn=<AddBackward0>)\n"
     ]
    },
    {
     "name": "stderr",
     "output_type": "stream",
     "text": [
      "231it [00:16, 15.36it/s]"
     ]
    },
    {
     "name": "stdout",
     "output_type": "stream",
     "text": [
      "tensor(362.0726, device='cuda:0', grad_fn=<AddBackward0>)\n",
      "tensor(360.5686, device='cuda:0', grad_fn=<AddBackward0>)\n",
      "tensor(408.9179, device='cuda:0', grad_fn=<AddBackward0>)\n",
      "tensor(447.7789, device='cuda:0', grad_fn=<AddBackward0>)\n"
     ]
    },
    {
     "name": "stderr",
     "output_type": "stream",
     "text": [
      "235it [00:16, 15.78it/s]"
     ]
    },
    {
     "name": "stdout",
     "output_type": "stream",
     "text": [
      "tensor(459.9354, device='cuda:0', grad_fn=<AddBackward0>)\n",
      "tensor(498.3854, device='cuda:0', grad_fn=<AddBackward0>)\n",
      "tensor(314.0582, device='cuda:0', grad_fn=<AddBackward0>)\n",
      "tensor(401.2557, device='cuda:0', grad_fn=<AddBackward0>)\n"
     ]
    },
    {
     "name": "stderr",
     "output_type": "stream",
     "text": [
      "239it [00:16, 15.95it/s]"
     ]
    },
    {
     "name": "stdout",
     "output_type": "stream",
     "text": [
      "tensor(327.2706, device='cuda:0', grad_fn=<AddBackward0>)\n",
      "tensor(433.1907, device='cuda:0', grad_fn=<AddBackward0>)\n",
      "tensor(552.7647, device='cuda:0', grad_fn=<AddBackward0>)\n",
      "tensor(462.3527, device='cuda:0', grad_fn=<AddBackward0>)\n"
     ]
    },
    {
     "name": "stderr",
     "output_type": "stream",
     "text": [
      "243it [00:17, 16.02it/s]"
     ]
    },
    {
     "name": "stdout",
     "output_type": "stream",
     "text": [
      "tensor(389.2973, device='cuda:0', grad_fn=<AddBackward0>)\n",
      "tensor(813.5150, device='cuda:0', grad_fn=<AddBackward0>)\n",
      "tensor(442.7855, device='cuda:0', grad_fn=<AddBackward0>)\n",
      "tensor(630.1930, device='cuda:0', grad_fn=<AddBackward0>)\n"
     ]
    },
    {
     "name": "stderr",
     "output_type": "stream",
     "text": [
      "247it [00:17, 16.16it/s]"
     ]
    },
    {
     "name": "stdout",
     "output_type": "stream",
     "text": [
      "tensor(281.3327, device='cuda:0', grad_fn=<AddBackward0>)\n",
      "tensor(390.1660, device='cuda:0', grad_fn=<AddBackward0>)\n",
      "tensor(310.8559, device='cuda:0', grad_fn=<AddBackward0>)\n",
      "tensor(255.5521, device='cuda:0', grad_fn=<AddBackward0>)\n"
     ]
    },
    {
     "name": "stderr",
     "output_type": "stream",
     "text": [
      "251it [00:17, 16.08it/s]"
     ]
    },
    {
     "name": "stdout",
     "output_type": "stream",
     "text": [
      "tensor(354.0256, device='cuda:0', grad_fn=<AddBackward0>)\n",
      "tensor(349.8659, device='cuda:0', grad_fn=<AddBackward0>)\n",
      "tensor(429.2679, device='cuda:0', grad_fn=<AddBackward0>)\n",
      "tensor(423.7115, device='cuda:0', grad_fn=<AddBackward0>)\n"
     ]
    },
    {
     "name": "stderr",
     "output_type": "stream",
     "text": [
      "255it [00:17, 16.15it/s]"
     ]
    },
    {
     "name": "stdout",
     "output_type": "stream",
     "text": [
      "tensor(284.4491, device='cuda:0', grad_fn=<AddBackward0>)\n",
      "tensor(345.6832, device='cuda:0', grad_fn=<AddBackward0>)\n",
      "tensor(382.2587, device='cuda:0', grad_fn=<AddBackward0>)\n",
      "tensor(543.4995, device='cuda:0', grad_fn=<AddBackward0>)\n"
     ]
    },
    {
     "name": "stderr",
     "output_type": "stream",
     "text": [
      "259it [00:18, 16.22it/s]"
     ]
    },
    {
     "name": "stdout",
     "output_type": "stream",
     "text": [
      "tensor(534.4274, device='cuda:0', grad_fn=<AddBackward0>)\n",
      "tensor(299.9688, device='cuda:0', grad_fn=<AddBackward0>)\n",
      "tensor(498.6342, device='cuda:0', grad_fn=<AddBackward0>)\n",
      "tensor(462.8070, device='cuda:0', grad_fn=<AddBackward0>)\n"
     ]
    },
    {
     "name": "stderr",
     "output_type": "stream",
     "text": [
      "263it [00:18, 16.11it/s]"
     ]
    },
    {
     "name": "stdout",
     "output_type": "stream",
     "text": [
      "tensor(389.3594, device='cuda:0', grad_fn=<AddBackward0>)\n",
      "tensor(230.5507, device='cuda:0', grad_fn=<AddBackward0>)\n",
      "tensor(702.0278, device='cuda:0', grad_fn=<AddBackward0>)\n",
      "tensor(336.5461, device='cuda:0', grad_fn=<AddBackward0>)\n"
     ]
    },
    {
     "name": "stderr",
     "output_type": "stream",
     "text": [
      "267it [00:18, 16.12it/s]"
     ]
    },
    {
     "name": "stdout",
     "output_type": "stream",
     "text": [
      "tensor(424.6682, device='cuda:0', grad_fn=<AddBackward0>)\n",
      "tensor(421.9328, device='cuda:0', grad_fn=<AddBackward0>)\n",
      "tensor(319.2895, device='cuda:0', grad_fn=<AddBackward0>)\n",
      "tensor(394.2696, device='cuda:0', grad_fn=<AddBackward0>)\n"
     ]
    },
    {
     "name": "stderr",
     "output_type": "stream",
     "text": [
      "271it [00:18, 16.10it/s]"
     ]
    },
    {
     "name": "stdout",
     "output_type": "stream",
     "text": [
      "tensor(324.8214, device='cuda:0', grad_fn=<AddBackward0>)\n",
      "tensor(353.2782, device='cuda:0', grad_fn=<AddBackward0>)\n",
      "tensor(436.5492, device='cuda:0', grad_fn=<AddBackward0>)\n",
      "tensor(426.7414, device='cuda:0', grad_fn=<AddBackward0>)\n"
     ]
    },
    {
     "name": "stderr",
     "output_type": "stream",
     "text": [
      "275it [00:19, 16.25it/s]"
     ]
    },
    {
     "name": "stdout",
     "output_type": "stream",
     "text": [
      "tensor(500.6631, device='cuda:0', grad_fn=<AddBackward0>)\n",
      "tensor(301.9637, device='cuda:0', grad_fn=<AddBackward0>)\n",
      "tensor(488.7463, device='cuda:0', grad_fn=<AddBackward0>)\n",
      "tensor(515.4646, device='cuda:0', grad_fn=<AddBackward0>)\n"
     ]
    },
    {
     "name": "stderr",
     "output_type": "stream",
     "text": [
      "279it [00:19, 16.33it/s]"
     ]
    },
    {
     "name": "stdout",
     "output_type": "stream",
     "text": [
      "tensor(440.5410, device='cuda:0', grad_fn=<AddBackward0>)\n",
      "tensor(312.5637, device='cuda:0', grad_fn=<AddBackward0>)\n",
      "tensor(394.1435, device='cuda:0', grad_fn=<AddBackward0>)\n",
      "tensor(482.9548, device='cuda:0', grad_fn=<AddBackward0>)\n"
     ]
    },
    {
     "name": "stderr",
     "output_type": "stream",
     "text": [
      "283it [00:19, 16.32it/s]"
     ]
    },
    {
     "name": "stdout",
     "output_type": "stream",
     "text": [
      "tensor(346.4078, device='cuda:0', grad_fn=<AddBackward0>)\n",
      "tensor(536.0798, device='cuda:0', grad_fn=<AddBackward0>)\n",
      "tensor(545.7269, device='cuda:0', grad_fn=<AddBackward0>)\n",
      "tensor(549.3664, device='cuda:0', grad_fn=<AddBackward0>)\n"
     ]
    },
    {
     "name": "stderr",
     "output_type": "stream",
     "text": [
      "287it [00:19, 14.89it/s]"
     ]
    },
    {
     "name": "stdout",
     "output_type": "stream",
     "text": [
      "tensor(507.8905, device='cuda:0', grad_fn=<AddBackward0>)\n",
      "tensor(311.8063, device='cuda:0', grad_fn=<AddBackward0>)\n",
      "tensor(477.1474, device='cuda:0', grad_fn=<AddBackward0>)\n"
     ]
    },
    {
     "name": "stderr",
     "output_type": "stream",
     "text": [
      "289it [00:19, 14.47it/s]"
     ]
    },
    {
     "name": "stdout",
     "output_type": "stream",
     "text": [
      "tensor(328.0642, device='cuda:0', grad_fn=<AddBackward0>)\n",
      "tensor(355.6263, device='cuda:0', grad_fn=<AddBackward0>)\n",
      "tensor(460.4556, device='cuda:0', grad_fn=<AddBackward0>)\n",
      "tensor(477.2018, device='cuda:0', grad_fn=<AddBackward0>)\n"
     ]
    },
    {
     "name": "stderr",
     "output_type": "stream",
     "text": [
      "293it [00:20, 14.53it/s]"
     ]
    },
    {
     "name": "stdout",
     "output_type": "stream",
     "text": [
      "tensor(439.6567, device='cuda:0', grad_fn=<AddBackward0>)\n",
      "tensor(395.4193, device='cuda:0', grad_fn=<AddBackward0>)\n",
      "tensor(565.1213, device='cuda:0', grad_fn=<AddBackward0>)\n",
      "tensor(354.9059, device='cuda:0', grad_fn=<AddBackward0>)\n"
     ]
    },
    {
     "name": "stderr",
     "output_type": "stream",
     "text": [
      "297it [00:20, 15.33it/s]"
     ]
    },
    {
     "name": "stdout",
     "output_type": "stream",
     "text": [
      "tensor(370.4485, device='cuda:0', grad_fn=<AddBackward0>)\n",
      "tensor(427.3433, device='cuda:0', grad_fn=<AddBackward0>)\n",
      "tensor(506.6132, device='cuda:0', grad_fn=<AddBackward0>)\n",
      "tensor(400.6622, device='cuda:0', grad_fn=<AddBackward0>)\n"
     ]
    },
    {
     "name": "stderr",
     "output_type": "stream",
     "text": [
      "303it [00:20, 15.86it/s]"
     ]
    },
    {
     "name": "stdout",
     "output_type": "stream",
     "text": [
      "tensor(344.5823, device='cuda:0', grad_fn=<AddBackward0>)\n",
      "tensor(359.0147, device='cuda:0', grad_fn=<AddBackward0>)\n",
      "tensor(361.5150, device='cuda:0', grad_fn=<AddBackward0>)\n",
      "tensor(420.0745, device='cuda:0', grad_fn=<AddBackward0>)\n"
     ]
    },
    {
     "name": "stderr",
     "output_type": "stream",
     "text": [
      "305it [00:20, 15.83it/s]"
     ]
    },
    {
     "name": "stdout",
     "output_type": "stream",
     "text": [
      "tensor(374.2221, device='cuda:0', grad_fn=<AddBackward0>)\n",
      "tensor(576.9156, device='cuda:0', grad_fn=<AddBackward0>)\n",
      "tensor(371.4145, device='cuda:0', grad_fn=<AddBackward0>)\n",
      "tensor(312.5288, device='cuda:0', grad_fn=<AddBackward0>)\n"
     ]
    },
    {
     "name": "stderr",
     "output_type": "stream",
     "text": [
      "311it [00:21, 16.24it/s]"
     ]
    },
    {
     "name": "stdout",
     "output_type": "stream",
     "text": [
      "tensor(460.5523, device='cuda:0', grad_fn=<AddBackward0>)\n",
      "tensor(514.4922, device='cuda:0', grad_fn=<AddBackward0>)\n",
      "tensor(303.0798, device='cuda:0', grad_fn=<AddBackward0>)\n",
      "tensor(544.9736, device='cuda:0', grad_fn=<AddBackward0>)\n"
     ]
    },
    {
     "name": "stderr",
     "output_type": "stream",
     "text": [
      "313it [00:21, 15.71it/s]"
     ]
    },
    {
     "name": "stdout",
     "output_type": "stream",
     "text": [
      "tensor(339.6247, device='cuda:0', grad_fn=<AddBackward0>)\n",
      "tensor(444.9501, device='cuda:0', grad_fn=<AddBackward0>)\n",
      "tensor(349.2661, device='cuda:0', grad_fn=<AddBackward0>)\n",
      "tensor(788.6190, device='cuda:0', grad_fn=<AddBackward0>)\n"
     ]
    },
    {
     "name": "stderr",
     "output_type": "stream",
     "text": [
      "317it [00:21, 15.75it/s]"
     ]
    },
    {
     "name": "stdout",
     "output_type": "stream",
     "text": [
      "tensor(410.8388, device='cuda:0', grad_fn=<AddBackward0>)\n",
      "tensor(431.1729, device='cuda:0', grad_fn=<AddBackward0>)\n",
      "tensor(467.3311, device='cuda:0', grad_fn=<AddBackward0>)\n",
      "tensor(368.4204, device='cuda:0', grad_fn=<AddBackward0>)\n"
     ]
    },
    {
     "name": "stderr",
     "output_type": "stream",
     "text": [
      "323it [00:22, 15.79it/s]"
     ]
    },
    {
     "name": "stdout",
     "output_type": "stream",
     "text": [
      "tensor(404.5845, device='cuda:0', grad_fn=<AddBackward0>)\n",
      "tensor(288.3389, device='cuda:0', grad_fn=<AddBackward0>)\n",
      "tensor(341.6015, device='cuda:0', grad_fn=<AddBackward0>)\n",
      "tensor(319.1775, device='cuda:0', grad_fn=<AddBackward0>)\n"
     ]
    },
    {
     "name": "stderr",
     "output_type": "stream",
     "text": [
      "325it [00:22, 16.00it/s]"
     ]
    },
    {
     "name": "stdout",
     "output_type": "stream",
     "text": [
      "tensor(505.8221, device='cuda:0', grad_fn=<AddBackward0>)\n",
      "tensor(478.2603, device='cuda:0', grad_fn=<AddBackward0>)\n",
      "tensor(412.7496, device='cuda:0', grad_fn=<AddBackward0>)\n",
      "tensor(254.5224, device='cuda:0', grad_fn=<AddBackward0>)\n"
     ]
    },
    {
     "name": "stderr",
     "output_type": "stream",
     "text": [
      "331it [00:22, 15.91it/s]"
     ]
    },
    {
     "name": "stdout",
     "output_type": "stream",
     "text": [
      "tensor(397.8560, device='cuda:0', grad_fn=<AddBackward0>)\n",
      "tensor(366.5837, device='cuda:0', grad_fn=<AddBackward0>)\n",
      "tensor(453.5905, device='cuda:0', grad_fn=<AddBackward0>)\n",
      "tensor(377.8213, device='cuda:0', grad_fn=<AddBackward0>)\n"
     ]
    },
    {
     "name": "stderr",
     "output_type": "stream",
     "text": [
      "333it [00:22, 15.99it/s]"
     ]
    },
    {
     "name": "stdout",
     "output_type": "stream",
     "text": [
      "tensor(376.8708, device='cuda:0', grad_fn=<AddBackward0>)\n",
      "tensor(336.1190, device='cuda:0', grad_fn=<AddBackward0>)\n",
      "tensor(351.2003, device='cuda:0', grad_fn=<AddBackward0>)\n",
      "tensor(369.9429, device='cuda:0', grad_fn=<AddBackward0>)\n"
     ]
    },
    {
     "name": "stderr",
     "output_type": "stream",
     "text": [
      "337it [00:22, 15.98it/s]"
     ]
    },
    {
     "name": "stdout",
     "output_type": "stream",
     "text": [
      "tensor(526.8938, device='cuda:0', grad_fn=<AddBackward0>)\n",
      "tensor(421.5132, device='cuda:0', grad_fn=<AddBackward0>)\n",
      "tensor(526.2036, device='cuda:0', grad_fn=<AddBackward0>)\n",
      "tensor(275.7104, device='cuda:0', grad_fn=<AddBackward0>)\n"
     ]
    },
    {
     "name": "stderr",
     "output_type": "stream",
     "text": [
      "343it [00:23, 16.46it/s]"
     ]
    },
    {
     "name": "stdout",
     "output_type": "stream",
     "text": [
      "tensor(429.3899, device='cuda:0', grad_fn=<AddBackward0>)\n",
      "tensor(372.2068, device='cuda:0', grad_fn=<AddBackward0>)\n",
      "tensor(297.9744, device='cuda:0', grad_fn=<AddBackward0>)\n",
      "tensor(317.3734, device='cuda:0', grad_fn=<AddBackward0>)\n"
     ]
    },
    {
     "name": "stderr",
     "output_type": "stream",
     "text": [
      "345it [00:23, 16.31it/s]"
     ]
    },
    {
     "name": "stdout",
     "output_type": "stream",
     "text": [
      "tensor(439.4464, device='cuda:0', grad_fn=<AddBackward0>)\n",
      "tensor(435.6686, device='cuda:0', grad_fn=<AddBackward0>)\n",
      "tensor(345.0605, device='cuda:0', grad_fn=<AddBackward0>)\n",
      "tensor(261.5685, device='cuda:0', grad_fn=<AddBackward0>)\n"
     ]
    },
    {
     "name": "stderr",
     "output_type": "stream",
     "text": [
      "351it [00:23, 16.26it/s]"
     ]
    },
    {
     "name": "stdout",
     "output_type": "stream",
     "text": [
      "tensor(324.9677, device='cuda:0', grad_fn=<AddBackward0>)\n",
      "tensor(323.5695, device='cuda:0', grad_fn=<AddBackward0>)\n",
      "tensor(360.2615, device='cuda:0', grad_fn=<AddBackward0>)\n",
      "tensor(578.6049, device='cuda:0', grad_fn=<AddBackward0>)\n"
     ]
    },
    {
     "name": "stderr",
     "output_type": "stream",
     "text": [
      "353it [00:23, 16.27it/s]"
     ]
    },
    {
     "name": "stdout",
     "output_type": "stream",
     "text": [
      "tensor(366.5702, device='cuda:0', grad_fn=<AddBackward0>)\n",
      "tensor(193.5643, device='cuda:0', grad_fn=<AddBackward0>)\n",
      "tensor(342.5208, device='cuda:0', grad_fn=<AddBackward0>)\n",
      "tensor(373.9099, device='cuda:0', grad_fn=<AddBackward0>)\n"
     ]
    },
    {
     "name": "stderr",
     "output_type": "stream",
     "text": [
      "359it [00:24, 16.41it/s]"
     ]
    },
    {
     "name": "stdout",
     "output_type": "stream",
     "text": [
      "tensor(452.5900, device='cuda:0', grad_fn=<AddBackward0>)\n",
      "tensor(332.8435, device='cuda:0', grad_fn=<AddBackward0>)\n",
      "tensor(354.7668, device='cuda:0', grad_fn=<AddBackward0>)\n",
      "tensor(477.6149, device='cuda:0', grad_fn=<AddBackward0>)\n"
     ]
    },
    {
     "name": "stderr",
     "output_type": "stream",
     "text": [
      "361it [00:24, 16.09it/s]"
     ]
    },
    {
     "name": "stdout",
     "output_type": "stream",
     "text": [
      "tensor(336.0165, device='cuda:0', grad_fn=<AddBackward0>)\n",
      "tensor(310.3005, device='cuda:0', grad_fn=<AddBackward0>)\n",
      "tensor(256.3626, device='cuda:0', grad_fn=<AddBackward0>)\n",
      "tensor(288.4857, device='cuda:0', grad_fn=<AddBackward0>)\n"
     ]
    },
    {
     "name": "stderr",
     "output_type": "stream",
     "text": [
      "367it [00:24, 16.22it/s]"
     ]
    },
    {
     "name": "stdout",
     "output_type": "stream",
     "text": [
      "tensor(440.4491, device='cuda:0', grad_fn=<AddBackward0>)\n",
      "tensor(365.4363, device='cuda:0', grad_fn=<AddBackward0>)\n",
      "tensor(358.9642, device='cuda:0', grad_fn=<AddBackward0>)\n",
      "tensor(462.4565, device='cuda:0', grad_fn=<AddBackward0>)\n"
     ]
    },
    {
     "name": "stderr",
     "output_type": "stream",
     "text": [
      "369it [00:24, 16.15it/s]"
     ]
    },
    {
     "name": "stdout",
     "output_type": "stream",
     "text": [
      "tensor(327.3701, device='cuda:0', grad_fn=<AddBackward0>)\n",
      "tensor(429.5085, device='cuda:0', grad_fn=<AddBackward0>)\n",
      "tensor(272.3024, device='cuda:0', grad_fn=<AddBackward0>)\n",
      "tensor(320.6899, device='cuda:0', grad_fn=<AddBackward0>)\n"
     ]
    },
    {
     "name": "stderr",
     "output_type": "stream",
     "text": [
      "375it [00:25, 16.21it/s]"
     ]
    },
    {
     "name": "stdout",
     "output_type": "stream",
     "text": [
      "tensor(647.0414, device='cuda:0', grad_fn=<AddBackward0>)\n",
      "tensor(448.5049, device='cuda:0', grad_fn=<AddBackward0>)\n",
      "tensor(628.8783, device='cuda:0', grad_fn=<AddBackward0>)\n",
      "tensor(352.0473, device='cuda:0', grad_fn=<AddBackward0>)\n"
     ]
    },
    {
     "name": "stderr",
     "output_type": "stream",
     "text": [
      "377it [00:25, 16.18it/s]"
     ]
    },
    {
     "name": "stdout",
     "output_type": "stream",
     "text": [
      "tensor(453.7734, device='cuda:0', grad_fn=<AddBackward0>)\n",
      "tensor(363.8414, device='cuda:0', grad_fn=<AddBackward0>)\n",
      "tensor(493.8052, device='cuda:0', grad_fn=<AddBackward0>)\n",
      "tensor(385.6454, device='cuda:0', grad_fn=<AddBackward0>)\n"
     ]
    },
    {
     "name": "stderr",
     "output_type": "stream",
     "text": [
      "383it [00:25, 16.34it/s]"
     ]
    },
    {
     "name": "stdout",
     "output_type": "stream",
     "text": [
      "tensor(380.2097, device='cuda:0', grad_fn=<AddBackward0>)\n",
      "tensor(271.3488, device='cuda:0', grad_fn=<AddBackward0>)\n",
      "tensor(500.4892, device='cuda:0', grad_fn=<AddBackward0>)\n",
      "tensor(323.1246, device='cuda:0', grad_fn=<AddBackward0>)\n"
     ]
    },
    {
     "name": "stderr",
     "output_type": "stream",
     "text": [
      "385it [00:25, 16.25it/s]"
     ]
    },
    {
     "name": "stdout",
     "output_type": "stream",
     "text": [
      "tensor(368.0394, device='cuda:0', grad_fn=<AddBackward0>)\n",
      "tensor(437.3668, device='cuda:0', grad_fn=<AddBackward0>)\n",
      "tensor(406.1872, device='cuda:0', grad_fn=<AddBackward0>)\n",
      "tensor(343.1709, device='cuda:0', grad_fn=<AddBackward0>)\n"
     ]
    },
    {
     "name": "stderr",
     "output_type": "stream",
     "text": [
      "391it [00:26, 16.27it/s]"
     ]
    },
    {
     "name": "stdout",
     "output_type": "stream",
     "text": [
      "tensor(248.4671, device='cuda:0', grad_fn=<AddBackward0>)\n",
      "tensor(456.7891, device='cuda:0', grad_fn=<AddBackward0>)\n",
      "tensor(283.3321, device='cuda:0', grad_fn=<AddBackward0>)\n",
      "tensor(1213.1406, device='cuda:0', grad_fn=<AddBackward0>)\n"
     ]
    },
    {
     "name": "stderr",
     "output_type": "stream",
     "text": [
      "395it [00:26, 16.30it/s]"
     ]
    },
    {
     "name": "stdout",
     "output_type": "stream",
     "text": [
      "tensor(310.3570, device='cuda:0', grad_fn=<AddBackward0>)\n",
      "tensor(347.3776, device='cuda:0', grad_fn=<AddBackward0>)\n",
      "tensor(390.6995, device='cuda:0', grad_fn=<AddBackward0>)\n",
      "tensor(334.8129, device='cuda:0', grad_fn=<AddBackward0>)\n"
     ]
    },
    {
     "name": "stderr",
     "output_type": "stream",
     "text": [
      "397it [00:26, 16.22it/s]"
     ]
    },
    {
     "name": "stdout",
     "output_type": "stream",
     "text": [
      "tensor(505.7532, device='cuda:0', grad_fn=<AddBackward0>)\n",
      "tensor(355.6955, device='cuda:0', grad_fn=<AddBackward0>)\n",
      "tensor(620.6497, device='cuda:0', grad_fn=<AddBackward0>)\n",
      "tensor(469.3489, device='cuda:0', grad_fn=<AddBackward0>)\n"
     ]
    },
    {
     "name": "stderr",
     "output_type": "stream",
     "text": [
      "403it [00:27, 16.21it/s]"
     ]
    },
    {
     "name": "stdout",
     "output_type": "stream",
     "text": [
      "tensor(640.5493, device='cuda:0', grad_fn=<AddBackward0>)\n",
      "tensor(346.0482, device='cuda:0', grad_fn=<AddBackward0>)\n",
      "tensor(354.4435, device='cuda:0', grad_fn=<AddBackward0>)\n",
      "tensor(399.7993, device='cuda:0', grad_fn=<AddBackward0>)\n"
     ]
    },
    {
     "name": "stderr",
     "output_type": "stream",
     "text": [
      "405it [00:27, 16.22it/s]"
     ]
    },
    {
     "name": "stdout",
     "output_type": "stream",
     "text": [
      "tensor(275.0839, device='cuda:0', grad_fn=<AddBackward0>)\n",
      "tensor(272.5858, device='cuda:0', grad_fn=<AddBackward0>)\n",
      "tensor(365.7299, device='cuda:0', grad_fn=<AddBackward0>)\n",
      "tensor(367.6524, device='cuda:0', grad_fn=<AddBackward0>)\n"
     ]
    },
    {
     "name": "stderr",
     "output_type": "stream",
     "text": [
      "411it [00:27, 16.31it/s]"
     ]
    },
    {
     "name": "stdout",
     "output_type": "stream",
     "text": [
      "tensor(424.5825, device='cuda:0', grad_fn=<AddBackward0>)\n",
      "tensor(370.4938, device='cuda:0', grad_fn=<AddBackward0>)\n",
      "tensor(335.9924, device='cuda:0', grad_fn=<AddBackward0>)\n",
      "tensor(363.5253, device='cuda:0', grad_fn=<AddBackward0>)\n"
     ]
    },
    {
     "name": "stderr",
     "output_type": "stream",
     "text": [
      "413it [00:27, 16.32it/s]"
     ]
    },
    {
     "name": "stdout",
     "output_type": "stream",
     "text": [
      "tensor(722.7846, device='cuda:0', grad_fn=<AddBackward0>)\n",
      "tensor(550.4287, device='cuda:0', grad_fn=<AddBackward0>)\n",
      "tensor(329.1237, device='cuda:0', grad_fn=<AddBackward0>)\n",
      "tensor(435.6213, device='cuda:0', grad_fn=<AddBackward0>)\n"
     ]
    },
    {
     "name": "stderr",
     "output_type": "stream",
     "text": [
      "419it [00:28, 16.33it/s]"
     ]
    },
    {
     "name": "stdout",
     "output_type": "stream",
     "text": [
      "tensor(319.5501, device='cuda:0', grad_fn=<AddBackward0>)\n",
      "tensor(346.4429, device='cuda:0', grad_fn=<AddBackward0>)\n",
      "tensor(354.3703, device='cuda:0', grad_fn=<AddBackward0>)\n",
      "tensor(425.0662, device='cuda:0', grad_fn=<AddBackward0>)\n"
     ]
    },
    {
     "name": "stderr",
     "output_type": "stream",
     "text": [
      "421it [00:28, 16.18it/s]"
     ]
    },
    {
     "name": "stdout",
     "output_type": "stream",
     "text": [
      "tensor(240.0971, device='cuda:0', grad_fn=<AddBackward0>)\n",
      "tensor(585.3257, device='cuda:0', grad_fn=<AddBackward0>)\n",
      "tensor(272.1548, device='cuda:0', grad_fn=<AddBackward0>)\n",
      "tensor(248.9676, device='cuda:0', grad_fn=<AddBackward0>)\n"
     ]
    },
    {
     "name": "stderr",
     "output_type": "stream",
     "text": [
      "425it [00:28, 16.20it/s]"
     ]
    },
    {
     "name": "stdout",
     "output_type": "stream",
     "text": [
      "tensor(363.4753, device='cuda:0', grad_fn=<AddBackward0>)\n",
      "tensor(251.9643, device='cuda:0', grad_fn=<AddBackward0>)\n",
      "tensor(379.8777, device='cuda:0', grad_fn=<AddBackward0>)\n",
      "tensor(387.6182, device='cuda:0', grad_fn=<AddBackward0>)\n"
     ]
    },
    {
     "name": "stderr",
     "output_type": "stream",
     "text": [
      "429it [00:28, 16.11it/s]"
     ]
    },
    {
     "name": "stdout",
     "output_type": "stream",
     "text": [
      "tensor(394.5748, device='cuda:0', grad_fn=<AddBackward0>)\n",
      "tensor(568.8401, device='cuda:0', grad_fn=<AddBackward0>)\n",
      "tensor(358.2284, device='cuda:0', grad_fn=<AddBackward0>)\n",
      "tensor(312.1057, device='cuda:0', grad_fn=<AddBackward0>)\n"
     ]
    },
    {
     "name": "stderr",
     "output_type": "stream",
     "text": [
      "433it [00:28, 16.31it/s]"
     ]
    },
    {
     "name": "stdout",
     "output_type": "stream",
     "text": [
      "tensor(249.7858, device='cuda:0', grad_fn=<AddBackward0>)\n",
      "tensor(348.0610, device='cuda:0', grad_fn=<AddBackward0>)\n",
      "tensor(310.4852, device='cuda:0', grad_fn=<AddBackward0>)\n",
      "tensor(299.0150, device='cuda:0', grad_fn=<AddBackward0>)\n"
     ]
    },
    {
     "name": "stderr",
     "output_type": "stream",
     "text": [
      "439it [00:29, 16.32it/s]"
     ]
    },
    {
     "name": "stdout",
     "output_type": "stream",
     "text": [
      "tensor(300.0882, device='cuda:0', grad_fn=<AddBackward0>)\n",
      "tensor(246.3230, device='cuda:0', grad_fn=<AddBackward0>)\n",
      "tensor(418.8766, device='cuda:0', grad_fn=<AddBackward0>)\n",
      "tensor(357.3171, device='cuda:0', grad_fn=<AddBackward0>)\n"
     ]
    },
    {
     "name": "stderr",
     "output_type": "stream",
     "text": [
      "441it [00:29, 16.25it/s]"
     ]
    },
    {
     "name": "stdout",
     "output_type": "stream",
     "text": [
      "tensor(307.8936, device='cuda:0', grad_fn=<AddBackward0>)\n",
      "tensor(324.5377, device='cuda:0', grad_fn=<AddBackward0>)\n",
      "tensor(241.7708, device='cuda:0', grad_fn=<AddBackward0>)\n",
      "tensor(266.5081, device='cuda:0', grad_fn=<AddBackward0>)\n"
     ]
    },
    {
     "name": "stderr",
     "output_type": "stream",
     "text": [
      "445it [00:29, 12.71it/s]"
     ]
    },
    {
     "name": "stdout",
     "output_type": "stream",
     "text": [
      "tensor(384.0937, device='cuda:0', grad_fn=<AddBackward0>)\n",
      "tensor(271.3171, device='cuda:0', grad_fn=<AddBackward0>)\n"
     ]
    },
    {
     "name": "stderr",
     "output_type": "stream",
     "text": [
      "449it [00:29, 14.31it/s]"
     ]
    },
    {
     "name": "stdout",
     "output_type": "stream",
     "text": [
      "tensor(523.4022, device='cuda:0', grad_fn=<AddBackward0>)\n",
      "tensor(477.1020, device='cuda:0', grad_fn=<AddBackward0>)\n",
      "tensor(313.5836, device='cuda:0', grad_fn=<AddBackward0>)\n",
      "tensor(272.3708, device='cuda:0', grad_fn=<AddBackward0>)\n"
     ]
    },
    {
     "name": "stderr",
     "output_type": "stream",
     "text": [
      "451it [00:30, 14.61it/s]"
     ]
    },
    {
     "name": "stdout",
     "output_type": "stream",
     "text": [
      "tensor(353.2537, device='cuda:0', grad_fn=<AddBackward0>)\n",
      "tensor(317.0786, device='cuda:0', grad_fn=<AddBackward0>)\n",
      "tensor(381.1792, device='cuda:0', grad_fn=<AddBackward0>)\n",
      "tensor(323.9127, device='cuda:0', grad_fn=<AddBackward0>)\n"
     ]
    },
    {
     "name": "stderr",
     "output_type": "stream",
     "text": [
      "455it [00:30, 15.23it/s]"
     ]
    },
    {
     "name": "stdout",
     "output_type": "stream",
     "text": [
      "tensor(391.6738, device='cuda:0', grad_fn=<AddBackward0>)\n",
      "tensor(355.4883, device='cuda:0', grad_fn=<AddBackward0>)\n",
      "tensor(377.7645, device='cuda:0', grad_fn=<AddBackward0>)\n",
      "tensor(565.8086, device='cuda:0', grad_fn=<AddBackward0>)\n"
     ]
    },
    {
     "name": "stderr",
     "output_type": "stream",
     "text": [
      "459it [00:30, 15.47it/s]"
     ]
    },
    {
     "name": "stdout",
     "output_type": "stream",
     "text": [
      "tensor(370.8013, device='cuda:0', grad_fn=<AddBackward0>)\n",
      "tensor(310.5553, device='cuda:0', grad_fn=<AddBackward0>)\n",
      "tensor(403.7972, device='cuda:0', grad_fn=<AddBackward0>)\n",
      "tensor(477.1945, device='cuda:0', grad_fn=<AddBackward0>)\n"
     ]
    },
    {
     "name": "stderr",
     "output_type": "stream",
     "text": [
      "463it [00:30, 15.51it/s]"
     ]
    },
    {
     "name": "stdout",
     "output_type": "stream",
     "text": [
      "tensor(320.8568, device='cuda:0', grad_fn=<AddBackward0>)\n",
      "tensor(420.2516, device='cuda:0', grad_fn=<AddBackward0>)\n",
      "tensor(413.0104, device='cuda:0', grad_fn=<AddBackward0>)\n",
      "tensor(275.9925, device='cuda:0', grad_fn=<AddBackward0>)\n"
     ]
    },
    {
     "name": "stderr",
     "output_type": "stream",
     "text": [
      "469it [00:31, 16.12it/s]"
     ]
    },
    {
     "name": "stdout",
     "output_type": "stream",
     "text": [
      "tensor(360.9572, device='cuda:0', grad_fn=<AddBackward0>)\n",
      "tensor(402.2684, device='cuda:0', grad_fn=<AddBackward0>)\n",
      "tensor(287.7129, device='cuda:0', grad_fn=<AddBackward0>)\n",
      "tensor(325.0430, device='cuda:0', grad_fn=<AddBackward0>)\n"
     ]
    },
    {
     "name": "stderr",
     "output_type": "stream",
     "text": [
      "471it [00:31, 16.09it/s]"
     ]
    },
    {
     "name": "stdout",
     "output_type": "stream",
     "text": [
      "tensor(292.4469, device='cuda:0', grad_fn=<AddBackward0>)\n",
      "tensor(387.5011, device='cuda:0', grad_fn=<AddBackward0>)\n",
      "tensor(328.5284, device='cuda:0', grad_fn=<AddBackward0>)\n",
      "tensor(315.6350, device='cuda:0', grad_fn=<AddBackward0>)\n"
     ]
    },
    {
     "name": "stderr",
     "output_type": "stream",
     "text": [
      "475it [00:31, 15.97it/s]"
     ]
    },
    {
     "name": "stdout",
     "output_type": "stream",
     "text": [
      "tensor(248.6057, device='cuda:0', grad_fn=<AddBackward0>)\n",
      "tensor(327.4843, device='cuda:0', grad_fn=<AddBackward0>)\n",
      "tensor(304.3366, device='cuda:0', grad_fn=<AddBackward0>)\n",
      "tensor(345.1107, device='cuda:0', grad_fn=<AddBackward0>)\n"
     ]
    },
    {
     "name": "stderr",
     "output_type": "stream",
     "text": [
      "481it [00:31, 16.25it/s]"
     ]
    },
    {
     "name": "stdout",
     "output_type": "stream",
     "text": [
      "tensor(320.3390, device='cuda:0', grad_fn=<AddBackward0>)\n",
      "tensor(422.9189, device='cuda:0', grad_fn=<AddBackward0>)\n",
      "tensor(690.1979, device='cuda:0', grad_fn=<AddBackward0>)\n",
      "tensor(371.9692, device='cuda:0', grad_fn=<AddBackward0>)\n"
     ]
    },
    {
     "name": "stderr",
     "output_type": "stream",
     "text": [
      "483it [00:32, 15.78it/s]"
     ]
    },
    {
     "name": "stdout",
     "output_type": "stream",
     "text": [
      "tensor(288.1799, device='cuda:0', grad_fn=<AddBackward0>)\n",
      "tensor(387.7215, device='cuda:0', grad_fn=<AddBackward0>)\n",
      "tensor(382.3792, device='cuda:0', grad_fn=<AddBackward0>)\n"
     ]
    },
    {
     "name": "stderr",
     "output_type": "stream",
     "text": [
      "487it [00:32, 15.49it/s]"
     ]
    },
    {
     "name": "stdout",
     "output_type": "stream",
     "text": [
      "tensor(539.9819, device='cuda:0', grad_fn=<AddBackward0>)\n",
      "tensor(300.4028, device='cuda:0', grad_fn=<AddBackward0>)\n",
      "tensor(547.6613, device='cuda:0', grad_fn=<AddBackward0>)\n",
      "tensor(387.6798, device='cuda:0', grad_fn=<AddBackward0>)\n"
     ]
    },
    {
     "name": "stderr",
     "output_type": "stream",
     "text": [
      "491it [00:32, 15.68it/s]"
     ]
    },
    {
     "name": "stdout",
     "output_type": "stream",
     "text": [
      "tensor(182.1564, device='cuda:0', grad_fn=<AddBackward0>)\n",
      "tensor(194.6039, device='cuda:0', grad_fn=<AddBackward0>)\n",
      "tensor(336.7607, device='cuda:0', grad_fn=<AddBackward0>)\n",
      "tensor(239.5906, device='cuda:0', grad_fn=<AddBackward0>)\n"
     ]
    },
    {
     "name": "stderr",
     "output_type": "stream",
     "text": [
      "495it [00:32, 15.63it/s]"
     ]
    },
    {
     "name": "stdout",
     "output_type": "stream",
     "text": [
      "tensor(292.1628, device='cuda:0', grad_fn=<AddBackward0>)\n",
      "tensor(400.4439, device='cuda:0', grad_fn=<AddBackward0>)\n",
      "tensor(341.2838, device='cuda:0', grad_fn=<AddBackward0>)\n",
      "tensor(275.0044, device='cuda:0', grad_fn=<AddBackward0>)\n"
     ]
    },
    {
     "name": "stderr",
     "output_type": "stream",
     "text": [
      "499it [00:33, 15.68it/s]"
     ]
    },
    {
     "name": "stdout",
     "output_type": "stream",
     "text": [
      "tensor(262.9060, device='cuda:0', grad_fn=<AddBackward0>)\n",
      "tensor(355.1487, device='cuda:0', grad_fn=<AddBackward0>)\n",
      "tensor(456.5865, device='cuda:0', grad_fn=<AddBackward0>)\n",
      "tensor(393.4044, device='cuda:0', grad_fn=<AddBackward0>)\n"
     ]
    },
    {
     "name": "stderr",
     "output_type": "stream",
     "text": [
      "503it [00:33, 15.33it/s]"
     ]
    },
    {
     "name": "stdout",
     "output_type": "stream",
     "text": [
      "tensor(380.9579, device='cuda:0', grad_fn=<AddBackward0>)\n",
      "tensor(284.5094, device='cuda:0', grad_fn=<AddBackward0>)\n",
      "tensor(248.4499, device='cuda:0', grad_fn=<AddBackward0>)\n",
      "tensor(396.1580, device='cuda:0', grad_fn=<AddBackward0>)\n"
     ]
    },
    {
     "name": "stderr",
     "output_type": "stream",
     "text": [
      "507it [00:33, 14.45it/s]"
     ]
    },
    {
     "name": "stdout",
     "output_type": "stream",
     "text": [
      "tensor(189.3248, device='cuda:0', grad_fn=<AddBackward0>)\n",
      "tensor(563.5072, device='cuda:0', grad_fn=<AddBackward0>)\n",
      "tensor(293.1642, device='cuda:0', grad_fn=<AddBackward0>)\n"
     ]
    },
    {
     "name": "stderr",
     "output_type": "stream",
     "text": [
      "509it [00:33, 14.21it/s]"
     ]
    },
    {
     "name": "stdout",
     "output_type": "stream",
     "text": [
      "tensor(631.1021, device='cuda:0', grad_fn=<AddBackward0>)\n",
      "tensor(314.5704, device='cuda:0', grad_fn=<AddBackward0>)\n",
      "tensor(393.1026, device='cuda:0', grad_fn=<AddBackward0>)\n"
     ]
    },
    {
     "name": "stderr",
     "output_type": "stream",
     "text": [
      "513it [00:34, 14.71it/s]"
     ]
    },
    {
     "name": "stdout",
     "output_type": "stream",
     "text": [
      "tensor(438.0287, device='cuda:0', grad_fn=<AddBackward0>)\n",
      "tensor(327.8157, device='cuda:0', grad_fn=<AddBackward0>)\n",
      "tensor(436.1840, device='cuda:0', grad_fn=<AddBackward0>)\n",
      "tensor(328.8827, device='cuda:0', grad_fn=<AddBackward0>)\n"
     ]
    },
    {
     "name": "stderr",
     "output_type": "stream",
     "text": [
      "517it [00:34, 15.19it/s]"
     ]
    },
    {
     "name": "stdout",
     "output_type": "stream",
     "text": [
      "tensor(361.4100, device='cuda:0', grad_fn=<AddBackward0>)\n",
      "tensor(289.0782, device='cuda:0', grad_fn=<AddBackward0>)\n",
      "tensor(456.8914, device='cuda:0', grad_fn=<AddBackward0>)\n",
      "tensor(349.5180, device='cuda:0', grad_fn=<AddBackward0>)\n"
     ]
    },
    {
     "name": "stderr",
     "output_type": "stream",
     "text": [
      "521it [00:34, 15.42it/s]"
     ]
    },
    {
     "name": "stdout",
     "output_type": "stream",
     "text": [
      "tensor(378.7325, device='cuda:0', grad_fn=<AddBackward0>)\n",
      "tensor(311.0313, device='cuda:0', grad_fn=<AddBackward0>)\n",
      "tensor(283.6637, device='cuda:0', grad_fn=<AddBackward0>)\n",
      "tensor(248.0801, device='cuda:0', grad_fn=<AddBackward0>)\n"
     ]
    },
    {
     "name": "stderr",
     "output_type": "stream",
     "text": [
      "525it [00:34, 15.68it/s]"
     ]
    },
    {
     "name": "stdout",
     "output_type": "stream",
     "text": [
      "tensor(242.8103, device='cuda:0', grad_fn=<AddBackward0>)\n",
      "tensor(273.3297, device='cuda:0', grad_fn=<AddBackward0>)\n",
      "tensor(306.8704, device='cuda:0', grad_fn=<AddBackward0>)\n",
      "tensor(294.4961, device='cuda:0', grad_fn=<AddBackward0>)\n"
     ]
    },
    {
     "name": "stderr",
     "output_type": "stream",
     "text": [
      "529it [00:35, 15.34it/s]"
     ]
    },
    {
     "name": "stdout",
     "output_type": "stream",
     "text": [
      "tensor(309.5512, device='cuda:0', grad_fn=<AddBackward0>)\n",
      "tensor(420.4794, device='cuda:0', grad_fn=<AddBackward0>)\n",
      "tensor(260.5021, device='cuda:0', grad_fn=<AddBackward0>)\n"
     ]
    },
    {
     "name": "stderr",
     "output_type": "stream",
     "text": [
      "531it [00:35, 14.70it/s]"
     ]
    },
    {
     "name": "stdout",
     "output_type": "stream",
     "text": [
      "tensor(316.5226, device='cuda:0', grad_fn=<AddBackward0>)\n",
      "tensor(289.5767, device='cuda:0', grad_fn=<AddBackward0>)\n",
      "tensor(312.6671, device='cuda:0', grad_fn=<AddBackward0>)\n",
      "tensor(330.1738, device='cuda:0', grad_fn=<AddBackward0>)\n"
     ]
    },
    {
     "name": "stderr",
     "output_type": "stream",
     "text": [
      "535it [00:35, 15.39it/s]"
     ]
    },
    {
     "name": "stdout",
     "output_type": "stream",
     "text": [
      "tensor(352.6800, device='cuda:0', grad_fn=<AddBackward0>)\n",
      "tensor(370.9207, device='cuda:0', grad_fn=<AddBackward0>)\n",
      "tensor(310.2951, device='cuda:0', grad_fn=<AddBackward0>)\n",
      "tensor(297.4117, device='cuda:0', grad_fn=<AddBackward0>)\n"
     ]
    },
    {
     "name": "stderr",
     "output_type": "stream",
     "text": [
      "539it [00:35, 15.78it/s]"
     ]
    },
    {
     "name": "stdout",
     "output_type": "stream",
     "text": [
      "tensor(354.7423, device='cuda:0', grad_fn=<AddBackward0>)\n",
      "tensor(301.3717, device='cuda:0', grad_fn=<AddBackward0>)\n",
      "tensor(329.7539, device='cuda:0', grad_fn=<AddBackward0>)\n",
      "tensor(319.0621, device='cuda:0', grad_fn=<AddBackward0>)\n"
     ]
    },
    {
     "name": "stderr",
     "output_type": "stream",
     "text": [
      "543it [00:36, 15.85it/s]"
     ]
    },
    {
     "name": "stdout",
     "output_type": "stream",
     "text": [
      "tensor(341.2762, device='cuda:0', grad_fn=<AddBackward0>)\n",
      "tensor(305.2130, device='cuda:0', grad_fn=<AddBackward0>)\n",
      "tensor(323.5638, device='cuda:0', grad_fn=<AddBackward0>)\n",
      "tensor(353.5189, device='cuda:0', grad_fn=<AddBackward0>)\n"
     ]
    },
    {
     "name": "stderr",
     "output_type": "stream",
     "text": [
      "549it [00:36, 16.27it/s]"
     ]
    },
    {
     "name": "stdout",
     "output_type": "stream",
     "text": [
      "tensor(266.9328, device='cuda:0', grad_fn=<AddBackward0>)\n",
      "tensor(371.2367, device='cuda:0', grad_fn=<AddBackward0>)\n",
      "tensor(283.9094, device='cuda:0', grad_fn=<AddBackward0>)\n",
      "tensor(269.9617, device='cuda:0', grad_fn=<AddBackward0>)\n"
     ]
    },
    {
     "name": "stderr",
     "output_type": "stream",
     "text": [
      "551it [00:36, 16.18it/s]"
     ]
    },
    {
     "name": "stdout",
     "output_type": "stream",
     "text": [
      "tensor(291.4072, device='cuda:0', grad_fn=<AddBackward0>)\n",
      "tensor(326.1293, device='cuda:0', grad_fn=<AddBackward0>)\n",
      "tensor(374.6997, device='cuda:0', grad_fn=<AddBackward0>)\n",
      "tensor(310.3296, device='cuda:0', grad_fn=<AddBackward0>)\n"
     ]
    },
    {
     "name": "stderr",
     "output_type": "stream",
     "text": [
      "555it [00:36, 16.06it/s]"
     ]
    },
    {
     "name": "stdout",
     "output_type": "stream",
     "text": [
      "tensor(253.0813, device='cuda:0', grad_fn=<AddBackward0>)\n",
      "tensor(349.2271, device='cuda:0', grad_fn=<AddBackward0>)\n",
      "tensor(246.8873, device='cuda:0', grad_fn=<AddBackward0>)\n",
      "tensor(279.6831, device='cuda:0', grad_fn=<AddBackward0>)\n"
     ]
    },
    {
     "name": "stderr",
     "output_type": "stream",
     "text": [
      "559it [00:37, 16.03it/s]"
     ]
    },
    {
     "name": "stdout",
     "output_type": "stream",
     "text": [
      "tensor(265.6349, device='cuda:0', grad_fn=<AddBackward0>)\n",
      "tensor(350.1528, device='cuda:0', grad_fn=<AddBackward0>)\n",
      "tensor(215.4879, device='cuda:0', grad_fn=<AddBackward0>)\n",
      "tensor(291.6990, device='cuda:0', grad_fn=<AddBackward0>)\n"
     ]
    },
    {
     "name": "stderr",
     "output_type": "stream",
     "text": [
      "565it [00:37, 16.23it/s]"
     ]
    },
    {
     "name": "stdout",
     "output_type": "stream",
     "text": [
      "tensor(285.2401, device='cuda:0', grad_fn=<AddBackward0>)\n",
      "tensor(343.6558, device='cuda:0', grad_fn=<AddBackward0>)\n",
      "tensor(283.4324, device='cuda:0', grad_fn=<AddBackward0>)\n",
      "tensor(347.5347, device='cuda:0', grad_fn=<AddBackward0>)\n"
     ]
    },
    {
     "name": "stderr",
     "output_type": "stream",
     "text": [
      "569it [00:37, 16.40it/s]"
     ]
    },
    {
     "name": "stdout",
     "output_type": "stream",
     "text": [
      "tensor(320.7827, device='cuda:0', grad_fn=<AddBackward0>)\n",
      "tensor(421.7098, device='cuda:0', grad_fn=<AddBackward0>)\n",
      "tensor(412.4983, device='cuda:0', grad_fn=<AddBackward0>)\n",
      "tensor(276.4727, device='cuda:0', grad_fn=<AddBackward0>)\n"
     ]
    },
    {
     "name": "stderr",
     "output_type": "stream",
     "text": [
      "571it [00:37, 16.16it/s]"
     ]
    },
    {
     "name": "stdout",
     "output_type": "stream",
     "text": [
      "tensor(392.7593, device='cuda:0', grad_fn=<AddBackward0>)\n",
      "tensor(251.5743, device='cuda:0', grad_fn=<AddBackward0>)\n",
      "tensor(263.1223, device='cuda:0', grad_fn=<AddBackward0>)\n",
      "tensor(283.4583, device='cuda:0', grad_fn=<AddBackward0>)\n"
     ]
    },
    {
     "name": "stderr",
     "output_type": "stream",
     "text": [
      "575it [00:37, 16.06it/s]"
     ]
    },
    {
     "name": "stdout",
     "output_type": "stream",
     "text": [
      "tensor(342.9337, device='cuda:0', grad_fn=<AddBackward0>)\n",
      "tensor(238.9261, device='cuda:0', grad_fn=<AddBackward0>)\n",
      "tensor(360.2924, device='cuda:0', grad_fn=<AddBackward0>)\n",
      "tensor(273.0578, device='cuda:0', grad_fn=<AddBackward0>)\n"
     ]
    },
    {
     "name": "stderr",
     "output_type": "stream",
     "text": [
      "581it [00:38, 16.44it/s]"
     ]
    },
    {
     "name": "stdout",
     "output_type": "stream",
     "text": [
      "tensor(359.5601, device='cuda:0', grad_fn=<AddBackward0>)\n",
      "tensor(358.5531, device='cuda:0', grad_fn=<AddBackward0>)\n",
      "tensor(261.1196, device='cuda:0', grad_fn=<AddBackward0>)\n",
      "tensor(286.5778, device='cuda:0', grad_fn=<AddBackward0>)\n"
     ]
    },
    {
     "name": "stderr",
     "output_type": "stream",
     "text": [
      "583it [00:38, 16.17it/s]"
     ]
    },
    {
     "name": "stdout",
     "output_type": "stream",
     "text": [
      "tensor(366.3787, device='cuda:0', grad_fn=<AddBackward0>)\n",
      "tensor(328.7176, device='cuda:0', grad_fn=<AddBackward0>)\n",
      "tensor(228.1001, device='cuda:0', grad_fn=<AddBackward0>)\n",
      "tensor(558.0916, device='cuda:0', grad_fn=<AddBackward0>)\n"
     ]
    },
    {
     "name": "stderr",
     "output_type": "stream",
     "text": [
      "587it [00:38, 16.10it/s]"
     ]
    },
    {
     "name": "stdout",
     "output_type": "stream",
     "text": [
      "tensor(281.6273, device='cuda:0', grad_fn=<AddBackward0>)\n",
      "tensor(377.0594, device='cuda:0', grad_fn=<AddBackward0>)\n",
      "tensor(354.0087, device='cuda:0', grad_fn=<AddBackward0>)\n",
      "tensor(448.6347, device='cuda:0', grad_fn=<AddBackward0>)\n"
     ]
    },
    {
     "name": "stderr",
     "output_type": "stream",
     "text": [
      "591it [00:38, 16.06it/s]"
     ]
    },
    {
     "name": "stdout",
     "output_type": "stream",
     "text": [
      "tensor(352.5568, device='cuda:0', grad_fn=<AddBackward0>)\n",
      "tensor(335.2564, device='cuda:0', grad_fn=<AddBackward0>)\n",
      "tensor(254.5860, device='cuda:0', grad_fn=<AddBackward0>)\n",
      "tensor(345.7545, device='cuda:0', grad_fn=<AddBackward0>)\n"
     ]
    },
    {
     "name": "stderr",
     "output_type": "stream",
     "text": [
      "597it [00:39, 16.19it/s]"
     ]
    },
    {
     "name": "stdout",
     "output_type": "stream",
     "text": [
      "tensor(385.5489, device='cuda:0', grad_fn=<AddBackward0>)\n",
      "tensor(241.0779, device='cuda:0', grad_fn=<AddBackward0>)\n",
      "tensor(361.2034, device='cuda:0', grad_fn=<AddBackward0>)\n",
      "tensor(269.7247, device='cuda:0', grad_fn=<AddBackward0>)\n"
     ]
    },
    {
     "name": "stderr",
     "output_type": "stream",
     "text": [
      "599it [00:39, 15.43it/s]"
     ]
    },
    {
     "name": "stdout",
     "output_type": "stream",
     "text": [
      "tensor(311.0571, device='cuda:0', grad_fn=<AddBackward0>)\n",
      "tensor(263.1572, device='cuda:0', grad_fn=<AddBackward0>)\n",
      "tensor(263.2504, device='cuda:0', grad_fn=<AddBackward0>)\n",
      "tensor(249.4685, device='cuda:0', grad_fn=<AddBackward0>)\n"
     ]
    },
    {
     "name": "stderr",
     "output_type": "stream",
     "text": [
      "603it [00:39, 15.67it/s]"
     ]
    },
    {
     "name": "stdout",
     "output_type": "stream",
     "text": [
      "tensor(373.6793, device='cuda:0', grad_fn=<AddBackward0>)\n",
      "tensor(170.1783, device='cuda:0', grad_fn=<AddBackward0>)\n",
      "tensor(330.7147, device='cuda:0', grad_fn=<AddBackward0>)\n",
      "tensor(281.3204, device='cuda:0', grad_fn=<AddBackward0>)\n"
     ]
    },
    {
     "name": "stderr",
     "output_type": "stream",
     "text": [
      "607it [00:40, 15.28it/s]"
     ]
    },
    {
     "name": "stdout",
     "output_type": "stream",
     "text": [
      "tensor(284.2026, device='cuda:0', grad_fn=<AddBackward0>)\n",
      "tensor(386.8872, device='cuda:0', grad_fn=<AddBackward0>)\n",
      "tensor(333.2919, device='cuda:0', grad_fn=<AddBackward0>)\n",
      "tensor(276.3490, device='cuda:0', grad_fn=<AddBackward0>)\n"
     ]
    },
    {
     "name": "stderr",
     "output_type": "stream",
     "text": [
      "611it [00:40, 15.58it/s]"
     ]
    },
    {
     "name": "stdout",
     "output_type": "stream",
     "text": [
      "tensor(237.9394, device='cuda:0', grad_fn=<AddBackward0>)\n",
      "tensor(245.3562, device='cuda:0', grad_fn=<AddBackward0>)\n",
      "tensor(237.1068, device='cuda:0', grad_fn=<AddBackward0>)\n",
      "tensor(236.7042, device='cuda:0', grad_fn=<AddBackward0>)\n"
     ]
    },
    {
     "name": "stderr",
     "output_type": "stream",
     "text": [
      "615it [00:40, 15.82it/s]"
     ]
    },
    {
     "name": "stdout",
     "output_type": "stream",
     "text": [
      "tensor(290.3463, device='cuda:0', grad_fn=<AddBackward0>)\n",
      "tensor(281.6060, device='cuda:0', grad_fn=<AddBackward0>)\n",
      "tensor(296.4920, device='cuda:0', grad_fn=<AddBackward0>)\n",
      "tensor(343.3797, device='cuda:0', grad_fn=<AddBackward0>)\n"
     ]
    },
    {
     "name": "stderr",
     "output_type": "stream",
     "text": [
      "619it [00:40, 15.98it/s]"
     ]
    },
    {
     "name": "stdout",
     "output_type": "stream",
     "text": [
      "tensor(253.8589, device='cuda:0', grad_fn=<AddBackward0>)\n",
      "tensor(431.1011, device='cuda:0', grad_fn=<AddBackward0>)\n",
      "tensor(340.8483, device='cuda:0', grad_fn=<AddBackward0>)\n",
      "tensor(253.6284, device='cuda:0', grad_fn=<AddBackward0>)\n"
     ]
    },
    {
     "name": "stderr",
     "output_type": "stream",
     "text": [
      "625it [00:41, 16.24it/s]"
     ]
    },
    {
     "name": "stdout",
     "output_type": "stream",
     "text": [
      "tensor(244.7534, device='cuda:0', grad_fn=<AddBackward0>)\n",
      "tensor(220.2194, device='cuda:0', grad_fn=<AddBackward0>)\n",
      "tensor(262.7211, device='cuda:0', grad_fn=<AddBackward0>)\n",
      "tensor(374.0187, device='cuda:0', grad_fn=<AddBackward0>)\n"
     ]
    },
    {
     "name": "stderr",
     "output_type": "stream",
     "text": [
      "629it [00:41, 16.35it/s]"
     ]
    },
    {
     "name": "stdout",
     "output_type": "stream",
     "text": [
      "tensor(249.0962, device='cuda:0', grad_fn=<AddBackward0>)\n",
      "tensor(339.7116, device='cuda:0', grad_fn=<AddBackward0>)\n",
      "tensor(215.9915, device='cuda:0', grad_fn=<AddBackward0>)\n",
      "tensor(224.0887, device='cuda:0', grad_fn=<AddBackward0>)\n"
     ]
    },
    {
     "name": "stderr",
     "output_type": "stream",
     "text": [
      "631it [00:41, 15.95it/s]"
     ]
    },
    {
     "name": "stdout",
     "output_type": "stream",
     "text": [
      "tensor(308.0970, device='cuda:0', grad_fn=<AddBackward0>)\n",
      "tensor(347.8630, device='cuda:0', grad_fn=<AddBackward0>)\n",
      "tensor(313.2977, device='cuda:0', grad_fn=<AddBackward0>)\n",
      "tensor(255.5175, device='cuda:0', grad_fn=<AddBackward0>)\n"
     ]
    },
    {
     "name": "stderr",
     "output_type": "stream",
     "text": [
      "637it [00:41, 16.11it/s]"
     ]
    },
    {
     "name": "stdout",
     "output_type": "stream",
     "text": [
      "tensor(353.7314, device='cuda:0', grad_fn=<AddBackward0>)\n",
      "tensor(233.5196, device='cuda:0', grad_fn=<AddBackward0>)\n",
      "tensor(286.4824, device='cuda:0', grad_fn=<AddBackward0>)\n",
      "tensor(258.9041, device='cuda:0', grad_fn=<AddBackward0>)\n"
     ]
    },
    {
     "name": "stderr",
     "output_type": "stream",
     "text": [
      "639it [00:42, 16.10it/s]"
     ]
    },
    {
     "name": "stdout",
     "output_type": "stream",
     "text": [
      "tensor(458.7408, device='cuda:0', grad_fn=<AddBackward0>)\n",
      "tensor(261.0658, device='cuda:0', grad_fn=<AddBackward0>)\n"
     ]
    },
    {
     "name": "stderr",
     "output_type": "stream",
     "text": [
      "641it [00:42, 11.96it/s]"
     ]
    },
    {
     "name": "stdout",
     "output_type": "stream",
     "text": [
      "tensor(361.2457, device='cuda:0', grad_fn=<AddBackward0>)\n",
      "tensor(348.4172, device='cuda:0', grad_fn=<AddBackward0>)\n",
      "tensor(395.4294, device='cuda:0', grad_fn=<AddBackward0>)\n",
      "tensor(359.2565, device='cuda:0', grad_fn=<AddBackward0>)\n"
     ]
    },
    {
     "name": "stderr",
     "output_type": "stream",
     "text": [
      "645it [00:42, 12.57it/s]"
     ]
    },
    {
     "name": "stdout",
     "output_type": "stream",
     "text": [
      "tensor(263.4095, device='cuda:0', grad_fn=<AddBackward0>)\n",
      "tensor(385.8137, device='cuda:0', grad_fn=<AddBackward0>)\n",
      "tensor(289.4062, device='cuda:0', grad_fn=<AddBackward0>)\n"
     ]
    },
    {
     "name": "stderr",
     "output_type": "stream",
     "text": [
      "649it [00:42, 13.86it/s]"
     ]
    },
    {
     "name": "stdout",
     "output_type": "stream",
     "text": [
      "tensor(353.7058, device='cuda:0', grad_fn=<AddBackward0>)\n",
      "tensor(331.7981, device='cuda:0', grad_fn=<AddBackward0>)\n",
      "tensor(269.6472, device='cuda:0', grad_fn=<AddBackward0>)\n",
      "tensor(239.2024, device='cuda:0', grad_fn=<AddBackward0>)\n"
     ]
    },
    {
     "name": "stderr",
     "output_type": "stream",
     "text": [
      "653it [00:43, 14.52it/s]"
     ]
    },
    {
     "name": "stdout",
     "output_type": "stream",
     "text": [
      "tensor(294.5697, device='cuda:0', grad_fn=<AddBackward0>)\n",
      "tensor(249.7217, device='cuda:0', grad_fn=<AddBackward0>)\n",
      "tensor(227.4349, device='cuda:0', grad_fn=<AddBackward0>)\n",
      "tensor(278.9702, device='cuda:0', grad_fn=<AddBackward0>)\n"
     ]
    },
    {
     "name": "stderr",
     "output_type": "stream",
     "text": [
      "657it [00:43, 14.73it/s]"
     ]
    },
    {
     "name": "stdout",
     "output_type": "stream",
     "text": [
      "tensor(364.2569, device='cuda:0', grad_fn=<AddBackward0>)\n",
      "tensor(219.2636, device='cuda:0', grad_fn=<AddBackward0>)\n",
      "tensor(293.2292, device='cuda:0', grad_fn=<AddBackward0>)\n",
      "tensor(223.5034, device='cuda:0', grad_fn=<AddBackward0>)\n"
     ]
    },
    {
     "name": "stderr",
     "output_type": "stream",
     "text": [
      "661it [00:43, 15.30it/s]"
     ]
    },
    {
     "name": "stdout",
     "output_type": "stream",
     "text": [
      "tensor(229.5235, device='cuda:0', grad_fn=<AddBackward0>)\n",
      "tensor(237.7705, device='cuda:0', grad_fn=<AddBackward0>)\n",
      "tensor(261.7500, device='cuda:0', grad_fn=<AddBackward0>)\n",
      "tensor(327.2244, device='cuda:0', grad_fn=<AddBackward0>)\n"
     ]
    },
    {
     "name": "stderr",
     "output_type": "stream",
     "text": [
      "665it [00:43, 14.99it/s]"
     ]
    },
    {
     "name": "stdout",
     "output_type": "stream",
     "text": [
      "tensor(281.0466, device='cuda:0', grad_fn=<AddBackward0>)\n",
      "tensor(212.2482, device='cuda:0', grad_fn=<AddBackward0>)\n",
      "tensor(191.8216, device='cuda:0', grad_fn=<AddBackward0>)\n",
      "tensor(340.8764, device='cuda:0', grad_fn=<AddBackward0>)\n"
     ]
    },
    {
     "name": "stderr",
     "output_type": "stream",
     "text": [
      "669it [00:44, 14.79it/s]"
     ]
    },
    {
     "name": "stdout",
     "output_type": "stream",
     "text": [
      "tensor(225.6197, device='cuda:0', grad_fn=<AddBackward0>)\n",
      "tensor(239.1460, device='cuda:0', grad_fn=<AddBackward0>)\n",
      "tensor(316.7791, device='cuda:0', grad_fn=<AddBackward0>)\n",
      "tensor(376.1299, device='cuda:0', grad_fn=<AddBackward0>)\n"
     ]
    },
    {
     "name": "stderr",
     "output_type": "stream",
     "text": [
      "673it [00:44, 15.11it/s]"
     ]
    },
    {
     "name": "stdout",
     "output_type": "stream",
     "text": [
      "tensor(279.4473, device='cuda:0', grad_fn=<AddBackward0>)\n",
      "tensor(402.6688, device='cuda:0', grad_fn=<AddBackward0>)\n",
      "tensor(228.7798, device='cuda:0', grad_fn=<AddBackward0>)\n",
      "tensor(301.7745, device='cuda:0', grad_fn=<AddBackward0>)\n"
     ]
    },
    {
     "name": "stderr",
     "output_type": "stream",
     "text": [
      "677it [00:44, 15.30it/s]"
     ]
    },
    {
     "name": "stdout",
     "output_type": "stream",
     "text": [
      "tensor(365.5135, device='cuda:0', grad_fn=<AddBackward0>)\n",
      "tensor(315.2047, device='cuda:0', grad_fn=<AddBackward0>)\n",
      "tensor(211.4940, device='cuda:0', grad_fn=<AddBackward0>)\n",
      "tensor(343.6705, device='cuda:0', grad_fn=<AddBackward0>)\n"
     ]
    },
    {
     "name": "stderr",
     "output_type": "stream",
     "text": [
      "681it [00:44, 14.70it/s]"
     ]
    },
    {
     "name": "stdout",
     "output_type": "stream",
     "text": [
      "tensor(302.7037, device='cuda:0', grad_fn=<AddBackward0>)\n",
      "tensor(378.0760, device='cuda:0', grad_fn=<AddBackward0>)\n",
      "tensor(245.1370, device='cuda:0', grad_fn=<AddBackward0>)\n"
     ]
    },
    {
     "name": "stderr",
     "output_type": "stream",
     "text": [
      "683it [00:45, 14.85it/s]"
     ]
    },
    {
     "name": "stdout",
     "output_type": "stream",
     "text": [
      "tensor(461.6987, device='cuda:0', grad_fn=<AddBackward0>)\n",
      "tensor(313.2652, device='cuda:0', grad_fn=<AddBackward0>)\n",
      "tensor(413.0666, device='cuda:0', grad_fn=<AddBackward0>)\n"
     ]
    },
    {
     "name": "stderr",
     "output_type": "stream",
     "text": [
      "687it [00:45, 14.60it/s]"
     ]
    },
    {
     "name": "stdout",
     "output_type": "stream",
     "text": [
      "tensor(319.3394, device='cuda:0', grad_fn=<AddBackward0>)\n",
      "tensor(326.4094, device='cuda:0', grad_fn=<AddBackward0>)\n",
      "tensor(226.7549, device='cuda:0', grad_fn=<AddBackward0>)\n",
      "tensor(231.1246, device='cuda:0', grad_fn=<AddBackward0>)\n"
     ]
    },
    {
     "name": "stderr",
     "output_type": "stream",
     "text": [
      "691it [00:45, 15.24it/s]"
     ]
    },
    {
     "name": "stdout",
     "output_type": "stream",
     "text": [
      "tensor(312.8046, device='cuda:0', grad_fn=<AddBackward0>)\n",
      "tensor(167.8581, device='cuda:0', grad_fn=<AddBackward0>)\n",
      "tensor(352.6415, device='cuda:0', grad_fn=<AddBackward0>)\n",
      "tensor(342.3008, device='cuda:0', grad_fn=<AddBackward0>)\n"
     ]
    },
    {
     "name": "stderr",
     "output_type": "stream",
     "text": [
      "695it [00:45, 15.37it/s]"
     ]
    },
    {
     "name": "stdout",
     "output_type": "stream",
     "text": [
      "tensor(421.3668, device='cuda:0', grad_fn=<AddBackward0>)\n",
      "tensor(239.7955, device='cuda:0', grad_fn=<AddBackward0>)\n",
      "tensor(289.6153, device='cuda:0', grad_fn=<AddBackward0>)\n",
      "tensor(329.4804, device='cuda:0', grad_fn=<AddBackward0>)\n"
     ]
    },
    {
     "name": "stderr",
     "output_type": "stream",
     "text": [
      "699it [00:46, 15.57it/s]"
     ]
    },
    {
     "name": "stdout",
     "output_type": "stream",
     "text": [
      "tensor(365.3841, device='cuda:0', grad_fn=<AddBackward0>)\n",
      "tensor(249.5874, device='cuda:0', grad_fn=<AddBackward0>)\n",
      "tensor(242.2276, device='cuda:0', grad_fn=<AddBackward0>)\n",
      "tensor(563.8187, device='cuda:0', grad_fn=<AddBackward0>)\n"
     ]
    },
    {
     "name": "stderr",
     "output_type": "stream",
     "text": [
      "703it [00:46, 15.78it/s]"
     ]
    },
    {
     "name": "stdout",
     "output_type": "stream",
     "text": [
      "tensor(419.0063, device='cuda:0', grad_fn=<AddBackward0>)\n",
      "tensor(257.5706, device='cuda:0', grad_fn=<AddBackward0>)\n",
      "tensor(409.1899, device='cuda:0', grad_fn=<AddBackward0>)\n",
      "tensor(239.5780, device='cuda:0', grad_fn=<AddBackward0>)\n"
     ]
    },
    {
     "name": "stderr",
     "output_type": "stream",
     "text": [
      "707it [00:46, 15.39it/s]"
     ]
    },
    {
     "name": "stdout",
     "output_type": "stream",
     "text": [
      "tensor(253.0989, device='cuda:0', grad_fn=<AddBackward0>)\n",
      "tensor(227.1892, device='cuda:0', grad_fn=<AddBackward0>)\n",
      "tensor(284.0348, device='cuda:0', grad_fn=<AddBackward0>)\n",
      "tensor(278.8895, device='cuda:0', grad_fn=<AddBackward0>)\n"
     ]
    },
    {
     "name": "stderr",
     "output_type": "stream",
     "text": [
      "711it [00:46, 15.33it/s]"
     ]
    },
    {
     "name": "stdout",
     "output_type": "stream",
     "text": [
      "tensor(281.6690, device='cuda:0', grad_fn=<AddBackward0>)\n",
      "tensor(261.0610, device='cuda:0', grad_fn=<AddBackward0>)\n",
      "tensor(234.9705, device='cuda:0', grad_fn=<AddBackward0>)\n",
      "tensor(280.8337, device='cuda:0', grad_fn=<AddBackward0>)\n"
     ]
    },
    {
     "name": "stderr",
     "output_type": "stream",
     "text": [
      "715it [00:47, 15.11it/s]"
     ]
    },
    {
     "name": "stdout",
     "output_type": "stream",
     "text": [
      "tensor(328.1785, device='cuda:0', grad_fn=<AddBackward0>)\n",
      "tensor(318.8009, device='cuda:0', grad_fn=<AddBackward0>)\n",
      "tensor(325.0201, device='cuda:0', grad_fn=<AddBackward0>)\n",
      "tensor(302.5415, device='cuda:0', grad_fn=<AddBackward0>)\n"
     ]
    },
    {
     "name": "stderr",
     "output_type": "stream",
     "text": [
      "717it [00:47, 15.19it/s]"
     ]
    },
    {
     "name": "stdout",
     "output_type": "stream",
     "text": [
      "tensor(251.2227, device='cuda:0', grad_fn=<AddBackward0>)\n",
      "tensor(372.8504, device='cuda:0', grad_fn=<AddBackward0>)\n"
     ]
    },
    {
     "name": "stderr",
     "output_type": "stream",
     "text": [
      "721it [00:47, 13.02it/s]"
     ]
    },
    {
     "name": "stdout",
     "output_type": "stream",
     "text": [
      "tensor(423.7134, device='cuda:0', grad_fn=<AddBackward0>)\n",
      "tensor(268.9946, device='cuda:0', grad_fn=<AddBackward0>)\n",
      "tensor(304.4412, device='cuda:0', grad_fn=<AddBackward0>)\n",
      "tensor(275.7175, device='cuda:0', grad_fn=<AddBackward0>)\n"
     ]
    },
    {
     "name": "stderr",
     "output_type": "stream",
     "text": [
      "725it [00:47, 14.21it/s]"
     ]
    },
    {
     "name": "stdout",
     "output_type": "stream",
     "text": [
      "tensor(257.0884, device='cuda:0', grad_fn=<AddBackward0>)\n",
      "tensor(261.4658, device='cuda:0', grad_fn=<AddBackward0>)\n",
      "tensor(270.0152, device='cuda:0', grad_fn=<AddBackward0>)\n",
      "tensor(255.5893, device='cuda:0', grad_fn=<AddBackward0>)\n"
     ]
    },
    {
     "name": "stderr",
     "output_type": "stream",
     "text": [
      "729it [00:48, 14.69it/s]"
     ]
    },
    {
     "name": "stdout",
     "output_type": "stream",
     "text": [
      "tensor(315.7757, device='cuda:0', grad_fn=<AddBackward0>)\n",
      "tensor(344.3719, device='cuda:0', grad_fn=<AddBackward0>)\n",
      "tensor(322.8465, device='cuda:0', grad_fn=<AddBackward0>)\n",
      "tensor(265.9310, device='cuda:0', grad_fn=<AddBackward0>)\n"
     ]
    },
    {
     "name": "stderr",
     "output_type": "stream",
     "text": [
      "733it [00:48, 14.66it/s]"
     ]
    },
    {
     "name": "stdout",
     "output_type": "stream",
     "text": [
      "tensor(325.8860, device='cuda:0', grad_fn=<AddBackward0>)\n",
      "tensor(192.1679, device='cuda:0', grad_fn=<AddBackward0>)\n",
      "tensor(252.5795, device='cuda:0', grad_fn=<AddBackward0>)\n",
      "tensor(292.6814, device='cuda:0', grad_fn=<AddBackward0>)\n"
     ]
    },
    {
     "name": "stderr",
     "output_type": "stream",
     "text": [
      "737it [00:48, 15.17it/s]"
     ]
    },
    {
     "name": "stdout",
     "output_type": "stream",
     "text": [
      "tensor(280.2203, device='cuda:0', grad_fn=<AddBackward0>)\n",
      "tensor(268.9189, device='cuda:0', grad_fn=<AddBackward0>)\n",
      "tensor(349.4886, device='cuda:0', grad_fn=<AddBackward0>)\n",
      "tensor(215.9686, device='cuda:0', grad_fn=<AddBackward0>)\n"
     ]
    },
    {
     "name": "stderr",
     "output_type": "stream",
     "text": [
      "741it [00:48, 14.83it/s]"
     ]
    },
    {
     "name": "stdout",
     "output_type": "stream",
     "text": [
      "tensor(441.5839, device='cuda:0', grad_fn=<AddBackward0>)\n",
      "tensor(266.5524, device='cuda:0', grad_fn=<AddBackward0>)\n",
      "tensor(380.3017, device='cuda:0', grad_fn=<AddBackward0>)\n",
      "tensor(317.8710, device='cuda:0', grad_fn=<AddBackward0>)\n"
     ]
    },
    {
     "name": "stderr",
     "output_type": "stream",
     "text": [
      "745it [00:49, 15.14it/s]"
     ]
    },
    {
     "name": "stdout",
     "output_type": "stream",
     "text": [
      "tensor(391.8340, device='cuda:0', grad_fn=<AddBackward0>)\n",
      "tensor(404.9443, device='cuda:0', grad_fn=<AddBackward0>)\n",
      "tensor(271.7937, device='cuda:0', grad_fn=<AddBackward0>)\n",
      "tensor(296.6899, device='cuda:0', grad_fn=<AddBackward0>)\n"
     ]
    },
    {
     "name": "stderr",
     "output_type": "stream",
     "text": [
      "749it [00:49, 14.85it/s]"
     ]
    },
    {
     "name": "stdout",
     "output_type": "stream",
     "text": [
      "tensor(237.8308, device='cuda:0', grad_fn=<AddBackward0>)\n",
      "tensor(358.7126, device='cuda:0', grad_fn=<AddBackward0>)\n",
      "tensor(355.2383, device='cuda:0', grad_fn=<AddBackward0>)\n",
      "tensor(506.2969, device='cuda:0', grad_fn=<AddBackward0>)\n"
     ]
    },
    {
     "name": "stderr",
     "output_type": "stream",
     "text": [
      "753it [00:49, 15.20it/s]"
     ]
    },
    {
     "name": "stdout",
     "output_type": "stream",
     "text": [
      "tensor(292.2364, device='cuda:0', grad_fn=<AddBackward0>)\n",
      "tensor(285.2061, device='cuda:0', grad_fn=<AddBackward0>)\n",
      "tensor(297.6743, device='cuda:0', grad_fn=<AddBackward0>)\n",
      "tensor(359.8162, device='cuda:0', grad_fn=<AddBackward0>)\n"
     ]
    },
    {
     "name": "stderr",
     "output_type": "stream",
     "text": [
      "757it [00:50, 15.58it/s]"
     ]
    },
    {
     "name": "stdout",
     "output_type": "stream",
     "text": [
      "tensor(259.2933, device='cuda:0', grad_fn=<AddBackward0>)\n",
      "tensor(282.0698, device='cuda:0', grad_fn=<AddBackward0>)\n",
      "tensor(294.0890, device='cuda:0', grad_fn=<AddBackward0>)\n",
      "tensor(290.2313, device='cuda:0', grad_fn=<AddBackward0>)\n"
     ]
    },
    {
     "name": "stderr",
     "output_type": "stream",
     "text": [
      "759it [00:50, 15.70it/s]"
     ]
    },
    {
     "name": "stdout",
     "output_type": "stream",
     "text": [
      "tensor(273.2413, device='cuda:0', grad_fn=<AddBackward0>)\n",
      "tensor(350.4543, device='cuda:0', grad_fn=<AddBackward0>)\n"
     ]
    },
    {
     "name": "stderr",
     "output_type": "stream",
     "text": [
      "763it [00:50, 13.18it/s]"
     ]
    },
    {
     "name": "stdout",
     "output_type": "stream",
     "text": [
      "tensor(216.5490, device='cuda:0', grad_fn=<AddBackward0>)\n",
      "tensor(332.2501, device='cuda:0', grad_fn=<AddBackward0>)\n",
      "tensor(303.4240, device='cuda:0', grad_fn=<AddBackward0>)\n"
     ]
    },
    {
     "name": "stderr",
     "output_type": "stream",
     "text": [
      "765it [00:50, 13.63it/s]"
     ]
    },
    {
     "name": "stdout",
     "output_type": "stream",
     "text": [
      "tensor(240.2211, device='cuda:0', grad_fn=<AddBackward0>)\n",
      "tensor(313.1019, device='cuda:0', grad_fn=<AddBackward0>)\n",
      "tensor(229.7950, device='cuda:0', grad_fn=<AddBackward0>)\n"
     ]
    },
    {
     "name": "stderr",
     "output_type": "stream",
     "text": [
      "769it [00:50, 14.04it/s]"
     ]
    },
    {
     "name": "stdout",
     "output_type": "stream",
     "text": [
      "tensor(233.8354, device='cuda:0', grad_fn=<AddBackward0>)\n",
      "tensor(411.4707, device='cuda:0', grad_fn=<AddBackward0>)\n",
      "tensor(260.6009, device='cuda:0', grad_fn=<AddBackward0>)\n",
      "tensor(346.6168, device='cuda:0', grad_fn=<AddBackward0>)\n"
     ]
    },
    {
     "name": "stderr",
     "output_type": "stream",
     "text": [
      "773it [00:51, 14.57it/s]"
     ]
    },
    {
     "name": "stdout",
     "output_type": "stream",
     "text": [
      "tensor(353.4944, device='cuda:0', grad_fn=<AddBackward0>)\n",
      "tensor(306.7331, device='cuda:0', grad_fn=<AddBackward0>)\n",
      "tensor(309.8409, device='cuda:0', grad_fn=<AddBackward0>)\n",
      "tensor(355.1360, device='cuda:0', grad_fn=<AddBackward0>)\n"
     ]
    },
    {
     "name": "stderr",
     "output_type": "stream",
     "text": [
      "777it [00:51, 15.12it/s]"
     ]
    },
    {
     "name": "stdout",
     "output_type": "stream",
     "text": [
      "tensor(236.7466, device='cuda:0', grad_fn=<AddBackward0>)\n",
      "tensor(256.3717, device='cuda:0', grad_fn=<AddBackward0>)\n",
      "tensor(272.7652, device='cuda:0', grad_fn=<AddBackward0>)\n",
      "tensor(354.9927, device='cuda:0', grad_fn=<AddBackward0>)\n"
     ]
    },
    {
     "name": "stderr",
     "output_type": "stream",
     "text": [
      "781it [00:51, 15.35it/s]"
     ]
    },
    {
     "name": "stdout",
     "output_type": "stream",
     "text": [
      "tensor(285.7369, device='cuda:0', grad_fn=<AddBackward0>)\n",
      "tensor(202.4923, device='cuda:0', grad_fn=<AddBackward0>)\n",
      "tensor(276.7139, device='cuda:0', grad_fn=<AddBackward0>)\n",
      "tensor(230.9146, device='cuda:0', grad_fn=<AddBackward0>)\n"
     ]
    },
    {
     "name": "stderr",
     "output_type": "stream",
     "text": [
      "785it [00:51, 14.55it/s]"
     ]
    },
    {
     "name": "stdout",
     "output_type": "stream",
     "text": [
      "tensor(346.4974, device='cuda:0', grad_fn=<AddBackward0>)\n",
      "tensor(270.1840, device='cuda:0', grad_fn=<AddBackward0>)\n",
      "tensor(471.5731, device='cuda:0', grad_fn=<AddBackward0>)\n"
     ]
    },
    {
     "name": "stderr",
     "output_type": "stream",
     "text": [
      "787it [00:52, 14.16it/s]"
     ]
    },
    {
     "name": "stdout",
     "output_type": "stream",
     "text": [
      "tensor(161.2720, device='cuda:0', grad_fn=<AddBackward0>)\n",
      "tensor(302.9932, device='cuda:0', grad_fn=<AddBackward0>)\n",
      "tensor(284.1818, device='cuda:0', grad_fn=<AddBackward0>)\n"
     ]
    },
    {
     "name": "stderr",
     "output_type": "stream",
     "text": [
      "791it [00:52, 14.34it/s]"
     ]
    },
    {
     "name": "stdout",
     "output_type": "stream",
     "text": [
      "tensor(301.2980, device='cuda:0', grad_fn=<AddBackward0>)\n",
      "tensor(354.3460, device='cuda:0', grad_fn=<AddBackward0>)\n",
      "tensor(237.5361, device='cuda:0', grad_fn=<AddBackward0>)\n"
     ]
    },
    {
     "name": "stderr",
     "output_type": "stream",
     "text": [
      "793it [00:52, 14.60it/s]"
     ]
    },
    {
     "name": "stdout",
     "output_type": "stream",
     "text": [
      "tensor(272.9639, device='cuda:0', grad_fn=<AddBackward0>)\n",
      "tensor(320.9219, device='cuda:0', grad_fn=<AddBackward0>)\n",
      "tensor(192.9895, device='cuda:0', grad_fn=<AddBackward0>)\n",
      "tensor(247.1434, device='cuda:0', grad_fn=<AddBackward0>)\n"
     ]
    },
    {
     "name": "stderr",
     "output_type": "stream",
     "text": [
      "797it [00:52, 13.80it/s]"
     ]
    },
    {
     "name": "stdout",
     "output_type": "stream",
     "text": [
      "tensor(231.3172, device='cuda:0', grad_fn=<AddBackward0>)\n",
      "tensor(407.0428, device='cuda:0', grad_fn=<AddBackward0>)\n",
      "tensor(303.2082, device='cuda:0', grad_fn=<AddBackward0>)\n"
     ]
    },
    {
     "name": "stderr",
     "output_type": "stream",
     "text": [
      "801it [00:53, 14.38it/s]"
     ]
    },
    {
     "name": "stdout",
     "output_type": "stream",
     "text": [
      "tensor(275.3188, device='cuda:0', grad_fn=<AddBackward0>)\n",
      "tensor(272.8160, device='cuda:0', grad_fn=<AddBackward0>)\n",
      "tensor(283.8802, device='cuda:0', grad_fn=<AddBackward0>)\n",
      "tensor(295.6114, device='cuda:0', grad_fn=<AddBackward0>)\n"
     ]
    },
    {
     "name": "stderr",
     "output_type": "stream",
     "text": [
      "805it [00:53, 13.71it/s]"
     ]
    },
    {
     "name": "stdout",
     "output_type": "stream",
     "text": [
      "tensor(362.6950, device='cuda:0', grad_fn=<AddBackward0>)\n",
      "tensor(207.1415, device='cuda:0', grad_fn=<AddBackward0>)\n",
      "tensor(307.4947, device='cuda:0', grad_fn=<AddBackward0>)\n"
     ]
    },
    {
     "name": "stderr",
     "output_type": "stream",
     "text": [
      "807it [00:53, 14.09it/s]"
     ]
    },
    {
     "name": "stdout",
     "output_type": "stream",
     "text": [
      "tensor(444.8170, device='cuda:0', grad_fn=<AddBackward0>)\n",
      "tensor(298.3250, device='cuda:0', grad_fn=<AddBackward0>)\n",
      "tensor(266.8148, device='cuda:0', grad_fn=<AddBackward0>)\n"
     ]
    },
    {
     "name": "stderr",
     "output_type": "stream",
     "text": [
      "811it [00:53, 13.72it/s]"
     ]
    },
    {
     "name": "stdout",
     "output_type": "stream",
     "text": [
      "tensor(308.0887, device='cuda:0', grad_fn=<AddBackward0>)\n",
      "tensor(455.6075, device='cuda:0', grad_fn=<AddBackward0>)\n",
      "tensor(297.9147, device='cuda:0', grad_fn=<AddBackward0>)\n"
     ]
    },
    {
     "name": "stderr",
     "output_type": "stream",
     "text": [
      "813it [00:54, 12.77it/s]"
     ]
    },
    {
     "name": "stdout",
     "output_type": "stream",
     "text": [
      "tensor(323.6289, device='cuda:0', grad_fn=<AddBackward0>)\n",
      "tensor(164.2143, device='cuda:0', grad_fn=<AddBackward0>)\n",
      "tensor(165.7633, device='cuda:0', grad_fn=<AddBackward0>)\n"
     ]
    },
    {
     "name": "stderr",
     "output_type": "stream",
     "text": [
      "817it [00:54, 13.11it/s]"
     ]
    },
    {
     "name": "stdout",
     "output_type": "stream",
     "text": [
      "tensor(308.1884, device='cuda:0', grad_fn=<AddBackward0>)\n",
      "tensor(205.9694, device='cuda:0', grad_fn=<AddBackward0>)\n",
      "tensor(197.4635, device='cuda:0', grad_fn=<AddBackward0>)\n",
      "tensor(223.6137, device='cuda:0', grad_fn=<AddBackward0>)\n"
     ]
    },
    {
     "name": "stderr",
     "output_type": "stream",
     "text": [
      "821it [00:54, 13.82it/s]"
     ]
    },
    {
     "name": "stdout",
     "output_type": "stream",
     "text": [
      "tensor(326.9258, device='cuda:0', grad_fn=<AddBackward0>)\n",
      "tensor(318.0147, device='cuda:0', grad_fn=<AddBackward0>)\n",
      "tensor(356.4579, device='cuda:0', grad_fn=<AddBackward0>)\n",
      "tensor(225.8406, device='cuda:0', grad_fn=<AddBackward0>)\n"
     ]
    },
    {
     "name": "stderr",
     "output_type": "stream",
     "text": [
      "825it [00:54, 13.49it/s]"
     ]
    },
    {
     "name": "stdout",
     "output_type": "stream",
     "text": [
      "tensor(219.1779, device='cuda:0', grad_fn=<AddBackward0>)\n",
      "tensor(205.8042, device='cuda:0', grad_fn=<AddBackward0>)\n",
      "tensor(329.7054, device='cuda:0', grad_fn=<AddBackward0>)\n"
     ]
    },
    {
     "name": "stderr",
     "output_type": "stream",
     "text": [
      "827it [00:55, 13.97it/s]"
     ]
    },
    {
     "name": "stdout",
     "output_type": "stream",
     "text": [
      "tensor(351.2843, device='cuda:0', grad_fn=<AddBackward0>)\n",
      "tensor(276.7444, device='cuda:0', grad_fn=<AddBackward0>)\n",
      "tensor(335.2091, device='cuda:0', grad_fn=<AddBackward0>)\n"
     ]
    },
    {
     "name": "stderr",
     "output_type": "stream",
     "text": [
      "831it [00:55, 14.48it/s]"
     ]
    },
    {
     "name": "stdout",
     "output_type": "stream",
     "text": [
      "tensor(248.7030, device='cuda:0', grad_fn=<AddBackward0>)\n",
      "tensor(184.7184, device='cuda:0', grad_fn=<AddBackward0>)\n",
      "tensor(486.4191, device='cuda:0', grad_fn=<AddBackward0>)\n",
      "tensor(256.8619, device='cuda:0', grad_fn=<AddBackward0>)\n"
     ]
    },
    {
     "name": "stderr",
     "output_type": "stream",
     "text": [
      "835it [00:55, 14.89it/s]"
     ]
    },
    {
     "name": "stdout",
     "output_type": "stream",
     "text": [
      "tensor(391.7416, device='cuda:0', grad_fn=<AddBackward0>)\n",
      "tensor(248.3375, device='cuda:0', grad_fn=<AddBackward0>)\n",
      "tensor(208.5352, device='cuda:0', grad_fn=<AddBackward0>)\n",
      "tensor(389.2317, device='cuda:0', grad_fn=<AddBackward0>)\n"
     ]
    },
    {
     "name": "stderr",
     "output_type": "stream",
     "text": [
      "839it [00:55, 15.14it/s]"
     ]
    },
    {
     "name": "stdout",
     "output_type": "stream",
     "text": [
      "tensor(335.9623, device='cuda:0', grad_fn=<AddBackward0>)\n",
      "tensor(214.1991, device='cuda:0', grad_fn=<AddBackward0>)\n",
      "tensor(419.9866, device='cuda:0', grad_fn=<AddBackward0>)\n",
      "tensor(269.8328, device='cuda:0', grad_fn=<AddBackward0>)\n"
     ]
    },
    {
     "name": "stderr",
     "output_type": "stream",
     "text": [
      "841it [00:55, 15.52it/s]"
     ]
    },
    {
     "name": "stdout",
     "output_type": "stream",
     "text": [
      "tensor(246.6026, device='cuda:0', grad_fn=<AddBackward0>)\n",
      "tensor(194.9648, device='cuda:0', grad_fn=<AddBackward0>)\n"
     ]
    },
    {
     "name": "stderr",
     "output_type": "stream",
     "text": [
      "845it [00:56, 12.94it/s]"
     ]
    },
    {
     "name": "stdout",
     "output_type": "stream",
     "text": [
      "tensor(266.7237, device='cuda:0', grad_fn=<AddBackward0>)\n",
      "tensor(200.7273, device='cuda:0', grad_fn=<AddBackward0>)\n",
      "tensor(218.5007, device='cuda:0', grad_fn=<AddBackward0>)\n",
      "tensor(283.1613, device='cuda:0', grad_fn=<AddBackward0>)\n"
     ]
    },
    {
     "name": "stderr",
     "output_type": "stream",
     "text": [
      "849it [00:56, 14.08it/s]"
     ]
    },
    {
     "name": "stdout",
     "output_type": "stream",
     "text": [
      "tensor(235.8370, device='cuda:0', grad_fn=<AddBackward0>)\n",
      "tensor(389.0271, device='cuda:0', grad_fn=<AddBackward0>)\n",
      "tensor(259.3882, device='cuda:0', grad_fn=<AddBackward0>)\n",
      "tensor(267.7328, device='cuda:0', grad_fn=<AddBackward0>)\n"
     ]
    },
    {
     "name": "stderr",
     "output_type": "stream",
     "text": [
      "853it [00:56, 14.67it/s]"
     ]
    },
    {
     "name": "stdout",
     "output_type": "stream",
     "text": [
      "tensor(306.6287, device='cuda:0', grad_fn=<AddBackward0>)\n",
      "tensor(261.9786, device='cuda:0', grad_fn=<AddBackward0>)\n",
      "tensor(277.2688, device='cuda:0', grad_fn=<AddBackward0>)\n",
      "tensor(405.0199, device='cuda:0', grad_fn=<AddBackward0>)\n"
     ]
    },
    {
     "name": "stderr",
     "output_type": "stream",
     "text": [
      "857it [00:57, 15.21it/s]"
     ]
    },
    {
     "name": "stdout",
     "output_type": "stream",
     "text": [
      "tensor(340.5343, device='cuda:0', grad_fn=<AddBackward0>)\n",
      "tensor(232.3955, device='cuda:0', grad_fn=<AddBackward0>)\n",
      "tensor(259.7467, device='cuda:0', grad_fn=<AddBackward0>)\n",
      "tensor(223.9460, device='cuda:0', grad_fn=<AddBackward0>)\n"
     ]
    },
    {
     "name": "stderr",
     "output_type": "stream",
     "text": [
      "861it [00:57, 14.79it/s]"
     ]
    },
    {
     "name": "stdout",
     "output_type": "stream",
     "text": [
      "tensor(400.7073, device='cuda:0', grad_fn=<AddBackward0>)\n",
      "tensor(335.4329, device='cuda:0', grad_fn=<AddBackward0>)\n",
      "tensor(201.6422, device='cuda:0', grad_fn=<AddBackward0>)\n"
     ]
    },
    {
     "name": "stderr",
     "output_type": "stream",
     "text": [
      "863it [00:57, 14.94it/s]"
     ]
    },
    {
     "name": "stdout",
     "output_type": "stream",
     "text": [
      "tensor(288.7028, device='cuda:0', grad_fn=<AddBackward0>)\n",
      "tensor(366.4129, device='cuda:0', grad_fn=<AddBackward0>)\n",
      "tensor(495.0285, device='cuda:0', grad_fn=<AddBackward0>)\n",
      "tensor(238.5754, device='cuda:0', grad_fn=<AddBackward0>)\n"
     ]
    },
    {
     "name": "stderr",
     "output_type": "stream",
     "text": [
      "867it [00:57, 15.28it/s]"
     ]
    },
    {
     "name": "stdout",
     "output_type": "stream",
     "text": [
      "tensor(262.5631, device='cuda:0', grad_fn=<AddBackward0>)\n",
      "tensor(317.1970, device='cuda:0', grad_fn=<AddBackward0>)\n",
      "tensor(331.3151, device='cuda:0', grad_fn=<AddBackward0>)\n",
      "tensor(179.3074, device='cuda:0', grad_fn=<AddBackward0>)\n"
     ]
    },
    {
     "name": "stderr",
     "output_type": "stream",
     "text": [
      "871it [00:58, 14.90it/s]"
     ]
    },
    {
     "name": "stdout",
     "output_type": "stream",
     "text": [
      "tensor(356.5881, device='cuda:0', grad_fn=<AddBackward0>)\n",
      "tensor(270.2278, device='cuda:0', grad_fn=<AddBackward0>)\n",
      "tensor(292.2194, device='cuda:0', grad_fn=<AddBackward0>)\n"
     ]
    },
    {
     "name": "stderr",
     "output_type": "stream",
     "text": [
      "875it [00:58, 15.15it/s]"
     ]
    },
    {
     "name": "stdout",
     "output_type": "stream",
     "text": [
      "tensor(329.4612, device='cuda:0', grad_fn=<AddBackward0>)\n",
      "tensor(274.8622, device='cuda:0', grad_fn=<AddBackward0>)\n",
      "tensor(196.7845, device='cuda:0', grad_fn=<AddBackward0>)\n",
      "tensor(197.3862, device='cuda:0', grad_fn=<AddBackward0>)\n"
     ]
    },
    {
     "name": "stderr",
     "output_type": "stream",
     "text": [
      "879it [00:58, 15.24it/s]"
     ]
    },
    {
     "name": "stdout",
     "output_type": "stream",
     "text": [
      "tensor(214.8733, device='cuda:0', grad_fn=<AddBackward0>)\n",
      "tensor(276.8501, device='cuda:0', grad_fn=<AddBackward0>)\n",
      "tensor(357.4430, device='cuda:0', grad_fn=<AddBackward0>)\n",
      "tensor(221.5667, device='cuda:0', grad_fn=<AddBackward0>)\n"
     ]
    },
    {
     "name": "stderr",
     "output_type": "stream",
     "text": [
      "883it [00:58, 15.34it/s]"
     ]
    },
    {
     "name": "stdout",
     "output_type": "stream",
     "text": [
      "tensor(191.1061, device='cuda:0', grad_fn=<AddBackward0>)\n",
      "tensor(344.6668, device='cuda:0', grad_fn=<AddBackward0>)\n",
      "tensor(560.4510, device='cuda:0', grad_fn=<AddBackward0>)\n",
      "tensor(288.4335, device='cuda:0', grad_fn=<AddBackward0>)\n"
     ]
    },
    {
     "name": "stderr",
     "output_type": "stream",
     "text": [
      "885it [00:58, 15.66it/s]"
     ]
    },
    {
     "name": "stdout",
     "output_type": "stream",
     "text": [
      "tensor(384.6750, device='cuda:0', grad_fn=<AddBackward0>)\n",
      "tensor(211.0695, device='cuda:0', grad_fn=<AddBackward0>)\n"
     ]
    },
    {
     "name": "stderr",
     "output_type": "stream",
     "text": [
      "889it [00:59, 12.83it/s]"
     ]
    },
    {
     "name": "stdout",
     "output_type": "stream",
     "text": [
      "tensor(316.6166, device='cuda:0', grad_fn=<AddBackward0>)\n",
      "tensor(241.6423, device='cuda:0', grad_fn=<AddBackward0>)\n",
      "tensor(304.2621, device='cuda:0', grad_fn=<AddBackward0>)\n",
      "tensor(268.2094, device='cuda:0', grad_fn=<AddBackward0>)\n"
     ]
    },
    {
     "name": "stderr",
     "output_type": "stream",
     "text": [
      "893it [00:59, 13.91it/s]"
     ]
    },
    {
     "name": "stdout",
     "output_type": "stream",
     "text": [
      "tensor(400.4158, device='cuda:0', grad_fn=<AddBackward0>)\n",
      "tensor(314.5287, device='cuda:0', grad_fn=<AddBackward0>)\n",
      "tensor(286.5743, device='cuda:0', grad_fn=<AddBackward0>)\n",
      "tensor(202.3221, device='cuda:0', grad_fn=<AddBackward0>)\n"
     ]
    },
    {
     "name": "stderr",
     "output_type": "stream",
     "text": [
      "897it [00:59, 14.87it/s]"
     ]
    },
    {
     "name": "stdout",
     "output_type": "stream",
     "text": [
      "tensor(270.7942, device='cuda:0', grad_fn=<AddBackward0>)\n",
      "tensor(311.4339, device='cuda:0', grad_fn=<AddBackward0>)\n",
      "tensor(339.0878, device='cuda:0', grad_fn=<AddBackward0>)\n",
      "tensor(165.3808, device='cuda:0', grad_fn=<AddBackward0>)\n"
     ]
    },
    {
     "name": "stderr",
     "output_type": "stream",
     "text": [
      "901it [01:00, 14.67it/s]"
     ]
    },
    {
     "name": "stdout",
     "output_type": "stream",
     "text": [
      "tensor(359.6040, device='cuda:0', grad_fn=<AddBackward0>)\n",
      "tensor(381.0844, device='cuda:0', grad_fn=<AddBackward0>)\n",
      "tensor(148.8973, device='cuda:0', grad_fn=<AddBackward0>)\n",
      "tensor(236.9983, device='cuda:0', grad_fn=<AddBackward0>)\n"
     ]
    },
    {
     "name": "stderr",
     "output_type": "stream",
     "text": [
      "905it [01:00, 14.98it/s]"
     ]
    },
    {
     "name": "stdout",
     "output_type": "stream",
     "text": [
      "tensor(275.5101, device='cuda:0', grad_fn=<AddBackward0>)\n",
      "tensor(307.7021, device='cuda:0', grad_fn=<AddBackward0>)\n",
      "tensor(254.5134, device='cuda:0', grad_fn=<AddBackward0>)\n",
      "tensor(327.3962, device='cuda:0', grad_fn=<AddBackward0>)\n"
     ]
    },
    {
     "name": "stderr",
     "output_type": "stream",
     "text": [
      "909it [01:00, 15.01it/s]"
     ]
    },
    {
     "name": "stdout",
     "output_type": "stream",
     "text": [
      "tensor(186.3430, device='cuda:0', grad_fn=<AddBackward0>)\n",
      "tensor(283.0577, device='cuda:0', grad_fn=<AddBackward0>)\n",
      "tensor(647.9352, device='cuda:0', grad_fn=<AddBackward0>)\n",
      "tensor(191.7615, device='cuda:0', grad_fn=<AddBackward0>)\n"
     ]
    },
    {
     "name": "stderr",
     "output_type": "stream",
     "text": [
      "913it [01:00, 15.44it/s]"
     ]
    },
    {
     "name": "stdout",
     "output_type": "stream",
     "text": [
      "tensor(221.6728, device='cuda:0', grad_fn=<AddBackward0>)\n",
      "tensor(291.0467, device='cuda:0', grad_fn=<AddBackward0>)\n",
      "tensor(312.9940, device='cuda:0', grad_fn=<AddBackward0>)\n",
      "tensor(276.5512, device='cuda:0', grad_fn=<AddBackward0>)\n"
     ]
    },
    {
     "name": "stderr",
     "output_type": "stream",
     "text": [
      "917it [01:01, 15.13it/s]"
     ]
    },
    {
     "name": "stdout",
     "output_type": "stream",
     "text": [
      "tensor(302.2462, device='cuda:0', grad_fn=<AddBackward0>)\n",
      "tensor(262.2233, device='cuda:0', grad_fn=<AddBackward0>)\n",
      "tensor(281.7662, device='cuda:0', grad_fn=<AddBackward0>)\n",
      "tensor(318.8711, device='cuda:0', grad_fn=<AddBackward0>)\n"
     ]
    },
    {
     "name": "stderr",
     "output_type": "stream",
     "text": [
      "919it [01:01, 15.40it/s]"
     ]
    },
    {
     "name": "stdout",
     "output_type": "stream",
     "text": [
      "tensor(211.6884, device='cuda:0', grad_fn=<AddBackward0>)\n",
      "tensor(329.2989, device='cuda:0', grad_fn=<AddBackward0>)\n"
     ]
    },
    {
     "name": "stderr",
     "output_type": "stream",
     "text": [
      "923it [01:01, 12.98it/s]"
     ]
    },
    {
     "name": "stdout",
     "output_type": "stream",
     "text": [
      "tensor(223.5378, device='cuda:0', grad_fn=<AddBackward0>)\n",
      "tensor(360.0043, device='cuda:0', grad_fn=<AddBackward0>)\n",
      "tensor(296.9160, device='cuda:0', grad_fn=<AddBackward0>)\n",
      "tensor(177.4662, device='cuda:0', grad_fn=<AddBackward0>)\n"
     ]
    },
    {
     "name": "stderr",
     "output_type": "stream",
     "text": [
      "927it [01:01, 13.96it/s]"
     ]
    },
    {
     "name": "stdout",
     "output_type": "stream",
     "text": [
      "tensor(176.8223, device='cuda:0', grad_fn=<AddBackward0>)\n",
      "tensor(310.5132, device='cuda:0', grad_fn=<AddBackward0>)\n",
      "tensor(392.5306, device='cuda:0', grad_fn=<AddBackward0>)\n",
      "tensor(235.2658, device='cuda:0', grad_fn=<AddBackward0>)\n"
     ]
    },
    {
     "name": "stderr",
     "output_type": "stream",
     "text": [
      "931it [01:02, 14.75it/s]"
     ]
    },
    {
     "name": "stdout",
     "output_type": "stream",
     "text": [
      "tensor(268.0382, device='cuda:0', grad_fn=<AddBackward0>)\n",
      "tensor(299.8880, device='cuda:0', grad_fn=<AddBackward0>)\n",
      "tensor(432.6158, device='cuda:0', grad_fn=<AddBackward0>)\n",
      "tensor(300.1492, device='cuda:0', grad_fn=<AddBackward0>)\n"
     ]
    },
    {
     "name": "stderr",
     "output_type": "stream",
     "text": [
      "935it [01:02, 15.14it/s]"
     ]
    },
    {
     "name": "stdout",
     "output_type": "stream",
     "text": [
      "tensor(242.6475, device='cuda:0', grad_fn=<AddBackward0>)\n",
      "tensor(312.0520, device='cuda:0', grad_fn=<AddBackward0>)\n",
      "tensor(262.0461, device='cuda:0', grad_fn=<AddBackward0>)\n",
      "tensor(172.5865, device='cuda:0', grad_fn=<AddBackward0>)\n"
     ]
    },
    {
     "name": "stderr",
     "output_type": "stream",
     "text": [
      "939it [01:02, 15.42it/s]"
     ]
    },
    {
     "name": "stdout",
     "output_type": "stream",
     "text": [
      "tensor(293.6483, device='cuda:0', grad_fn=<AddBackward0>)\n",
      "tensor(387.7776, device='cuda:0', grad_fn=<AddBackward0>)\n",
      "tensor(228.9527, device='cuda:0', grad_fn=<AddBackward0>)\n",
      "tensor(267.9619, device='cuda:0', grad_fn=<AddBackward0>)\n"
     ]
    },
    {
     "name": "stderr",
     "output_type": "stream",
     "text": [
      "943it [01:02, 15.34it/s]"
     ]
    },
    {
     "name": "stdout",
     "output_type": "stream",
     "text": [
      "tensor(167.5908, device='cuda:0', grad_fn=<AddBackward0>)\n",
      "tensor(220.7188, device='cuda:0', grad_fn=<AddBackward0>)\n",
      "tensor(285.4937, device='cuda:0', grad_fn=<AddBackward0>)\n",
      "tensor(239.6622, device='cuda:0', grad_fn=<AddBackward0>)\n"
     ]
    },
    {
     "name": "stderr",
     "output_type": "stream",
     "text": [
      "947it [01:03, 15.29it/s]"
     ]
    },
    {
     "name": "stdout",
     "output_type": "stream",
     "text": [
      "tensor(211.9952, device='cuda:0', grad_fn=<AddBackward0>)\n",
      "tensor(181.6437, device='cuda:0', grad_fn=<AddBackward0>)\n",
      "tensor(164.5210, device='cuda:0', grad_fn=<AddBackward0>)\n",
      "tensor(204.8558, device='cuda:0', grad_fn=<AddBackward0>)\n"
     ]
    },
    {
     "name": "stderr",
     "output_type": "stream",
     "text": [
      "951it [01:03, 15.56it/s]"
     ]
    },
    {
     "name": "stdout",
     "output_type": "stream",
     "text": [
      "tensor(252.0056, device='cuda:0', grad_fn=<AddBackward0>)\n",
      "tensor(204.3215, device='cuda:0', grad_fn=<AddBackward0>)\n",
      "tensor(237.0183, device='cuda:0', grad_fn=<AddBackward0>)\n",
      "tensor(266.2896, device='cuda:0', grad_fn=<AddBackward0>)\n"
     ]
    },
    {
     "name": "stderr",
     "output_type": "stream",
     "text": [
      "953it [01:03, 15.18it/s]"
     ]
    },
    {
     "name": "stdout",
     "output_type": "stream",
     "text": [
      "tensor(300.7754, device='cuda:0', grad_fn=<AddBackward0>)\n",
      "tensor(271.6279, device='cuda:0', grad_fn=<AddBackward0>)\n"
     ]
    },
    {
     "name": "stderr",
     "output_type": "stream",
     "text": [
      "957it [01:03, 13.01it/s]"
     ]
    },
    {
     "name": "stdout",
     "output_type": "stream",
     "text": [
      "tensor(587.7047, device='cuda:0', grad_fn=<AddBackward0>)\n",
      "tensor(165.5631, device='cuda:0', grad_fn=<AddBackward0>)\n",
      "tensor(316.3083, device='cuda:0', grad_fn=<AddBackward0>)\n",
      "tensor(255.5151, device='cuda:0', grad_fn=<AddBackward0>)\n"
     ]
    },
    {
     "name": "stderr",
     "output_type": "stream",
     "text": [
      "961it [01:04, 13.99it/s]"
     ]
    },
    {
     "name": "stdout",
     "output_type": "stream",
     "text": [
      "tensor(205.6288, device='cuda:0', grad_fn=<AddBackward0>)\n",
      "tensor(306.6454, device='cuda:0', grad_fn=<AddBackward0>)\n",
      "tensor(191.4726, device='cuda:0', grad_fn=<AddBackward0>)\n",
      "tensor(285.1965, device='cuda:0', grad_fn=<AddBackward0>)\n"
     ]
    },
    {
     "name": "stderr",
     "output_type": "stream",
     "text": [
      "965it [01:04, 14.61it/s]"
     ]
    },
    {
     "name": "stdout",
     "output_type": "stream",
     "text": [
      "tensor(322.4089, device='cuda:0', grad_fn=<AddBackward0>)\n",
      "tensor(295.1561, device='cuda:0', grad_fn=<AddBackward0>)\n",
      "tensor(223.8468, device='cuda:0', grad_fn=<AddBackward0>)\n",
      "tensor(200.8757, device='cuda:0', grad_fn=<AddBackward0>)\n"
     ]
    },
    {
     "name": "stderr",
     "output_type": "stream",
     "text": [
      "969it [01:04, 14.96it/s]"
     ]
    },
    {
     "name": "stdout",
     "output_type": "stream",
     "text": [
      "tensor(224.7399, device='cuda:0', grad_fn=<AddBackward0>)\n",
      "tensor(254.2631, device='cuda:0', grad_fn=<AddBackward0>)\n",
      "tensor(225.2036, device='cuda:0', grad_fn=<AddBackward0>)\n",
      "tensor(276.7311, device='cuda:0', grad_fn=<AddBackward0>)\n"
     ]
    },
    {
     "name": "stderr",
     "output_type": "stream",
     "text": [
      "973it [01:04, 15.07it/s]"
     ]
    },
    {
     "name": "stdout",
     "output_type": "stream",
     "text": [
      "tensor(228.6271, device='cuda:0', grad_fn=<AddBackward0>)\n",
      "tensor(257.1271, device='cuda:0', grad_fn=<AddBackward0>)\n",
      "tensor(253.4585, device='cuda:0', grad_fn=<AddBackward0>)\n",
      "tensor(305.1757, device='cuda:0', grad_fn=<AddBackward0>)\n"
     ]
    },
    {
     "name": "stderr",
     "output_type": "stream",
     "text": [
      "977it [01:05, 15.09it/s]"
     ]
    },
    {
     "name": "stdout",
     "output_type": "stream",
     "text": [
      "tensor(365.0427, device='cuda:0', grad_fn=<AddBackward0>)\n",
      "tensor(212.7895, device='cuda:0', grad_fn=<AddBackward0>)\n",
      "tensor(385.2460, device='cuda:0', grad_fn=<AddBackward0>)\n",
      "tensor(225.8934, device='cuda:0', grad_fn=<AddBackward0>)\n"
     ]
    },
    {
     "name": "stderr",
     "output_type": "stream",
     "text": [
      "981it [01:05, 15.15it/s]"
     ]
    },
    {
     "name": "stdout",
     "output_type": "stream",
     "text": [
      "tensor(213.6861, device='cuda:0', grad_fn=<AddBackward0>)\n",
      "tensor(376.8936, device='cuda:0', grad_fn=<AddBackward0>)\n",
      "tensor(287.1910, device='cuda:0', grad_fn=<AddBackward0>)\n",
      "tensor(334.9359, device='cuda:0', grad_fn=<AddBackward0>)\n"
     ]
    },
    {
     "name": "stderr",
     "output_type": "stream",
     "text": [
      "985it [01:05, 15.64it/s]"
     ]
    },
    {
     "name": "stdout",
     "output_type": "stream",
     "text": [
      "tensor(408.7306, device='cuda:0', grad_fn=<AddBackward0>)\n",
      "tensor(383.0432, device='cuda:0', grad_fn=<AddBackward0>)\n",
      "tensor(277.0608, device='cuda:0', grad_fn=<AddBackward0>)\n",
      "tensor(314.4097, device='cuda:0', grad_fn=<AddBackward0>)\n"
     ]
    },
    {
     "name": "stderr",
     "output_type": "stream",
     "text": [
      "987it [01:05, 15.55it/s]"
     ]
    },
    {
     "name": "stdout",
     "output_type": "stream",
     "text": [
      "tensor(217.6118, device='cuda:0', grad_fn=<AddBackward0>)\n",
      "tensor(200.6320, device='cuda:0', grad_fn=<AddBackward0>)\n"
     ]
    },
    {
     "name": "stderr",
     "output_type": "stream",
     "text": [
      "991it [01:06, 12.98it/s]"
     ]
    },
    {
     "name": "stdout",
     "output_type": "stream",
     "text": [
      "tensor(325.4417, device='cuda:0', grad_fn=<AddBackward0>)\n",
      "tensor(345.2674, device='cuda:0', grad_fn=<AddBackward0>)\n",
      "tensor(286.4310, device='cuda:0', grad_fn=<AddBackward0>)\n",
      "tensor(317.2273, device='cuda:0', grad_fn=<AddBackward0>)\n"
     ]
    },
    {
     "name": "stderr",
     "output_type": "stream",
     "text": [
      "995it [01:06, 13.99it/s]"
     ]
    },
    {
     "name": "stdout",
     "output_type": "stream",
     "text": [
      "tensor(219.5032, device='cuda:0', grad_fn=<AddBackward0>)\n",
      "tensor(259.5643, device='cuda:0', grad_fn=<AddBackward0>)\n",
      "tensor(357.3596, device='cuda:0', grad_fn=<AddBackward0>)\n",
      "tensor(296.8710, device='cuda:0', grad_fn=<AddBackward0>)\n"
     ]
    },
    {
     "name": "stderr",
     "output_type": "stream",
     "text": [
      "999it [01:06, 14.54it/s]"
     ]
    },
    {
     "name": "stdout",
     "output_type": "stream",
     "text": [
      "tensor(186.8262, device='cuda:0', grad_fn=<AddBackward0>)\n",
      "tensor(249.9117, device='cuda:0', grad_fn=<AddBackward0>)\n",
      "tensor(236.6473, device='cuda:0', grad_fn=<AddBackward0>)\n",
      "tensor(335.7082, device='cuda:0', grad_fn=<AddBackward0>)\n"
     ]
    },
    {
     "name": "stderr",
     "output_type": "stream",
     "text": [
      "1003it [01:07, 14.87it/s]"
     ]
    },
    {
     "name": "stdout",
     "output_type": "stream",
     "text": [
      "tensor(933.9164, device='cuda:0', grad_fn=<AddBackward0>)\n",
      "tensor(235.1099, device='cuda:0', grad_fn=<AddBackward0>)\n",
      "tensor(265.5654, device='cuda:0', grad_fn=<AddBackward0>)\n",
      "tensor(202.8418, device='cuda:0', grad_fn=<AddBackward0>)\n"
     ]
    },
    {
     "name": "stderr",
     "output_type": "stream",
     "text": [
      "1007it [01:07, 15.17it/s]"
     ]
    },
    {
     "name": "stdout",
     "output_type": "stream",
     "text": [
      "tensor(170.7742, device='cuda:0', grad_fn=<AddBackward0>)\n",
      "tensor(278.7781, device='cuda:0', grad_fn=<AddBackward0>)\n",
      "tensor(217.1004, device='cuda:0', grad_fn=<AddBackward0>)\n",
      "tensor(250.9394, device='cuda:0', grad_fn=<AddBackward0>)\n"
     ]
    },
    {
     "name": "stderr",
     "output_type": "stream",
     "text": [
      "1011it [01:07, 15.47it/s]"
     ]
    },
    {
     "name": "stdout",
     "output_type": "stream",
     "text": [
      "tensor(258.6359, device='cuda:0', grad_fn=<AddBackward0>)\n",
      "tensor(133.1830, device='cuda:0', grad_fn=<AddBackward0>)\n",
      "tensor(297.9909, device='cuda:0', grad_fn=<AddBackward0>)\n",
      "tensor(339.9392, device='cuda:0', grad_fn=<AddBackward0>)\n"
     ]
    },
    {
     "name": "stderr",
     "output_type": "stream",
     "text": [
      "1015it [01:07, 15.35it/s]"
     ]
    },
    {
     "name": "stdout",
     "output_type": "stream",
     "text": [
      "tensor(177.6789, device='cuda:0', grad_fn=<AddBackward0>)\n",
      "tensor(271.0739, device='cuda:0', grad_fn=<AddBackward0>)\n",
      "tensor(203.2063, device='cuda:0', grad_fn=<AddBackward0>)\n",
      "tensor(295.2020, device='cuda:0', grad_fn=<AddBackward0>)\n"
     ]
    },
    {
     "name": "stderr",
     "output_type": "stream",
     "text": [
      "1019it [01:08, 15.25it/s]"
     ]
    },
    {
     "name": "stdout",
     "output_type": "stream",
     "text": [
      "tensor(319.5898, device='cuda:0', grad_fn=<AddBackward0>)\n",
      "tensor(312.8470, device='cuda:0', grad_fn=<AddBackward0>)\n",
      "tensor(211.7209, device='cuda:0', grad_fn=<AddBackward0>)\n",
      "tensor(194.8940, device='cuda:0', grad_fn=<AddBackward0>)\n"
     ]
    },
    {
     "name": "stderr",
     "output_type": "stream",
     "text": [
      "1023it [01:08, 15.18it/s]"
     ]
    },
    {
     "name": "stdout",
     "output_type": "stream",
     "text": [
      "tensor(209.3236, device='cuda:0', grad_fn=<AddBackward0>)\n",
      "tensor(285.3068, device='cuda:0', grad_fn=<AddBackward0>)\n",
      "tensor(192.8005, device='cuda:0', grad_fn=<AddBackward0>)\n",
      "tensor(294.0403, device='cuda:0', grad_fn=<AddBackward0>)\n"
     ]
    },
    {
     "name": "stderr",
     "output_type": "stream",
     "text": [
      "1025it [01:08, 15.57it/s]"
     ]
    },
    {
     "name": "stdout",
     "output_type": "stream",
     "text": [
      "tensor(268.6118, device='cuda:0', grad_fn=<AddBackward0>)\n",
      "tensor(295.5432, device='cuda:0', grad_fn=<AddBackward0>)\n"
     ]
    },
    {
     "name": "stderr",
     "output_type": "stream",
     "text": [
      "1029it [01:08, 12.86it/s]"
     ]
    },
    {
     "name": "stdout",
     "output_type": "stream",
     "text": [
      "tensor(242.5350, device='cuda:0', grad_fn=<AddBackward0>)\n",
      "tensor(264.9985, device='cuda:0', grad_fn=<AddBackward0>)\n",
      "tensor(261.3162, device='cuda:0', grad_fn=<AddBackward0>)\n",
      "tensor(252.3893, device='cuda:0', grad_fn=<AddBackward0>)\n"
     ]
    },
    {
     "name": "stderr",
     "output_type": "stream",
     "text": [
      "1033it [01:09, 14.03it/s]"
     ]
    },
    {
     "name": "stdout",
     "output_type": "stream",
     "text": [
      "tensor(292.4415, device='cuda:0', grad_fn=<AddBackward0>)\n",
      "tensor(269.1224, device='cuda:0', grad_fn=<AddBackward0>)\n",
      "tensor(336.7534, device='cuda:0', grad_fn=<AddBackward0>)\n",
      "tensor(270.3838, device='cuda:0', grad_fn=<AddBackward0>)\n"
     ]
    },
    {
     "name": "stderr",
     "output_type": "stream",
     "text": [
      "1037it [01:09, 14.50it/s]"
     ]
    },
    {
     "name": "stdout",
     "output_type": "stream",
     "text": [
      "tensor(227.8189, device='cuda:0', grad_fn=<AddBackward0>)\n",
      "tensor(121.7406, device='cuda:0', grad_fn=<AddBackward0>)\n",
      "tensor(206.5756, device='cuda:0', grad_fn=<AddBackward0>)\n",
      "tensor(252.2532, device='cuda:0', grad_fn=<AddBackward0>)\n"
     ]
    },
    {
     "name": "stderr",
     "output_type": "stream",
     "text": [
      "1041it [01:09, 15.20it/s]"
     ]
    },
    {
     "name": "stdout",
     "output_type": "stream",
     "text": [
      "tensor(195.0796, device='cuda:0', grad_fn=<AddBackward0>)\n",
      "tensor(199.7870, device='cuda:0', grad_fn=<AddBackward0>)\n",
      "tensor(198.1970, device='cuda:0', grad_fn=<AddBackward0>)\n",
      "tensor(222.8652, device='cuda:0', grad_fn=<AddBackward0>)\n"
     ]
    },
    {
     "name": "stderr",
     "output_type": "stream",
     "text": [
      "1045it [01:09, 14.92it/s]"
     ]
    },
    {
     "name": "stdout",
     "output_type": "stream",
     "text": [
      "tensor(341.4240, device='cuda:0', grad_fn=<AddBackward0>)\n",
      "tensor(218.1452, device='cuda:0', grad_fn=<AddBackward0>)\n",
      "tensor(199.4761, device='cuda:0', grad_fn=<AddBackward0>)\n",
      "tensor(165.1709, device='cuda:0', grad_fn=<AddBackward0>)\n"
     ]
    },
    {
     "name": "stderr",
     "output_type": "stream",
     "text": [
      "1049it [01:10, 15.17it/s]"
     ]
    },
    {
     "name": "stdout",
     "output_type": "stream",
     "text": [
      "tensor(339.0699, device='cuda:0', grad_fn=<AddBackward0>)\n",
      "tensor(232.4716, device='cuda:0', grad_fn=<AddBackward0>)\n",
      "tensor(317.8544, device='cuda:0', grad_fn=<AddBackward0>)\n",
      "tensor(613.8729, device='cuda:0', grad_fn=<AddBackward0>)\n"
     ]
    },
    {
     "name": "stderr",
     "output_type": "stream",
     "text": [
      "1053it [01:10, 15.08it/s]"
     ]
    },
    {
     "name": "stdout",
     "output_type": "stream",
     "text": [
      "tensor(277.0119, device='cuda:0', grad_fn=<AddBackward0>)\n",
      "tensor(244.9734, device='cuda:0', grad_fn=<AddBackward0>)\n",
      "tensor(279.6058, device='cuda:0', grad_fn=<AddBackward0>)\n",
      "tensor(316.8105, device='cuda:0', grad_fn=<AddBackward0>)\n"
     ]
    },
    {
     "name": "stderr",
     "output_type": "stream",
     "text": [
      "1055it [01:10, 15.46it/s]"
     ]
    },
    {
     "name": "stdout",
     "output_type": "stream",
     "text": [
      "tensor(307.5035, device='cuda:0', grad_fn=<AddBackward0>)\n",
      "tensor(147.3129, device='cuda:0', grad_fn=<AddBackward0>)\n"
     ]
    },
    {
     "name": "stderr",
     "output_type": "stream",
     "text": [
      "1059it [01:10, 12.86it/s]"
     ]
    },
    {
     "name": "stdout",
     "output_type": "stream",
     "text": [
      "tensor(287.4016, device='cuda:0', grad_fn=<AddBackward0>)\n",
      "tensor(236.5108, device='cuda:0', grad_fn=<AddBackward0>)\n",
      "tensor(318.9487, device='cuda:0', grad_fn=<AddBackward0>)\n",
      "tensor(295.0820, device='cuda:0', grad_fn=<AddBackward0>)\n"
     ]
    },
    {
     "name": "stderr",
     "output_type": "stream",
     "text": [
      "1063it [01:11, 14.09it/s]"
     ]
    },
    {
     "name": "stdout",
     "output_type": "stream",
     "text": [
      "tensor(276.6717, device='cuda:0', grad_fn=<AddBackward0>)\n",
      "tensor(215.8943, device='cuda:0', grad_fn=<AddBackward0>)\n",
      "tensor(170.2689, device='cuda:0', grad_fn=<AddBackward0>)\n",
      "tensor(233.0715, device='cuda:0', grad_fn=<AddBackward0>)\n"
     ]
    },
    {
     "name": "stderr",
     "output_type": "stream",
     "text": [
      "1067it [01:11, 14.77it/s]"
     ]
    },
    {
     "name": "stdout",
     "output_type": "stream",
     "text": [
      "tensor(208.9851, device='cuda:0', grad_fn=<AddBackward0>)\n",
      "tensor(224.7919, device='cuda:0', grad_fn=<AddBackward0>)\n",
      "tensor(209.2931, device='cuda:0', grad_fn=<AddBackward0>)\n",
      "tensor(241.9628, device='cuda:0', grad_fn=<AddBackward0>)\n"
     ]
    },
    {
     "name": "stderr",
     "output_type": "stream",
     "text": [
      "1071it [01:11, 15.06it/s]"
     ]
    },
    {
     "name": "stdout",
     "output_type": "stream",
     "text": [
      "tensor(261.7457, device='cuda:0', grad_fn=<AddBackward0>)\n",
      "tensor(302.2651, device='cuda:0', grad_fn=<AddBackward0>)\n",
      "tensor(256.8391, device='cuda:0', grad_fn=<AddBackward0>)\n",
      "tensor(297.7355, device='cuda:0', grad_fn=<AddBackward0>)\n"
     ]
    },
    {
     "name": "stderr",
     "output_type": "stream",
     "text": [
      "1075it [01:11, 15.08it/s]"
     ]
    },
    {
     "name": "stdout",
     "output_type": "stream",
     "text": [
      "tensor(200.4928, device='cuda:0', grad_fn=<AddBackward0>)\n",
      "tensor(290.5148, device='cuda:0', grad_fn=<AddBackward0>)\n",
      "tensor(322.7080, device='cuda:0', grad_fn=<AddBackward0>)\n",
      "tensor(217.4877, device='cuda:0', grad_fn=<AddBackward0>)\n"
     ]
    },
    {
     "name": "stderr",
     "output_type": "stream",
     "text": [
      "1079it [01:12, 15.13it/s]"
     ]
    },
    {
     "name": "stdout",
     "output_type": "stream",
     "text": [
      "tensor(463.6524, device='cuda:0', grad_fn=<AddBackward0>)\n",
      "tensor(181.5782, device='cuda:0', grad_fn=<AddBackward0>)\n",
      "tensor(189.0464, device='cuda:0', grad_fn=<AddBackward0>)\n",
      "tensor(335.2064, device='cuda:0', grad_fn=<AddBackward0>)\n"
     ]
    },
    {
     "name": "stderr",
     "output_type": "stream",
     "text": [
      "1083it [01:12, 15.11it/s]"
     ]
    },
    {
     "name": "stdout",
     "output_type": "stream",
     "text": [
      "tensor(300.4411, device='cuda:0', grad_fn=<AddBackward0>)\n",
      "tensor(208.1826, device='cuda:0', grad_fn=<AddBackward0>)\n",
      "tensor(248.3696, device='cuda:0', grad_fn=<AddBackward0>)\n",
      "tensor(178.0977, device='cuda:0', grad_fn=<AddBackward0>)\n"
     ]
    },
    {
     "name": "stderr",
     "output_type": "stream",
     "text": [
      "1087it [01:12, 15.09it/s]"
     ]
    },
    {
     "name": "stdout",
     "output_type": "stream",
     "text": [
      "tensor(169.4030, device='cuda:0', grad_fn=<AddBackward0>)\n",
      "tensor(257.3208, device='cuda:0', grad_fn=<AddBackward0>)\n",
      "tensor(272.3278, device='cuda:0', grad_fn=<AddBackward0>)\n",
      "tensor(247.0455, device='cuda:0', grad_fn=<AddBackward0>)\n"
     ]
    },
    {
     "name": "stderr",
     "output_type": "stream",
     "text": [
      "1091it [01:12, 15.09it/s]"
     ]
    },
    {
     "name": "stdout",
     "output_type": "stream",
     "text": [
      "tensor(338.5429, device='cuda:0', grad_fn=<AddBackward0>)\n",
      "tensor(225.4206, device='cuda:0', grad_fn=<AddBackward0>)\n",
      "tensor(226.9372, device='cuda:0', grad_fn=<AddBackward0>)\n",
      "tensor(337.0091, device='cuda:0', grad_fn=<AddBackward0>)\n"
     ]
    },
    {
     "name": "stderr",
     "output_type": "stream",
     "text": [
      "1093it [01:13, 15.43it/s]"
     ]
    },
    {
     "name": "stdout",
     "output_type": "stream",
     "text": [
      "tensor(237.8789, device='cuda:0', grad_fn=<AddBackward0>)\n",
      "tensor(237.2520, device='cuda:0', grad_fn=<AddBackward0>)\n"
     ]
    },
    {
     "name": "stderr",
     "output_type": "stream",
     "text": [
      "1097it [01:13, 12.75it/s]"
     ]
    },
    {
     "name": "stdout",
     "output_type": "stream",
     "text": [
      "tensor(196.7050, device='cuda:0', grad_fn=<AddBackward0>)\n",
      "tensor(181.1720, device='cuda:0', grad_fn=<AddBackward0>)\n",
      "tensor(277.5118, device='cuda:0', grad_fn=<AddBackward0>)\n",
      "tensor(250.1891, device='cuda:0', grad_fn=<AddBackward0>)\n"
     ]
    },
    {
     "name": "stderr",
     "output_type": "stream",
     "text": [
      "1101it [01:13, 13.95it/s]"
     ]
    },
    {
     "name": "stdout",
     "output_type": "stream",
     "text": [
      "tensor(199.7802, device='cuda:0', grad_fn=<AddBackward0>)\n",
      "tensor(232.9201, device='cuda:0', grad_fn=<AddBackward0>)\n",
      "tensor(290.8289, device='cuda:0', grad_fn=<AddBackward0>)\n",
      "tensor(291.1246, device='cuda:0', grad_fn=<AddBackward0>)\n"
     ]
    },
    {
     "name": "stderr",
     "output_type": "stream",
     "text": [
      "1105it [01:13, 14.52it/s]"
     ]
    },
    {
     "name": "stdout",
     "output_type": "stream",
     "text": [
      "tensor(226.9351, device='cuda:0', grad_fn=<AddBackward0>)\n",
      "tensor(185.5145, device='cuda:0', grad_fn=<AddBackward0>)\n",
      "tensor(214.8212, device='cuda:0', grad_fn=<AddBackward0>)\n"
     ]
    },
    {
     "name": "stderr",
     "output_type": "stream",
     "text": [
      "1107it [01:14, 15.04it/s]"
     ]
    },
    {
     "name": "stdout",
     "output_type": "stream",
     "text": [
      "tensor(215.0622, device='cuda:0', grad_fn=<AddBackward0>)\n",
      "tensor(279.1482, device='cuda:0', grad_fn=<AddBackward0>)\n",
      "tensor(214.3823, device='cuda:0', grad_fn=<AddBackward0>)\n"
     ]
    },
    {
     "name": "stderr",
     "output_type": "stream",
     "text": [
      "1111it [01:14, 14.55it/s]"
     ]
    },
    {
     "name": "stdout",
     "output_type": "stream",
     "text": [
      "tensor(182.5467, device='cuda:0', grad_fn=<AddBackward0>)\n",
      "tensor(206.3827, device='cuda:0', grad_fn=<AddBackward0>)\n",
      "tensor(287.8110, device='cuda:0', grad_fn=<AddBackward0>)\n",
      "tensor(340.6005, device='cuda:0', grad_fn=<AddBackward0>)\n"
     ]
    },
    {
     "name": "stderr",
     "output_type": "stream",
     "text": [
      "1115it [01:14, 15.26it/s]"
     ]
    },
    {
     "name": "stdout",
     "output_type": "stream",
     "text": [
      "tensor(212.3116, device='cuda:0', grad_fn=<AddBackward0>)\n",
      "tensor(297.0862, device='cuda:0', grad_fn=<AddBackward0>)\n",
      "tensor(255.9288, device='cuda:0', grad_fn=<AddBackward0>)\n"
     ]
    },
    {
     "name": "stderr",
     "output_type": "stream",
     "text": [
      "1117it [01:14, 15.37it/s]"
     ]
    },
    {
     "name": "stdout",
     "output_type": "stream",
     "text": [
      "tensor(185.9756, device='cuda:0', grad_fn=<AddBackward0>)\n",
      "tensor(339.8486, device='cuda:0', grad_fn=<AddBackward0>)\n",
      "tensor(288.9683, device='cuda:0', grad_fn=<AddBackward0>)\n",
      "tensor(277.6127, device='cuda:0', grad_fn=<AddBackward0>)\n"
     ]
    },
    {
     "name": "stderr",
     "output_type": "stream",
     "text": [
      "1121it [01:15, 13.00it/s]"
     ]
    },
    {
     "name": "stdout",
     "output_type": "stream",
     "text": [
      "tensor(140.3934, device='cuda:0', grad_fn=<AddBackward0>)\n",
      "tensor(236.8801, device='cuda:0', grad_fn=<AddBackward0>)\n"
     ]
    },
    {
     "name": "stderr",
     "output_type": "stream",
     "text": [
      "1123it [01:15, 13.17it/s]"
     ]
    },
    {
     "name": "stdout",
     "output_type": "stream",
     "text": [
      "tensor(268.1796, device='cuda:0', grad_fn=<AddBackward0>)\n",
      "tensor(253.1104, device='cuda:0', grad_fn=<AddBackward0>)\n",
      "tensor(406.1694, device='cuda:0', grad_fn=<AddBackward0>)\n"
     ]
    },
    {
     "name": "stderr",
     "output_type": "stream",
     "text": [
      "1127it [01:15, 13.93it/s]"
     ]
    },
    {
     "name": "stdout",
     "output_type": "stream",
     "text": [
      "tensor(287.3898, device='cuda:0', grad_fn=<AddBackward0>)\n",
      "tensor(324.3383, device='cuda:0', grad_fn=<AddBackward0>)\n",
      "tensor(344.3456, device='cuda:0', grad_fn=<AddBackward0>)\n",
      "tensor(266.3052, device='cuda:0', grad_fn=<AddBackward0>)\n"
     ]
    },
    {
     "name": "stderr",
     "output_type": "stream",
     "text": [
      "1131it [01:15, 14.31it/s]"
     ]
    },
    {
     "name": "stdout",
     "output_type": "stream",
     "text": [
      "tensor(277.9739, device='cuda:0', grad_fn=<AddBackward0>)\n",
      "tensor(173.8977, device='cuda:0', grad_fn=<AddBackward0>)\n",
      "tensor(202.9711, device='cuda:0', grad_fn=<AddBackward0>)\n",
      "tensor(231.5907, device='cuda:0', grad_fn=<AddBackward0>)\n"
     ]
    },
    {
     "name": "stderr",
     "output_type": "stream",
     "text": [
      "1135it [01:16, 15.31it/s]"
     ]
    },
    {
     "name": "stdout",
     "output_type": "stream",
     "text": [
      "tensor(294.7827, device='cuda:0', grad_fn=<AddBackward0>)\n",
      "tensor(174.1326, device='cuda:0', grad_fn=<AddBackward0>)\n",
      "tensor(186.0476, device='cuda:0', grad_fn=<AddBackward0>)\n",
      "tensor(595.6440, device='cuda:0', grad_fn=<AddBackward0>)\n"
     ]
    },
    {
     "name": "stderr",
     "output_type": "stream",
     "text": [
      "1139it [01:16, 14.84it/s]"
     ]
    },
    {
     "name": "stdout",
     "output_type": "stream",
     "text": [
      "tensor(195.6833, device='cuda:0', grad_fn=<AddBackward0>)\n",
      "tensor(255.7534, device='cuda:0', grad_fn=<AddBackward0>)\n",
      "tensor(230.0074, device='cuda:0', grad_fn=<AddBackward0>)\n",
      "tensor(267.6276, device='cuda:0', grad_fn=<AddBackward0>)\n"
     ]
    },
    {
     "name": "stderr",
     "output_type": "stream",
     "text": [
      "1143it [01:16, 15.14it/s]"
     ]
    },
    {
     "name": "stdout",
     "output_type": "stream",
     "text": [
      "tensor(230.5306, device='cuda:0', grad_fn=<AddBackward0>)\n",
      "tensor(305.6053, device='cuda:0', grad_fn=<AddBackward0>)\n",
      "tensor(305.2081, device='cuda:0', grad_fn=<AddBackward0>)\n",
      "tensor(377.4846, device='cuda:0', grad_fn=<AddBackward0>)\n"
     ]
    },
    {
     "name": "stderr",
     "output_type": "stream",
     "text": [
      "1147it [01:16, 15.14it/s]"
     ]
    },
    {
     "name": "stdout",
     "output_type": "stream",
     "text": [
      "tensor(244.5146, device='cuda:0', grad_fn=<AddBackward0>)\n",
      "tensor(199.7570, device='cuda:0', grad_fn=<AddBackward0>)\n",
      "tensor(198.1725, device='cuda:0', grad_fn=<AddBackward0>)\n",
      "tensor(227.4695, device='cuda:0', grad_fn=<AddBackward0>)\n"
     ]
    },
    {
     "name": "stderr",
     "output_type": "stream",
     "text": [
      "1149it [01:16, 15.44it/s]"
     ]
    },
    {
     "name": "stdout",
     "output_type": "stream",
     "text": [
      "tensor(289.8774, device='cuda:0', grad_fn=<AddBackward0>)\n",
      "tensor(307.4386, device='cuda:0', grad_fn=<AddBackward0>)\n"
     ]
    },
    {
     "name": "stderr",
     "output_type": "stream",
     "text": [
      "1153it [01:17, 12.75it/s]"
     ]
    },
    {
     "name": "stdout",
     "output_type": "stream",
     "text": [
      "tensor(168.3885, device='cuda:0', grad_fn=<AddBackward0>)\n",
      "tensor(367.9126, device='cuda:0', grad_fn=<AddBackward0>)\n",
      "tensor(270.5464, device='cuda:0', grad_fn=<AddBackward0>)\n",
      "tensor(290.8716, device='cuda:0', grad_fn=<AddBackward0>)\n"
     ]
    },
    {
     "name": "stderr",
     "output_type": "stream",
     "text": [
      "1157it [01:17, 13.94it/s]"
     ]
    },
    {
     "name": "stdout",
     "output_type": "stream",
     "text": [
      "tensor(227.4007, device='cuda:0', grad_fn=<AddBackward0>)\n",
      "tensor(192.7117, device='cuda:0', grad_fn=<AddBackward0>)\n",
      "tensor(321.1505, device='cuda:0', grad_fn=<AddBackward0>)\n",
      "tensor(202.9105, device='cuda:0', grad_fn=<AddBackward0>)\n"
     ]
    },
    {
     "name": "stderr",
     "output_type": "stream",
     "text": [
      "1161it [01:17, 14.49it/s]"
     ]
    },
    {
     "name": "stdout",
     "output_type": "stream",
     "text": [
      "tensor(217.8123, device='cuda:0', grad_fn=<AddBackward0>)\n",
      "tensor(336.2620, device='cuda:0', grad_fn=<AddBackward0>)\n",
      "tensor(268.3349, device='cuda:0', grad_fn=<AddBackward0>)\n",
      "tensor(214.6475, device='cuda:0', grad_fn=<AddBackward0>)\n"
     ]
    },
    {
     "name": "stderr",
     "output_type": "stream",
     "text": [
      "1165it [01:18, 14.74it/s]"
     ]
    },
    {
     "name": "stdout",
     "output_type": "stream",
     "text": [
      "tensor(165.6193, device='cuda:0', grad_fn=<AddBackward0>)\n",
      "tensor(216.7221, device='cuda:0', grad_fn=<AddBackward0>)\n",
      "tensor(197.5680, device='cuda:0', grad_fn=<AddBackward0>)\n",
      "tensor(278.4173, device='cuda:0', grad_fn=<AddBackward0>)\n"
     ]
    },
    {
     "name": "stderr",
     "output_type": "stream",
     "text": [
      "1169it [01:18, 15.36it/s]"
     ]
    },
    {
     "name": "stdout",
     "output_type": "stream",
     "text": [
      "tensor(386.3153, device='cuda:0', grad_fn=<AddBackward0>)\n",
      "tensor(245.8300, device='cuda:0', grad_fn=<AddBackward0>)\n",
      "tensor(287.8220, device='cuda:0', grad_fn=<AddBackward0>)\n",
      "tensor(267.8065, device='cuda:0', grad_fn=<AddBackward0>)\n"
     ]
    },
    {
     "name": "stderr",
     "output_type": "stream",
     "text": [
      "1173it [01:18, 14.92it/s]"
     ]
    },
    {
     "name": "stdout",
     "output_type": "stream",
     "text": [
      "tensor(309.7993, device='cuda:0', grad_fn=<AddBackward0>)\n",
      "tensor(229.8290, device='cuda:0', grad_fn=<AddBackward0>)\n",
      "tensor(270.2075, device='cuda:0', grad_fn=<AddBackward0>)\n",
      "tensor(386.3773, device='cuda:0', grad_fn=<AddBackward0>)\n"
     ]
    },
    {
     "name": "stderr",
     "output_type": "stream",
     "text": [
      "1175it [01:18, 15.45it/s]"
     ]
    },
    {
     "name": "stdout",
     "output_type": "stream",
     "text": [
      "tensor(208.4881, device='cuda:0', grad_fn=<AddBackward0>)\n",
      "tensor(293.4948, device='cuda:0', grad_fn=<AddBackward0>)\n"
     ]
    },
    {
     "name": "stderr",
     "output_type": "stream",
     "text": [
      "1179it [01:19, 12.76it/s]"
     ]
    },
    {
     "name": "stdout",
     "output_type": "stream",
     "text": [
      "tensor(264.6658, device='cuda:0', grad_fn=<AddBackward0>)\n",
      "tensor(279.4866, device='cuda:0', grad_fn=<AddBackward0>)\n",
      "tensor(190.4558, device='cuda:0', grad_fn=<AddBackward0>)\n",
      "tensor(239.1061, device='cuda:0', grad_fn=<AddBackward0>)\n"
     ]
    },
    {
     "name": "stderr",
     "output_type": "stream",
     "text": [
      "1183it [01:19, 13.98it/s]"
     ]
    },
    {
     "name": "stdout",
     "output_type": "stream",
     "text": [
      "tensor(162.9312, device='cuda:0', grad_fn=<AddBackward0>)\n",
      "tensor(151.9465, device='cuda:0', grad_fn=<AddBackward0>)\n",
      "tensor(318.5395, device='cuda:0', grad_fn=<AddBackward0>)\n",
      "tensor(231.9964, device='cuda:0', grad_fn=<AddBackward0>)\n"
     ]
    },
    {
     "name": "stderr",
     "output_type": "stream",
     "text": [
      "1187it [01:19, 14.51it/s]"
     ]
    },
    {
     "name": "stdout",
     "output_type": "stream",
     "text": [
      "tensor(205.9640, device='cuda:0', grad_fn=<AddBackward0>)\n",
      "tensor(125.8404, device='cuda:0', grad_fn=<AddBackward0>)\n",
      "tensor(301.4584, device='cuda:0', grad_fn=<AddBackward0>)\n",
      "tensor(200.2983, device='cuda:0', grad_fn=<AddBackward0>)\n"
     ]
    },
    {
     "name": "stderr",
     "output_type": "stream",
     "text": [
      "1191it [01:19, 14.89it/s]"
     ]
    },
    {
     "name": "stdout",
     "output_type": "stream",
     "text": [
      "tensor(269.2519, device='cuda:0', grad_fn=<AddBackward0>)\n",
      "tensor(185.5822, device='cuda:0', grad_fn=<AddBackward0>)\n",
      "tensor(163.5258, device='cuda:0', grad_fn=<AddBackward0>)\n",
      "tensor(231.1765, device='cuda:0', grad_fn=<AddBackward0>)\n"
     ]
    },
    {
     "name": "stderr",
     "output_type": "stream",
     "text": [
      "1195it [01:20, 14.84it/s]"
     ]
    },
    {
     "name": "stdout",
     "output_type": "stream",
     "text": [
      "tensor(203.0059, device='cuda:0', grad_fn=<AddBackward0>)\n",
      "tensor(348.7141, device='cuda:0', grad_fn=<AddBackward0>)\n",
      "tensor(235.9271, device='cuda:0', grad_fn=<AddBackward0>)\n",
      "tensor(166.5940, device='cuda:0', grad_fn=<AddBackward0>)\n"
     ]
    },
    {
     "name": "stderr",
     "output_type": "stream",
     "text": [
      "1199it [01:20, 15.15it/s]"
     ]
    },
    {
     "name": "stdout",
     "output_type": "stream",
     "text": [
      "tensor(321.2016, device='cuda:0', grad_fn=<AddBackward0>)\n",
      "tensor(191.7908, device='cuda:0', grad_fn=<AddBackward0>)\n",
      "tensor(177.3607, device='cuda:0', grad_fn=<AddBackward0>)\n",
      "tensor(288.2732, device='cuda:0', grad_fn=<AddBackward0>)\n"
     ]
    },
    {
     "name": "stderr",
     "output_type": "stream",
     "text": [
      "1203it [01:20, 15.11it/s]"
     ]
    },
    {
     "name": "stdout",
     "output_type": "stream",
     "text": [
      "tensor(215.0230, device='cuda:0', grad_fn=<AddBackward0>)\n",
      "tensor(225.3781, device='cuda:0', grad_fn=<AddBackward0>)\n",
      "tensor(273.1439, device='cuda:0', grad_fn=<AddBackward0>)\n",
      "tensor(288.3286, device='cuda:0', grad_fn=<AddBackward0>)\n"
     ]
    },
    {
     "name": "stderr",
     "output_type": "stream",
     "text": [
      "1205it [01:20, 15.46it/s]"
     ]
    },
    {
     "name": "stdout",
     "output_type": "stream",
     "text": [
      "tensor(269.0827, device='cuda:0', grad_fn=<AddBackward0>)\n",
      "tensor(159.6564, device='cuda:0', grad_fn=<AddBackward0>)\n"
     ]
    },
    {
     "name": "stderr",
     "output_type": "stream",
     "text": [
      "1209it [01:21, 12.65it/s]"
     ]
    },
    {
     "name": "stdout",
     "output_type": "stream",
     "text": [
      "tensor(268.5618, device='cuda:0', grad_fn=<AddBackward0>)\n",
      "tensor(170.7232, device='cuda:0', grad_fn=<AddBackward0>)\n",
      "tensor(168.0292, device='cuda:0', grad_fn=<AddBackward0>)\n",
      "tensor(242.8999, device='cuda:0', grad_fn=<AddBackward0>)\n"
     ]
    },
    {
     "name": "stderr",
     "output_type": "stream",
     "text": [
      "1213it [01:21, 13.44it/s]"
     ]
    },
    {
     "name": "stdout",
     "output_type": "stream",
     "text": [
      "tensor(277.8116, device='cuda:0', grad_fn=<AddBackward0>)\n",
      "tensor(321.5280, device='cuda:0', grad_fn=<AddBackward0>)\n",
      "tensor(192.4225, device='cuda:0', grad_fn=<AddBackward0>)\n",
      "tensor(456.7079, device='cuda:0', grad_fn=<AddBackward0>)\n"
     ]
    },
    {
     "name": "stderr",
     "output_type": "stream",
     "text": [
      "1217it [01:21, 14.67it/s]"
     ]
    },
    {
     "name": "stdout",
     "output_type": "stream",
     "text": [
      "tensor(269.1330, device='cuda:0', grad_fn=<AddBackward0>)\n",
      "tensor(155.9799, device='cuda:0', grad_fn=<AddBackward0>)\n",
      "tensor(254.3248, device='cuda:0', grad_fn=<AddBackward0>)\n",
      "tensor(266.1794, device='cuda:0', grad_fn=<AddBackward0>)\n"
     ]
    },
    {
     "name": "stderr",
     "output_type": "stream",
     "text": [
      "1221it [01:22, 14.92it/s]"
     ]
    },
    {
     "name": "stdout",
     "output_type": "stream",
     "text": [
      "tensor(272.7735, device='cuda:0', grad_fn=<AddBackward0>)\n",
      "tensor(279.3973, device='cuda:0', grad_fn=<AddBackward0>)\n",
      "tensor(290.5511, device='cuda:0', grad_fn=<AddBackward0>)\n",
      "tensor(199.4067, device='cuda:0', grad_fn=<AddBackward0>)\n"
     ]
    },
    {
     "name": "stderr",
     "output_type": "stream",
     "text": [
      "1225it [01:22, 14.82it/s]"
     ]
    },
    {
     "name": "stdout",
     "output_type": "stream",
     "text": [
      "tensor(166.7004, device='cuda:0', grad_fn=<AddBackward0>)\n",
      "tensor(268.8129, device='cuda:0', grad_fn=<AddBackward0>)\n",
      "tensor(196.8407, device='cuda:0', grad_fn=<AddBackward0>)\n",
      "tensor(255.5254, device='cuda:0', grad_fn=<AddBackward0>)\n"
     ]
    },
    {
     "name": "stderr",
     "output_type": "stream",
     "text": [
      "1229it [01:22, 14.92it/s]"
     ]
    },
    {
     "name": "stdout",
     "output_type": "stream",
     "text": [
      "tensor(262.7433, device='cuda:0', grad_fn=<AddBackward0>)\n",
      "tensor(202.7749, device='cuda:0', grad_fn=<AddBackward0>)\n",
      "tensor(322.7387, device='cuda:0', grad_fn=<AddBackward0>)\n",
      "tensor(333.7459, device='cuda:0', grad_fn=<AddBackward0>)\n"
     ]
    },
    {
     "name": "stderr",
     "output_type": "stream",
     "text": [
      "1233it [01:22, 15.40it/s]"
     ]
    },
    {
     "name": "stdout",
     "output_type": "stream",
     "text": [
      "tensor(256.1342, device='cuda:0', grad_fn=<AddBackward0>)\n",
      "tensor(232.2382, device='cuda:0', grad_fn=<AddBackward0>)\n",
      "tensor(310.0363, device='cuda:0', grad_fn=<AddBackward0>)\n"
     ]
    },
    {
     "name": "stderr",
     "output_type": "stream",
     "text": [
      "1235it [01:22, 15.25it/s]"
     ]
    },
    {
     "name": "stdout",
     "output_type": "stream",
     "text": [
      "tensor(257.6387, device='cuda:0', grad_fn=<AddBackward0>)\n",
      "tensor(229.1263, device='cuda:0', grad_fn=<AddBackward0>)\n",
      "tensor(209.8182, device='cuda:0', grad_fn=<AddBackward0>)\n",
      "tensor(225.0730, device='cuda:0', grad_fn=<AddBackward0>)\n"
     ]
    },
    {
     "name": "stderr",
     "output_type": "stream",
     "text": [
      "1239it [01:23, 14.63it/s]"
     ]
    },
    {
     "name": "stdout",
     "output_type": "stream",
     "text": [
      "tensor(384.2178, device='cuda:0', grad_fn=<AddBackward0>)\n",
      "tensor(322.4820, device='cuda:0', grad_fn=<AddBackward0>)\n",
      "tensor(124.9282, device='cuda:0', grad_fn=<AddBackward0>)\n"
     ]
    },
    {
     "name": "stderr",
     "output_type": "stream",
     "text": [
      "1243it [01:23, 15.16it/s]"
     ]
    },
    {
     "name": "stdout",
     "output_type": "stream",
     "text": [
      "tensor(297.3172, device='cuda:0', grad_fn=<AddBackward0>)\n",
      "tensor(258.7389, device='cuda:0', grad_fn=<AddBackward0>)\n",
      "tensor(286.3192, device='cuda:0', grad_fn=<AddBackward0>)\n",
      "tensor(321.7289, device='cuda:0', grad_fn=<AddBackward0>)\n"
     ]
    },
    {
     "name": "stderr",
     "output_type": "stream",
     "text": [
      "1245it [01:23, 15.12it/s]"
     ]
    },
    {
     "name": "stdout",
     "output_type": "stream",
     "text": [
      "tensor(275.4135, device='cuda:0', grad_fn=<AddBackward0>)\n",
      "tensor(283.1116, device='cuda:0', grad_fn=<AddBackward0>)\n"
     ]
    },
    {
     "name": "stderr",
     "output_type": "stream",
     "text": [
      "1249it [01:24, 12.45it/s]"
     ]
    },
    {
     "name": "stdout",
     "output_type": "stream",
     "text": [
      "tensor(210.0860, device='cuda:0', grad_fn=<AddBackward0>)\n",
      "tensor(284.9705, device='cuda:0', grad_fn=<AddBackward0>)\n",
      "tensor(273.3027, device='cuda:0', grad_fn=<AddBackward0>)\n"
     ]
    },
    {
     "name": "stderr",
     "output_type": "stream",
     "text": [
      "1251it [01:24, 13.39it/s]"
     ]
    },
    {
     "name": "stdout",
     "output_type": "stream",
     "text": [
      "tensor(220.3946, device='cuda:0', grad_fn=<AddBackward0>)\n",
      "tensor(260.8889, device='cuda:0', grad_fn=<AddBackward0>)\n",
      "tensor(222.2429, device='cuda:0', grad_fn=<AddBackward0>)\n",
      "tensor(236.3849, device='cuda:0', grad_fn=<AddBackward0>)\n"
     ]
    },
    {
     "name": "stderr",
     "output_type": "stream",
     "text": [
      "1255it [01:24, 13.98it/s]"
     ]
    },
    {
     "name": "stdout",
     "output_type": "stream",
     "text": [
      "tensor(210.6489, device='cuda:0', grad_fn=<AddBackward0>)\n",
      "tensor(196.3372, device='cuda:0', grad_fn=<AddBackward0>)\n",
      "tensor(186.4622, device='cuda:0', grad_fn=<AddBackward0>)\n",
      "tensor(253.2721, device='cuda:0', grad_fn=<AddBackward0>)\n"
     ]
    },
    {
     "name": "stderr",
     "output_type": "stream",
     "text": [
      "1259it [01:24, 14.23it/s]"
     ]
    },
    {
     "name": "stdout",
     "output_type": "stream",
     "text": [
      "tensor(145.9736, device='cuda:0', grad_fn=<AddBackward0>)\n",
      "tensor(208.9537, device='cuda:0', grad_fn=<AddBackward0>)\n",
      "tensor(288.3082, device='cuda:0', grad_fn=<AddBackward0>)\n",
      "tensor(222.4155, device='cuda:0', grad_fn=<AddBackward0>)\n"
     ]
    },
    {
     "name": "stderr",
     "output_type": "stream",
     "text": [
      "1263it [01:24, 15.31it/s]"
     ]
    },
    {
     "name": "stdout",
     "output_type": "stream",
     "text": [
      "tensor(158.5406, device='cuda:0', grad_fn=<AddBackward0>)\n",
      "tensor(296.5759, device='cuda:0', grad_fn=<AddBackward0>)\n",
      "tensor(319.9569, device='cuda:0', grad_fn=<AddBackward0>)\n",
      "tensor(180.5600, device='cuda:0', grad_fn=<AddBackward0>)\n"
     ]
    },
    {
     "name": "stderr",
     "output_type": "stream",
     "text": [
      "1267it [01:25, 15.15it/s]"
     ]
    },
    {
     "name": "stdout",
     "output_type": "stream",
     "text": [
      "tensor(282.0106, device='cuda:0', grad_fn=<AddBackward0>)\n",
      "tensor(226.2131, device='cuda:0', grad_fn=<AddBackward0>)\n",
      "tensor(218.9865, device='cuda:0', grad_fn=<AddBackward0>)\n",
      "tensor(277.5580, device='cuda:0', grad_fn=<AddBackward0>)\n"
     ]
    },
    {
     "name": "stderr",
     "output_type": "stream",
     "text": [
      "1271it [01:25, 15.44it/s]"
     ]
    },
    {
     "name": "stdout",
     "output_type": "stream",
     "text": [
      "tensor(185.2571, device='cuda:0', grad_fn=<AddBackward0>)\n",
      "tensor(191.1856, device='cuda:0', grad_fn=<AddBackward0>)\n",
      "tensor(251.1579, device='cuda:0', grad_fn=<AddBackward0>)\n",
      "tensor(232.8478, device='cuda:0', grad_fn=<AddBackward0>)\n"
     ]
    },
    {
     "name": "stderr",
     "output_type": "stream",
     "text": [
      "1275it [01:25, 15.61it/s]"
     ]
    },
    {
     "name": "stdout",
     "output_type": "stream",
     "text": [
      "tensor(226.8497, device='cuda:0', grad_fn=<AddBackward0>)\n",
      "tensor(179.7045, device='cuda:0', grad_fn=<AddBackward0>)\n",
      "tensor(153.4822, device='cuda:0', grad_fn=<AddBackward0>)\n",
      "tensor(229.3341, device='cuda:0', grad_fn=<AddBackward0>)\n"
     ]
    },
    {
     "name": "stderr",
     "output_type": "stream",
     "text": [
      "1279it [01:26, 12.57it/s]"
     ]
    },
    {
     "name": "stdout",
     "output_type": "stream",
     "text": [
      "tensor(151.2514, device='cuda:0', grad_fn=<AddBackward0>)\n",
      "tensor(213.3711, device='cuda:0', grad_fn=<AddBackward0>)\n"
     ]
    },
    {
     "name": "stderr",
     "output_type": "stream",
     "text": [
      "1281it [01:26, 12.83it/s]"
     ]
    },
    {
     "name": "stdout",
     "output_type": "stream",
     "text": [
      "tensor(142.4711, device='cuda:0', grad_fn=<AddBackward0>)\n",
      "tensor(209.6540, device='cuda:0', grad_fn=<AddBackward0>)\n",
      "tensor(261.4312, device='cuda:0', grad_fn=<AddBackward0>)\n",
      "tensor(251.1364, device='cuda:0', grad_fn=<AddBackward0>)\n"
     ]
    },
    {
     "name": "stderr",
     "output_type": "stream",
     "text": [
      "1285it [01:26, 13.68it/s]"
     ]
    },
    {
     "name": "stdout",
     "output_type": "stream",
     "text": [
      "tensor(205.5729, device='cuda:0', grad_fn=<AddBackward0>)\n",
      "tensor(203.2943, device='cuda:0', grad_fn=<AddBackward0>)\n",
      "tensor(247.5746, device='cuda:0', grad_fn=<AddBackward0>)\n"
     ]
    },
    {
     "name": "stderr",
     "output_type": "stream",
     "text": [
      "1289it [01:26, 14.32it/s]"
     ]
    },
    {
     "name": "stdout",
     "output_type": "stream",
     "text": [
      "tensor(292.2637, device='cuda:0', grad_fn=<AddBackward0>)\n",
      "tensor(188.8464, device='cuda:0', grad_fn=<AddBackward0>)\n",
      "tensor(236.8986, device='cuda:0', grad_fn=<AddBackward0>)\n",
      "tensor(199.2701, device='cuda:0', grad_fn=<AddBackward0>)\n"
     ]
    },
    {
     "name": "stderr",
     "output_type": "stream",
     "text": [
      "1293it [01:27, 14.30it/s]"
     ]
    },
    {
     "name": "stdout",
     "output_type": "stream",
     "text": [
      "tensor(307.0516, device='cuda:0', grad_fn=<AddBackward0>)\n",
      "tensor(211.6895, device='cuda:0', grad_fn=<AddBackward0>)\n",
      "tensor(176.0049, device='cuda:0', grad_fn=<AddBackward0>)\n",
      "tensor(187.0173, device='cuda:0', grad_fn=<AddBackward0>)\n"
     ]
    },
    {
     "name": "stderr",
     "output_type": "stream",
     "text": [
      "1297it [01:27, 14.85it/s]"
     ]
    },
    {
     "name": "stdout",
     "output_type": "stream",
     "text": [
      "tensor(287.5413, device='cuda:0', grad_fn=<AddBackward0>)\n",
      "tensor(280.7036, device='cuda:0', grad_fn=<AddBackward0>)\n",
      "tensor(243.1466, device='cuda:0', grad_fn=<AddBackward0>)\n",
      "tensor(221.9098, device='cuda:0', grad_fn=<AddBackward0>)\n"
     ]
    },
    {
     "name": "stderr",
     "output_type": "stream",
     "text": [
      "1301it [01:27, 14.60it/s]"
     ]
    },
    {
     "name": "stdout",
     "output_type": "stream",
     "text": [
      "tensor(207.7636, device='cuda:0', grad_fn=<AddBackward0>)\n",
      "tensor(175.1768, device='cuda:0', grad_fn=<AddBackward0>)\n",
      "tensor(291.9392, device='cuda:0', grad_fn=<AddBackward0>)\n",
      "tensor(246.9324, device='cuda:0', grad_fn=<AddBackward0>)\n"
     ]
    },
    {
     "name": "stderr",
     "output_type": "stream",
     "text": [
      "1305it [01:27, 14.69it/s]"
     ]
    },
    {
     "name": "stdout",
     "output_type": "stream",
     "text": [
      "tensor(305.7047, device='cuda:0', grad_fn=<AddBackward0>)\n",
      "tensor(180.0682, device='cuda:0', grad_fn=<AddBackward0>)\n",
      "tensor(131.9550, device='cuda:0', grad_fn=<AddBackward0>)\n",
      "tensor(206.4241, device='cuda:0', grad_fn=<AddBackward0>)\n"
     ]
    },
    {
     "name": "stderr",
     "output_type": "stream",
     "text": [
      "1307it [01:28, 11.96it/s]"
     ]
    },
    {
     "name": "stdout",
     "output_type": "stream",
     "text": [
      "tensor(214.5307, device='cuda:0', grad_fn=<AddBackward0>)\n"
     ]
    },
    {
     "name": "stderr",
     "output_type": "stream",
     "text": [
      "1309it [01:28, 11.03it/s]"
     ]
    },
    {
     "name": "stdout",
     "output_type": "stream",
     "text": [
      "tensor(169.5708, device='cuda:0', grad_fn=<AddBackward0>)\n",
      "tensor(184.0239, device='cuda:0', grad_fn=<AddBackward0>)\n",
      "tensor(223.1640, device='cuda:0', grad_fn=<AddBackward0>)\n"
     ]
    },
    {
     "name": "stderr",
     "output_type": "stream",
     "text": [
      "1311it [01:28, 11.00it/s]"
     ]
    },
    {
     "name": "stdout",
     "output_type": "stream",
     "text": [
      "tensor(227.8896, device='cuda:0', grad_fn=<AddBackward0>)\n",
      "tensor(264.6911, device='cuda:0', grad_fn=<AddBackward0>)\n",
      "tensor(211.4468, device='cuda:0', grad_fn=<AddBackward0>)\n"
     ]
    },
    {
     "name": "stderr",
     "output_type": "stream",
     "text": [
      "1315it [01:28, 11.71it/s]"
     ]
    },
    {
     "name": "stdout",
     "output_type": "stream",
     "text": [
      "tensor(250.8177, device='cuda:0', grad_fn=<AddBackward0>)\n",
      "tensor(259.1013, device='cuda:0', grad_fn=<AddBackward0>)\n",
      "tensor(209.4732, device='cuda:0', grad_fn=<AddBackward0>)\n",
      "tensor(334.0546, device='cuda:0', grad_fn=<AddBackward0>)\n"
     ]
    },
    {
     "name": "stderr",
     "output_type": "stream",
     "text": [
      "1319it [01:29, 13.37it/s]"
     ]
    },
    {
     "name": "stdout",
     "output_type": "stream",
     "text": [
      "tensor(334.8644, device='cuda:0', grad_fn=<AddBackward0>)\n",
      "tensor(270.9221, device='cuda:0', grad_fn=<AddBackward0>)\n",
      "tensor(250.5239, device='cuda:0', grad_fn=<AddBackward0>)\n",
      "tensor(314.5978, device='cuda:0', grad_fn=<AddBackward0>)\n"
     ]
    },
    {
     "name": "stderr",
     "output_type": "stream",
     "text": [
      "1323it [01:29, 14.45it/s]"
     ]
    },
    {
     "name": "stdout",
     "output_type": "stream",
     "text": [
      "tensor(157.4524, device='cuda:0', grad_fn=<AddBackward0>)\n",
      "tensor(148.7456, device='cuda:0', grad_fn=<AddBackward0>)\n",
      "tensor(156.4019, device='cuda:0', grad_fn=<AddBackward0>)\n",
      "tensor(217.4368, device='cuda:0', grad_fn=<AddBackward0>)\n"
     ]
    },
    {
     "name": "stderr",
     "output_type": "stream",
     "text": [
      "1327it [01:29, 15.02it/s]"
     ]
    },
    {
     "name": "stdout",
     "output_type": "stream",
     "text": [
      "tensor(258.2897, device='cuda:0', grad_fn=<AddBackward0>)\n",
      "tensor(248.4939, device='cuda:0', grad_fn=<AddBackward0>)\n",
      "tensor(271.2916, device='cuda:0', grad_fn=<AddBackward0>)\n",
      "tensor(194.9618, device='cuda:0', grad_fn=<AddBackward0>)\n"
     ]
    },
    {
     "name": "stderr",
     "output_type": "stream",
     "text": [
      "1331it [01:29, 15.24it/s]"
     ]
    },
    {
     "name": "stdout",
     "output_type": "stream",
     "text": [
      "tensor(241.1419, device='cuda:0', grad_fn=<AddBackward0>)\n",
      "tensor(265.4886, device='cuda:0', grad_fn=<AddBackward0>)\n",
      "tensor(207.9790, device='cuda:0', grad_fn=<AddBackward0>)\n",
      "tensor(172.8567, device='cuda:0', grad_fn=<AddBackward0>)\n"
     ]
    },
    {
     "name": "stderr",
     "output_type": "stream",
     "text": [
      "1335it [01:30, 15.46it/s]"
     ]
    },
    {
     "name": "stdout",
     "output_type": "stream",
     "text": [
      "tensor(196.9613, device='cuda:0', grad_fn=<AddBackward0>)\n",
      "tensor(288.4817, device='cuda:0', grad_fn=<AddBackward0>)\n",
      "tensor(621.7457, device='cuda:0', grad_fn=<AddBackward0>)\n",
      "tensor(253.7618, device='cuda:0', grad_fn=<AddBackward0>)\n"
     ]
    },
    {
     "name": "stderr",
     "output_type": "stream",
     "text": [
      "1339it [01:30, 15.52it/s]"
     ]
    },
    {
     "name": "stdout",
     "output_type": "stream",
     "text": [
      "tensor(258.5127, device='cuda:0', grad_fn=<AddBackward0>)\n",
      "tensor(321.2879, device='cuda:0', grad_fn=<AddBackward0>)\n",
      "tensor(250.8480, device='cuda:0', grad_fn=<AddBackward0>)\n",
      "tensor(175.2689, device='cuda:0', grad_fn=<AddBackward0>)\n"
     ]
    },
    {
     "name": "stderr",
     "output_type": "stream",
     "text": [
      "1343it [01:30, 15.56it/s]"
     ]
    },
    {
     "name": "stdout",
     "output_type": "stream",
     "text": [
      "tensor(228.3609, device='cuda:0', grad_fn=<AddBackward0>)\n",
      "tensor(242.5128, device='cuda:0', grad_fn=<AddBackward0>)\n",
      "tensor(125.6784, device='cuda:0', grad_fn=<AddBackward0>)\n",
      "tensor(186.6093, device='cuda:0', grad_fn=<AddBackward0>)\n"
     ]
    },
    {
     "name": "stderr",
     "output_type": "stream",
     "text": [
      "1347it [01:30, 15.58it/s]"
     ]
    },
    {
     "name": "stdout",
     "output_type": "stream",
     "text": [
      "tensor(270.9296, device='cuda:0', grad_fn=<AddBackward0>)\n",
      "tensor(298.4188, device='cuda:0', grad_fn=<AddBackward0>)\n",
      "tensor(146.3091, device='cuda:0', grad_fn=<AddBackward0>)\n",
      "tensor(206.2591, device='cuda:0', grad_fn=<AddBackward0>)\n"
     ]
    },
    {
     "name": "stderr",
     "output_type": "stream",
     "text": [
      "1351it [01:31, 15.33it/s]"
     ]
    },
    {
     "name": "stdout",
     "output_type": "stream",
     "text": [
      "tensor(290.0270, device='cuda:0', grad_fn=<AddBackward0>)\n",
      "tensor(151.3146, device='cuda:0', grad_fn=<AddBackward0>)\n",
      "tensor(324.0084, device='cuda:0', grad_fn=<AddBackward0>)\n",
      "tensor(152.1214, device='cuda:0', grad_fn=<AddBackward0>)\n"
     ]
    },
    {
     "name": "stderr",
     "output_type": "stream",
     "text": [
      "1355it [01:31, 14.86it/s]"
     ]
    },
    {
     "name": "stdout",
     "output_type": "stream",
     "text": [
      "tensor(206.7745, device='cuda:0', grad_fn=<AddBackward0>)\n",
      "tensor(239.6534, device='cuda:0', grad_fn=<AddBackward0>)\n",
      "tensor(168.3496, device='cuda:0', grad_fn=<AddBackward0>)\n",
      "tensor(311.9443, device='cuda:0', grad_fn=<AddBackward0>)\n"
     ]
    },
    {
     "name": "stderr",
     "output_type": "stream",
     "text": [
      "1359it [01:31, 12.41it/s]"
     ]
    },
    {
     "name": "stdout",
     "output_type": "stream",
     "text": [
      "tensor(231.8293, device='cuda:0', grad_fn=<AddBackward0>)\n",
      "tensor(288.7800, device='cuda:0', grad_fn=<AddBackward0>)\n"
     ]
    },
    {
     "name": "stderr",
     "output_type": "stream",
     "text": [
      "1361it [01:31, 12.53it/s]"
     ]
    },
    {
     "name": "stdout",
     "output_type": "stream",
     "text": [
      "tensor(284.6189, device='cuda:0', grad_fn=<AddBackward0>)\n",
      "tensor(234.9455, device='cuda:0', grad_fn=<AddBackward0>)\n",
      "tensor(289.3451, device='cuda:0', grad_fn=<AddBackward0>)\n",
      "tensor(320.7748, device='cuda:0', grad_fn=<AddBackward0>)\n"
     ]
    },
    {
     "name": "stderr",
     "output_type": "stream",
     "text": [
      "1365it [01:32, 13.38it/s]"
     ]
    },
    {
     "name": "stdout",
     "output_type": "stream",
     "text": [
      "tensor(211.2460, device='cuda:0', grad_fn=<AddBackward0>)\n",
      "tensor(240.5692, device='cuda:0', grad_fn=<AddBackward0>)\n",
      "tensor(266.7820, device='cuda:0', grad_fn=<AddBackward0>)\n",
      "tensor(192.5970, device='cuda:0', grad_fn=<AddBackward0>)\n"
     ]
    },
    {
     "name": "stderr",
     "output_type": "stream",
     "text": [
      "1369it [01:32, 14.78it/s]"
     ]
    },
    {
     "name": "stdout",
     "output_type": "stream",
     "text": [
      "tensor(157.7966, device='cuda:0', grad_fn=<AddBackward0>)\n",
      "tensor(251.3846, device='cuda:0', grad_fn=<AddBackward0>)\n",
      "tensor(187.1490, device='cuda:0', grad_fn=<AddBackward0>)\n",
      "tensor(206.1835, device='cuda:0', grad_fn=<AddBackward0>)\n"
     ]
    },
    {
     "name": "stderr",
     "output_type": "stream",
     "text": [
      "1373it [01:32, 14.98it/s]"
     ]
    },
    {
     "name": "stdout",
     "output_type": "stream",
     "text": [
      "tensor(156.9839, device='cuda:0', grad_fn=<AddBackward0>)\n",
      "tensor(250.0835, device='cuda:0', grad_fn=<AddBackward0>)\n",
      "tensor(207.8719, device='cuda:0', grad_fn=<AddBackward0>)\n",
      "tensor(172.4145, device='cuda:0', grad_fn=<AddBackward0>)\n"
     ]
    },
    {
     "name": "stderr",
     "output_type": "stream",
     "text": [
      "1377it [01:32, 15.74it/s]"
     ]
    },
    {
     "name": "stdout",
     "output_type": "stream",
     "text": [
      "tensor(281.0378, device='cuda:0', grad_fn=<AddBackward0>)\n",
      "tensor(251.4387, device='cuda:0', grad_fn=<AddBackward0>)\n",
      "tensor(269.1542, device='cuda:0', grad_fn=<AddBackward0>)\n",
      "tensor(369.4105, device='cuda:0', grad_fn=<AddBackward0>)\n"
     ]
    },
    {
     "name": "stderr",
     "output_type": "stream",
     "text": [
      "1381it [01:33, 15.89it/s]"
     ]
    },
    {
     "name": "stdout",
     "output_type": "stream",
     "text": [
      "tensor(231.2590, device='cuda:0', grad_fn=<AddBackward0>)\n",
      "tensor(154.5637, device='cuda:0', grad_fn=<AddBackward0>)\n",
      "tensor(251.4485, device='cuda:0', grad_fn=<AddBackward0>)\n",
      "tensor(294.2839, device='cuda:0', grad_fn=<AddBackward0>)\n"
     ]
    },
    {
     "name": "stderr",
     "output_type": "stream",
     "text": [
      "1385it [01:33, 15.84it/s]"
     ]
    },
    {
     "name": "stdout",
     "output_type": "stream",
     "text": [
      "tensor(219.0974, device='cuda:0', grad_fn=<AddBackward0>)\n",
      "tensor(242.8096, device='cuda:0', grad_fn=<AddBackward0>)\n",
      "tensor(236.8034, device='cuda:0', grad_fn=<AddBackward0>)\n",
      "tensor(175.5124, device='cuda:0', grad_fn=<AddBackward0>)\n"
     ]
    },
    {
     "name": "stderr",
     "output_type": "stream",
     "text": [
      "1389it [01:33, 15.99it/s]"
     ]
    },
    {
     "name": "stdout",
     "output_type": "stream",
     "text": [
      "tensor(203.1998, device='cuda:0', grad_fn=<AddBackward0>)\n",
      "tensor(262.4825, device='cuda:0', grad_fn=<AddBackward0>)\n",
      "tensor(256.7881, device='cuda:0', grad_fn=<AddBackward0>)\n",
      "tensor(246.1309, device='cuda:0', grad_fn=<AddBackward0>)\n"
     ]
    },
    {
     "name": "stderr",
     "output_type": "stream",
     "text": [
      "1393it [01:33, 16.06it/s]"
     ]
    },
    {
     "name": "stdout",
     "output_type": "stream",
     "text": [
      "tensor(268.4829, device='cuda:0', grad_fn=<AddBackward0>)\n",
      "tensor(211.0369, device='cuda:0', grad_fn=<AddBackward0>)\n",
      "tensor(295.1972, device='cuda:0', grad_fn=<AddBackward0>)\n",
      "tensor(294.7935, device='cuda:0', grad_fn=<AddBackward0>)\n"
     ]
    },
    {
     "name": "stderr",
     "output_type": "stream",
     "text": [
      "1397it [01:34, 16.01it/s]"
     ]
    },
    {
     "name": "stdout",
     "output_type": "stream",
     "text": [
      "tensor(233.4197, device='cuda:0', grad_fn=<AddBackward0>)\n",
      "tensor(152.1066, device='cuda:0', grad_fn=<AddBackward0>)\n",
      "tensor(348.7861, device='cuda:0', grad_fn=<AddBackward0>)\n",
      "tensor(231.6373, device='cuda:0', grad_fn=<AddBackward0>)\n"
     ]
    },
    {
     "name": "stderr",
     "output_type": "stream",
     "text": [
      "1401it [01:34, 15.98it/s]"
     ]
    },
    {
     "name": "stdout",
     "output_type": "stream",
     "text": [
      "tensor(289.3007, device='cuda:0', grad_fn=<AddBackward0>)\n",
      "tensor(157.5853, device='cuda:0', grad_fn=<AddBackward0>)\n"
     ]
    },
    {
     "name": "stderr",
     "output_type": "stream",
     "text": [
      "1403it [01:34, 12.61it/s]"
     ]
    },
    {
     "name": "stdout",
     "output_type": "stream",
     "text": [
      "tensor(193.4739, device='cuda:0', grad_fn=<AddBackward0>)\n",
      "tensor(164.0801, device='cuda:0', grad_fn=<AddBackward0>)\n",
      "tensor(280.5254, device='cuda:0', grad_fn=<AddBackward0>)\n",
      "tensor(188.3796, device='cuda:0', grad_fn=<AddBackward0>)\n"
     ]
    },
    {
     "name": "stderr",
     "output_type": "stream",
     "text": [
      "1407it [01:34, 13.50it/s]"
     ]
    },
    {
     "name": "stdout",
     "output_type": "stream",
     "text": [
      "tensor(201.4453, device='cuda:0', grad_fn=<AddBackward0>)\n",
      "tensor(247.7116, device='cuda:0', grad_fn=<AddBackward0>)\n",
      "tensor(287.4906, device='cuda:0', grad_fn=<AddBackward0>)\n"
     ]
    },
    {
     "name": "stderr",
     "output_type": "stream",
     "text": [
      "1411it [01:35, 14.20it/s]"
     ]
    },
    {
     "name": "stdout",
     "output_type": "stream",
     "text": [
      "tensor(281.4373, device='cuda:0', grad_fn=<AddBackward0>)\n",
      "tensor(223.9726, device='cuda:0', grad_fn=<AddBackward0>)\n",
      "tensor(250.1073, device='cuda:0', grad_fn=<AddBackward0>)\n"
     ]
    },
    {
     "name": "stderr",
     "output_type": "stream",
     "text": [
      "1413it [01:35, 14.36it/s]"
     ]
    },
    {
     "name": "stdout",
     "output_type": "stream",
     "text": [
      "tensor(192.9246, device='cuda:0', grad_fn=<AddBackward0>)\n",
      "tensor(320.8949, device='cuda:0', grad_fn=<AddBackward0>)\n",
      "tensor(179.1371, device='cuda:0', grad_fn=<AddBackward0>)\n",
      "tensor(224.0504, device='cuda:0', grad_fn=<AddBackward0>)\n"
     ]
    },
    {
     "name": "stderr",
     "output_type": "stream",
     "text": [
      "1419it [01:35, 15.24it/s]"
     ]
    },
    {
     "name": "stdout",
     "output_type": "stream",
     "text": [
      "tensor(187.3339, device='cuda:0', grad_fn=<AddBackward0>)\n",
      "tensor(299.9157, device='cuda:0', grad_fn=<AddBackward0>)\n",
      "tensor(266.3769, device='cuda:0', grad_fn=<AddBackward0>)\n",
      "tensor(292.9266, device='cuda:0', grad_fn=<AddBackward0>)\n"
     ]
    },
    {
     "name": "stderr",
     "output_type": "stream",
     "text": [
      "1421it [01:35, 14.82it/s]"
     ]
    },
    {
     "name": "stdout",
     "output_type": "stream",
     "text": [
      "tensor(204.7082, device='cuda:0', grad_fn=<AddBackward0>)\n",
      "tensor(226.0381, device='cuda:0', grad_fn=<AddBackward0>)\n",
      "tensor(360.0424, device='cuda:0', grad_fn=<AddBackward0>)\n",
      "tensor(314.2172, device='cuda:0', grad_fn=<AddBackward0>)\n"
     ]
    },
    {
     "name": "stderr",
     "output_type": "stream",
     "text": [
      "1425it [01:36, 12.54it/s]"
     ]
    },
    {
     "name": "stdout",
     "output_type": "stream",
     "text": [
      "tensor(149.5099, device='cuda:0', grad_fn=<AddBackward0>)\n",
      "tensor(262.1574, device='cuda:0', grad_fn=<AddBackward0>)\n",
      "tensor(208.6628, device='cuda:0', grad_fn=<AddBackward0>)\n"
     ]
    },
    {
     "name": "stderr",
     "output_type": "stream",
     "text": [
      "1429it [01:36, 13.68it/s]"
     ]
    },
    {
     "name": "stdout",
     "output_type": "stream",
     "text": [
      "tensor(159.8739, device='cuda:0', grad_fn=<AddBackward0>)\n",
      "tensor(203.5089, device='cuda:0', grad_fn=<AddBackward0>)\n",
      "tensor(193.8621, device='cuda:0', grad_fn=<AddBackward0>)\n",
      "tensor(263.3221, device='cuda:0', grad_fn=<AddBackward0>)\n"
     ]
    },
    {
     "name": "stderr",
     "output_type": "stream",
     "text": [
      "1433it [01:36, 13.75it/s]"
     ]
    },
    {
     "name": "stdout",
     "output_type": "stream",
     "text": [
      "tensor(263.1924, device='cuda:0', grad_fn=<AddBackward0>)\n",
      "tensor(221.8196, device='cuda:0', grad_fn=<AddBackward0>)\n",
      "tensor(253.6015, device='cuda:0', grad_fn=<AddBackward0>)\n",
      "tensor(160.8148, device='cuda:0', grad_fn=<AddBackward0>)\n"
     ]
    },
    {
     "name": "stderr",
     "output_type": "stream",
     "text": [
      "1437it [01:37, 14.26it/s]"
     ]
    },
    {
     "name": "stdout",
     "output_type": "stream",
     "text": [
      "tensor(149.1848, device='cuda:0', grad_fn=<AddBackward0>)\n",
      "tensor(195.2145, device='cuda:0', grad_fn=<AddBackward0>)\n",
      "tensor(241.3089, device='cuda:0', grad_fn=<AddBackward0>)\n",
      "tensor(334.6531, device='cuda:0', grad_fn=<AddBackward0>)\n"
     ]
    },
    {
     "name": "stderr",
     "output_type": "stream",
     "text": [
      "1441it [01:37, 14.38it/s]"
     ]
    },
    {
     "name": "stdout",
     "output_type": "stream",
     "text": [
      "tensor(183.2567, device='cuda:0', grad_fn=<AddBackward0>)\n",
      "tensor(267.9976, device='cuda:0', grad_fn=<AddBackward0>)\n",
      "tensor(280.1753, device='cuda:0', grad_fn=<AddBackward0>)\n"
     ]
    },
    {
     "name": "stderr",
     "output_type": "stream",
     "text": [
      "1443it [01:37, 14.91it/s]"
     ]
    },
    {
     "name": "stdout",
     "output_type": "stream",
     "text": [
      "tensor(107.9258, device='cuda:0', grad_fn=<AddBackward0>)\n",
      "tensor(196.8842, device='cuda:0', grad_fn=<AddBackward0>)\n",
      "tensor(187.7314, device='cuda:0', grad_fn=<AddBackward0>)\n",
      "tensor(259.9549, device='cuda:0', grad_fn=<AddBackward0>)\n"
     ]
    },
    {
     "name": "stderr",
     "output_type": "stream",
     "text": [
      "1447it [01:37, 12.47it/s]"
     ]
    },
    {
     "name": "stdout",
     "output_type": "stream",
     "text": [
      "tensor(162.4775, device='cuda:0', grad_fn=<AddBackward0>)\n",
      "tensor(217.7587, device='cuda:0', grad_fn=<AddBackward0>)\n",
      "tensor(291.8268, device='cuda:0', grad_fn=<AddBackward0>)\n",
      "tensor(266.3654, device='cuda:0', grad_fn=<AddBackward0>)\n"
     ]
    },
    {
     "name": "stderr",
     "output_type": "stream",
     "text": [
      "1451it [01:38, 13.43it/s]"
     ]
    },
    {
     "name": "stdout",
     "output_type": "stream",
     "text": [
      "tensor(193.5885, device='cuda:0', grad_fn=<AddBackward0>)\n",
      "tensor(432.4454, device='cuda:0', grad_fn=<AddBackward0>)\n",
      "tensor(231.3911, device='cuda:0', grad_fn=<AddBackward0>)\n",
      "tensor(229.9796, device='cuda:0', grad_fn=<AddBackward0>)\n"
     ]
    },
    {
     "name": "stderr",
     "output_type": "stream",
     "text": [
      "1455it [01:38, 14.04it/s]"
     ]
    },
    {
     "name": "stdout",
     "output_type": "stream",
     "text": [
      "tensor(256.4410, device='cuda:0', grad_fn=<AddBackward0>)\n",
      "tensor(201.9333, device='cuda:0', grad_fn=<AddBackward0>)\n",
      "tensor(187.5599, device='cuda:0', grad_fn=<AddBackward0>)\n"
     ]
    },
    {
     "name": "stderr",
     "output_type": "stream",
     "text": [
      "1459it [01:38, 12.94it/s]"
     ]
    },
    {
     "name": "stdout",
     "output_type": "stream",
     "text": [
      "tensor(302.7152, device='cuda:0', grad_fn=<AddBackward0>)\n",
      "tensor(177.7138, device='cuda:0', grad_fn=<AddBackward0>)\n",
      "tensor(197.4442, device='cuda:0', grad_fn=<AddBackward0>)\n"
     ]
    },
    {
     "name": "stderr",
     "output_type": "stream",
     "text": [
      "1461it [01:38, 12.95it/s]"
     ]
    },
    {
     "name": "stdout",
     "output_type": "stream",
     "text": [
      "tensor(329.1675, device='cuda:0', grad_fn=<AddBackward0>)\n",
      "tensor(301.3483, device='cuda:0', grad_fn=<AddBackward0>)\n",
      "tensor(171.4961, device='cuda:0', grad_fn=<AddBackward0>)\n",
      "tensor(144.3396, device='cuda:0', grad_fn=<AddBackward0>)\n"
     ]
    },
    {
     "name": "stderr",
     "output_type": "stream",
     "text": [
      "1465it [01:39, 13.71it/s]"
     ]
    },
    {
     "name": "stdout",
     "output_type": "stream",
     "text": [
      "tensor(305.9994, device='cuda:0', grad_fn=<AddBackward0>)\n",
      "tensor(316.1083, device='cuda:0', grad_fn=<AddBackward0>)\n",
      "tensor(148.1075, device='cuda:0', grad_fn=<AddBackward0>)\n"
     ]
    },
    {
     "name": "stderr",
     "output_type": "stream",
     "text": [
      "1469it [01:39, 14.68it/s]"
     ]
    },
    {
     "name": "stdout",
     "output_type": "stream",
     "text": [
      "tensor(165.0945, device='cuda:0', grad_fn=<AddBackward0>)\n",
      "tensor(180.0520, device='cuda:0', grad_fn=<AddBackward0>)\n",
      "tensor(210.9883, device='cuda:0', grad_fn=<AddBackward0>)\n"
     ]
    },
    {
     "name": "stderr",
     "output_type": "stream",
     "text": [
      "1471it [01:39, 11.56it/s]"
     ]
    },
    {
     "name": "stdout",
     "output_type": "stream",
     "text": [
      "tensor(318.8184, device='cuda:0', grad_fn=<AddBackward0>)\n",
      "tensor(184.2576, device='cuda:0', grad_fn=<AddBackward0>)\n",
      "tensor(273.0920, device='cuda:0', grad_fn=<AddBackward0>)\n"
     ]
    },
    {
     "name": "stderr",
     "output_type": "stream",
     "text": [
      "1475it [01:39, 12.55it/s]"
     ]
    },
    {
     "name": "stdout",
     "output_type": "stream",
     "text": [
      "tensor(234.0163, device='cuda:0', grad_fn=<AddBackward0>)\n",
      "tensor(313.5909, device='cuda:0', grad_fn=<AddBackward0>)\n",
      "tensor(199.4747, device='cuda:0', grad_fn=<AddBackward0>)\n",
      "tensor(440.0965, device='cuda:0', grad_fn=<AddBackward0>)\n"
     ]
    },
    {
     "name": "stderr",
     "output_type": "stream",
     "text": [
      "1479it [01:40, 13.17it/s]"
     ]
    },
    {
     "name": "stdout",
     "output_type": "stream",
     "text": [
      "tensor(296.4589, device='cuda:0', grad_fn=<AddBackward0>)\n",
      "tensor(231.5164, device='cuda:0', grad_fn=<AddBackward0>)\n",
      "tensor(196.2726, device='cuda:0', grad_fn=<AddBackward0>)\n"
     ]
    },
    {
     "name": "stderr",
     "output_type": "stream",
     "text": [
      "1481it [01:40, 14.02it/s]"
     ]
    },
    {
     "name": "stdout",
     "output_type": "stream",
     "text": [
      "tensor(167.2260, device='cuda:0', grad_fn=<AddBackward0>)\n",
      "tensor(169.4206, device='cuda:0', grad_fn=<AddBackward0>)\n",
      "tensor(254.4424, device='cuda:0', grad_fn=<AddBackward0>)\n",
      "tensor(177.6196, device='cuda:0', grad_fn=<AddBackward0>)\n"
     ]
    },
    {
     "name": "stderr",
     "output_type": "stream",
     "text": [
      "1485it [01:40, 14.40it/s]"
     ]
    },
    {
     "name": "stdout",
     "output_type": "stream",
     "text": [
      "tensor(232.9150, device='cuda:0', grad_fn=<AddBackward0>)\n",
      "tensor(137.5215, device='cuda:0', grad_fn=<AddBackward0>)\n",
      "tensor(199.9816, device='cuda:0', grad_fn=<AddBackward0>)\n",
      "tensor(247.5934, device='cuda:0', grad_fn=<AddBackward0>)\n"
     ]
    },
    {
     "name": "stderr",
     "output_type": "stream",
     "text": [
      "1489it [01:40, 15.22it/s]"
     ]
    },
    {
     "name": "stdout",
     "output_type": "stream",
     "text": [
      "tensor(306.2257, device='cuda:0', grad_fn=<AddBackward0>)\n",
      "tensor(198.6752, device='cuda:0', grad_fn=<AddBackward0>)\n",
      "tensor(186.7433, device='cuda:0', grad_fn=<AddBackward0>)\n",
      "tensor(210.5970, device='cuda:0', grad_fn=<AddBackward0>)\n"
     ]
    },
    {
     "name": "stderr",
     "output_type": "stream",
     "text": [
      "1493it [01:41, 15.22it/s]"
     ]
    },
    {
     "name": "stdout",
     "output_type": "stream",
     "text": [
      "tensor(170.0384, device='cuda:0', grad_fn=<AddBackward0>)\n",
      "tensor(232.7107, device='cuda:0', grad_fn=<AddBackward0>)\n",
      "tensor(189.0035, device='cuda:0', grad_fn=<AddBackward0>)\n",
      "tensor(287.5417, device='cuda:0', grad_fn=<AddBackward0>)\n"
     ]
    },
    {
     "name": "stderr",
     "output_type": "stream",
     "text": [
      "1497it [01:41, 15.74it/s]"
     ]
    },
    {
     "name": "stdout",
     "output_type": "stream",
     "text": [
      "tensor(188.1058, device='cuda:0', grad_fn=<AddBackward0>)\n",
      "tensor(244.3246, device='cuda:0', grad_fn=<AddBackward0>)\n"
     ]
    },
    {
     "name": "stderr",
     "output_type": "stream",
     "text": [
      "1499it [01:41, 12.48it/s]"
     ]
    },
    {
     "name": "stdout",
     "output_type": "stream",
     "text": [
      "tensor(265.4712, device='cuda:0', grad_fn=<AddBackward0>)\n",
      "tensor(252.1846, device='cuda:0', grad_fn=<AddBackward0>)\n",
      "tensor(192.0073, device='cuda:0', grad_fn=<AddBackward0>)\n",
      "tensor(186.4399, device='cuda:0', grad_fn=<AddBackward0>)\n"
     ]
    },
    {
     "name": "stderr",
     "output_type": "stream",
     "text": [
      "1503it [01:41, 13.21it/s]"
     ]
    },
    {
     "name": "stdout",
     "output_type": "stream",
     "text": [
      "tensor(257.5427, device='cuda:0', grad_fn=<AddBackward0>)\n",
      "tensor(325.2705, device='cuda:0', grad_fn=<AddBackward0>)\n",
      "tensor(247.2895, device='cuda:0', grad_fn=<AddBackward0>)\n",
      "tensor(305.1747, device='cuda:0', grad_fn=<AddBackward0>)\n"
     ]
    },
    {
     "name": "stderr",
     "output_type": "stream",
     "text": [
      "1507it [01:42, 14.28it/s]"
     ]
    },
    {
     "name": "stdout",
     "output_type": "stream",
     "text": [
      "tensor(434.9143, device='cuda:0', grad_fn=<AddBackward0>)\n",
      "tensor(278.0401, device='cuda:0', grad_fn=<AddBackward0>)\n",
      "tensor(202.7854, device='cuda:0', grad_fn=<AddBackward0>)\n",
      "tensor(232.4477, device='cuda:0', grad_fn=<AddBackward0>)\n"
     ]
    },
    {
     "name": "stderr",
     "output_type": "stream",
     "text": [
      "1511it [01:42, 14.60it/s]"
     ]
    },
    {
     "name": "stdout",
     "output_type": "stream",
     "text": [
      "tensor(191.5493, device='cuda:0', grad_fn=<AddBackward0>)\n",
      "tensor(252.8536, device='cuda:0', grad_fn=<AddBackward0>)\n",
      "tensor(244.9179, device='cuda:0', grad_fn=<AddBackward0>)\n",
      "tensor(297.3494, device='cuda:0', grad_fn=<AddBackward0>)\n"
     ]
    },
    {
     "name": "stderr",
     "output_type": "stream",
     "text": [
      "1515it [01:42, 14.66it/s]"
     ]
    },
    {
     "name": "stdout",
     "output_type": "stream",
     "text": [
      "tensor(217.1596, device='cuda:0', grad_fn=<AddBackward0>)\n",
      "tensor(252.5045, device='cuda:0', grad_fn=<AddBackward0>)\n",
      "tensor(244.1565, device='cuda:0', grad_fn=<AddBackward0>)\n",
      "tensor(235.5989, device='cuda:0', grad_fn=<AddBackward0>)\n"
     ]
    },
    {
     "name": "stderr",
     "output_type": "stream",
     "text": [
      "1519it [01:42, 14.75it/s]"
     ]
    },
    {
     "name": "stdout",
     "output_type": "stream",
     "text": [
      "tensor(239.9714, device='cuda:0', grad_fn=<AddBackward0>)\n",
      "tensor(208.8188, device='cuda:0', grad_fn=<AddBackward0>)\n",
      "tensor(244.6424, device='cuda:0', grad_fn=<AddBackward0>)\n",
      "tensor(233.4314, device='cuda:0', grad_fn=<AddBackward0>)\n"
     ]
    },
    {
     "name": "stderr",
     "output_type": "stream",
     "text": [
      "1523it [01:43, 14.81it/s]"
     ]
    },
    {
     "name": "stdout",
     "output_type": "stream",
     "text": [
      "tensor(152.1269, device='cuda:0', grad_fn=<AddBackward0>)\n",
      "tensor(238.5614, device='cuda:0', grad_fn=<AddBackward0>)\n"
     ]
    },
    {
     "name": "stderr",
     "output_type": "stream",
     "text": [
      "1525it [01:43, 12.12it/s]"
     ]
    },
    {
     "name": "stdout",
     "output_type": "stream",
     "text": [
      "tensor(154.3150, device='cuda:0', grad_fn=<AddBackward0>)\n",
      "tensor(296.6873, device='cuda:0', grad_fn=<AddBackward0>)\n",
      "tensor(170.0621, device='cuda:0', grad_fn=<AddBackward0>)\n",
      "tensor(204.2686, device='cuda:0', grad_fn=<AddBackward0>)\n"
     ]
    },
    {
     "name": "stderr",
     "output_type": "stream",
     "text": [
      "1529it [01:43, 13.04it/s]"
     ]
    },
    {
     "name": "stdout",
     "output_type": "stream",
     "text": [
      "tensor(168.9344, device='cuda:0', grad_fn=<AddBackward0>)\n",
      "tensor(188.7169, device='cuda:0', grad_fn=<AddBackward0>)\n",
      "tensor(217.5831, device='cuda:0', grad_fn=<AddBackward0>)\n"
     ]
    },
    {
     "name": "stderr",
     "output_type": "stream",
     "text": [
      "1533it [01:44, 13.86it/s]"
     ]
    },
    {
     "name": "stdout",
     "output_type": "stream",
     "text": [
      "tensor(255.0794, device='cuda:0', grad_fn=<AddBackward0>)\n",
      "tensor(247.9126, device='cuda:0', grad_fn=<AddBackward0>)\n",
      "tensor(241.2365, device='cuda:0', grad_fn=<AddBackward0>)\n",
      "tensor(187.8369, device='cuda:0', grad_fn=<AddBackward0>)\n"
     ]
    },
    {
     "name": "stderr",
     "output_type": "stream",
     "text": [
      "1537it [01:44, 14.30it/s]"
     ]
    },
    {
     "name": "stdout",
     "output_type": "stream",
     "text": [
      "tensor(156.3576, device='cuda:0', grad_fn=<AddBackward0>)\n",
      "tensor(171.5368, device='cuda:0', grad_fn=<AddBackward0>)\n",
      "tensor(204.1667, device='cuda:0', grad_fn=<AddBackward0>)\n",
      "tensor(179.0930, device='cuda:0', grad_fn=<AddBackward0>)\n"
     ]
    },
    {
     "name": "stderr",
     "output_type": "stream",
     "text": [
      "1541it [01:44, 14.11it/s]"
     ]
    },
    {
     "name": "stdout",
     "output_type": "stream",
     "text": [
      "tensor(161.6667, device='cuda:0', grad_fn=<AddBackward0>)\n",
      "tensor(226.4905, device='cuda:0', grad_fn=<AddBackward0>)\n",
      "tensor(195.4748, device='cuda:0', grad_fn=<AddBackward0>)\n"
     ]
    },
    {
     "name": "stderr",
     "output_type": "stream",
     "text": [
      "1543it [01:44, 14.68it/s]"
     ]
    },
    {
     "name": "stdout",
     "output_type": "stream",
     "text": [
      "tensor(189.3852, device='cuda:0', grad_fn=<AddBackward0>)\n",
      "tensor(219.1973, device='cuda:0', grad_fn=<AddBackward0>)\n",
      "tensor(216.1756, device='cuda:0', grad_fn=<AddBackward0>)\n",
      "tensor(274.7086, device='cuda:0', grad_fn=<AddBackward0>)\n"
     ]
    },
    {
     "name": "stderr",
     "output_type": "stream",
     "text": [
      "1547it [01:45, 14.42it/s]"
     ]
    },
    {
     "name": "stdout",
     "output_type": "stream",
     "text": [
      "tensor(239.1242, device='cuda:0', grad_fn=<AddBackward0>)\n",
      "tensor(205.1620, device='cuda:0', grad_fn=<AddBackward0>)\n",
      "tensor(227.6312, device='cuda:0', grad_fn=<AddBackward0>)\n",
      "tensor(200.0861, device='cuda:0', grad_fn=<AddBackward0>)\n"
     ]
    },
    {
     "name": "stderr",
     "output_type": "stream",
     "text": [
      "1551it [01:45, 14.60it/s]"
     ]
    },
    {
     "name": "stdout",
     "output_type": "stream",
     "text": [
      "tensor(222.0197, device='cuda:0', grad_fn=<AddBackward0>)\n",
      "tensor(230.1017, device='cuda:0', grad_fn=<AddBackward0>)\n",
      "tensor(245.0300, device='cuda:0', grad_fn=<AddBackward0>)\n"
     ]
    },
    {
     "name": "stderr",
     "output_type": "stream",
     "text": [
      "1555it [01:45, 14.82it/s]"
     ]
    },
    {
     "name": "stdout",
     "output_type": "stream",
     "text": [
      "tensor(223.8093, device='cuda:0', grad_fn=<AddBackward0>)\n",
      "tensor(249.5040, device='cuda:0', grad_fn=<AddBackward0>)\n",
      "tensor(300.5611, device='cuda:0', grad_fn=<AddBackward0>)\n"
     ]
    },
    {
     "name": "stderr",
     "output_type": "stream",
     "text": [
      "1557it [01:45, 14.79it/s]"
     ]
    },
    {
     "name": "stdout",
     "output_type": "stream",
     "text": [
      "tensor(283.7411, device='cuda:0', grad_fn=<AddBackward0>)\n",
      "tensor(170.7416, device='cuda:0', grad_fn=<AddBackward0>)\n",
      "tensor(127.1242, device='cuda:0', grad_fn=<AddBackward0>)\n",
      "tensor(261.8784, device='cuda:0', grad_fn=<AddBackward0>)\n"
     ]
    },
    {
     "name": "stderr",
     "output_type": "stream",
     "text": [
      "1561it [01:45, 14.40it/s]"
     ]
    },
    {
     "name": "stdout",
     "output_type": "stream",
     "text": [
      "tensor(159.1512, device='cuda:0', grad_fn=<AddBackward0>)\n",
      "tensor(227.6730, device='cuda:0', grad_fn=<AddBackward0>)\n",
      "tensor(302.9036, device='cuda:0', grad_fn=<AddBackward0>)\n",
      "tensor(211.8880, device='cuda:0', grad_fn=<AddBackward0>)\n"
     ]
    },
    {
     "name": "stderr",
     "output_type": "stream",
     "text": [
      "1565it [01:46, 14.60it/s]"
     ]
    },
    {
     "name": "stdout",
     "output_type": "stream",
     "text": [
      "tensor(239.2576, device='cuda:0', grad_fn=<AddBackward0>)\n",
      "tensor(247.4153, device='cuda:0', grad_fn=<AddBackward0>)\n",
      "tensor(345.2141, device='cuda:0', grad_fn=<AddBackward0>)\n"
     ]
    },
    {
     "name": "stderr",
     "output_type": "stream",
     "text": [
      "1569it [01:46, 14.65it/s]"
     ]
    },
    {
     "name": "stdout",
     "output_type": "stream",
     "text": [
      "tensor(219.6521, device='cuda:0', grad_fn=<AddBackward0>)\n",
      "tensor(143.5553, device='cuda:0', grad_fn=<AddBackward0>)\n",
      "tensor(160.9279, device='cuda:0', grad_fn=<AddBackward0>)\n"
     ]
    },
    {
     "name": "stderr",
     "output_type": "stream",
     "text": [
      "1571it [01:46, 14.65it/s]"
     ]
    },
    {
     "name": "stdout",
     "output_type": "stream",
     "text": [
      "tensor(223.2838, device='cuda:0', grad_fn=<AddBackward0>)\n",
      "tensor(227.3961, device='cuda:0', grad_fn=<AddBackward0>)\n",
      "tensor(251.8293, device='cuda:0', grad_fn=<AddBackward0>)\n",
      "tensor(315.5966, device='cuda:0', grad_fn=<AddBackward0>)\n"
     ]
    },
    {
     "name": "stderr",
     "output_type": "stream",
     "text": [
      "1575it [01:47, 12.21it/s]"
     ]
    },
    {
     "name": "stdout",
     "output_type": "stream",
     "text": [
      "tensor(166.0171, device='cuda:0', grad_fn=<AddBackward0>)\n",
      "tensor(378.8330, device='cuda:0', grad_fn=<AddBackward0>)\n",
      "tensor(230.0492, device='cuda:0', grad_fn=<AddBackward0>)\n",
      "tensor(254.0739, device='cuda:0', grad_fn=<AddBackward0>)\n"
     ]
    },
    {
     "name": "stderr",
     "output_type": "stream",
     "text": [
      "1579it [01:47, 13.20it/s]"
     ]
    },
    {
     "name": "stdout",
     "output_type": "stream",
     "text": [
      "tensor(277.3694, device='cuda:0', grad_fn=<AddBackward0>)\n",
      "tensor(293.1910, device='cuda:0', grad_fn=<AddBackward0>)\n",
      "tensor(144.3228, device='cuda:0', grad_fn=<AddBackward0>)\n"
     ]
    },
    {
     "name": "stderr",
     "output_type": "stream",
     "text": [
      "1583it [01:47, 13.50it/s]"
     ]
    },
    {
     "name": "stdout",
     "output_type": "stream",
     "text": [
      "tensor(336.8912, device='cuda:0', grad_fn=<AddBackward0>)\n",
      "tensor(255.3344, device='cuda:0', grad_fn=<AddBackward0>)\n",
      "tensor(327.5408, device='cuda:0', grad_fn=<AddBackward0>)\n"
     ]
    },
    {
     "name": "stderr",
     "output_type": "stream",
     "text": [
      "1585it [01:47, 14.35it/s]"
     ]
    },
    {
     "name": "stdout",
     "output_type": "stream",
     "text": [
      "tensor(158.6900, device='cuda:0', grad_fn=<AddBackward0>)\n",
      "tensor(207.7544, device='cuda:0', grad_fn=<AddBackward0>)\n",
      "tensor(192.1907, device='cuda:0', grad_fn=<AddBackward0>)\n",
      "tensor(194.4774, device='cuda:0', grad_fn=<AddBackward0>)\n"
     ]
    },
    {
     "name": "stderr",
     "output_type": "stream",
     "text": [
      "1589it [01:47, 14.29it/s]"
     ]
    },
    {
     "name": "stdout",
     "output_type": "stream",
     "text": [
      "tensor(231.6545, device='cuda:0', grad_fn=<AddBackward0>)\n",
      "tensor(217.8144, device='cuda:0', grad_fn=<AddBackward0>)\n",
      "tensor(183.2434, device='cuda:0', grad_fn=<AddBackward0>)\n"
     ]
    },
    {
     "name": "stderr",
     "output_type": "stream",
     "text": [
      "1593it [01:48, 14.59it/s]"
     ]
    },
    {
     "name": "stdout",
     "output_type": "stream",
     "text": [
      "tensor(220.6880, device='cuda:0', grad_fn=<AddBackward0>)\n",
      "tensor(289.3218, device='cuda:0', grad_fn=<AddBackward0>)\n",
      "tensor(140.5627, device='cuda:0', grad_fn=<AddBackward0>)\n"
     ]
    },
    {
     "name": "stderr",
     "output_type": "stream",
     "text": [
      "1597it [01:48, 15.09it/s]"
     ]
    },
    {
     "name": "stdout",
     "output_type": "stream",
     "text": [
      "tensor(218.2948, device='cuda:0', grad_fn=<AddBackward0>)\n",
      "tensor(289.2130, device='cuda:0', grad_fn=<AddBackward0>)\n",
      "tensor(217.2581, device='cuda:0', grad_fn=<AddBackward0>)\n",
      "tensor(162.4538, device='cuda:0', grad_fn=<AddBackward0>)\n"
     ]
    },
    {
     "name": "stderr",
     "output_type": "stream",
     "text": [
      "1599it [01:48, 14.73it/s]"
     ]
    },
    {
     "name": "stdout",
     "output_type": "stream",
     "text": [
      "tensor(194.5390, device='cuda:0', grad_fn=<AddBackward0>)\n",
      "tensor(177.2853, device='cuda:0', grad_fn=<AddBackward0>)\n",
      "tensor(264.3361, device='cuda:0', grad_fn=<AddBackward0>)\n",
      "tensor(143.8421, device='cuda:0', grad_fn=<AddBackward0>)\n"
     ]
    },
    {
     "name": "stderr",
     "output_type": "stream",
     "text": [
      "1603it [01:49, 11.79it/s]"
     ]
    },
    {
     "name": "stdout",
     "output_type": "stream",
     "text": [
      "tensor(236.7284, device='cuda:0', grad_fn=<AddBackward0>)\n",
      "tensor(192.7852, device='cuda:0', grad_fn=<AddBackward0>)\n",
      "tensor(124.8807, device='cuda:0', grad_fn=<AddBackward0>)\n",
      "tensor(377.2644, device='cuda:0', grad_fn=<AddBackward0>)\n"
     ]
    },
    {
     "name": "stderr",
     "output_type": "stream",
     "text": [
      "1607it [01:49, 13.42it/s]"
     ]
    },
    {
     "name": "stdout",
     "output_type": "stream",
     "text": [
      "tensor(178.2401, device='cuda:0', grad_fn=<AddBackward0>)\n",
      "tensor(200.4415, device='cuda:0', grad_fn=<AddBackward0>)\n",
      "tensor(449.7122, device='cuda:0', grad_fn=<AddBackward0>)\n",
      "tensor(197.0621, device='cuda:0', grad_fn=<AddBackward0>)\n"
     ]
    },
    {
     "name": "stderr",
     "output_type": "stream",
     "text": [
      "1611it [01:49, 14.57it/s]"
     ]
    },
    {
     "name": "stdout",
     "output_type": "stream",
     "text": [
      "tensor(322.5104, device='cuda:0', grad_fn=<AddBackward0>)\n",
      "tensor(207.9832, device='cuda:0', grad_fn=<AddBackward0>)\n",
      "tensor(226.3511, device='cuda:0', grad_fn=<AddBackward0>)\n"
     ]
    },
    {
     "name": "stderr",
     "output_type": "stream",
     "text": [
      "1615it [01:49, 14.25it/s]"
     ]
    },
    {
     "name": "stdout",
     "output_type": "stream",
     "text": [
      "tensor(180.0583, device='cuda:0', grad_fn=<AddBackward0>)\n",
      "tensor(265.2355, device='cuda:0', grad_fn=<AddBackward0>)\n",
      "tensor(254.8930, device='cuda:0', grad_fn=<AddBackward0>)\n",
      "tensor(191.3920, device='cuda:0', grad_fn=<AddBackward0>)\n"
     ]
    },
    {
     "name": "stderr",
     "output_type": "stream",
     "text": [
      "1619it [01:50, 13.90it/s]"
     ]
    },
    {
     "name": "stdout",
     "output_type": "stream",
     "text": [
      "tensor(166.7561, device='cuda:0', grad_fn=<AddBackward0>)\n",
      "tensor(258.6953, device='cuda:0', grad_fn=<AddBackward0>)\n",
      "tensor(242.8996, device='cuda:0', grad_fn=<AddBackward0>)\n"
     ]
    },
    {
     "name": "stderr",
     "output_type": "stream",
     "text": [
      "1621it [01:50, 14.59it/s]"
     ]
    },
    {
     "name": "stdout",
     "output_type": "stream",
     "text": [
      "tensor(201.7847, device='cuda:0', grad_fn=<AddBackward0>)\n",
      "tensor(164.7666, device='cuda:0', grad_fn=<AddBackward0>)\n",
      "tensor(257.8687, device='cuda:0', grad_fn=<AddBackward0>)\n",
      "tensor(208.6955, device='cuda:0', grad_fn=<AddBackward0>)\n"
     ]
    },
    {
     "name": "stderr",
     "output_type": "stream",
     "text": [
      "1625it [01:50, 14.69it/s]"
     ]
    },
    {
     "name": "stdout",
     "output_type": "stream",
     "text": [
      "tensor(164.6714, device='cuda:0', grad_fn=<AddBackward0>)\n",
      "tensor(237.7429, device='cuda:0', grad_fn=<AddBackward0>)\n",
      "tensor(256.2736, device='cuda:0', grad_fn=<AddBackward0>)\n",
      "tensor(230.2973, device='cuda:0', grad_fn=<AddBackward0>)\n"
     ]
    },
    {
     "name": "stderr",
     "output_type": "stream",
     "text": [
      "1629it [01:50, 15.17it/s]"
     ]
    },
    {
     "name": "stdout",
     "output_type": "stream",
     "text": [
      "tensor(174.4691, device='cuda:0', grad_fn=<AddBackward0>)\n",
      "tensor(231.1262, device='cuda:0', grad_fn=<AddBackward0>)\n",
      "tensor(236.1115, device='cuda:0', grad_fn=<AddBackward0>)\n",
      "tensor(259.1510, device='cuda:0', grad_fn=<AddBackward0>)\n"
     ]
    },
    {
     "name": "stderr",
     "output_type": "stream",
     "text": [
      "1633it [01:51, 15.02it/s]"
     ]
    },
    {
     "name": "stdout",
     "output_type": "stream",
     "text": [
      "tensor(333.8818, device='cuda:0', grad_fn=<AddBackward0>)\n",
      "tensor(255.6197, device='cuda:0', grad_fn=<AddBackward0>)\n"
     ]
    },
    {
     "name": "stderr",
     "output_type": "stream",
     "text": [
      "1635it [01:51, 12.07it/s]"
     ]
    },
    {
     "name": "stdout",
     "output_type": "stream",
     "text": [
      "tensor(172.5414, device='cuda:0', grad_fn=<AddBackward0>)\n",
      "tensor(260.4890, device='cuda:0', grad_fn=<AddBackward0>)\n",
      "tensor(186.4150, device='cuda:0', grad_fn=<AddBackward0>)\n",
      "tensor(362.7351, device='cuda:0', grad_fn=<AddBackward0>)\n"
     ]
    },
    {
     "name": "stderr",
     "output_type": "stream",
     "text": [
      "1639it [01:51, 13.00it/s]"
     ]
    },
    {
     "name": "stdout",
     "output_type": "stream",
     "text": [
      "tensor(176.2872, device='cuda:0', grad_fn=<AddBackward0>)\n",
      "tensor(272.2531, device='cuda:0', grad_fn=<AddBackward0>)\n",
      "tensor(297.9825, device='cuda:0', grad_fn=<AddBackward0>)\n",
      "tensor(292.7660, device='cuda:0', grad_fn=<AddBackward0>)\n"
     ]
    },
    {
     "name": "stderr",
     "output_type": "stream",
     "text": [
      "1643it [01:51, 14.57it/s]"
     ]
    },
    {
     "name": "stdout",
     "output_type": "stream",
     "text": [
      "tensor(200.0414, device='cuda:0', grad_fn=<AddBackward0>)\n",
      "tensor(245.1498, device='cuda:0', grad_fn=<AddBackward0>)\n",
      "tensor(180.6525, device='cuda:0', grad_fn=<AddBackward0>)\n",
      "tensor(194.6610, device='cuda:0', grad_fn=<AddBackward0>)\n"
     ]
    },
    {
     "name": "stderr",
     "output_type": "stream",
     "text": [
      "1647it [01:52, 15.12it/s]"
     ]
    },
    {
     "name": "stdout",
     "output_type": "stream",
     "text": [
      "tensor(190.3347, device='cuda:0', grad_fn=<AddBackward0>)\n",
      "tensor(233.5805, device='cuda:0', grad_fn=<AddBackward0>)\n",
      "tensor(245.2903, device='cuda:0', grad_fn=<AddBackward0>)\n",
      "tensor(381.3155, device='cuda:0', grad_fn=<AddBackward0>)\n"
     ]
    },
    {
     "name": "stderr",
     "output_type": "stream",
     "text": [
      "1651it [01:52, 15.02it/s]"
     ]
    },
    {
     "name": "stdout",
     "output_type": "stream",
     "text": [
      "tensor(262.3779, device='cuda:0', grad_fn=<AddBackward0>)\n",
      "tensor(202.1543, device='cuda:0', grad_fn=<AddBackward0>)\n",
      "tensor(328.1371, device='cuda:0', grad_fn=<AddBackward0>)\n",
      "tensor(158.3823, device='cuda:0', grad_fn=<AddBackward0>)\n"
     ]
    },
    {
     "name": "stderr",
     "output_type": "stream",
     "text": [
      "1655it [01:52, 15.71it/s]"
     ]
    },
    {
     "name": "stdout",
     "output_type": "stream",
     "text": [
      "tensor(150.5479, device='cuda:0', grad_fn=<AddBackward0>)\n",
      "tensor(273.8285, device='cuda:0', grad_fn=<AddBackward0>)\n",
      "tensor(147.2337, device='cuda:0', grad_fn=<AddBackward0>)\n",
      "tensor(176.6636, device='cuda:0', grad_fn=<AddBackward0>)\n"
     ]
    },
    {
     "name": "stderr",
     "output_type": "stream",
     "text": [
      "1659it [01:52, 15.64it/s]"
     ]
    },
    {
     "name": "stdout",
     "output_type": "stream",
     "text": [
      "tensor(181.5782, device='cuda:0', grad_fn=<AddBackward0>)\n",
      "tensor(347.0554, device='cuda:0', grad_fn=<AddBackward0>)\n",
      "tensor(232.2980, device='cuda:0', grad_fn=<AddBackward0>)\n",
      "tensor(172.6104, device='cuda:0', grad_fn=<AddBackward0>)\n"
     ]
    },
    {
     "name": "stderr",
     "output_type": "stream",
     "text": [
      "1663it [01:53, 15.18it/s]"
     ]
    },
    {
     "name": "stdout",
     "output_type": "stream",
     "text": [
      "tensor(191.1581, device='cuda:0', grad_fn=<AddBackward0>)\n",
      "tensor(224.8252, device='cuda:0', grad_fn=<AddBackward0>)\n",
      "tensor(190.9942, device='cuda:0', grad_fn=<AddBackward0>)\n"
     ]
    },
    {
     "name": "stderr",
     "output_type": "stream",
     "text": [
      "1665it [01:53, 15.00it/s]"
     ]
    },
    {
     "name": "stdout",
     "output_type": "stream",
     "text": [
      "tensor(221.4534, device='cuda:0', grad_fn=<AddBackward0>)\n",
      "tensor(222.2275, device='cuda:0', grad_fn=<AddBackward0>)\n",
      "tensor(204.5359, device='cuda:0', grad_fn=<AddBackward0>)\n"
     ]
    },
    {
     "name": "stderr",
     "output_type": "stream",
     "text": [
      "1669it [01:53, 12.34it/s]"
     ]
    },
    {
     "name": "stdout",
     "output_type": "stream",
     "text": [
      "tensor(252.4240, device='cuda:0', grad_fn=<AddBackward0>)\n",
      "tensor(199.9477, device='cuda:0', grad_fn=<AddBackward0>)\n",
      "tensor(170.6966, device='cuda:0', grad_fn=<AddBackward0>)\n",
      "tensor(205.2756, device='cuda:0', grad_fn=<AddBackward0>)\n"
     ]
    },
    {
     "name": "stderr",
     "output_type": "stream",
     "text": [
      "1673it [01:53, 14.14it/s]"
     ]
    },
    {
     "name": "stdout",
     "output_type": "stream",
     "text": [
      "tensor(207.9534, device='cuda:0', grad_fn=<AddBackward0>)\n",
      "tensor(153.4812, device='cuda:0', grad_fn=<AddBackward0>)\n",
      "tensor(299.4872, device='cuda:0', grad_fn=<AddBackward0>)\n",
      "tensor(235.2650, device='cuda:0', grad_fn=<AddBackward0>)\n"
     ]
    },
    {
     "name": "stderr",
     "output_type": "stream",
     "text": [
      "1677it [01:54, 14.46it/s]"
     ]
    },
    {
     "name": "stdout",
     "output_type": "stream",
     "text": [
      "tensor(187.2964, device='cuda:0', grad_fn=<AddBackward0>)\n",
      "tensor(236.2476, device='cuda:0', grad_fn=<AddBackward0>)\n",
      "tensor(277.4946, device='cuda:0', grad_fn=<AddBackward0>)\n"
     ]
    },
    {
     "name": "stderr",
     "output_type": "stream",
     "text": [
      "1681it [01:54, 14.64it/s]"
     ]
    },
    {
     "name": "stdout",
     "output_type": "stream",
     "text": [
      "tensor(188.1681, device='cuda:0', grad_fn=<AddBackward0>)\n",
      "tensor(201.2953, device='cuda:0', grad_fn=<AddBackward0>)\n",
      "tensor(220.5347, device='cuda:0', grad_fn=<AddBackward0>)\n"
     ]
    },
    {
     "name": "stderr",
     "output_type": "stream",
     "text": [
      "1683it [01:54, 14.53it/s]"
     ]
    },
    {
     "name": "stdout",
     "output_type": "stream",
     "text": [
      "tensor(229.3152, device='cuda:0', grad_fn=<AddBackward0>)\n",
      "tensor(254.0504, device='cuda:0', grad_fn=<AddBackward0>)\n",
      "tensor(225.3125, device='cuda:0', grad_fn=<AddBackward0>)\n",
      "tensor(227.5621, device='cuda:0', grad_fn=<AddBackward0>)\n"
     ]
    },
    {
     "name": "stderr",
     "output_type": "stream",
     "text": [
      "1687it [01:54, 14.41it/s]"
     ]
    },
    {
     "name": "stdout",
     "output_type": "stream",
     "text": [
      "tensor(195.8491, device='cuda:0', grad_fn=<AddBackward0>)\n",
      "tensor(159.9764, device='cuda:0', grad_fn=<AddBackward0>)\n",
      "tensor(138.5631, device='cuda:0', grad_fn=<AddBackward0>)\n"
     ]
    },
    {
     "name": "stderr",
     "output_type": "stream",
     "text": [
      "1691it [01:55, 12.67it/s]"
     ]
    },
    {
     "name": "stdout",
     "output_type": "stream",
     "text": [
      "tensor(156.5952, device='cuda:0', grad_fn=<AddBackward0>)\n",
      "tensor(135.9531, device='cuda:0', grad_fn=<AddBackward0>)\n",
      "tensor(172.0728, device='cuda:0', grad_fn=<AddBackward0>)\n"
     ]
    },
    {
     "name": "stderr",
     "output_type": "stream",
     "text": [
      "1693it [01:55, 13.16it/s]"
     ]
    },
    {
     "name": "stdout",
     "output_type": "stream",
     "text": [
      "tensor(268.3994, device='cuda:0', grad_fn=<AddBackward0>)\n",
      "tensor(319.8391, device='cuda:0', grad_fn=<AddBackward0>)\n",
      "tensor(291.7031, device='cuda:0', grad_fn=<AddBackward0>)\n",
      "tensor(244.7014, device='cuda:0', grad_fn=<AddBackward0>)\n"
     ]
    },
    {
     "name": "stderr",
     "output_type": "stream",
     "text": [
      "1697it [01:55, 13.80it/s]"
     ]
    },
    {
     "name": "stdout",
     "output_type": "stream",
     "text": [
      "tensor(316.2269, device='cuda:0', grad_fn=<AddBackward0>)\n",
      "tensor(257.7716, device='cuda:0', grad_fn=<AddBackward0>)\n",
      "tensor(225.8053, device='cuda:0', grad_fn=<AddBackward0>)\n",
      "tensor(278.4263, device='cuda:0', grad_fn=<AddBackward0>)\n"
     ]
    },
    {
     "name": "stderr",
     "output_type": "stream",
     "text": [
      "1701it [01:55, 14.35it/s]"
     ]
    },
    {
     "name": "stdout",
     "output_type": "stream",
     "text": [
      "tensor(304.4902, device='cuda:0', grad_fn=<AddBackward0>)\n",
      "tensor(272.4716, device='cuda:0', grad_fn=<AddBackward0>)\n",
      "tensor(210.8430, device='cuda:0', grad_fn=<AddBackward0>)\n",
      "tensor(192.6898, device='cuda:0', grad_fn=<AddBackward0>)\n"
     ]
    },
    {
     "name": "stderr",
     "output_type": "stream",
     "text": [
      "1705it [01:56, 14.94it/s]"
     ]
    },
    {
     "name": "stdout",
     "output_type": "stream",
     "text": [
      "tensor(277.1927, device='cuda:0', grad_fn=<AddBackward0>)\n",
      "tensor(217.4548, device='cuda:0', grad_fn=<AddBackward0>)\n",
      "tensor(317.9440, device='cuda:0', grad_fn=<AddBackward0>)\n"
     ]
    },
    {
     "name": "stderr",
     "output_type": "stream",
     "text": [
      "1709it [01:56, 14.74it/s]"
     ]
    },
    {
     "name": "stdout",
     "output_type": "stream",
     "text": [
      "tensor(211.0081, device='cuda:0', grad_fn=<AddBackward0>)\n",
      "tensor(178.4758, device='cuda:0', grad_fn=<AddBackward0>)\n",
      "tensor(216.7667, device='cuda:0', grad_fn=<AddBackward0>)\n"
     ]
    },
    {
     "name": "stderr",
     "output_type": "stream",
     "text": [
      "1711it [01:56, 14.69it/s]"
     ]
    },
    {
     "name": "stdout",
     "output_type": "stream",
     "text": [
      "tensor(181.6926, device='cuda:0', grad_fn=<AddBackward0>)\n",
      "tensor(234.7948, device='cuda:0', grad_fn=<AddBackward0>)\n"
     ]
    },
    {
     "name": "stderr",
     "output_type": "stream",
     "text": [
      "1713it [01:56, 11.62it/s]"
     ]
    },
    {
     "name": "stdout",
     "output_type": "stream",
     "text": [
      "tensor(170.4536, device='cuda:0', grad_fn=<AddBackward0>)\n",
      "tensor(186.3866, device='cuda:0', grad_fn=<AddBackward0>)\n",
      "tensor(234.4590, device='cuda:0', grad_fn=<AddBackward0>)\n"
     ]
    },
    {
     "name": "stderr",
     "output_type": "stream",
     "text": [
      "1717it [01:57, 12.37it/s]"
     ]
    },
    {
     "name": "stdout",
     "output_type": "stream",
     "text": [
      "tensor(190.7072, device='cuda:0', grad_fn=<AddBackward0>)\n",
      "tensor(151.1931, device='cuda:0', grad_fn=<AddBackward0>)\n",
      "tensor(248.5151, device='cuda:0', grad_fn=<AddBackward0>)\n"
     ]
    },
    {
     "name": "stderr",
     "output_type": "stream",
     "text": [
      "1719it [01:57, 13.33it/s]"
     ]
    },
    {
     "name": "stdout",
     "output_type": "stream",
     "text": [
      "tensor(244.9961, device='cuda:0', grad_fn=<AddBackward0>)\n",
      "tensor(238.5691, device='cuda:0', grad_fn=<AddBackward0>)\n",
      "tensor(249.3676, device='cuda:0', grad_fn=<AddBackward0>)\n",
      "tensor(204.4398, device='cuda:0', grad_fn=<AddBackward0>)\n"
     ]
    },
    {
     "name": "stderr",
     "output_type": "stream",
     "text": [
      "1723it [01:57, 13.74it/s]"
     ]
    },
    {
     "name": "stdout",
     "output_type": "stream",
     "text": [
      "tensor(241.1604, device='cuda:0', grad_fn=<AddBackward0>)\n",
      "tensor(204.2542, device='cuda:0', grad_fn=<AddBackward0>)\n",
      "tensor(207.6360, device='cuda:0', grad_fn=<AddBackward0>)\n",
      "tensor(186.8127, device='cuda:0', grad_fn=<AddBackward0>)\n"
     ]
    },
    {
     "name": "stderr",
     "output_type": "stream",
     "text": [
      "1727it [01:57, 14.18it/s]"
     ]
    },
    {
     "name": "stdout",
     "output_type": "stream",
     "text": [
      "tensor(250.2353, device='cuda:0', grad_fn=<AddBackward0>)\n",
      "tensor(217.4846, device='cuda:0', grad_fn=<AddBackward0>)\n",
      "tensor(210.4717, device='cuda:0', grad_fn=<AddBackward0>)\n"
     ]
    },
    {
     "name": "stderr",
     "output_type": "stream",
     "text": [
      "1731it [01:58, 14.36it/s]"
     ]
    },
    {
     "name": "stdout",
     "output_type": "stream",
     "text": [
      "tensor(176.6131, device='cuda:0', grad_fn=<AddBackward0>)\n",
      "tensor(318.5912, device='cuda:0', grad_fn=<AddBackward0>)\n",
      "tensor(248.8445, device='cuda:0', grad_fn=<AddBackward0>)\n"
     ]
    },
    {
     "name": "stderr",
     "output_type": "stream",
     "text": [
      "1733it [01:58, 14.54it/s]"
     ]
    },
    {
     "name": "stdout",
     "output_type": "stream",
     "text": [
      "tensor(224.9002, device='cuda:0', grad_fn=<AddBackward0>)\n",
      "tensor(192.6769, device='cuda:0', grad_fn=<AddBackward0>)\n",
      "tensor(163.4518, device='cuda:0', grad_fn=<AddBackward0>)\n",
      "tensor(243.2146, device='cuda:0', grad_fn=<AddBackward0>)\n"
     ]
    },
    {
     "name": "stderr",
     "output_type": "stream",
     "text": [
      "1737it [01:58, 14.23it/s]"
     ]
    },
    {
     "name": "stdout",
     "output_type": "stream",
     "text": [
      "tensor(204.2180, device='cuda:0', grad_fn=<AddBackward0>)\n",
      "tensor(246.5656, device='cuda:0', grad_fn=<AddBackward0>)\n",
      "tensor(275.6515, device='cuda:0', grad_fn=<AddBackward0>)\n",
      "tensor(314.6873, device='cuda:0', grad_fn=<AddBackward0>)\n"
     ]
    },
    {
     "name": "stderr",
     "output_type": "stream",
     "text": [
      "1741it [01:58, 14.39it/s]"
     ]
    },
    {
     "name": "stdout",
     "output_type": "stream",
     "text": [
      "tensor(189.1086, device='cuda:0', grad_fn=<AddBackward0>)\n",
      "tensor(215.1461, device='cuda:0', grad_fn=<AddBackward0>)\n",
      "tensor(153.1030, device='cuda:0', grad_fn=<AddBackward0>)\n"
     ]
    },
    {
     "name": "stderr",
     "output_type": "stream",
     "text": [
      "1745it [01:59, 14.48it/s]"
     ]
    },
    {
     "name": "stdout",
     "output_type": "stream",
     "text": [
      "tensor(255.6100, device='cuda:0', grad_fn=<AddBackward0>)\n",
      "tensor(186.8364, device='cuda:0', grad_fn=<AddBackward0>)\n",
      "tensor(312.4851, device='cuda:0', grad_fn=<AddBackward0>)\n",
      "tensor(224.4768, device='cuda:0', grad_fn=<AddBackward0>)\n"
     ]
    },
    {
     "name": "stderr",
     "output_type": "stream",
     "text": [
      "1749it [01:59, 14.56it/s]"
     ]
    },
    {
     "name": "stdout",
     "output_type": "stream",
     "text": [
      "tensor(264.9487, device='cuda:0', grad_fn=<AddBackward0>)\n",
      "tensor(230.0746, device='cuda:0', grad_fn=<AddBackward0>)\n",
      "tensor(169.0422, device='cuda:0', grad_fn=<AddBackward0>)\n",
      "tensor(243.4945, device='cuda:0', grad_fn=<AddBackward0>)\n"
     ]
    },
    {
     "name": "stderr",
     "output_type": "stream",
     "text": [
      "1753it [01:59, 14.19it/s]"
     ]
    },
    {
     "name": "stdout",
     "output_type": "stream",
     "text": [
      "tensor(237.7431, device='cuda:0', grad_fn=<AddBackward0>)\n",
      "tensor(265.8229, device='cuda:0', grad_fn=<AddBackward0>)\n",
      "tensor(214.2842, device='cuda:0', grad_fn=<AddBackward0>)\n"
     ]
    },
    {
     "name": "stderr",
     "output_type": "stream",
     "text": [
      "1755it [01:59, 14.76it/s]"
     ]
    },
    {
     "name": "stdout",
     "output_type": "stream",
     "text": [
      "tensor(248.1884, device='cuda:0', grad_fn=<AddBackward0>)\n",
      "tensor(175.6309, device='cuda:0', grad_fn=<AddBackward0>)\n",
      "tensor(180.5507, device='cuda:0', grad_fn=<AddBackward0>)\n"
     ]
    },
    {
     "name": "stderr",
     "output_type": "stream",
     "text": [
      "1759it [02:00, 12.44it/s]"
     ]
    },
    {
     "name": "stdout",
     "output_type": "stream",
     "text": [
      "tensor(181.3058, device='cuda:0', grad_fn=<AddBackward0>)\n",
      "tensor(146.5197, device='cuda:0', grad_fn=<AddBackward0>)\n",
      "tensor(243.4571, device='cuda:0', grad_fn=<AddBackward0>)\n"
     ]
    },
    {
     "name": "stderr",
     "output_type": "stream",
     "text": [
      "1761it [02:00, 12.98it/s]"
     ]
    },
    {
     "name": "stdout",
     "output_type": "stream",
     "text": [
      "tensor(188.9362, device='cuda:0', grad_fn=<AddBackward0>)\n",
      "tensor(247.9049, device='cuda:0', grad_fn=<AddBackward0>)\n",
      "tensor(282.4878, device='cuda:0', grad_fn=<AddBackward0>)\n",
      "tensor(210.3230, device='cuda:0', grad_fn=<AddBackward0>)\n"
     ]
    },
    {
     "name": "stderr",
     "output_type": "stream",
     "text": [
      "1765it [02:00, 13.98it/s]"
     ]
    },
    {
     "name": "stdout",
     "output_type": "stream",
     "text": [
      "tensor(332.8699, device='cuda:0', grad_fn=<AddBackward0>)\n",
      "tensor(163.0521, device='cuda:0', grad_fn=<AddBackward0>)\n",
      "tensor(163.7144, device='cuda:0', grad_fn=<AddBackward0>)\n",
      "tensor(229.3343, device='cuda:0', grad_fn=<AddBackward0>)\n"
     ]
    },
    {
     "name": "stderr",
     "output_type": "stream",
     "text": [
      "1769it [02:00, 14.95it/s]"
     ]
    },
    {
     "name": "stdout",
     "output_type": "stream",
     "text": [
      "tensor(279.1146, device='cuda:0', grad_fn=<AddBackward0>)\n",
      "tensor(144.6423, device='cuda:0', grad_fn=<AddBackward0>)\n",
      "tensor(228.0139, device='cuda:0', grad_fn=<AddBackward0>)\n",
      "tensor(146.8356, device='cuda:0', grad_fn=<AddBackward0>)\n"
     ]
    },
    {
     "name": "stderr",
     "output_type": "stream",
     "text": [
      "1773it [02:01, 14.42it/s]"
     ]
    },
    {
     "name": "stdout",
     "output_type": "stream",
     "text": [
      "tensor(249.1083, device='cuda:0', grad_fn=<AddBackward0>)\n",
      "tensor(208.0983, device='cuda:0', grad_fn=<AddBackward0>)\n",
      "tensor(223.5220, device='cuda:0', grad_fn=<AddBackward0>)\n"
     ]
    },
    {
     "name": "stderr",
     "output_type": "stream",
     "text": [
      "1777it [02:01, 14.37it/s]"
     ]
    },
    {
     "name": "stdout",
     "output_type": "stream",
     "text": [
      "tensor(225.8394, device='cuda:0', grad_fn=<AddBackward0>)\n",
      "tensor(177.0186, device='cuda:0', grad_fn=<AddBackward0>)\n",
      "tensor(269.7480, device='cuda:0', grad_fn=<AddBackward0>)\n",
      "tensor(156.7842, device='cuda:0', grad_fn=<AddBackward0>)\n"
     ]
    },
    {
     "name": "stderr",
     "output_type": "stream",
     "text": [
      "1781it [02:01, 14.39it/s]"
     ]
    },
    {
     "name": "stdout",
     "output_type": "stream",
     "text": [
      "tensor(268.3633, device='cuda:0', grad_fn=<AddBackward0>)\n",
      "tensor(217.3656, device='cuda:0', grad_fn=<AddBackward0>)\n",
      "tensor(275.8375, device='cuda:0', grad_fn=<AddBackward0>)\n",
      "tensor(176.7114, device='cuda:0', grad_fn=<AddBackward0>)\n"
     ]
    },
    {
     "name": "stderr",
     "output_type": "stream",
     "text": [
      "1785it [02:01, 14.46it/s]"
     ]
    },
    {
     "name": "stdout",
     "output_type": "stream",
     "text": [
      "tensor(236.7552, device='cuda:0', grad_fn=<AddBackward0>)\n",
      "tensor(118.9419, device='cuda:0', grad_fn=<AddBackward0>)\n",
      "tensor(260.4732, device='cuda:0', grad_fn=<AddBackward0>)\n"
     ]
    },
    {
     "name": "stderr",
     "output_type": "stream",
     "text": [
      "1787it [02:02, 11.35it/s]"
     ]
    },
    {
     "name": "stdout",
     "output_type": "stream",
     "text": [
      "tensor(234.1568, device='cuda:0', grad_fn=<AddBackward0>)\n",
      "tensor(279.4247, device='cuda:0', grad_fn=<AddBackward0>)\n",
      "tensor(274.7631, device='cuda:0', grad_fn=<AddBackward0>)\n",
      "tensor(224.2980, device='cuda:0', grad_fn=<AddBackward0>)\n"
     ]
    },
    {
     "name": "stderr",
     "output_type": "stream",
     "text": [
      "1791it [02:02, 13.17it/s]"
     ]
    },
    {
     "name": "stdout",
     "output_type": "stream",
     "text": [
      "tensor(306.4414, device='cuda:0', grad_fn=<AddBackward0>)\n",
      "tensor(242.4062, device='cuda:0', grad_fn=<AddBackward0>)\n",
      "tensor(183.9109, device='cuda:0', grad_fn=<AddBackward0>)\n",
      "tensor(186.7576, device='cuda:0', grad_fn=<AddBackward0>)\n"
     ]
    },
    {
     "name": "stderr",
     "output_type": "stream",
     "text": [
      "1797it [02:02, 15.02it/s]"
     ]
    },
    {
     "name": "stdout",
     "output_type": "stream",
     "text": [
      "tensor(171.7257, device='cuda:0', grad_fn=<AddBackward0>)\n",
      "tensor(189.9525, device='cuda:0', grad_fn=<AddBackward0>)\n",
      "tensor(271.5909, device='cuda:0', grad_fn=<AddBackward0>)\n",
      "tensor(206.5482, device='cuda:0', grad_fn=<AddBackward0>)\n"
     ]
    },
    {
     "name": "stderr",
     "output_type": "stream",
     "text": [
      "1799it [02:02, 14.89it/s]"
     ]
    },
    {
     "name": "stdout",
     "output_type": "stream",
     "text": [
      "tensor(226.0028, device='cuda:0', grad_fn=<AddBackward0>)\n",
      "tensor(154.2547, device='cuda:0', grad_fn=<AddBackward0>)\n",
      "tensor(240.7756, device='cuda:0', grad_fn=<AddBackward0>)\n",
      "tensor(174.0253, device='cuda:0', grad_fn=<AddBackward0>)\n"
     ]
    },
    {
     "name": "stderr",
     "output_type": "stream",
     "text": [
      "1803it [02:03, 14.95it/s]"
     ]
    },
    {
     "name": "stdout",
     "output_type": "stream",
     "text": [
      "tensor(222.7980, device='cuda:0', grad_fn=<AddBackward0>)\n",
      "tensor(197.6166, device='cuda:0', grad_fn=<AddBackward0>)\n",
      "tensor(306.0283, device='cuda:0', grad_fn=<AddBackward0>)\n",
      "tensor(226.8304, device='cuda:0', grad_fn=<AddBackward0>)\n"
     ]
    },
    {
     "name": "stderr",
     "output_type": "stream",
     "text": [
      "1807it [02:03, 14.18it/s]"
     ]
    },
    {
     "name": "stdout",
     "output_type": "stream",
     "text": [
      "tensor(226.3336, device='cuda:0', grad_fn=<AddBackward0>)\n",
      "tensor(183.5363, device='cuda:0', grad_fn=<AddBackward0>)\n",
      "tensor(215.9428, device='cuda:0', grad_fn=<AddBackward0>)\n"
     ]
    },
    {
     "name": "stderr",
     "output_type": "stream",
     "text": [
      "1811it [02:03, 14.95it/s]"
     ]
    },
    {
     "name": "stdout",
     "output_type": "stream",
     "text": [
      "tensor(182.1210, device='cuda:0', grad_fn=<AddBackward0>)\n",
      "tensor(321.3761, device='cuda:0', grad_fn=<AddBackward0>)\n",
      "tensor(245.1598, device='cuda:0', grad_fn=<AddBackward0>)\n",
      "tensor(194.2154, device='cuda:0', grad_fn=<AddBackward0>)\n"
     ]
    },
    {
     "name": "stderr",
     "output_type": "stream",
     "text": [
      "1815it [02:04, 15.27it/s]"
     ]
    },
    {
     "name": "stdout",
     "output_type": "stream",
     "text": [
      "tensor(188.3710, device='cuda:0', grad_fn=<AddBackward0>)\n",
      "tensor(176.2498, device='cuda:0', grad_fn=<AddBackward0>)\n",
      "tensor(170.4613, device='cuda:0', grad_fn=<AddBackward0>)\n",
      "tensor(230.3493, device='cuda:0', grad_fn=<AddBackward0>)\n"
     ]
    },
    {
     "name": "stderr",
     "output_type": "stream",
     "text": [
      "1819it [02:04, 14.99it/s]"
     ]
    },
    {
     "name": "stdout",
     "output_type": "stream",
     "text": [
      "tensor(182.4398, device='cuda:0', grad_fn=<AddBackward0>)\n",
      "tensor(149.4851, device='cuda:0', grad_fn=<AddBackward0>)\n",
      "tensor(289.2855, device='cuda:0', grad_fn=<AddBackward0>)\n"
     ]
    },
    {
     "name": "stderr",
     "output_type": "stream",
     "text": [
      "1821it [02:04, 14.27it/s]"
     ]
    },
    {
     "name": "stdout",
     "output_type": "stream",
     "text": [
      "tensor(213.1135, device='cuda:0', grad_fn=<AddBackward0>)\n",
      "tensor(201.3054, device='cuda:0', grad_fn=<AddBackward0>)\n",
      "tensor(145.8404, device='cuda:0', grad_fn=<AddBackward0>)\n"
     ]
    },
    {
     "name": "stderr",
     "output_type": "stream",
     "text": [
      "1825it [02:04, 13.54it/s]"
     ]
    },
    {
     "name": "stdout",
     "output_type": "stream",
     "text": [
      "tensor(278.0886, device='cuda:0', grad_fn=<AddBackward0>)\n",
      "tensor(222.8960, device='cuda:0', grad_fn=<AddBackward0>)\n",
      "tensor(252.1466, device='cuda:0', grad_fn=<AddBackward0>)\n"
     ]
    },
    {
     "name": "stderr",
     "output_type": "stream",
     "text": [
      "1827it [02:04, 13.79it/s]"
     ]
    },
    {
     "name": "stdout",
     "output_type": "stream",
     "text": [
      "tensor(251.3340, device='cuda:0', grad_fn=<AddBackward0>)\n",
      "tensor(250.2400, device='cuda:0', grad_fn=<AddBackward0>)\n"
     ]
    },
    {
     "name": "stderr",
     "output_type": "stream",
     "text": [
      "1829it [02:05, 11.30it/s]"
     ]
    },
    {
     "name": "stdout",
     "output_type": "stream",
     "text": [
      "tensor(204.2243, device='cuda:0', grad_fn=<AddBackward0>)\n",
      "tensor(167.2946, device='cuda:0', grad_fn=<AddBackward0>)\n",
      "tensor(143.6717, device='cuda:0', grad_fn=<AddBackward0>)\n"
     ]
    },
    {
     "name": "stderr",
     "output_type": "stream",
     "text": [
      "1833it [02:05, 12.44it/s]"
     ]
    },
    {
     "name": "stdout",
     "output_type": "stream",
     "text": [
      "tensor(214.3896, device='cuda:0', grad_fn=<AddBackward0>)\n",
      "tensor(267.7335, device='cuda:0', grad_fn=<AddBackward0>)\n",
      "tensor(268.4548, device='cuda:0', grad_fn=<AddBackward0>)\n"
     ]
    },
    {
     "name": "stderr",
     "output_type": "stream",
     "text": [
      "1835it [02:05, 12.94it/s]"
     ]
    },
    {
     "name": "stdout",
     "output_type": "stream",
     "text": [
      "tensor(260.5736, device='cuda:0', grad_fn=<AddBackward0>)\n",
      "tensor(207.6900, device='cuda:0', grad_fn=<AddBackward0>)\n",
      "tensor(215.0442, device='cuda:0', grad_fn=<AddBackward0>)\n",
      "tensor(200.3353, device='cuda:0', grad_fn=<AddBackward0>)\n"
     ]
    },
    {
     "name": "stderr",
     "output_type": "stream",
     "text": [
      "1839it [02:05, 13.70it/s]"
     ]
    },
    {
     "name": "stdout",
     "output_type": "stream",
     "text": [
      "tensor(281.0267, device='cuda:0', grad_fn=<AddBackward0>)\n",
      "tensor(256.4235, device='cuda:0', grad_fn=<AddBackward0>)\n",
      "tensor(251.9062, device='cuda:0', grad_fn=<AddBackward0>)\n"
     ]
    },
    {
     "name": "stderr",
     "output_type": "stream",
     "text": [
      "1843it [02:06, 14.26it/s]"
     ]
    },
    {
     "name": "stdout",
     "output_type": "stream",
     "text": [
      "tensor(177.9983, device='cuda:0', grad_fn=<AddBackward0>)\n",
      "tensor(142.4644, device='cuda:0', grad_fn=<AddBackward0>)\n",
      "tensor(134.2965, device='cuda:0', grad_fn=<AddBackward0>)\n",
      "tensor(232.7765, device='cuda:0', grad_fn=<AddBackward0>)\n"
     ]
    },
    {
     "name": "stderr",
     "output_type": "stream",
     "text": [
      "1847it [02:06, 14.72it/s]"
     ]
    },
    {
     "name": "stdout",
     "output_type": "stream",
     "text": [
      "tensor(309.2532, device='cuda:0', grad_fn=<AddBackward0>)\n",
      "tensor(232.9043, device='cuda:0', grad_fn=<AddBackward0>)\n",
      "tensor(200.4235, device='cuda:0', grad_fn=<AddBackward0>)\n",
      "tensor(266.4633, device='cuda:0', grad_fn=<AddBackward0>)\n"
     ]
    },
    {
     "name": "stderr",
     "output_type": "stream",
     "text": [
      "1851it [02:06, 14.40it/s]"
     ]
    },
    {
     "name": "stdout",
     "output_type": "stream",
     "text": [
      "tensor(199.5905, device='cuda:0', grad_fn=<AddBackward0>)\n",
      "tensor(189.7538, device='cuda:0', grad_fn=<AddBackward0>)\n",
      "tensor(134.0146, device='cuda:0', grad_fn=<AddBackward0>)\n",
      "tensor(200.0431, device='cuda:0', grad_fn=<AddBackward0>)\n"
     ]
    },
    {
     "name": "stderr",
     "output_type": "stream",
     "text": [
      "1855it [02:07, 12.51it/s]"
     ]
    },
    {
     "name": "stdout",
     "output_type": "stream",
     "text": [
      "tensor(226.1352, device='cuda:0', grad_fn=<AddBackward0>)\n",
      "tensor(206.1299, device='cuda:0', grad_fn=<AddBackward0>)\n",
      "tensor(146.3411, device='cuda:0', grad_fn=<AddBackward0>)\n"
     ]
    },
    {
     "name": "stderr",
     "output_type": "stream",
     "text": [
      "1857it [02:07, 13.53it/s]"
     ]
    },
    {
     "name": "stdout",
     "output_type": "stream",
     "text": [
      "tensor(261.8268, device='cuda:0', grad_fn=<AddBackward0>)\n",
      "tensor(197.9230, device='cuda:0', grad_fn=<AddBackward0>)\n",
      "tensor(230.6957, device='cuda:0', grad_fn=<AddBackward0>)\n"
     ]
    },
    {
     "name": "stderr",
     "output_type": "stream",
     "text": [
      "1861it [02:07, 14.29it/s]"
     ]
    },
    {
     "name": "stdout",
     "output_type": "stream",
     "text": [
      "tensor(218.0901, device='cuda:0', grad_fn=<AddBackward0>)\n",
      "tensor(228.4499, device='cuda:0', grad_fn=<AddBackward0>)\n",
      "tensor(206.4312, device='cuda:0', grad_fn=<AddBackward0>)\n",
      "tensor(357.3520, device='cuda:0', grad_fn=<AddBackward0>)\n"
     ]
    },
    {
     "name": "stderr",
     "output_type": "stream",
     "text": [
      "1865it [02:07, 13.99it/s]"
     ]
    },
    {
     "name": "stdout",
     "output_type": "stream",
     "text": [
      "tensor(234.7167, device='cuda:0', grad_fn=<AddBackward0>)\n",
      "tensor(187.8445, device='cuda:0', grad_fn=<AddBackward0>)\n",
      "tensor(177.5520, device='cuda:0', grad_fn=<AddBackward0>)\n"
     ]
    },
    {
     "name": "stderr",
     "output_type": "stream",
     "text": [
      "1867it [02:07, 13.63it/s]"
     ]
    },
    {
     "name": "stdout",
     "output_type": "stream",
     "text": [
      "tensor(267.4693, device='cuda:0', grad_fn=<AddBackward0>)\n",
      "tensor(202.8046, device='cuda:0', grad_fn=<AddBackward0>)\n",
      "tensor(206.7909, device='cuda:0', grad_fn=<AddBackward0>)\n"
     ]
    },
    {
     "name": "stderr",
     "output_type": "stream",
     "text": [
      "1871it [02:08, 14.22it/s]"
     ]
    },
    {
     "name": "stdout",
     "output_type": "stream",
     "text": [
      "tensor(267.8108, device='cuda:0', grad_fn=<AddBackward0>)\n",
      "tensor(299.7088, device='cuda:0', grad_fn=<AddBackward0>)\n",
      "tensor(172.6707, device='cuda:0', grad_fn=<AddBackward0>)\n",
      "tensor(188.4633, device='cuda:0', grad_fn=<AddBackward0>)\n"
     ]
    },
    {
     "name": "stderr",
     "output_type": "stream",
     "text": [
      "1873it [02:08, 14.43it/s]"
     ]
    },
    {
     "name": "stdout",
     "output_type": "stream",
     "text": [
      "tensor(190.2038, device='cuda:0', grad_fn=<AddBackward0>)\n",
      "tensor(177.9413, device='cuda:0', grad_fn=<AddBackward0>)\n"
     ]
    },
    {
     "name": "stderr",
     "output_type": "stream",
     "text": [
      "1877it [02:08, 12.18it/s]"
     ]
    },
    {
     "name": "stdout",
     "output_type": "stream",
     "text": [
      "tensor(250.1388, device='cuda:0', grad_fn=<AddBackward0>)\n",
      "tensor(207.6324, device='cuda:0', grad_fn=<AddBackward0>)\n",
      "tensor(242.0156, device='cuda:0', grad_fn=<AddBackward0>)\n",
      "tensor(237.4878, device='cuda:0', grad_fn=<AddBackward0>)\n"
     ]
    },
    {
     "name": "stderr",
     "output_type": "stream",
     "text": [
      "1881it [02:08, 13.34it/s]"
     ]
    },
    {
     "name": "stdout",
     "output_type": "stream",
     "text": [
      "tensor(110.9855, device='cuda:0', grad_fn=<AddBackward0>)\n",
      "tensor(228.8810, device='cuda:0', grad_fn=<AddBackward0>)\n",
      "tensor(296.2969, device='cuda:0', grad_fn=<AddBackward0>)\n",
      "tensor(128.4781, device='cuda:0', grad_fn=<AddBackward0>)\n"
     ]
    },
    {
     "name": "stderr",
     "output_type": "stream",
     "text": [
      "1885it [02:09, 14.24it/s]"
     ]
    },
    {
     "name": "stdout",
     "output_type": "stream",
     "text": [
      "tensor(223.8362, device='cuda:0', grad_fn=<AddBackward0>)\n",
      "tensor(181.6813, device='cuda:0', grad_fn=<AddBackward0>)\n",
      "tensor(184.7487, device='cuda:0', grad_fn=<AddBackward0>)\n",
      "tensor(155.6053, device='cuda:0', grad_fn=<AddBackward0>)\n"
     ]
    },
    {
     "name": "stderr",
     "output_type": "stream",
     "text": [
      "1889it [02:09, 14.41it/s]"
     ]
    },
    {
     "name": "stdout",
     "output_type": "stream",
     "text": [
      "tensor(161.1326, device='cuda:0', grad_fn=<AddBackward0>)\n",
      "tensor(176.1757, device='cuda:0', grad_fn=<AddBackward0>)\n",
      "tensor(151.5357, device='cuda:0', grad_fn=<AddBackward0>)\n"
     ]
    },
    {
     "name": "stderr",
     "output_type": "stream",
     "text": [
      "1891it [02:09, 13.81it/s]"
     ]
    },
    {
     "name": "stdout",
     "output_type": "stream",
     "text": [
      "tensor(191.5480, device='cuda:0', grad_fn=<AddBackward0>)\n",
      "tensor(313.1567, device='cuda:0', grad_fn=<AddBackward0>)\n",
      "tensor(204.8853, device='cuda:0', grad_fn=<AddBackward0>)\n",
      "tensor(140.6543, device='cuda:0', grad_fn=<AddBackward0>)\n"
     ]
    },
    {
     "name": "stderr",
     "output_type": "stream",
     "text": [
      "1893it [02:09, 14.02it/s]"
     ]
    },
    {
     "name": "stdout",
     "output_type": "stream",
     "text": [
      "tensor(241.7663, device='cuda:0', grad_fn=<AddBackward0>)\n",
      "tensor(296.0928, device='cuda:0', grad_fn=<AddBackward0>)\n"
     ]
    },
    {
     "name": "stderr",
     "output_type": "stream",
     "text": [
      "1899it [02:10, 13.13it/s]"
     ]
    },
    {
     "name": "stdout",
     "output_type": "stream",
     "text": [
      "tensor(185.1323, device='cuda:0', grad_fn=<AddBackward0>)\n",
      "tensor(197.5611, device='cuda:0', grad_fn=<AddBackward0>)\n",
      "tensor(255.0231, device='cuda:0', grad_fn=<AddBackward0>)\n",
      "tensor(259.0532, device='cuda:0', grad_fn=<AddBackward0>)\n"
     ]
    },
    {
     "name": "stderr",
     "output_type": "stream",
     "text": [
      "1901it [02:10, 13.00it/s]"
     ]
    },
    {
     "name": "stdout",
     "output_type": "stream",
     "text": [
      "tensor(282.1198, device='cuda:0', grad_fn=<AddBackward0>)\n",
      "tensor(195.9892, device='cuda:0', grad_fn=<AddBackward0>)\n",
      "tensor(348.7419, device='cuda:0', grad_fn=<AddBackward0>)\n"
     ]
    },
    {
     "name": "stderr",
     "output_type": "stream",
     "text": [
      "1905it [02:10, 13.54it/s]"
     ]
    },
    {
     "name": "stdout",
     "output_type": "stream",
     "text": [
      "tensor(270.1321, device='cuda:0', grad_fn=<AddBackward0>)\n",
      "tensor(253.5889, device='cuda:0', grad_fn=<AddBackward0>)\n",
      "tensor(180.2672, device='cuda:0', grad_fn=<AddBackward0>)\n"
     ]
    },
    {
     "name": "stderr",
     "output_type": "stream",
     "text": [
      "1907it [02:10, 14.01it/s]"
     ]
    },
    {
     "name": "stdout",
     "output_type": "stream",
     "text": [
      "tensor(245.8768, device='cuda:0', grad_fn=<AddBackward0>)\n",
      "tensor(204.8195, device='cuda:0', grad_fn=<AddBackward0>)\n",
      "tensor(157.9507, device='cuda:0', grad_fn=<AddBackward0>)\n",
      "tensor(186.9034, device='cuda:0', grad_fn=<AddBackward0>)\n"
     ]
    },
    {
     "name": "stderr",
     "output_type": "stream",
     "text": [
      "1911it [02:11, 14.00it/s]"
     ]
    },
    {
     "name": "stdout",
     "output_type": "stream",
     "text": [
      "tensor(167.8412, device='cuda:0', grad_fn=<AddBackward0>)\n",
      "tensor(145.7783, device='cuda:0', grad_fn=<AddBackward0>)\n",
      "tensor(223.3438, device='cuda:0', grad_fn=<AddBackward0>)\n",
      "tensor(205.5883, device='cuda:0', grad_fn=<AddBackward0>)\n"
     ]
    },
    {
     "name": "stderr",
     "output_type": "stream",
     "text": [
      "1915it [02:11, 15.22it/s]"
     ]
    },
    {
     "name": "stdout",
     "output_type": "stream",
     "text": [
      "tensor(203.7178, device='cuda:0', grad_fn=<AddBackward0>)\n",
      "tensor(221.4099, device='cuda:0', grad_fn=<AddBackward0>)\n",
      "tensor(230.7445, device='cuda:0', grad_fn=<AddBackward0>)\n",
      "tensor(295.0754, device='cuda:0', grad_fn=<AddBackward0>)\n"
     ]
    },
    {
     "name": "stderr",
     "output_type": "stream",
     "text": [
      "1919it [02:11, 15.02it/s]"
     ]
    },
    {
     "name": "stdout",
     "output_type": "stream",
     "text": [
      "tensor(189.3353, device='cuda:0', grad_fn=<AddBackward0>)\n",
      "tensor(167.1988, device='cuda:0', grad_fn=<AddBackward0>)\n",
      "tensor(229.2167, device='cuda:0', grad_fn=<AddBackward0>)\n"
     ]
    },
    {
     "name": "stderr",
     "output_type": "stream",
     "text": [
      "1923it [02:11, 15.15it/s]"
     ]
    },
    {
     "name": "stdout",
     "output_type": "stream",
     "text": [
      "tensor(298.2300, device='cuda:0', grad_fn=<AddBackward0>)\n",
      "tensor(256.5972, device='cuda:0', grad_fn=<AddBackward0>)\n",
      "tensor(196.2673, device='cuda:0', grad_fn=<AddBackward0>)\n",
      "tensor(110.2405, device='cuda:0', grad_fn=<AddBackward0>)\n"
     ]
    },
    {
     "name": "stderr",
     "output_type": "stream",
     "text": [
      "1927it [02:12, 12.51it/s]"
     ]
    },
    {
     "name": "stdout",
     "output_type": "stream",
     "text": [
      "tensor(162.7717, device='cuda:0', grad_fn=<AddBackward0>)\n",
      "tensor(107.3436, device='cuda:0', grad_fn=<AddBackward0>)\n",
      "tensor(279.4461, device='cuda:0', grad_fn=<AddBackward0>)\n",
      "tensor(243.0902, device='cuda:0', grad_fn=<AddBackward0>)\n"
     ]
    },
    {
     "name": "stderr",
     "output_type": "stream",
     "text": [
      "1931it [02:12, 13.92it/s]"
     ]
    },
    {
     "name": "stdout",
     "output_type": "stream",
     "text": [
      "tensor(86.4090, device='cuda:0', grad_fn=<AddBackward0>)\n",
      "tensor(282.4517, device='cuda:0', grad_fn=<AddBackward0>)\n",
      "tensor(235.1962, device='cuda:0', grad_fn=<AddBackward0>)\n",
      "tensor(209.1181, device='cuda:0', grad_fn=<AddBackward0>)\n"
     ]
    },
    {
     "name": "stderr",
     "output_type": "stream",
     "text": [
      "1935it [02:12, 13.57it/s]"
     ]
    },
    {
     "name": "stdout",
     "output_type": "stream",
     "text": [
      "tensor(213.4514, device='cuda:0', grad_fn=<AddBackward0>)\n",
      "tensor(149.3174, device='cuda:0', grad_fn=<AddBackward0>)\n",
      "tensor(225.6252, device='cuda:0', grad_fn=<AddBackward0>)\n",
      "tensor(243.4955, device='cuda:0', grad_fn=<AddBackward0>)\n"
     ]
    },
    {
     "name": "stderr",
     "output_type": "stream",
     "text": [
      "1939it [02:13, 14.49it/s]"
     ]
    },
    {
     "name": "stdout",
     "output_type": "stream",
     "text": [
      "tensor(123.0664, device='cuda:0', grad_fn=<AddBackward0>)\n",
      "tensor(112.6704, device='cuda:0', grad_fn=<AddBackward0>)\n",
      "tensor(112.1477, device='cuda:0', grad_fn=<AddBackward0>)\n",
      "tensor(149.5700, device='cuda:0', grad_fn=<AddBackward0>)\n"
     ]
    },
    {
     "name": "stderr",
     "output_type": "stream",
     "text": [
      "1943it [02:13, 15.07it/s]"
     ]
    },
    {
     "name": "stdout",
     "output_type": "stream",
     "text": [
      "tensor(143.3910, device='cuda:0', grad_fn=<AddBackward0>)\n",
      "tensor(152.6499, device='cuda:0', grad_fn=<AddBackward0>)\n",
      "tensor(246.9233, device='cuda:0', grad_fn=<AddBackward0>)\n",
      "tensor(240.2012, device='cuda:0', grad_fn=<AddBackward0>)\n"
     ]
    },
    {
     "name": "stderr",
     "output_type": "stream",
     "text": [
      "1947it [02:13, 14.82it/s]"
     ]
    },
    {
     "name": "stdout",
     "output_type": "stream",
     "text": [
      "tensor(208.0081, device='cuda:0', grad_fn=<AddBackward0>)\n",
      "tensor(163.6134, device='cuda:0', grad_fn=<AddBackward0>)\n",
      "tensor(171.9113, device='cuda:0', grad_fn=<AddBackward0>)\n"
     ]
    },
    {
     "name": "stderr",
     "output_type": "stream",
     "text": [
      "1949it [02:13, 14.13it/s]"
     ]
    },
    {
     "name": "stdout",
     "output_type": "stream",
     "text": [
      "tensor(277.3467, device='cuda:0', grad_fn=<AddBackward0>)\n",
      "tensor(204.9541, device='cuda:0', grad_fn=<AddBackward0>)\n",
      "tensor(236.7822, device='cuda:0', grad_fn=<AddBackward0>)\n"
     ]
    },
    {
     "name": "stderr",
     "output_type": "stream",
     "text": [
      "1953it [02:14, 14.45it/s]"
     ]
    },
    {
     "name": "stdout",
     "output_type": "stream",
     "text": [
      "tensor(227.9650, device='cuda:0', grad_fn=<AddBackward0>)\n",
      "tensor(262.8303, device='cuda:0', grad_fn=<AddBackward0>)\n",
      "tensor(169.8432, device='cuda:0', grad_fn=<AddBackward0>)\n"
     ]
    },
    {
     "name": "stderr",
     "output_type": "stream",
     "text": [
      "1955it [02:14, 13.91it/s]"
     ]
    },
    {
     "name": "stdout",
     "output_type": "stream",
     "text": [
      "tensor(186.4828, device='cuda:0', grad_fn=<AddBackward0>)\n",
      "tensor(217.1178, device='cuda:0', grad_fn=<AddBackward0>)\n",
      "tensor(345.7629, device='cuda:0', grad_fn=<AddBackward0>)\n"
     ]
    },
    {
     "name": "stderr",
     "output_type": "stream",
     "text": [
      "1959it [02:14, 11.99it/s]"
     ]
    },
    {
     "name": "stdout",
     "output_type": "stream",
     "text": [
      "tensor(200.2307, device='cuda:0', grad_fn=<AddBackward0>)\n",
      "tensor(255.3504, device='cuda:0', grad_fn=<AddBackward0>)\n",
      "tensor(272.2539, device='cuda:0', grad_fn=<AddBackward0>)\n"
     ]
    },
    {
     "name": "stderr",
     "output_type": "stream",
     "text": [
      "1961it [02:14, 12.55it/s]"
     ]
    },
    {
     "name": "stdout",
     "output_type": "stream",
     "text": [
      "tensor(327.9301, device='cuda:0', grad_fn=<AddBackward0>)\n",
      "tensor(178.9756, device='cuda:0', grad_fn=<AddBackward0>)\n",
      "tensor(287.9557, device='cuda:0', grad_fn=<AddBackward0>)\n"
     ]
    },
    {
     "name": "stderr",
     "output_type": "stream",
     "text": [
      "1965it [02:15, 13.61it/s]"
     ]
    },
    {
     "name": "stdout",
     "output_type": "stream",
     "text": [
      "tensor(208.7479, device='cuda:0', grad_fn=<AddBackward0>)\n",
      "tensor(270.1131, device='cuda:0', grad_fn=<AddBackward0>)\n",
      "tensor(225.9660, device='cuda:0', grad_fn=<AddBackward0>)\n",
      "tensor(355.1315, device='cuda:0', grad_fn=<AddBackward0>)\n"
     ]
    },
    {
     "name": "stderr",
     "output_type": "stream",
     "text": [
      "1969it [02:15, 14.31it/s]"
     ]
    },
    {
     "name": "stdout",
     "output_type": "stream",
     "text": [
      "tensor(199.7708, device='cuda:0', grad_fn=<AddBackward0>)\n",
      "tensor(148.4324, device='cuda:0', grad_fn=<AddBackward0>)\n",
      "tensor(199.6124, device='cuda:0', grad_fn=<AddBackward0>)\n"
     ]
    },
    {
     "name": "stderr",
     "output_type": "stream",
     "text": [
      "1971it [02:15, 14.49it/s]"
     ]
    },
    {
     "name": "stdout",
     "output_type": "stream",
     "text": [
      "tensor(226.8813, device='cuda:0', grad_fn=<AddBackward0>)\n",
      "tensor(275.9637, device='cuda:0', grad_fn=<AddBackward0>)\n",
      "tensor(145.1696, device='cuda:0', grad_fn=<AddBackward0>)\n",
      "tensor(246.7455, device='cuda:0', grad_fn=<AddBackward0>)\n"
     ]
    },
    {
     "name": "stderr",
     "output_type": "stream",
     "text": [
      "1975it [02:15, 13.99it/s]"
     ]
    },
    {
     "name": "stdout",
     "output_type": "stream",
     "text": [
      "tensor(159.1599, device='cuda:0', grad_fn=<AddBackward0>)\n",
      "tensor(269.6088, device='cuda:0', grad_fn=<AddBackward0>)\n"
     ]
    },
    {
     "name": "stderr",
     "output_type": "stream",
     "text": [
      "1977it [02:16, 11.75it/s]"
     ]
    },
    {
     "name": "stdout",
     "output_type": "stream",
     "text": [
      "tensor(245.3725, device='cuda:0', grad_fn=<AddBackward0>)\n",
      "tensor(239.0739, device='cuda:0', grad_fn=<AddBackward0>)\n",
      "tensor(199.2637, device='cuda:0', grad_fn=<AddBackward0>)\n",
      "tensor(114.6395, device='cuda:0', grad_fn=<AddBackward0>)\n"
     ]
    },
    {
     "name": "stderr",
     "output_type": "stream",
     "text": [
      "1981it [02:16, 12.93it/s]"
     ]
    },
    {
     "name": "stdout",
     "output_type": "stream",
     "text": [
      "tensor(243.1584, device='cuda:0', grad_fn=<AddBackward0>)\n",
      "tensor(257.2001, device='cuda:0', grad_fn=<AddBackward0>)\n",
      "tensor(171.5478, device='cuda:0', grad_fn=<AddBackward0>)\n"
     ]
    },
    {
     "name": "stderr",
     "output_type": "stream",
     "text": [
      "1985it [02:16, 14.19it/s]"
     ]
    },
    {
     "name": "stdout",
     "output_type": "stream",
     "text": [
      "tensor(281.2434, device='cuda:0', grad_fn=<AddBackward0>)\n",
      "tensor(213.1515, device='cuda:0', grad_fn=<AddBackward0>)\n",
      "tensor(234.1741, device='cuda:0', grad_fn=<AddBackward0>)\n",
      "tensor(204.7276, device='cuda:0', grad_fn=<AddBackward0>)\n"
     ]
    },
    {
     "name": "stderr",
     "output_type": "stream",
     "text": [
      "1989it [02:16, 14.35it/s]"
     ]
    },
    {
     "name": "stdout",
     "output_type": "stream",
     "text": [
      "tensor(235.5649, device='cuda:0', grad_fn=<AddBackward0>)\n",
      "tensor(141.7188, device='cuda:0', grad_fn=<AddBackward0>)\n",
      "tensor(186.3787, device='cuda:0', grad_fn=<AddBackward0>)\n"
     ]
    },
    {
     "name": "stderr",
     "output_type": "stream",
     "text": [
      "1991it [02:16, 13.92it/s]"
     ]
    },
    {
     "name": "stdout",
     "output_type": "stream",
     "text": [
      "tensor(185.9335, device='cuda:0', grad_fn=<AddBackward0>)\n",
      "tensor(167.2061, device='cuda:0', grad_fn=<AddBackward0>)\n",
      "tensor(137.2123, device='cuda:0', grad_fn=<AddBackward0>)\n",
      "tensor(271.6550, device='cuda:0', grad_fn=<AddBackward0>)\n"
     ]
    },
    {
     "name": "stderr",
     "output_type": "stream",
     "text": [
      "1995it [02:17, 14.20it/s]"
     ]
    },
    {
     "name": "stdout",
     "output_type": "stream",
     "text": [
      "tensor(280.3597, device='cuda:0', grad_fn=<AddBackward0>)\n",
      "tensor(176.6608, device='cuda:0', grad_fn=<AddBackward0>)\n",
      "tensor(213.7088, device='cuda:0', grad_fn=<AddBackward0>)\n"
     ]
    },
    {
     "name": "stderr",
     "output_type": "stream",
     "text": [
      "1999it [02:17, 14.54it/s]"
     ]
    },
    {
     "name": "stdout",
     "output_type": "stream",
     "text": [
      "tensor(179.8525, device='cuda:0', grad_fn=<AddBackward0>)\n",
      "tensor(215.6912, device='cuda:0', grad_fn=<AddBackward0>)\n",
      "tensor(228.3214, device='cuda:0', grad_fn=<AddBackward0>)\n",
      "tensor(217.2186, device='cuda:0', grad_fn=<AddBackward0>)\n"
     ]
    },
    {
     "name": "stderr",
     "output_type": "stream",
     "text": [
      "2003it [02:17, 14.65it/s]"
     ]
    },
    {
     "name": "stdout",
     "output_type": "stream",
     "text": [
      "tensor(139.7628, device='cuda:0', grad_fn=<AddBackward0>)\n",
      "tensor(185.1077, device='cuda:0', grad_fn=<AddBackward0>)\n",
      "tensor(147.3783, device='cuda:0', grad_fn=<AddBackward0>)\n"
     ]
    },
    {
     "name": "stderr",
     "output_type": "stream",
     "text": [
      "2005it [02:17, 14.06it/s]"
     ]
    },
    {
     "name": "stdout",
     "output_type": "stream",
     "text": [
      "tensor(156.1293, device='cuda:0', grad_fn=<AddBackward0>)\n",
      "tensor(245.2537, device='cuda:0', grad_fn=<AddBackward0>)\n"
     ]
    },
    {
     "name": "stderr",
     "output_type": "stream",
     "text": [
      "2007it [02:18, 11.57it/s]"
     ]
    },
    {
     "name": "stdout",
     "output_type": "stream",
     "text": [
      "tensor(217.7182, device='cuda:0', grad_fn=<AddBackward0>)\n",
      "tensor(129.0282, device='cuda:0', grad_fn=<AddBackward0>)\n",
      "tensor(201.6542, device='cuda:0', grad_fn=<AddBackward0>)\n"
     ]
    },
    {
     "name": "stderr",
     "output_type": "stream",
     "text": [
      "2011it [02:18, 12.55it/s]"
     ]
    },
    {
     "name": "stdout",
     "output_type": "stream",
     "text": [
      "tensor(125.5642, device='cuda:0', grad_fn=<AddBackward0>)\n",
      "tensor(157.4331, device='cuda:0', grad_fn=<AddBackward0>)\n",
      "tensor(220.6544, device='cuda:0', grad_fn=<AddBackward0>)\n"
     ]
    },
    {
     "name": "stderr",
     "output_type": "stream",
     "text": [
      "2013it [02:18, 13.06it/s]"
     ]
    },
    {
     "name": "stdout",
     "output_type": "stream",
     "text": [
      "tensor(189.5803, device='cuda:0', grad_fn=<AddBackward0>)\n",
      "tensor(138.7908, device='cuda:0', grad_fn=<AddBackward0>)\n",
      "tensor(163.4380, device='cuda:0', grad_fn=<AddBackward0>)\n",
      "tensor(256.9290, device='cuda:0', grad_fn=<AddBackward0>)\n"
     ]
    },
    {
     "name": "stderr",
     "output_type": "stream",
     "text": [
      "2017it [02:19, 11.03it/s]"
     ]
    },
    {
     "name": "stdout",
     "output_type": "stream",
     "text": [
      "tensor(215.6826, device='cuda:0', grad_fn=<AddBackward0>)\n",
      "tensor(230.6559, device='cuda:0', grad_fn=<AddBackward0>)\n"
     ]
    },
    {
     "name": "stderr",
     "output_type": "stream",
     "text": [
      "2021it [02:19, 12.74it/s]"
     ]
    },
    {
     "name": "stdout",
     "output_type": "stream",
     "text": [
      "tensor(200.6448, device='cuda:0', grad_fn=<AddBackward0>)\n",
      "tensor(239.2622, device='cuda:0', grad_fn=<AddBackward0>)\n",
      "tensor(147.7036, device='cuda:0', grad_fn=<AddBackward0>)\n",
      "tensor(229.8020, device='cuda:0', grad_fn=<AddBackward0>)\n"
     ]
    },
    {
     "name": "stderr",
     "output_type": "stream",
     "text": [
      "2023it [02:19, 12.36it/s]"
     ]
    },
    {
     "name": "stdout",
     "output_type": "stream",
     "text": [
      "tensor(268.4426, device='cuda:0', grad_fn=<AddBackward0>)\n",
      "tensor(205.8844, device='cuda:0', grad_fn=<AddBackward0>)\n",
      "tensor(292.9601, device='cuda:0', grad_fn=<AddBackward0>)\n"
     ]
    },
    {
     "name": "stderr",
     "output_type": "stream",
     "text": [
      "2027it [02:19, 13.68it/s]"
     ]
    },
    {
     "name": "stdout",
     "output_type": "stream",
     "text": [
      "tensor(238.8455, device='cuda:0', grad_fn=<AddBackward0>)\n",
      "tensor(135.8235, device='cuda:0', grad_fn=<AddBackward0>)\n",
      "tensor(168.5459, device='cuda:0', grad_fn=<AddBackward0>)\n",
      "tensor(223.9858, device='cuda:0', grad_fn=<AddBackward0>)\n"
     ]
    },
    {
     "name": "stderr",
     "output_type": "stream",
     "text": [
      "2031it [02:20, 13.51it/s]"
     ]
    },
    {
     "name": "stdout",
     "output_type": "stream",
     "text": [
      "tensor(151.6441, device='cuda:0', grad_fn=<AddBackward0>)\n",
      "tensor(184.9321, device='cuda:0', grad_fn=<AddBackward0>)\n",
      "tensor(171.9017, device='cuda:0', grad_fn=<AddBackward0>)\n"
     ]
    },
    {
     "name": "stderr",
     "output_type": "stream",
     "text": [
      "2035it [02:20, 14.48it/s]"
     ]
    },
    {
     "name": "stdout",
     "output_type": "stream",
     "text": [
      "tensor(223.9833, device='cuda:0', grad_fn=<AddBackward0>)\n",
      "tensor(385.1790, device='cuda:0', grad_fn=<AddBackward0>)\n",
      "tensor(276.2877, device='cuda:0', grad_fn=<AddBackward0>)\n",
      "tensor(184.9439, device='cuda:0', grad_fn=<AddBackward0>)\n"
     ]
    },
    {
     "name": "stderr",
     "output_type": "stream",
     "text": [
      "2037it [02:20, 15.08it/s]"
     ]
    },
    {
     "name": "stdout",
     "output_type": "stream",
     "text": [
      "tensor(274.1351, device='cuda:0', grad_fn=<AddBackward0>)\n",
      "tensor(192.4425, device='cuda:0', grad_fn=<AddBackward0>)\n",
      "tensor(206.6117, device='cuda:0', grad_fn=<AddBackward0>)\n",
      "tensor(206.5881, device='cuda:0', grad_fn=<AddBackward0>)\n"
     ]
    },
    {
     "name": "stderr",
     "output_type": "stream",
     "text": [
      "2041it [02:20, 15.53it/s]"
     ]
    },
    {
     "name": "stdout",
     "output_type": "stream",
     "text": [
      "tensor(162.7876, device='cuda:0', grad_fn=<AddBackward0>)\n",
      "tensor(377.6048, device='cuda:0', grad_fn=<AddBackward0>)\n",
      "tensor(161.0901, device='cuda:0', grad_fn=<AddBackward0>)\n",
      "tensor(188.4993, device='cuda:0', grad_fn=<AddBackward0>)\n"
     ]
    },
    {
     "name": "stderr",
     "output_type": "stream",
     "text": [
      "2045it [02:20, 15.03it/s]"
     ]
    },
    {
     "name": "stdout",
     "output_type": "stream",
     "text": [
      "tensor(194.2918, device='cuda:0', grad_fn=<AddBackward0>)\n",
      "tensor(142.5869, device='cuda:0', grad_fn=<AddBackward0>)\n",
      "tensor(212.5099, device='cuda:0', grad_fn=<AddBackward0>)\n"
     ]
    },
    {
     "name": "stderr",
     "output_type": "stream",
     "text": [
      "2047it [02:21, 14.19it/s]"
     ]
    },
    {
     "name": "stdout",
     "output_type": "stream",
     "text": [
      "tensor(177.5964, device='cuda:0', grad_fn=<AddBackward0>)\n",
      "tensor(140.7670, device='cuda:0', grad_fn=<AddBackward0>)\n"
     ]
    },
    {
     "name": "stderr",
     "output_type": "stream",
     "text": [
      "2051it [02:21, 11.76it/s]"
     ]
    },
    {
     "name": "stdout",
     "output_type": "stream",
     "text": [
      "tensor(241.7092, device='cuda:0', grad_fn=<AddBackward0>)\n",
      "tensor(190.1443, device='cuda:0', grad_fn=<AddBackward0>)\n",
      "tensor(864.4937, device='cuda:0', grad_fn=<AddBackward0>)\n"
     ]
    },
    {
     "name": "stderr",
     "output_type": "stream",
     "text": [
      "2053it [02:21, 12.34it/s]"
     ]
    },
    {
     "name": "stdout",
     "output_type": "stream",
     "text": [
      "tensor(212.2135, device='cuda:0', grad_fn=<AddBackward0>)\n",
      "tensor(242.2349, device='cuda:0', grad_fn=<AddBackward0>)\n",
      "tensor(234.5593, device='cuda:0', grad_fn=<AddBackward0>)\n",
      "tensor(271.7838, device='cuda:0', grad_fn=<AddBackward0>)\n"
     ]
    },
    {
     "name": "stderr",
     "output_type": "stream",
     "text": [
      "2057it [02:21, 13.99it/s]"
     ]
    },
    {
     "name": "stdout",
     "output_type": "stream",
     "text": [
      "tensor(194.7551, device='cuda:0', grad_fn=<AddBackward0>)\n",
      "tensor(119.5490, device='cuda:0', grad_fn=<AddBackward0>)\n",
      "tensor(334.0251, device='cuda:0', grad_fn=<AddBackward0>)\n",
      "tensor(225.3665, device='cuda:0', grad_fn=<AddBackward0>)\n"
     ]
    },
    {
     "name": "stderr",
     "output_type": "stream",
     "text": [
      "2061it [02:22, 13.96it/s]"
     ]
    },
    {
     "name": "stdout",
     "output_type": "stream",
     "text": [
      "tensor(197.4207, device='cuda:0', grad_fn=<AddBackward0>)\n",
      "tensor(161.8444, device='cuda:0', grad_fn=<AddBackward0>)\n",
      "tensor(247.1700, device='cuda:0', grad_fn=<AddBackward0>)\n"
     ]
    },
    {
     "name": "stderr",
     "output_type": "stream",
     "text": [
      "2065it [02:22, 12.85it/s]"
     ]
    },
    {
     "name": "stdout",
     "output_type": "stream",
     "text": [
      "tensor(157.7442, device='cuda:0', grad_fn=<AddBackward0>)\n",
      "tensor(273.4295, device='cuda:0', grad_fn=<AddBackward0>)\n",
      "tensor(180.4139, device='cuda:0', grad_fn=<AddBackward0>)\n"
     ]
    },
    {
     "name": "stderr",
     "output_type": "stream",
     "text": [
      "2067it [02:22, 12.91it/s]"
     ]
    },
    {
     "name": "stdout",
     "output_type": "stream",
     "text": [
      "tensor(220.7498, device='cuda:0', grad_fn=<AddBackward0>)\n",
      "tensor(275.3136, device='cuda:0', grad_fn=<AddBackward0>)\n",
      "tensor(234.5483, device='cuda:0', grad_fn=<AddBackward0>)\n",
      "tensor(211.7730, device='cuda:0', grad_fn=<AddBackward0>)\n"
     ]
    },
    {
     "name": "stderr",
     "output_type": "stream",
     "text": [
      "2071it [02:22, 14.04it/s]"
     ]
    },
    {
     "name": "stdout",
     "output_type": "stream",
     "text": [
      "tensor(252.8671, device='cuda:0', grad_fn=<AddBackward0>)\n",
      "tensor(162.8792, device='cuda:0', grad_fn=<AddBackward0>)\n",
      "tensor(184.4354, device='cuda:0', grad_fn=<AddBackward0>)\n"
     ]
    },
    {
     "name": "stderr",
     "output_type": "stream",
     "text": [
      "2075it [02:23, 13.79it/s]"
     ]
    },
    {
     "name": "stdout",
     "output_type": "stream",
     "text": [
      "tensor(199.8611, device='cuda:0', grad_fn=<AddBackward0>)\n",
      "tensor(148.2302, device='cuda:0', grad_fn=<AddBackward0>)\n",
      "tensor(162.4482, device='cuda:0', grad_fn=<AddBackward0>)\n"
     ]
    },
    {
     "name": "stderr",
     "output_type": "stream",
     "text": [
      "2077it [02:23, 13.93it/s]"
     ]
    },
    {
     "name": "stdout",
     "output_type": "stream",
     "text": [
      "tensor(256.0661, device='cuda:0', grad_fn=<AddBackward0>)\n",
      "tensor(230.2064, device='cuda:0', grad_fn=<AddBackward0>)\n",
      "tensor(133.8071, device='cuda:0', grad_fn=<AddBackward0>)\n"
     ]
    },
    {
     "name": "stderr",
     "output_type": "stream",
     "text": [
      "2079it [02:23, 14.05it/s]"
     ]
    },
    {
     "name": "stdout",
     "output_type": "stream",
     "text": [
      "tensor(148.5959, device='cuda:0', grad_fn=<AddBackward0>)\n",
      "tensor(168.1457, device='cuda:0', grad_fn=<AddBackward0>)\n",
      "tensor(200.9749, device='cuda:0', grad_fn=<AddBackward0>)\n"
     ]
    },
    {
     "name": "stderr",
     "output_type": "stream",
     "text": [
      "2083it [02:23, 12.07it/s]"
     ]
    },
    {
     "name": "stdout",
     "output_type": "stream",
     "text": [
      "tensor(146.7367, device='cuda:0', grad_fn=<AddBackward0>)\n",
      "tensor(153.7740, device='cuda:0', grad_fn=<AddBackward0>)\n",
      "tensor(236.7369, device='cuda:0', grad_fn=<AddBackward0>)\n",
      "tensor(231.6689, device='cuda:0', grad_fn=<AddBackward0>)\n"
     ]
    },
    {
     "name": "stderr",
     "output_type": "stream",
     "text": [
      "2087it [02:24, 13.59it/s]"
     ]
    },
    {
     "name": "stdout",
     "output_type": "stream",
     "text": [
      "tensor(285.5266, device='cuda:0', grad_fn=<AddBackward0>)\n",
      "tensor(178.2341, device='cuda:0', grad_fn=<AddBackward0>)\n",
      "tensor(166.0286, device='cuda:0', grad_fn=<AddBackward0>)\n",
      "tensor(232.1063, device='cuda:0', grad_fn=<AddBackward0>)\n"
     ]
    },
    {
     "name": "stderr",
     "output_type": "stream",
     "text": [
      "2091it [02:24, 14.58it/s]"
     ]
    },
    {
     "name": "stdout",
     "output_type": "stream",
     "text": [
      "tensor(197.0215, device='cuda:0', grad_fn=<AddBackward0>)\n",
      "tensor(205.7763, device='cuda:0', grad_fn=<AddBackward0>)\n",
      "tensor(222.7401, device='cuda:0', grad_fn=<AddBackward0>)\n",
      "tensor(235.3383, device='cuda:0', grad_fn=<AddBackward0>)\n"
     ]
    },
    {
     "name": "stderr",
     "output_type": "stream",
     "text": [
      "2095it [02:24, 15.08it/s]"
     ]
    },
    {
     "name": "stdout",
     "output_type": "stream",
     "text": [
      "tensor(238.0256, device='cuda:0', grad_fn=<AddBackward0>)\n",
      "tensor(246.2078, device='cuda:0', grad_fn=<AddBackward0>)\n",
      "tensor(314.8615, device='cuda:0', grad_fn=<AddBackward0>)\n",
      "tensor(156.8863, device='cuda:0', grad_fn=<AddBackward0>)\n"
     ]
    },
    {
     "name": "stderr",
     "output_type": "stream",
     "text": [
      "2099it [02:24, 15.34it/s]"
     ]
    },
    {
     "name": "stdout",
     "output_type": "stream",
     "text": [
      "tensor(217.1167, device='cuda:0', grad_fn=<AddBackward0>)\n",
      "tensor(183.0199, device='cuda:0', grad_fn=<AddBackward0>)\n",
      "tensor(143.3090, device='cuda:0', grad_fn=<AddBackward0>)\n",
      "tensor(192.7575, device='cuda:0', grad_fn=<AddBackward0>)\n"
     ]
    },
    {
     "name": "stderr",
     "output_type": "stream",
     "text": [
      "2103it [02:25, 14.83it/s]"
     ]
    },
    {
     "name": "stdout",
     "output_type": "stream",
     "text": [
      "tensor(246.8143, device='cuda:0', grad_fn=<AddBackward0>)\n",
      "tensor(231.0562, device='cuda:0', grad_fn=<AddBackward0>)\n"
     ]
    },
    {
     "name": "stderr",
     "output_type": "stream",
     "text": [
      "2105it [02:25, 11.89it/s]"
     ]
    },
    {
     "name": "stdout",
     "output_type": "stream",
     "text": [
      "tensor(133.8506, device='cuda:0', grad_fn=<AddBackward0>)\n",
      "tensor(304.7136, device='cuda:0', grad_fn=<AddBackward0>)\n",
      "tensor(237.8946, device='cuda:0', grad_fn=<AddBackward0>)\n",
      "tensor(161.7010, device='cuda:0', grad_fn=<AddBackward0>)\n"
     ]
    },
    {
     "name": "stderr",
     "output_type": "stream",
     "text": [
      "2109it [02:25, 13.01it/s]"
     ]
    },
    {
     "name": "stdout",
     "output_type": "stream",
     "text": [
      "tensor(222.5780, device='cuda:0', grad_fn=<AddBackward0>)\n",
      "tensor(139.2389, device='cuda:0', grad_fn=<AddBackward0>)\n",
      "tensor(219.8640, device='cuda:0', grad_fn=<AddBackward0>)\n"
     ]
    },
    {
     "name": "stderr",
     "output_type": "stream",
     "text": [
      "2113it [02:26, 13.86it/s]"
     ]
    },
    {
     "name": "stdout",
     "output_type": "stream",
     "text": [
      "tensor(149.0768, device='cuda:0', grad_fn=<AddBackward0>)\n",
      "tensor(225.1245, device='cuda:0', grad_fn=<AddBackward0>)\n",
      "tensor(150.0614, device='cuda:0', grad_fn=<AddBackward0>)\n",
      "tensor(122.1603, device='cuda:0', grad_fn=<AddBackward0>)\n"
     ]
    },
    {
     "name": "stderr",
     "output_type": "stream",
     "text": [
      "2117it [02:26, 13.76it/s]"
     ]
    },
    {
     "name": "stdout",
     "output_type": "stream",
     "text": [
      "tensor(145.6241, device='cuda:0', grad_fn=<AddBackward0>)\n",
      "tensor(238.4626, device='cuda:0', grad_fn=<AddBackward0>)\n",
      "tensor(276.8934, device='cuda:0', grad_fn=<AddBackward0>)\n"
     ]
    },
    {
     "name": "stderr",
     "output_type": "stream",
     "text": [
      "2119it [02:26, 13.33it/s]"
     ]
    },
    {
     "name": "stdout",
     "output_type": "stream",
     "text": [
      "tensor(324.8712, device='cuda:0', grad_fn=<AddBackward0>)\n",
      "tensor(249.8674, device='cuda:0', grad_fn=<AddBackward0>)\n"
     ]
    },
    {
     "name": "stderr",
     "output_type": "stream",
     "text": [
      "2121it [02:26, 10.95it/s]"
     ]
    },
    {
     "name": "stdout",
     "output_type": "stream",
     "text": [
      "tensor(346.2521, device='cuda:0', grad_fn=<AddBackward0>)\n",
      "tensor(215.7651, device='cuda:0', grad_fn=<AddBackward0>)\n",
      "tensor(218.2412, device='cuda:0', grad_fn=<AddBackward0>)\n"
     ]
    },
    {
     "name": "stderr",
     "output_type": "stream",
     "text": [
      "2125it [02:27, 12.83it/s]"
     ]
    },
    {
     "name": "stdout",
     "output_type": "stream",
     "text": [
      "tensor(195.6159, device='cuda:0', grad_fn=<AddBackward0>)\n",
      "tensor(177.8503, device='cuda:0', grad_fn=<AddBackward0>)\n",
      "tensor(290.8347, device='cuda:0', grad_fn=<AddBackward0>)\n",
      "tensor(297.1204, device='cuda:0', grad_fn=<AddBackward0>)\n"
     ]
    },
    {
     "name": "stderr",
     "output_type": "stream",
     "text": [
      "2129it [02:27, 13.38it/s]"
     ]
    },
    {
     "name": "stdout",
     "output_type": "stream",
     "text": [
      "tensor(243.7871, device='cuda:0', grad_fn=<AddBackward0>)\n",
      "tensor(125.1666, device='cuda:0', grad_fn=<AddBackward0>)\n",
      "tensor(249.1407, device='cuda:0', grad_fn=<AddBackward0>)\n",
      "tensor(142.2042, device='cuda:0', grad_fn=<AddBackward0>)\n"
     ]
    },
    {
     "name": "stderr",
     "output_type": "stream",
     "text": [
      "2133it [02:27, 12.84it/s]"
     ]
    },
    {
     "name": "stdout",
     "output_type": "stream",
     "text": [
      "tensor(213.8826, device='cuda:0', grad_fn=<AddBackward0>)\n",
      "tensor(204.9651, device='cuda:0', grad_fn=<AddBackward0>)\n",
      "tensor(263.0786, device='cuda:0', grad_fn=<AddBackward0>)\n"
     ]
    },
    {
     "name": "stderr",
     "output_type": "stream",
     "text": [
      "2135it [02:27, 11.00it/s]"
     ]
    },
    {
     "name": "stdout",
     "output_type": "stream",
     "text": [
      "tensor(283.6302, device='cuda:0', grad_fn=<AddBackward0>)\n",
      "tensor(258.5945, device='cuda:0', grad_fn=<AddBackward0>)\n"
     ]
    },
    {
     "name": "stderr",
     "output_type": "stream",
     "text": [
      "2137it [02:28, 11.99it/s]"
     ]
    },
    {
     "name": "stdout",
     "output_type": "stream",
     "text": [
      "tensor(220.4754, device='cuda:0', grad_fn=<AddBackward0>)\n",
      "tensor(260.0577, device='cuda:0', grad_fn=<AddBackward0>)\n",
      "tensor(183.1287, device='cuda:0', grad_fn=<AddBackward0>)\n",
      "tensor(235.3498, device='cuda:0', grad_fn=<AddBackward0>)\n"
     ]
    },
    {
     "name": "stderr",
     "output_type": "stream",
     "text": [
      "2141it [02:28, 13.38it/s]"
     ]
    },
    {
     "name": "stdout",
     "output_type": "stream",
     "text": [
      "tensor(190.1973, device='cuda:0', grad_fn=<AddBackward0>)\n",
      "tensor(243.3145, device='cuda:0', grad_fn=<AddBackward0>)\n",
      "tensor(128.4065, device='cuda:0', grad_fn=<AddBackward0>)\n",
      "tensor(221.9498, device='cuda:0', grad_fn=<AddBackward0>)\n"
     ]
    },
    {
     "name": "stderr",
     "output_type": "stream",
     "text": [
      "2145it [02:28, 12.63it/s]"
     ]
    },
    {
     "name": "stdout",
     "output_type": "stream",
     "text": [
      "tensor(187.9026, device='cuda:0', grad_fn=<AddBackward0>)\n",
      "tensor(251.3333, device='cuda:0', grad_fn=<AddBackward0>)\n",
      "tensor(274.7673, device='cuda:0', grad_fn=<AddBackward0>)\n"
     ]
    },
    {
     "name": "stderr",
     "output_type": "stream",
     "text": [
      "2149it [02:28, 13.39it/s]"
     ]
    },
    {
     "name": "stdout",
     "output_type": "stream",
     "text": [
      "tensor(227.9450, device='cuda:0', grad_fn=<AddBackward0>)\n",
      "tensor(118.8547, device='cuda:0', grad_fn=<AddBackward0>)\n",
      "tensor(124.6950, device='cuda:0', grad_fn=<AddBackward0>)\n",
      "tensor(140.0401, device='cuda:0', grad_fn=<AddBackward0>)\n"
     ]
    },
    {
     "name": "stderr",
     "output_type": "stream",
     "text": [
      "2153it [02:29, 11.97it/s]"
     ]
    },
    {
     "name": "stdout",
     "output_type": "stream",
     "text": [
      "tensor(153.5978, device='cuda:0', grad_fn=<AddBackward0>)\n",
      "tensor(184.0008, device='cuda:0', grad_fn=<AddBackward0>)\n",
      "tensor(233.2303, device='cuda:0', grad_fn=<AddBackward0>)\n"
     ]
    },
    {
     "name": "stderr",
     "output_type": "stream",
     "text": [
      "2155it [02:29, 12.49it/s]"
     ]
    },
    {
     "name": "stdout",
     "output_type": "stream",
     "text": [
      "tensor(162.8417, device='cuda:0', grad_fn=<AddBackward0>)\n",
      "tensor(199.5560, device='cuda:0', grad_fn=<AddBackward0>)\n",
      "tensor(308.1454, device='cuda:0', grad_fn=<AddBackward0>)\n"
     ]
    },
    {
     "name": "stderr",
     "output_type": "stream",
     "text": [
      "2159it [02:29, 12.91it/s]"
     ]
    },
    {
     "name": "stdout",
     "output_type": "stream",
     "text": [
      "tensor(240.0935, device='cuda:0', grad_fn=<AddBackward0>)\n",
      "tensor(230.3824, device='cuda:0', grad_fn=<AddBackward0>)\n",
      "tensor(204.1847, device='cuda:0', grad_fn=<AddBackward0>)\n"
     ]
    },
    {
     "name": "stderr",
     "output_type": "stream",
     "text": [
      "2161it [02:29, 13.30it/s]"
     ]
    },
    {
     "name": "stdout",
     "output_type": "stream",
     "text": [
      "tensor(150.8403, device='cuda:0', grad_fn=<AddBackward0>)\n",
      "tensor(136.2050, device='cuda:0', grad_fn=<AddBackward0>)\n",
      "tensor(144.1140, device='cuda:0', grad_fn=<AddBackward0>)\n"
     ]
    },
    {
     "name": "stderr",
     "output_type": "stream",
     "text": [
      "2163it [02:30, 12.40it/s]"
     ]
    },
    {
     "name": "stdout",
     "output_type": "stream",
     "text": [
      "tensor(160.8461, device='cuda:0', grad_fn=<AddBackward0>)\n",
      "tensor(124.6136, device='cuda:0', grad_fn=<AddBackward0>)\n"
     ]
    },
    {
     "name": "stderr",
     "output_type": "stream",
     "text": [
      "2165it [02:30, 10.69it/s]"
     ]
    },
    {
     "name": "stdout",
     "output_type": "stream",
     "text": [
      "tensor(195.9144, device='cuda:0', grad_fn=<AddBackward0>)\n",
      "tensor(213.5057, device='cuda:0', grad_fn=<AddBackward0>)\n",
      "tensor(169.0356, device='cuda:0', grad_fn=<AddBackward0>)\n"
     ]
    },
    {
     "name": "stderr",
     "output_type": "stream",
     "text": [
      "2169it [02:30, 10.73it/s]"
     ]
    },
    {
     "name": "stdout",
     "output_type": "stream",
     "text": [
      "tensor(215.6320, device='cuda:0', grad_fn=<AddBackward0>)\n",
      "tensor(173.5009, device='cuda:0', grad_fn=<AddBackward0>)\n",
      "tensor(228.4399, device='cuda:0', grad_fn=<AddBackward0>)\n"
     ]
    },
    {
     "name": "stderr",
     "output_type": "stream",
     "text": [
      "2171it [02:30, 11.50it/s]"
     ]
    },
    {
     "name": "stdout",
     "output_type": "stream",
     "text": [
      "tensor(169.3748, device='cuda:0', grad_fn=<AddBackward0>)\n",
      "tensor(194.8534, device='cuda:0', grad_fn=<AddBackward0>)\n",
      "tensor(177.4114, device='cuda:0', grad_fn=<AddBackward0>)\n"
     ]
    },
    {
     "name": "stderr",
     "output_type": "stream",
     "text": [
      "2175it [02:31,  9.68it/s]"
     ]
    },
    {
     "name": "stdout",
     "output_type": "stream",
     "text": [
      "tensor(208.0205, device='cuda:0', grad_fn=<AddBackward0>)\n",
      "tensor(236.2749, device='cuda:0', grad_fn=<AddBackward0>)\n",
      "tensor(157.4014, device='cuda:0', grad_fn=<AddBackward0>)\n"
     ]
    },
    {
     "name": "stderr",
     "output_type": "stream",
     "text": [
      "2178it [02:31,  7.91it/s]"
     ]
    },
    {
     "name": "stdout",
     "output_type": "stream",
     "text": [
      "tensor(231.4174, device='cuda:0', grad_fn=<AddBackward0>)\n",
      "tensor(197.5580, device='cuda:0', grad_fn=<AddBackward0>)\n"
     ]
    },
    {
     "name": "stderr",
     "output_type": "stream",
     "text": [
      "2180it [02:31,  8.43it/s]"
     ]
    },
    {
     "name": "stdout",
     "output_type": "stream",
     "text": [
      "tensor(146.0645, device='cuda:0', grad_fn=<AddBackward0>)\n",
      "tensor(225.2629, device='cuda:0', grad_fn=<AddBackward0>)\n"
     ]
    },
    {
     "name": "stderr",
     "output_type": "stream",
     "text": [
      "2183it [02:32,  9.74it/s]"
     ]
    },
    {
     "name": "stdout",
     "output_type": "stream",
     "text": [
      "tensor(107.7904, device='cuda:0', grad_fn=<AddBackward0>)\n",
      "tensor(154.7647, device='cuda:0', grad_fn=<AddBackward0>)\n",
      "tensor(151.0712, device='cuda:0', grad_fn=<AddBackward0>)\n"
     ]
    },
    {
     "name": "stderr",
     "output_type": "stream",
     "text": [
      "2185it [02:32, 10.85it/s]"
     ]
    },
    {
     "name": "stdout",
     "output_type": "stream",
     "text": [
      "tensor(246.5838, device='cuda:0', grad_fn=<AddBackward0>)\n",
      "tensor(203.9843, device='cuda:0', grad_fn=<AddBackward0>)\n",
      "tensor(137.1021, device='cuda:0', grad_fn=<AddBackward0>)\n"
     ]
    },
    {
     "name": "stderr",
     "output_type": "stream",
     "text": [
      "2189it [02:32, 11.63it/s]"
     ]
    },
    {
     "name": "stdout",
     "output_type": "stream",
     "text": [
      "tensor(169.1491, device='cuda:0', grad_fn=<AddBackward0>)\n",
      "tensor(159.9782, device='cuda:0', grad_fn=<AddBackward0>)\n",
      "tensor(249.2020, device='cuda:0', grad_fn=<AddBackward0>)\n"
     ]
    },
    {
     "name": "stderr",
     "output_type": "stream",
     "text": [
      "2191it [02:32,  9.77it/s]"
     ]
    },
    {
     "name": "stdout",
     "output_type": "stream",
     "text": [
      "tensor(215.0480, device='cuda:0', grad_fn=<AddBackward0>)\n",
      "tensor(239.4068, device='cuda:0', grad_fn=<AddBackward0>)\n",
      "tensor(218.6707, device='cuda:0', grad_fn=<AddBackward0>)\n"
     ]
    },
    {
     "name": "stderr",
     "output_type": "stream",
     "text": [
      "2195it [02:33, 11.43it/s]"
     ]
    },
    {
     "name": "stdout",
     "output_type": "stream",
     "text": [
      "tensor(221.9690, device='cuda:0', grad_fn=<AddBackward0>)\n",
      "tensor(237.7548, device='cuda:0', grad_fn=<AddBackward0>)\n",
      "tensor(217.4251, device='cuda:0', grad_fn=<AddBackward0>)\n"
     ]
    },
    {
     "name": "stderr",
     "output_type": "stream",
     "text": [
      "2197it [02:33, 11.94it/s]"
     ]
    },
    {
     "name": "stdout",
     "output_type": "stream",
     "text": [
      "tensor(163.7102, device='cuda:0', grad_fn=<AddBackward0>)\n",
      "tensor(174.3624, device='cuda:0', grad_fn=<AddBackward0>)\n",
      "tensor(183.9351, device='cuda:0', grad_fn=<AddBackward0>)\n"
     ]
    },
    {
     "name": "stderr",
     "output_type": "stream",
     "text": [
      "2201it [02:33, 12.35it/s]"
     ]
    },
    {
     "name": "stdout",
     "output_type": "stream",
     "text": [
      "tensor(135.1305, device='cuda:0', grad_fn=<AddBackward0>)\n",
      "tensor(174.2511, device='cuda:0', grad_fn=<AddBackward0>)\n",
      "tensor(175.4157, device='cuda:0', grad_fn=<AddBackward0>)\n",
      "tensor(132.3246, device='cuda:0', grad_fn=<AddBackward0>)\n"
     ]
    },
    {
     "name": "stderr",
     "output_type": "stream",
     "text": [
      "2205it [02:34, 14.11it/s]"
     ]
    },
    {
     "name": "stdout",
     "output_type": "stream",
     "text": [
      "tensor(237.3717, device='cuda:0', grad_fn=<AddBackward0>)\n",
      "tensor(151.1425, device='cuda:0', grad_fn=<AddBackward0>)\n",
      "tensor(162.9511, device='cuda:0', grad_fn=<AddBackward0>)\n",
      "tensor(161.8482, device='cuda:0', grad_fn=<AddBackward0>)\n"
     ]
    },
    {
     "name": "stderr",
     "output_type": "stream",
     "text": [
      "2209it [02:34, 13.96it/s]"
     ]
    },
    {
     "name": "stdout",
     "output_type": "stream",
     "text": [
      "tensor(265.8126, device='cuda:0', grad_fn=<AddBackward0>)\n",
      "tensor(263.6402, device='cuda:0', grad_fn=<AddBackward0>)\n",
      "tensor(96.9915, device='cuda:0', grad_fn=<AddBackward0>)\n"
     ]
    },
    {
     "name": "stderr",
     "output_type": "stream",
     "text": [
      "2211it [02:34, 14.46it/s]"
     ]
    },
    {
     "name": "stdout",
     "output_type": "stream",
     "text": [
      "tensor(332.7897, device='cuda:0', grad_fn=<AddBackward0>)\n",
      "tensor(218.1252, device='cuda:0', grad_fn=<AddBackward0>)\n",
      "tensor(228.9983, device='cuda:0', grad_fn=<AddBackward0>)\n",
      "tensor(192.5788, device='cuda:0', grad_fn=<AddBackward0>)\n"
     ]
    },
    {
     "name": "stderr",
     "output_type": "stream",
     "text": [
      "2215it [02:34, 10.74it/s]"
     ]
    },
    {
     "name": "stdout",
     "output_type": "stream",
     "text": [
      "tensor(293.5625, device='cuda:0', grad_fn=<AddBackward0>)\n",
      "tensor(192.4922, device='cuda:0', grad_fn=<AddBackward0>)\n",
      "tensor(270.0426, device='cuda:0', grad_fn=<AddBackward0>)\n"
     ]
    },
    {
     "name": "stderr",
     "output_type": "stream",
     "text": [
      "2219it [02:35, 12.14it/s]"
     ]
    },
    {
     "name": "stdout",
     "output_type": "stream",
     "text": [
      "tensor(156.3498, device='cuda:0', grad_fn=<AddBackward0>)\n",
      "tensor(133.5114, device='cuda:0', grad_fn=<AddBackward0>)\n",
      "tensor(232.0897, device='cuda:0', grad_fn=<AddBackward0>)\n"
     ]
    },
    {
     "name": "stderr",
     "output_type": "stream",
     "text": [
      "2221it [02:35, 13.13it/s]"
     ]
    },
    {
     "name": "stdout",
     "output_type": "stream",
     "text": [
      "tensor(234.3929, device='cuda:0', grad_fn=<AddBackward0>)\n",
      "tensor(235.2709, device='cuda:0', grad_fn=<AddBackward0>)\n",
      "tensor(223.3259, device='cuda:0', grad_fn=<AddBackward0>)\n",
      "tensor(217.5671, device='cuda:0', grad_fn=<AddBackward0>)\n"
     ]
    },
    {
     "name": "stderr",
     "output_type": "stream",
     "text": [
      "2225it [02:35, 13.63it/s]"
     ]
    },
    {
     "name": "stdout",
     "output_type": "stream",
     "text": [
      "tensor(129.1399, device='cuda:0', grad_fn=<AddBackward0>)\n",
      "tensor(165.8995, device='cuda:0', grad_fn=<AddBackward0>)\n",
      "tensor(260.7094, device='cuda:0', grad_fn=<AddBackward0>)\n"
     ]
    },
    {
     "name": "stderr",
     "output_type": "stream",
     "text": [
      "2229it [02:35, 13.47it/s]"
     ]
    },
    {
     "name": "stdout",
     "output_type": "stream",
     "text": [
      "tensor(347.3864, device='cuda:0', grad_fn=<AddBackward0>)\n",
      "tensor(215.3375, device='cuda:0', grad_fn=<AddBackward0>)\n",
      "tensor(181.6403, device='cuda:0', grad_fn=<AddBackward0>)\n"
     ]
    },
    {
     "name": "stderr",
     "output_type": "stream",
     "text": [
      "2231it [02:36, 13.46it/s]"
     ]
    },
    {
     "name": "stdout",
     "output_type": "stream",
     "text": [
      "tensor(262.5898, device='cuda:0', grad_fn=<AddBackward0>)\n",
      "tensor(125.1521, device='cuda:0', grad_fn=<AddBackward0>)\n",
      "tensor(137.4080, device='cuda:0', grad_fn=<AddBackward0>)\n",
      "tensor(252.0997, device='cuda:0', grad_fn=<AddBackward0>)\n"
     ]
    },
    {
     "name": "stderr",
     "output_type": "stream",
     "text": [
      "2235it [02:36, 13.27it/s]"
     ]
    },
    {
     "name": "stdout",
     "output_type": "stream",
     "text": [
      "tensor(204.5378, device='cuda:0', grad_fn=<AddBackward0>)\n",
      "tensor(210.9773, device='cuda:0', grad_fn=<AddBackward0>)\n",
      "tensor(267.0231, device='cuda:0', grad_fn=<AddBackward0>)\n"
     ]
    },
    {
     "name": "stderr",
     "output_type": "stream",
     "text": [
      "2237it [02:36, 10.70it/s]"
     ]
    },
    {
     "name": "stdout",
     "output_type": "stream",
     "text": [
      "tensor(212.5258, device='cuda:0', grad_fn=<AddBackward0>)\n",
      "tensor(246.3203, device='cuda:0', grad_fn=<AddBackward0>)\n",
      "tensor(146.9659, device='cuda:0', grad_fn=<AddBackward0>)\n"
     ]
    },
    {
     "name": "stderr",
     "output_type": "stream",
     "text": [
      "2241it [02:37,  9.97it/s]"
     ]
    },
    {
     "name": "stdout",
     "output_type": "stream",
     "text": [
      "tensor(176.3893, device='cuda:0', grad_fn=<AddBackward0>)\n",
      "tensor(129.9530, device='cuda:0', grad_fn=<AddBackward0>)\n"
     ]
    },
    {
     "name": "stderr",
     "output_type": "stream",
     "text": [
      "2243it [02:37, 10.26it/s]"
     ]
    },
    {
     "name": "stdout",
     "output_type": "stream",
     "text": [
      "tensor(162.8343, device='cuda:0', grad_fn=<AddBackward0>)\n",
      "tensor(221.2882, device='cuda:0', grad_fn=<AddBackward0>)\n",
      "tensor(162.2419, device='cuda:0', grad_fn=<AddBackward0>)\n"
     ]
    },
    {
     "name": "stderr",
     "output_type": "stream",
     "text": [
      "2245it [02:37,  8.65it/s]"
     ]
    },
    {
     "name": "stdout",
     "output_type": "stream",
     "text": [
      "tensor(207.1959, device='cuda:0', grad_fn=<AddBackward0>)\n",
      "tensor(211.0658, device='cuda:0', grad_fn=<AddBackward0>)\n",
      "tensor(138.5917, device='cuda:0', grad_fn=<AddBackward0>)\n"
     ]
    },
    {
     "name": "stderr",
     "output_type": "stream",
     "text": [
      "2249it [02:37,  9.83it/s]"
     ]
    },
    {
     "name": "stdout",
     "output_type": "stream",
     "text": [
      "tensor(205.2093, device='cuda:0', grad_fn=<AddBackward0>)\n",
      "tensor(261.6332, device='cuda:0', grad_fn=<AddBackward0>)\n",
      "tensor(246.8633, device='cuda:0', grad_fn=<AddBackward0>)\n"
     ]
    },
    {
     "name": "stderr",
     "output_type": "stream",
     "text": [
      "2253it [02:38,  9.37it/s]"
     ]
    },
    {
     "name": "stdout",
     "output_type": "stream",
     "text": [
      "tensor(205.4529, device='cuda:0', grad_fn=<AddBackward0>)\n",
      "tensor(201.4452, device='cuda:0', grad_fn=<AddBackward0>)\n",
      "tensor(273.9698, device='cuda:0', grad_fn=<AddBackward0>)\n"
     ]
    },
    {
     "name": "stderr",
     "output_type": "stream",
     "text": [
      "2255it [02:38, 10.12it/s]"
     ]
    },
    {
     "name": "stdout",
     "output_type": "stream",
     "text": [
      "tensor(308.9872, device='cuda:0', grad_fn=<AddBackward0>)\n",
      "tensor(168.9564, device='cuda:0', grad_fn=<AddBackward0>)\n",
      "tensor(136.4127, device='cuda:0', grad_fn=<AddBackward0>)\n",
      "tensor(244.9572, device='cuda:0', grad_fn=<AddBackward0>)\n"
     ]
    },
    {
     "name": "stderr",
     "output_type": "stream",
     "text": [
      "2259it [02:38, 11.87it/s]"
     ]
    },
    {
     "name": "stdout",
     "output_type": "stream",
     "text": [
      "tensor(199.9378, device='cuda:0', grad_fn=<AddBackward0>)\n",
      "tensor(169.5665, device='cuda:0', grad_fn=<AddBackward0>)\n",
      "tensor(192.6898, device='cuda:0', grad_fn=<AddBackward0>)\n"
     ]
    },
    {
     "name": "stderr",
     "output_type": "stream",
     "text": [
      "2263it [02:39, 13.20it/s]"
     ]
    },
    {
     "name": "stdout",
     "output_type": "stream",
     "text": [
      "tensor(174.7307, device='cuda:0', grad_fn=<AddBackward0>)\n",
      "tensor(213.9041, device='cuda:0', grad_fn=<AddBackward0>)\n",
      "tensor(189.9037, device='cuda:0', grad_fn=<AddBackward0>)\n"
     ]
    },
    {
     "name": "stderr",
     "output_type": "stream",
     "text": [
      "2265it [02:39, 13.93it/s]"
     ]
    },
    {
     "name": "stdout",
     "output_type": "stream",
     "text": [
      "tensor(120.1250, device='cuda:0', grad_fn=<AddBackward0>)\n",
      "tensor(175.8911, device='cuda:0', grad_fn=<AddBackward0>)\n",
      "tensor(193.4445, device='cuda:0', grad_fn=<AddBackward0>)\n"
     ]
    },
    {
     "name": "stderr",
     "output_type": "stream",
     "text": [
      "2269it [02:39, 11.31it/s]"
     ]
    },
    {
     "name": "stdout",
     "output_type": "stream",
     "text": [
      "tensor(210.6237, device='cuda:0', grad_fn=<AddBackward0>)\n",
      "tensor(129.5785, device='cuda:0', grad_fn=<AddBackward0>)\n",
      "tensor(208.4834, device='cuda:0', grad_fn=<AddBackward0>)\n"
     ]
    },
    {
     "name": "stderr",
     "output_type": "stream",
     "text": [
      "2271it [02:39, 11.94it/s]"
     ]
    },
    {
     "name": "stdout",
     "output_type": "stream",
     "text": [
      "tensor(203.4906, device='cuda:0', grad_fn=<AddBackward0>)\n",
      "tensor(189.1416, device='cuda:0', grad_fn=<AddBackward0>)\n",
      "tensor(172.5834, device='cuda:0', grad_fn=<AddBackward0>)\n"
     ]
    },
    {
     "name": "stderr",
     "output_type": "stream",
     "text": [
      "2273it [02:39, 11.76it/s]"
     ]
    },
    {
     "name": "stdout",
     "output_type": "stream",
     "text": [
      "tensor(220.7961, device='cuda:0', grad_fn=<AddBackward0>)\n",
      "tensor(268.9432, device='cuda:0', grad_fn=<AddBackward0>)\n"
     ]
    },
    {
     "name": "stderr",
     "output_type": "stream",
     "text": [
      "2275it [02:40,  9.32it/s]"
     ]
    },
    {
     "name": "stdout",
     "output_type": "stream",
     "text": [
      "tensor(196.1530, device='cuda:0', grad_fn=<AddBackward0>)\n",
      "tensor(211.1312, device='cuda:0', grad_fn=<AddBackward0>)\n"
     ]
    },
    {
     "name": "stderr",
     "output_type": "stream",
     "text": [
      "2279it [02:40, 10.76it/s]"
     ]
    },
    {
     "name": "stdout",
     "output_type": "stream",
     "text": [
      "tensor(246.0235, device='cuda:0', grad_fn=<AddBackward0>)\n",
      "tensor(226.1816, device='cuda:0', grad_fn=<AddBackward0>)\n",
      "tensor(198.4698, device='cuda:0', grad_fn=<AddBackward0>)\n",
      "tensor(166.1146, device='cuda:0', grad_fn=<AddBackward0>)\n"
     ]
    },
    {
     "name": "stderr",
     "output_type": "stream",
     "text": [
      "2283it [02:40, 12.51it/s]"
     ]
    },
    {
     "name": "stdout",
     "output_type": "stream",
     "text": [
      "tensor(168.0817, device='cuda:0', grad_fn=<AddBackward0>)\n",
      "tensor(122.4597, device='cuda:0', grad_fn=<AddBackward0>)\n",
      "tensor(212.6101, device='cuda:0', grad_fn=<AddBackward0>)\n"
     ]
    },
    {
     "name": "stderr",
     "output_type": "stream",
     "text": [
      "2285it [02:40, 12.56it/s]"
     ]
    },
    {
     "name": "stdout",
     "output_type": "stream",
     "text": [
      "tensor(227.6493, device='cuda:0', grad_fn=<AddBackward0>)\n",
      "tensor(179.3704, device='cuda:0', grad_fn=<AddBackward0>)\n"
     ]
    },
    {
     "name": "stderr",
     "output_type": "stream",
     "text": [
      "2287it [02:41, 10.65it/s]"
     ]
    },
    {
     "name": "stdout",
     "output_type": "stream",
     "text": [
      "tensor(218.0281, device='cuda:0', grad_fn=<AddBackward0>)\n",
      "tensor(206.2278, device='cuda:0', grad_fn=<AddBackward0>)\n",
      "tensor(117.3925, device='cuda:0', grad_fn=<AddBackward0>)\n"
     ]
    },
    {
     "name": "stderr",
     "output_type": "stream",
     "text": [
      "2289it [02:41, 11.12it/s]"
     ]
    },
    {
     "name": "stdout",
     "output_type": "stream",
     "text": [
      "tensor(211.0876, device='cuda:0', grad_fn=<AddBackward0>)\n",
      "tensor(215.7405, device='cuda:0', grad_fn=<AddBackward0>)\n",
      "tensor(232.3219, device='cuda:0', grad_fn=<AddBackward0>)\n"
     ]
    },
    {
     "name": "stderr",
     "output_type": "stream",
     "text": [
      "2293it [02:41, 11.52it/s]"
     ]
    },
    {
     "name": "stdout",
     "output_type": "stream",
     "text": [
      "tensor(168.2991, device='cuda:0', grad_fn=<AddBackward0>)\n",
      "tensor(137.4083, device='cuda:0', grad_fn=<AddBackward0>)\n",
      "tensor(192.0327, device='cuda:0', grad_fn=<AddBackward0>)\n"
     ]
    },
    {
     "name": "stderr",
     "output_type": "stream",
     "text": [
      "2297it [02:42, 11.42it/s]"
     ]
    },
    {
     "name": "stdout",
     "output_type": "stream",
     "text": [
      "tensor(217.4949, device='cuda:0', grad_fn=<AddBackward0>)\n",
      "tensor(196.1208, device='cuda:0', grad_fn=<AddBackward0>)\n",
      "tensor(237.7325, device='cuda:0', grad_fn=<AddBackward0>)\n"
     ]
    },
    {
     "name": "stderr",
     "output_type": "stream",
     "text": [
      "2299it [02:42, 10.72it/s]"
     ]
    },
    {
     "name": "stdout",
     "output_type": "stream",
     "text": [
      "tensor(259.2327, device='cuda:0', grad_fn=<AddBackward0>)\n",
      "tensor(268.0041, device='cuda:0', grad_fn=<AddBackward0>)\n",
      "tensor(227.2179, device='cuda:0', grad_fn=<AddBackward0>)\n"
     ]
    },
    {
     "name": "stderr",
     "output_type": "stream",
     "text": [
      "2303it [02:42, 10.39it/s]"
     ]
    },
    {
     "name": "stdout",
     "output_type": "stream",
     "text": [
      "tensor(170.8246, device='cuda:0', grad_fn=<AddBackward0>)\n",
      "tensor(240.5513, device='cuda:0', grad_fn=<AddBackward0>)\n",
      "tensor(203.0414, device='cuda:0', grad_fn=<AddBackward0>)\n"
     ]
    },
    {
     "name": "stderr",
     "output_type": "stream",
     "text": [
      "2307it [02:42, 12.79it/s]"
     ]
    },
    {
     "name": "stdout",
     "output_type": "stream",
     "text": [
      "tensor(189.6033, device='cuda:0', grad_fn=<AddBackward0>)\n",
      "tensor(233.8530, device='cuda:0', grad_fn=<AddBackward0>)\n",
      "tensor(195.8390, device='cuda:0', grad_fn=<AddBackward0>)\n",
      "tensor(177.9637, device='cuda:0', grad_fn=<AddBackward0>)\n",
      "tensor(183.1375, device='cuda:0', grad_fn=<AddBackward0>)\n",
      "tensor(240.3736, device='cuda:0', grad_fn=<AddBackward0>)\n"
     ]
    },
    {
     "name": "stderr",
     "output_type": "stream",
     "text": [
      "2311it [02:43,  9.49it/s]"
     ]
    },
    {
     "name": "stdout",
     "output_type": "stream",
     "text": [
      "tensor(260.0309, device='cuda:0', grad_fn=<AddBackward0>)\n",
      "tensor(223.8350, device='cuda:0', grad_fn=<AddBackward0>)\n"
     ]
    },
    {
     "name": "stderr",
     "output_type": "stream",
     "text": [
      "2313it [02:43, 10.32it/s]"
     ]
    },
    {
     "name": "stdout",
     "output_type": "stream",
     "text": [
      "tensor(295.6254, device='cuda:0', grad_fn=<AddBackward0>)\n",
      "tensor(188.3017, device='cuda:0', grad_fn=<AddBackward0>)\n",
      "tensor(290.1027, device='cuda:0', grad_fn=<AddBackward0>)\n"
     ]
    },
    {
     "name": "stderr",
     "output_type": "stream",
     "text": [
      "2317it [02:44, 10.80it/s]"
     ]
    },
    {
     "name": "stdout",
     "output_type": "stream",
     "text": [
      "tensor(167.4230, device='cuda:0', grad_fn=<AddBackward0>)\n",
      "tensor(151.3607, device='cuda:0', grad_fn=<AddBackward0>)\n",
      "tensor(188.2007, device='cuda:0', grad_fn=<AddBackward0>)\n"
     ]
    },
    {
     "name": "stderr",
     "output_type": "stream",
     "text": [
      "2319it [02:44, 11.51it/s]"
     ]
    },
    {
     "name": "stdout",
     "output_type": "stream",
     "text": [
      "tensor(193.0526, device='cuda:0', grad_fn=<AddBackward0>)\n",
      "tensor(157.4243, device='cuda:0', grad_fn=<AddBackward0>)\n",
      "tensor(148.4314, device='cuda:0', grad_fn=<AddBackward0>)\n"
     ]
    },
    {
     "name": "stderr",
     "output_type": "stream",
     "text": [
      "2323it [02:44, 12.29it/s]"
     ]
    },
    {
     "name": "stdout",
     "output_type": "stream",
     "text": [
      "tensor(86.5416, device='cuda:0', grad_fn=<AddBackward0>)\n",
      "tensor(188.0766, device='cuda:0', grad_fn=<AddBackward0>)\n",
      "tensor(167.6012, device='cuda:0', grad_fn=<AddBackward0>)\n"
     ]
    },
    {
     "name": "stderr",
     "output_type": "stream",
     "text": [
      "2325it [02:44, 10.14it/s]"
     ]
    },
    {
     "name": "stdout",
     "output_type": "stream",
     "text": [
      "tensor(216.1967, device='cuda:0', grad_fn=<AddBackward0>)\n",
      "tensor(194.0287, device='cuda:0', grad_fn=<AddBackward0>)\n",
      "tensor(210.0579, device='cuda:0', grad_fn=<AddBackward0>)\n"
     ]
    },
    {
     "name": "stderr",
     "output_type": "stream",
     "text": [
      "2329it [02:45, 11.62it/s]"
     ]
    },
    {
     "name": "stdout",
     "output_type": "stream",
     "text": [
      "tensor(207.9915, device='cuda:0', grad_fn=<AddBackward0>)\n",
      "tensor(234.8819, device='cuda:0', grad_fn=<AddBackward0>)\n",
      "tensor(173.6313, device='cuda:0', grad_fn=<AddBackward0>)\n"
     ]
    },
    {
     "name": "stderr",
     "output_type": "stream",
     "text": [
      "2331it [02:45, 12.10it/s]"
     ]
    },
    {
     "name": "stdout",
     "output_type": "stream",
     "text": [
      "tensor(335.6472, device='cuda:0', grad_fn=<AddBackward0>)\n",
      "tensor(132.4228, device='cuda:0', grad_fn=<AddBackward0>)\n",
      "tensor(159.7130, device='cuda:0', grad_fn=<AddBackward0>)\n"
     ]
    },
    {
     "name": "stderr",
     "output_type": "stream",
     "text": [
      "2335it [02:45, 12.31it/s]"
     ]
    },
    {
     "name": "stdout",
     "output_type": "stream",
     "text": [
      "tensor(158.6074, device='cuda:0', grad_fn=<AddBackward0>)\n",
      "tensor(218.6193, device='cuda:0', grad_fn=<AddBackward0>)\n",
      "tensor(126.4337, device='cuda:0', grad_fn=<AddBackward0>)\n"
     ]
    },
    {
     "name": "stderr",
     "output_type": "stream",
     "text": [
      "2339it [02:45, 13.59it/s]"
     ]
    },
    {
     "name": "stdout",
     "output_type": "stream",
     "text": [
      "tensor(179.3877, device='cuda:0', grad_fn=<AddBackward0>)\n",
      "tensor(156.7250, device='cuda:0', grad_fn=<AddBackward0>)\n",
      "tensor(208.2669, device='cuda:0', grad_fn=<AddBackward0>)\n",
      "tensor(157.1312, device='cuda:0', grad_fn=<AddBackward0>)\n"
     ]
    },
    {
     "name": "stderr",
     "output_type": "stream",
     "text": [
      "2343it [02:46, 14.95it/s]"
     ]
    },
    {
     "name": "stdout",
     "output_type": "stream",
     "text": [
      "tensor(212.3095, device='cuda:0', grad_fn=<AddBackward0>)\n",
      "tensor(129.1144, device='cuda:0', grad_fn=<AddBackward0>)\n",
      "tensor(161.8971, device='cuda:0', grad_fn=<AddBackward0>)\n",
      "tensor(210.7411, device='cuda:0', grad_fn=<AddBackward0>)\n"
     ]
    },
    {
     "name": "stderr",
     "output_type": "stream",
     "text": [
      "2347it [02:46, 15.72it/s]"
     ]
    },
    {
     "name": "stdout",
     "output_type": "stream",
     "text": [
      "tensor(214.1261, device='cuda:0', grad_fn=<AddBackward0>)\n",
      "tensor(314.4700, device='cuda:0', grad_fn=<AddBackward0>)\n",
      "tensor(231.3147, device='cuda:0', grad_fn=<AddBackward0>)\n",
      "tensor(166.5774, device='cuda:0', grad_fn=<AddBackward0>)\n"
     ]
    },
    {
     "name": "stderr",
     "output_type": "stream",
     "text": [
      "2351it [02:46, 16.09it/s]"
     ]
    },
    {
     "name": "stdout",
     "output_type": "stream",
     "text": [
      "tensor(112.5942, device='cuda:0', grad_fn=<AddBackward0>)\n",
      "tensor(157.9810, device='cuda:0', grad_fn=<AddBackward0>)\n",
      "tensor(188.8983, device='cuda:0', grad_fn=<AddBackward0>)\n",
      "tensor(113.6264, device='cuda:0', grad_fn=<AddBackward0>)\n"
     ]
    },
    {
     "name": "stderr",
     "output_type": "stream",
     "text": [
      "2355it [02:46, 16.19it/s]"
     ]
    },
    {
     "name": "stdout",
     "output_type": "stream",
     "text": [
      "tensor(162.2781, device='cuda:0', grad_fn=<AddBackward0>)\n",
      "tensor(171.5448, device='cuda:0', grad_fn=<AddBackward0>)\n",
      "tensor(127.8548, device='cuda:0', grad_fn=<AddBackward0>)\n",
      "tensor(126.5458, device='cuda:0', grad_fn=<AddBackward0>)\n"
     ]
    },
    {
     "name": "stderr",
     "output_type": "stream",
     "text": [
      "2359it [02:46, 16.37it/s]"
     ]
    },
    {
     "name": "stdout",
     "output_type": "stream",
     "text": [
      "tensor(158.0571, device='cuda:0', grad_fn=<AddBackward0>)\n",
      "tensor(155.8900, device='cuda:0', grad_fn=<AddBackward0>)\n",
      "tensor(211.8020, device='cuda:0', grad_fn=<AddBackward0>)\n",
      "tensor(160.4425, device='cuda:0', grad_fn=<AddBackward0>)\n"
     ]
    },
    {
     "name": "stderr",
     "output_type": "stream",
     "text": [
      "2363it [02:47, 16.32it/s]"
     ]
    },
    {
     "name": "stdout",
     "output_type": "stream",
     "text": [
      "tensor(244.5850, device='cuda:0', grad_fn=<AddBackward0>)\n",
      "tensor(224.8977, device='cuda:0', grad_fn=<AddBackward0>)\n",
      "tensor(207.4595, device='cuda:0', grad_fn=<AddBackward0>)\n",
      "tensor(162.9182, device='cuda:0', grad_fn=<AddBackward0>)\n"
     ]
    },
    {
     "name": "stderr",
     "output_type": "stream",
     "text": [
      "2367it [02:47, 16.35it/s]"
     ]
    },
    {
     "name": "stdout",
     "output_type": "stream",
     "text": [
      "tensor(171.4150, device='cuda:0', grad_fn=<AddBackward0>)\n",
      "tensor(185.9201, device='cuda:0', grad_fn=<AddBackward0>)\n",
      "tensor(244.7152, device='cuda:0', grad_fn=<AddBackward0>)\n",
      "tensor(222.7237, device='cuda:0', grad_fn=<AddBackward0>)\n"
     ]
    },
    {
     "name": "stderr",
     "output_type": "stream",
     "text": [
      "2371it [02:47, 16.27it/s]"
     ]
    },
    {
     "name": "stdout",
     "output_type": "stream",
     "text": [
      "tensor(297.3476, device='cuda:0', grad_fn=<AddBackward0>)\n",
      "tensor(228.1668, device='cuda:0', grad_fn=<AddBackward0>)\n",
      "tensor(280.2619, device='cuda:0', grad_fn=<AddBackward0>)\n",
      "tensor(215.5104, device='cuda:0', grad_fn=<AddBackward0>)\n"
     ]
    },
    {
     "name": "stderr",
     "output_type": "stream",
     "text": [
      "2375it [02:47, 16.28it/s]"
     ]
    },
    {
     "name": "stdout",
     "output_type": "stream",
     "text": [
      "tensor(214.1453, device='cuda:0', grad_fn=<AddBackward0>)\n",
      "tensor(115.6833, device='cuda:0', grad_fn=<AddBackward0>)\n",
      "tensor(218.6974, device='cuda:0', grad_fn=<AddBackward0>)\n",
      "tensor(134.0116, device='cuda:0', grad_fn=<AddBackward0>)\n"
     ]
    },
    {
     "name": "stderr",
     "output_type": "stream",
     "text": [
      "2377it [02:48, 16.40it/s]"
     ]
    },
    {
     "name": "stdout",
     "output_type": "stream",
     "text": [
      "tensor(187.4220, device='cuda:0', grad_fn=<AddBackward0>)\n",
      "tensor(149.0455, device='cuda:0', grad_fn=<AddBackward0>)\n",
      "tensor(245.6225, device='cuda:0', grad_fn=<AddBackward0>)\n",
      "tensor(217.1803, device='cuda:0', grad_fn=<AddBackward0>)\n"
     ]
    },
    {
     "name": "stderr",
     "output_type": "stream",
     "text": [
      "2381it [02:48, 15.97it/s]"
     ]
    },
    {
     "name": "stdout",
     "output_type": "stream",
     "text": [
      "tensor(286.7218, device='cuda:0', grad_fn=<AddBackward0>)\n",
      "tensor(170.9904, device='cuda:0', grad_fn=<AddBackward0>)\n",
      "tensor(146.2257, device='cuda:0', grad_fn=<AddBackward0>)\n"
     ]
    },
    {
     "name": "stderr",
     "output_type": "stream",
     "text": [
      "2383it [02:48, 15.13it/s]"
     ]
    },
    {
     "name": "stdout",
     "output_type": "stream",
     "text": [
      "tensor(187.4460, device='cuda:0', grad_fn=<AddBackward0>)\n",
      "tensor(166.2528, device='cuda:0', grad_fn=<AddBackward0>)\n",
      "tensor(142.5599, device='cuda:0', grad_fn=<AddBackward0>)\n"
     ]
    },
    {
     "name": "stderr",
     "output_type": "stream",
     "text": [
      "2385it [02:48, 12.82it/s]"
     ]
    },
    {
     "name": "stdout",
     "output_type": "stream",
     "text": [
      "tensor(149.7192, device='cuda:0', grad_fn=<AddBackward0>)\n"
     ]
    },
    {
     "name": "stderr",
     "output_type": "stream",
     "text": [
      "2387it [02:48, 10.28it/s]"
     ]
    },
    {
     "name": "stdout",
     "output_type": "stream",
     "text": [
      "tensor(114.1715, device='cuda:0', grad_fn=<AddBackward0>)\n",
      "tensor(229.5354, device='cuda:0', grad_fn=<AddBackward0>)\n"
     ]
    },
    {
     "name": "stderr",
     "output_type": "stream",
     "text": [
      "2391it [02:49, 10.35it/s]"
     ]
    },
    {
     "name": "stdout",
     "output_type": "stream",
     "text": [
      "tensor(218.7505, device='cuda:0', grad_fn=<AddBackward0>)\n",
      "tensor(224.9906, device='cuda:0', grad_fn=<AddBackward0>)\n",
      "tensor(232.7174, device='cuda:0', grad_fn=<AddBackward0>)\n"
     ]
    },
    {
     "name": "stderr",
     "output_type": "stream",
     "text": [
      "2393it [02:49, 11.46it/s]"
     ]
    },
    {
     "name": "stdout",
     "output_type": "stream",
     "text": [
      "tensor(249.7392, device='cuda:0', grad_fn=<AddBackward0>)\n",
      "tensor(181.2763, device='cuda:0', grad_fn=<AddBackward0>)\n",
      "tensor(225.1976, device='cuda:0', grad_fn=<AddBackward0>)\n",
      "tensor(207.1266, device='cuda:0', grad_fn=<AddBackward0>)\n"
     ]
    },
    {
     "name": "stderr",
     "output_type": "stream",
     "text": [
      "2397it [02:49, 13.02it/s]"
     ]
    },
    {
     "name": "stdout",
     "output_type": "stream",
     "text": [
      "tensor(141.2733, device='cuda:0', grad_fn=<AddBackward0>)\n",
      "tensor(163.0723, device='cuda:0', grad_fn=<AddBackward0>)\n",
      "tensor(137.7525, device='cuda:0', grad_fn=<AddBackward0>)\n",
      "tensor(187.6340, device='cuda:0', grad_fn=<AddBackward0>)\n"
     ]
    },
    {
     "name": "stderr",
     "output_type": "stream",
     "text": [
      "2401it [02:50, 13.83it/s]"
     ]
    },
    {
     "name": "stdout",
     "output_type": "stream",
     "text": [
      "tensor(200.3873, device='cuda:0', grad_fn=<AddBackward0>)\n",
      "tensor(292.1908, device='cuda:0', grad_fn=<AddBackward0>)\n",
      "tensor(227.3993, device='cuda:0', grad_fn=<AddBackward0>)\n"
     ]
    },
    {
     "name": "stderr",
     "output_type": "stream",
     "text": [
      "2403it [02:50, 13.80it/s]"
     ]
    },
    {
     "name": "stdout",
     "output_type": "stream",
     "text": [
      "tensor(189.1798, device='cuda:0', grad_fn=<AddBackward0>)\n",
      "tensor(207.5995, device='cuda:0', grad_fn=<AddBackward0>)\n"
     ]
    },
    {
     "name": "stderr",
     "output_type": "stream",
     "text": [
      "2407it [02:50, 10.66it/s]"
     ]
    },
    {
     "name": "stdout",
     "output_type": "stream",
     "text": [
      "tensor(170.8107, device='cuda:0', grad_fn=<AddBackward0>)\n",
      "tensor(200.8170, device='cuda:0', grad_fn=<AddBackward0>)\n",
      "tensor(204.2212, device='cuda:0', grad_fn=<AddBackward0>)\n"
     ]
    },
    {
     "name": "stderr",
     "output_type": "stream",
     "text": [
      "2409it [02:50, 10.90it/s]"
     ]
    },
    {
     "name": "stdout",
     "output_type": "stream",
     "text": [
      "tensor(218.3294, device='cuda:0', grad_fn=<AddBackward0>)\n",
      "tensor(259.1016, device='cuda:0', grad_fn=<AddBackward0>)\n",
      "tensor(173.0102, device='cuda:0', grad_fn=<AddBackward0>)\n"
     ]
    },
    {
     "name": "stderr",
     "output_type": "stream",
     "text": [
      "2411it [02:51,  9.69it/s]"
     ]
    },
    {
     "name": "stdout",
     "output_type": "stream",
     "text": [
      "tensor(264.4673, device='cuda:0', grad_fn=<AddBackward0>)\n",
      "tensor(208.7163, device='cuda:0', grad_fn=<AddBackward0>)\n"
     ]
    },
    {
     "name": "stderr",
     "output_type": "stream",
     "text": [
      "2415it [02:51, 10.30it/s]"
     ]
    },
    {
     "name": "stdout",
     "output_type": "stream",
     "text": [
      "tensor(220.3506, device='cuda:0', grad_fn=<AddBackward0>)\n",
      "tensor(161.9187, device='cuda:0', grad_fn=<AddBackward0>)\n",
      "tensor(166.7799, device='cuda:0', grad_fn=<AddBackward0>)\n",
      "tensor(81.4674, device='cuda:0', grad_fn=<AddBackward0>)\n"
     ]
    },
    {
     "name": "stderr",
     "output_type": "stream",
     "text": [
      "2418it [02:51,  9.08it/s]"
     ]
    },
    {
     "name": "stdout",
     "output_type": "stream",
     "text": [
      "tensor(115.2290, device='cuda:0', grad_fn=<AddBackward0>)\n",
      "tensor(179.9483, device='cuda:0', grad_fn=<AddBackward0>)\n",
      "tensor(122.1541, device='cuda:0', grad_fn=<AddBackward0>)\n"
     ]
    },
    {
     "name": "stderr",
     "output_type": "stream",
     "text": [
      "2422it [02:52, 10.74it/s]"
     ]
    },
    {
     "name": "stdout",
     "output_type": "stream",
     "text": [
      "tensor(269.1285, device='cuda:0', grad_fn=<AddBackward0>)\n",
      "tensor(152.3913, device='cuda:0', grad_fn=<AddBackward0>)\n",
      "tensor(238.8237, device='cuda:0', grad_fn=<AddBackward0>)\n",
      "tensor(343.7545, device='cuda:0', grad_fn=<AddBackward0>)\n"
     ]
    },
    {
     "name": "stderr",
     "output_type": "stream",
     "text": [
      "2426it [02:52, 12.04it/s]"
     ]
    },
    {
     "name": "stdout",
     "output_type": "stream",
     "text": [
      "tensor(256.8788, device='cuda:0', grad_fn=<AddBackward0>)\n",
      "tensor(154.9612, device='cuda:0', grad_fn=<AddBackward0>)\n",
      "tensor(146.4446, device='cuda:0', grad_fn=<AddBackward0>)\n"
     ]
    },
    {
     "name": "stderr",
     "output_type": "stream",
     "text": [
      "2428it [02:52, 12.01it/s]"
     ]
    },
    {
     "name": "stdout",
     "output_type": "stream",
     "text": [
      "tensor(264.0884, device='cuda:0', grad_fn=<AddBackward0>)\n",
      "tensor(197.7039, device='cuda:0', grad_fn=<AddBackward0>)\n"
     ]
    },
    {
     "name": "stderr",
     "output_type": "stream",
     "text": [
      "2430it [02:52,  9.29it/s]"
     ]
    },
    {
     "name": "stdout",
     "output_type": "stream",
     "text": [
      "tensor(239.7518, device='cuda:0', grad_fn=<AddBackward0>)\n",
      "tensor(175.4806, device='cuda:0', grad_fn=<AddBackward0>)\n"
     ]
    }
   ],
   "source": [
    "from tqdm import tqdm\n",
    "\n",
    "for batch in train_loader:\n",
    "    for key, value in batch.items():\n",
    "        batch[key] = value.to(\"cuda\")\n",
    "    noisy_batch = interpolant.corrupt_batch(batch)\n",
    "\n",
    "    B, l, num_res = noisy_batch['res_mask'].shape\n",
    "    loss_mask = noisy_batch['res_mask'].reshape(B*l, num_res)\n",
    "            \n",
    "    if training_cfg.min_plddt_mask is not None:\n",
    "        plddt_mask = noisy_batch['res_plddt'] > training_cfg.min_plddt_mask\n",
    "        loss_mask *= plddt_mask\n",
    "            \n",
    "\n",
    "    # Ground truth labels\n",
    "    gt_trans = noisy_batch['trans_t']\n",
    "    gt_rotmats = noisy_batch['rotmats_t'] \n",
    "\n",
    "    # Model output predictions.\n",
    "    backbone = _get_bb_reps(noisy_batch)\n",
    "    llm_out = vaellm_model(backbone)\n",
    "    z = llm_out[\"z_sampled\"].reshape(B, l, 128, -1)\n",
    "    recovered_rots, recovered_trans = _recover_rots_trans(z) # [B, l, N, 3, 3], [B, l, N, 3]\n",
    "    pred_trans = recovered_trans\n",
    "    pred_rotmats = recovered_rots\n",
    "            \n",
    "    # Shift for CausalLM\n",
    "    shifted_pred_trans  = pred_trans[:, :-1, :, :]\n",
    "    shifted_pred_rotmats = pred_rotmats[:, :-1, :, :, :]\n",
    "    shifted_gt_trans = gt_trans[:, 1:, :, :]\n",
    "    shifted_gt_rotmats = gt_rotmats[:, 1:, :, :, :]\n",
    "\n",
    "    # Reshape back to [B*(l-1), 128, *]\n",
    "    flat_shifted_pred_trans = shifted_pred_trans.reshape(B*(l-1), _data_cfg.dataset.max_num_res, 3)\n",
    "    flat_shifted_pred_rotmats = shifted_pred_rotmats.reshape(B*(l-1), _data_cfg.dataset.max_num_res, 3, 3)\n",
    "\n",
    "    flat_shifted_gt_trans = shifted_gt_trans.reshape(B*(l-1), _data_cfg.dataset.max_num_res, 3)\n",
    "    flat_shifted_gt_rotmats = shifted_gt_rotmats.reshape(B*(l-1), _data_cfg.dataset.max_num_res, 3, 3)\n",
    "\n",
    "    # Timestep used for normalization.\n",
    "    t = noisy_batch['t'].reshape(B, l, 1)[:, 1:, :].reshape(-1,1) # We throw away the first time points\n",
    "    norm_scale = 1 - torch.min(\n",
    "        t[..., None], torch.tensor(training_cfg.t_normalize_clip))\n",
    "            \n",
    "            \n",
    "\n",
    "    # Backbone atom loss\n",
    "    gt_bb_atoms = all_atom.to_atom37(flat_shifted_gt_trans, flat_shifted_gt_rotmats)[:, :, :3] \n",
    "    pred_bb_atoms = all_atom.to_atom37(flat_shifted_pred_trans, flat_shifted_pred_rotmats)[:, :, :3]\n",
    "\n",
    "    gt_bb_atoms *= training_cfg.bb_atom_scale / norm_scale[..., None]\n",
    "    pred_bb_atoms *= training_cfg.bb_atom_scale / norm_scale[..., None]\n",
    "                    \n",
    "            \n",
    "    loss_denom = torch.sum(loss_mask, dim=-1, dtype=torch.float).mean() * 3 # Added a mean here, this doesn'y matter since our mask is all 1's\n",
    "    bb_atom_loss = torch.sum(\n",
    "        (gt_bb_atoms - pred_bb_atoms) ** 2,\n",
    "        dim=(-1, -2, -3)\n",
    "    ) / loss_denom\n",
    "\n",
    "    # Pairwise distance loss\n",
    "    num_batch = gt_bb_atoms.shape[0]\n",
    "    gt_flat_atoms = gt_bb_atoms.reshape([num_batch, num_res*3, 3])\n",
    "    gt_pair_dists = torch.linalg.norm(\n",
    "        gt_flat_atoms[:, :, None, :] - gt_flat_atoms[:, None, :, :], dim=-1)\n",
    "    pred_flat_atoms = pred_bb_atoms.reshape([num_batch, num_res*3, 3])\n",
    "    pred_pair_dists = torch.linalg.norm(\n",
    "        pred_flat_atoms[:, :, None, :] - pred_flat_atoms[:, None, :, :], dim=-1)\n",
    "\n",
    "    flat_loss_mask = torch.tile(loss_mask[:, :, None], (1, 1, 3))[B:,:,:] # change the shape because we shifted tokens, all entries of loss masks are 1 so don't matter, we throw away B tokens\n",
    "    flat_loss_mask = flat_loss_mask.reshape([num_batch, num_res*3])\n",
    "    flat_res_mask = torch.tile(loss_mask[:, :, None], (1, 1, 3))[B:,:,:] # change the shape because we shifted tokens, all entries of loss masks are 1 so don't matter\n",
    "    flat_res_mask = flat_res_mask.reshape([num_batch, num_res*3])\n",
    "\n",
    "    gt_pair_dists = gt_pair_dists * flat_loss_mask[..., None]\n",
    "    pred_pair_dists = pred_pair_dists * flat_loss_mask[..., None]\n",
    "    pair_dist_mask = flat_loss_mask[..., None] * flat_res_mask[:, None, :]\n",
    "\n",
    "    dist_mat_loss = torch.sum(\n",
    "        (gt_pair_dists - pred_pair_dists)**2 * pair_dist_mask,\n",
    "        dim=(1, 2))\n",
    "    dist_mat_loss /= (torch.sum(pair_dist_mask, dim=(1, 2)) - num_res)\n",
    "\n",
    "    auxiliary_loss = (bb_atom_loss + dist_mat_loss) * (\n",
    "        t[:, 0]> training_cfg.aux_loss_t_pass\n",
    "    )\n",
    "    auxiliary_loss *= _exp_cfg.training.aux_loss_weight\n",
    "            \n",
    "    auxiliary_loss = auxiliary_loss.mean()\n",
    "    kl_div = (1 + 2 * llm_out[\"log_sigma\"] - llm_out[\"mu\"].pow(2) - llm_out[\"log_sigma\"].exp().pow(2))[:, :-1, :] # Throw away the last mu and sigma because we're not using it to predict\n",
    "    kl_div = - 0.5 * kl_div.sum(dim=-1).mean()\n",
    "    mse_loss = F.mse_loss(flat_shifted_pred_trans, flat_shifted_gt_trans) + F.mse_loss(flat_shifted_pred_rotmats, flat_shifted_gt_rotmats)\n",
    "\n",
    "    loss = mse_loss + auxiliary_loss + kl_div\n",
    "    print(loss.item())\n",
    "    optimizer.zero_grad()\n",
    "    loss.backward()\n",
    "    optimizer.step()"
   ]
  },
  {
   "cell_type": "code",
   "execution_count": null,
   "metadata": {},
   "outputs": [],
   "source": []
  }
 ],
 "metadata": {
  "kernelspec": {
   "display_name": "Python 3.10.12 64-bit ('fm')",
   "language": "python",
   "name": "python3"
  },
  "language_info": {
   "codemirror_mode": {
    "name": "ipython",
    "version": 3
   },
   "file_extension": ".py",
   "mimetype": "text/x-python",
   "name": "python",
   "nbconvert_exporter": "python",
   "pygments_lexer": "ipython3",
   "version": "3.10.12"
  },
  "orig_nbformat": 4,
  "vscode": {
   "interpreter": {
    "hash": "a0e2400c1a377b47623d27da16e17b3eddff11c79be96fbe43a1e38910d94694"
   }
  }
 },
 "nbformat": 4,
 "nbformat_minor": 2
}
